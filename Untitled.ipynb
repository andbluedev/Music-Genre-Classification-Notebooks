{
 "cells": [
  {
   "cell_type": "code",
   "execution_count": null,
   "metadata": {},
   "outputs": [],
   "source": []
  },
  {
   "cell_type": "code",
   "execution_count": 1,
   "metadata": {},
   "outputs": [],
   "source": [
    "def create_spectrogram_png(song_file):\n",
    "    fig, ax = plt.subplots(figsize=(10,10))\n",
    "    fig.subplots_adjust(left=0,right=1,bottom=0,top=1)\n",
    "    ax.axis('off')\n",
    "    ax.axis('off')\n",
    "\n",
    "    y, sr = librosa.load(song_file, mono=True, duration=30) # Loading 30s of a Song \n",
    "    \n",
    "    S = librosa.feature.melspectrogram(y=y, sr=sr, n_mels=128, fmax=8000) # Computing the Mel. Spectrogram\n",
    "    S_dB = librosa.power_to_db(S, ref=np.max) # Specrogram to Decibel scale\n",
    "\n",
    "    img = librosa.display.specshow(S_dB, x_axis='time', y_axis='mel', sr=sr, fmax=8000, ax=ax)\n",
    "    \n",
    "    path_split = song_file.replace(mp3_dir_path, \"\").split(\"/\")\n",
    "    \n",
    "    filename = f\"{spectrogram_output_dir}{path_split[1]}_spectrogram_FULLSIZE.png\"\n",
    "\n",
    "    fig.savefig(filename, dpi=400, pad_inches=0,) # saving the image\n",
    "\n",
    "    plt.close()\n",
    "    fig.clf()\n",
    "    plt.close(fig)\n",
    "    plt.close('all')\n",
    "    del y, sr, fig, ax, S, path_split # helping the garbage collector while processing a thousand images \n",
    "    \n",
    "    return filename"
   ]
  },
  {
   "cell_type": "code",
   "execution_count": null,
   "metadata": {},
   "outputs": [],
   "source": []
  }
 ],
 "metadata": {
  "kernelspec": {
   "display_name": "Python 3",
   "language": "python",
   "name": "python3"
  },
  "language_info": {
   "codemirror_mode": {
    "name": "ipython",
    "version": 3
   },
   "file_extension": ".py",
   "mimetype": "text/x-python",
   "name": "python",
   "nbconvert_exporter": "python",
   "pygments_lexer": "ipython3",
   "version": "3.7.3"
  }
 },
 "nbformat": 4,
 "nbformat_minor": 2
}

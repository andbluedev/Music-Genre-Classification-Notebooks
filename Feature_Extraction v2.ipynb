{
 "cells": [
  {
   "cell_type": "markdown",
   "metadata": {},
   "source": [
    "# Predicting Music Genre - Feature Extraction using Librosa\n"
   ]
  },
  {
   "cell_type": "markdown",
   "metadata": {},
   "source": [
    "Dataset : https://www.kaggle.com/carlthome/gtzan-genre-collection \n",
    "\n",
    "Tutorial : https://towardsdatascience.com/music-genre-classification-with-python-c714d032f0d8\n",
    "\n",
    "\n",
    "![datset-extraction-figure](./docs/DatasetCreation.jpg)"
   ]
  },
  {
   "cell_type": "markdown",
   "metadata": {},
   "source": [
    "## Imports"
   ]
  },
  {
   "cell_type": "code",
   "execution_count": 2,
   "metadata": {},
   "outputs": [],
   "source": [
    "# feature extractoring and preprocessing data\n",
    "import librosa\n",
    "import pandas as pd\n",
    "import numpy as np\n",
    "import matplotlib.pyplot as plt\n",
    "%matplotlib inline\n",
    "import os\n",
    "from PIL import Image\n",
    "import pathlib\n",
    "import csv\n",
    "\n",
    "# Preprocessing\n",
    "from sklearn.model_selection import train_test_split\n",
    "from sklearn.preprocessing import LabelEncoder, StandardScaler\n",
    "\n",
    "#Keras\n",
    "import keras\n",
    "\n",
    "import warnings\n",
    "warnings.filterwarnings('ignore')"
   ]
  },
  {
   "cell_type": "markdown",
   "metadata": {},
   "source": [
    "## CSV creation"
   ]
  },
  {
   "cell_type": "code",
   "execution_count": 42,
   "metadata": {},
   "outputs": [],
   "source": [
    "header = 'filename chroma_stft rmse spectral_centroid spectral_bandwidth rolloff zero_crossing_rate'\n",
    "for i in range(1, 21):\n",
    "    header += f' mfcc{i}'\n",
    "for i in range(1, 13):\n",
    "    header += f' cqt{i}'\n",
    "for i in range(1, 13):\n",
    "    header += f' cens{i}'\n",
    "for i in range(1, 8):\n",
    "    header += f' cont{i}'\n",
    "header += ' spectram_flatness'\n",
    "for i in range(1, 7):\n",
    "    header += f' tonnetz{i}'\n",
    "header += ' label'\n",
    "header = header.split()"
   ]
  },
  {
   "cell_type": "code",
   "execution_count": null,
   "metadata": {},
   "outputs": [],
   "source": [
    "file = open('dataV2.csv', 'w', newline='')\n",
    "with file:\n",
    "    writer = csv.writer(file)\n",
    "    writer.writerow(header)\n",
    "genres = 'blues classical country disco hiphop jazz metal pop reggae rock'.split()\n",
    "for g in genres:\n",
    "    for filename in os.listdir(f'D:\\Downloads\\dataset\\genres_mp3/{g}'):  #RENAME PATH HERE\n",
    "        songname = f'D:\\Downloads\\dataset\\genres_mp3/{g}/{filename}'\n",
    "        y, sr = librosa.load(songname, mono=True, duration=30)\n",
    "        chroma_stft = librosa.feature.chroma_stft(y=y, sr=sr)\n",
    "        spec_cent = librosa.feature.spectral_centroid(y=y, sr=sr)\n",
    "        spec_bw = librosa.feature.spectral_bandwidth(y=y, sr=sr)\n",
    "        rolloff = librosa.feature.spectral_rolloff(y=y, sr=sr)\n",
    "        rmse = librosa.feature.rms(y=y)\n",
    "        zcr = librosa.feature.zero_crossing_rate(y)\n",
    "        mfcc = librosa.feature.mfcc(y=y, sr=sr)\n",
    "        #added\n",
    "        chroma_cqt = librosa.feature.chroma_cqt(y=y, sr = sr)\n",
    "        chroma_cens = librosa.feature.chroma_cens(y=y, sr = sr)\n",
    "        spec_con = librosa.feature.spectral_contrast(y=y, sr=sr)\n",
    "        spec_flat = librosa.feature.spectral_flatness(y=y)\n",
    "        tonnetz = librosa.feature.tonnetz(y = y, sr = sr)\n",
    "        to_append = f'{filename} {np.mean(chroma_stft)} {np.mean(rmse)} {np.mean(spec_cent)} {np.mean(spec_bw)} {np.mean(rolloff)} {np.mean(zcr)}'    \n",
    "        for e in mfcc:\n",
    "            to_append += f' {np.mean(e)}'\n",
    "        for f in chroma_cqt :\n",
    "            to_append += f' {np.mean(f)}'\n",
    "        for h in chroma_cens :\n",
    "            to_append += f' {np.mean(h)}'\n",
    "        for i in spec_con :\n",
    "            to_append += f' {np.mean(i)}'\n",
    "        for j in spec_flat :\n",
    "            to_append += f' {np.mean(j)}'\n",
    "        for k in tonnetz :\n",
    "            to_append += f' {np.mean(k)}'\n",
    "        to_append += f' {g}'\n",
    "        file = open('dataV2.csv', 'a', newline='')\n",
    "        with file:\n",
    "            writer = csv.writer(file)\n",
    "            writer.writerow(to_append.split())"
   ]
  },
  {
   "cell_type": "code",
   "execution_count": null,
   "metadata": {},
   "outputs": [],
   "source": []
  }
 ],
 "metadata": {
  "kernelspec": {
   "display_name": "Python 3",
   "language": "python",
   "name": "python3"
  },
  "language_info": {
   "codemirror_mode": {
    "name": "ipython",
    "version": 3
   },
   "file_extension": ".py",
   "mimetype": "text/x-python",
   "name": "python",
   "nbconvert_exporter": "python",
   "pygments_lexer": "ipython3",
   "version": "3.7.3"
  }
 },
 "nbformat": 4,
 "nbformat_minor": 2
}

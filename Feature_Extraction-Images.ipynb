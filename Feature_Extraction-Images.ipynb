{
 "cells": [
  {
   "cell_type": "code",
   "execution_count": 3,
   "metadata": {},
   "outputs": [
    {
     "name": "stdout",
     "output_type": "stream",
     "text": [
      "Populating the interactive namespace from numpy and matplotlib\n"
     ]
    }
   ],
   "source": [
    "%config IPCompleter.greedy=True\n",
    "%pylab inline\n",
    "\n",
    "SMALL_SIZE = 14\n",
    "MEDIUM_SIZE = 18\n",
    "BIGGER_SIZE = 25\n",
    "\n",
    "plt.rc('font', size=SMALL_SIZE)         # controls default text sizes\n",
    "plt.rc('axes', titlesize=SMALL_SIZE)    # fontsize of the axes title\n",
    "plt.rc('axes', labelsize=MEDIUM_SIZE)    # fontsize of the x and y labels\n",
    "plt.rc('xtick', labelsize=SMALL_SIZE)    # fontsize of the tick labels\n",
    "plt.rc('ytick', labelsize=SMALL_SIZE)    # fontsize of the tick labels\n",
    "plt.rc('legend', fontsize=SMALL_SIZE)    # legend fontsize\n",
    "plt.rc('figure', titlesize=BIGGER_SIZE)  # fontsize of the figure title\n",
    "\n",
    "import numpy as np\n",
    "import pandas as pd\n",
    "import matplotlib.pyplot as plt\n",
    "import seaborn as sb\n",
    "import librosa\n",
    "\n"
   ]
  },
  {
   "cell_type": "markdown",
   "metadata": {},
   "source": [
    "# Music Genre Classification - Feature Extraction:   Music Spectrogram Images"
   ]
  },
  {
   "cell_type": "markdown",
   "metadata": {},
   "source": [
    "## Having an overview on genres images"
   ]
  },
  {
   "cell_type": "code",
   "execution_count": null,
   "metadata": {},
   "outputs": [
    {
     "name": "stderr",
     "output_type": "stream",
     "text": [
      "/usr/local/anaconda3/lib/python3.7/site-packages/librosa/core/audio.py:161: UserWarning: PySoundFile failed. Trying audioread instead.\n",
      "  warnings.warn('PySoundFile failed. Trying audioread instead.')\n"
     ]
    }
   ],
   "source": [
    "import librosa\n",
    "import librosa.display\n",
    "\n",
    "genres = 'blues classical country disco hiphop jazz metal pop reggae rock'.split()\n",
    "mp3_dir_path = \"./datasets/songs/genres_mp3/\"\n",
    "spectrogram_output_dir = \"./datasets/spectrograms/\"\n",
    "\n",
    "\n",
    "\n",
    "# TOOD put each spectrogram in a directory that matches the genre (for keras training)\n",
    "def create_spectrogram_png(song_file):\n",
    "    fig, ax = plt.subplots(figsize=(10,10))\n",
    "    fig.subplots_adjust(left=0,right=1,bottom=0,top=1)\n",
    "\n",
    "    ax.axis('off')\n",
    "    ax.axis('off')\n",
    "\n",
    "\n",
    "    y, sr = librosa.load(song_file, mono=True, duration=30)\n",
    "    S = librosa.feature.melspectrogram(y=y, sr=sr, n_mels=128,\n",
    "                                        fmax=8000)\n",
    "    S_dB = librosa.power_to_db(S, ref=np.max)\n",
    "\n",
    "    img = librosa.display.specshow(S_dB, x_axis='time',\n",
    "                             y_axis='mel', sr=sr,\n",
    "                             fmax=8000, ax=ax)\n",
    "    \n",
    "    \n",
    "    \n",
    "    path_split = song_file.replace(mp3_dir_path, \"\").split(\"/\")\n",
    "    \n",
    "    filename = f\"{spectrogram_output_dir}{path_split[1]}_spectrogram_FULLSIZE.png\"\n",
    "\n",
    "    # fig.savefig(filename, dpi=400, bbox_inches=\"tight\",pad_inches=0)\n",
    "    fig.savefig(filename, dpi=400, pad_inches=0,)\n",
    "    print(f\"-> created {filename}\")\n",
    "    plt.close()\n",
    "    fig.clf()\n",
    "    plt.close(fig)\n",
    "    plt.close('all')\n",
    "    \n",
    "    del y, sr, fig, ax, S, path_split\n",
    "    \n",
    "    return filename\n",
    "\n",
    "    \n",
    "import matplotlib.image as mpimg\n",
    "\n",
    "song_path = \"./datasets/songs/genres_mp3/hiphop/hiphop.00043.mp3\"\n",
    "\n",
    "created_spectrogram_filename = create_spectrogram_png(song_path)\n",
    "\n",
    "\n",
    "img = mpimg.imread(created_spectrogram_filename)\n",
    "plt.imshow(img)"
   ]
  },
  {
   "cell_type": "code",
   "execution_count": 36,
   "metadata": {},
   "outputs": [
    {
     "name": "stdout",
     "output_type": "stream",
     "text": [
      "skipped: ./datasets/songs/genres_mp3/rock/.DS_Store\n"
     ]
    },
    {
     "name": "stderr",
     "output_type": "stream",
     "text": [
      "/usr/local/anaconda3/lib/python3.7/site-packages/librosa/core/audio.py:161: UserWarning: PySoundFile failed. Trying audioread instead.\n",
      "  warnings.warn('PySoundFile failed. Trying audioread instead.')\n"
     ]
    },
    {
     "name": "stdout",
     "output_type": "stream",
     "text": [
      "-> created ./datasets/spectrograms/rock.00096.mp3_spectrogram_FULLSIZE.png\n",
      "Processing 925/1002...\n"
     ]
    },
    {
     "name": "stderr",
     "output_type": "stream",
     "text": [
      "/usr/local/anaconda3/lib/python3.7/site-packages/librosa/core/audio.py:161: UserWarning: PySoundFile failed. Trying audioread instead.\n",
      "  warnings.warn('PySoundFile failed. Trying audioread instead.')\n"
     ]
    },
    {
     "name": "stdout",
     "output_type": "stream",
     "text": [
      "-> created ./datasets/spectrograms/rock.00082.mp3_spectrogram_FULLSIZE.png\n",
      "Processing 926/1002...\n"
     ]
    },
    {
     "name": "stderr",
     "output_type": "stream",
     "text": [
      "/usr/local/anaconda3/lib/python3.7/site-packages/librosa/core/audio.py:161: UserWarning: PySoundFile failed. Trying audioread instead.\n",
      "  warnings.warn('PySoundFile failed. Trying audioread instead.')\n"
     ]
    },
    {
     "name": "stdout",
     "output_type": "stream",
     "text": [
      "-> created ./datasets/spectrograms/rock.00069.mp3_spectrogram_FULLSIZE.png\n",
      "Processing 927/1002...\n"
     ]
    },
    {
     "name": "stderr",
     "output_type": "stream",
     "text": [
      "/usr/local/anaconda3/lib/python3.7/site-packages/librosa/core/audio.py:161: UserWarning: PySoundFile failed. Trying audioread instead.\n",
      "  warnings.warn('PySoundFile failed. Trying audioread instead.')\n"
     ]
    },
    {
     "name": "stdout",
     "output_type": "stream",
     "text": [
      "-> created ./datasets/spectrograms/rock.00055.mp3_spectrogram_FULLSIZE.png\n",
      "Processing 928/1002...\n"
     ]
    },
    {
     "name": "stderr",
     "output_type": "stream",
     "text": [
      "/usr/local/anaconda3/lib/python3.7/site-packages/librosa/core/audio.py:161: UserWarning: PySoundFile failed. Trying audioread instead.\n",
      "  warnings.warn('PySoundFile failed. Trying audioread instead.')\n"
     ]
    },
    {
     "name": "stdout",
     "output_type": "stream",
     "text": [
      "-> created ./datasets/spectrograms/rock.00041.mp3_spectrogram_FULLSIZE.png\n",
      "Processing 929/1002...\n"
     ]
    },
    {
     "name": "stderr",
     "output_type": "stream",
     "text": [
      "/usr/local/anaconda3/lib/python3.7/site-packages/librosa/core/audio.py:161: UserWarning: PySoundFile failed. Trying audioread instead.\n",
      "  warnings.warn('PySoundFile failed. Trying audioread instead.')\n"
     ]
    },
    {
     "name": "stdout",
     "output_type": "stream",
     "text": [
      "-> created ./datasets/spectrograms/rock.00057.mp3_spectrogram_FULLSIZE.png\n",
      "Processing 930/1002...\n"
     ]
    },
    {
     "name": "stderr",
     "output_type": "stream",
     "text": [
      "/usr/local/anaconda3/lib/python3.7/site-packages/librosa/core/audio.py:161: UserWarning: PySoundFile failed. Trying audioread instead.\n",
      "  warnings.warn('PySoundFile failed. Trying audioread instead.')\n"
     ]
    },
    {
     "name": "stdout",
     "output_type": "stream",
     "text": [
      "-> created ./datasets/spectrograms/rock.00043.mp3_spectrogram_FULLSIZE.png\n",
      "Processing 931/1002...\n"
     ]
    },
    {
     "name": "stderr",
     "output_type": "stream",
     "text": [
      "/usr/local/anaconda3/lib/python3.7/site-packages/librosa/core/audio.py:161: UserWarning: PySoundFile failed. Trying audioread instead.\n",
      "  warnings.warn('PySoundFile failed. Trying audioread instead.')\n"
     ]
    },
    {
     "name": "stdout",
     "output_type": "stream",
     "text": [
      "-> created ./datasets/spectrograms/rock.00094.mp3_spectrogram_FULLSIZE.png\n",
      "Processing 932/1002...\n"
     ]
    },
    {
     "name": "stderr",
     "output_type": "stream",
     "text": [
      "/usr/local/anaconda3/lib/python3.7/site-packages/librosa/core/audio.py:161: UserWarning: PySoundFile failed. Trying audioread instead.\n",
      "  warnings.warn('PySoundFile failed. Trying audioread instead.')\n"
     ]
    },
    {
     "name": "stdout",
     "output_type": "stream",
     "text": [
      "-> created ./datasets/spectrograms/rock.00080.mp3_spectrogram_FULLSIZE.png\n",
      "Processing 933/1002...\n"
     ]
    },
    {
     "name": "stderr",
     "output_type": "stream",
     "text": [
      "/usr/local/anaconda3/lib/python3.7/site-packages/librosa/core/audio.py:161: UserWarning: PySoundFile failed. Trying audioread instead.\n",
      "  warnings.warn('PySoundFile failed. Trying audioread instead.')\n"
     ]
    },
    {
     "name": "stdout",
     "output_type": "stream",
     "text": [
      "-> created ./datasets/spectrograms/rock.00081.mp3_spectrogram_FULLSIZE.png\n",
      "Processing 934/1002...\n"
     ]
    },
    {
     "name": "stderr",
     "output_type": "stream",
     "text": [
      "/usr/local/anaconda3/lib/python3.7/site-packages/librosa/core/audio.py:161: UserWarning: PySoundFile failed. Trying audioread instead.\n",
      "  warnings.warn('PySoundFile failed. Trying audioread instead.')\n"
     ]
    },
    {
     "name": "stdout",
     "output_type": "stream",
     "text": [
      "-> created ./datasets/spectrograms/rock.00095.mp3_spectrogram_FULLSIZE.png\n",
      "Processing 935/1002...\n"
     ]
    },
    {
     "name": "stderr",
     "output_type": "stream",
     "text": [
      "/usr/local/anaconda3/lib/python3.7/site-packages/librosa/core/audio.py:161: UserWarning: PySoundFile failed. Trying audioread instead.\n",
      "  warnings.warn('PySoundFile failed. Trying audioread instead.')\n"
     ]
    },
    {
     "name": "stdout",
     "output_type": "stream",
     "text": [
      "-> created ./datasets/spectrograms/rock.00042.mp3_spectrogram_FULLSIZE.png\n",
      "Processing 936/1002...\n"
     ]
    },
    {
     "name": "stderr",
     "output_type": "stream",
     "text": [
      "/usr/local/anaconda3/lib/python3.7/site-packages/librosa/core/audio.py:161: UserWarning: PySoundFile failed. Trying audioread instead.\n",
      "  warnings.warn('PySoundFile failed. Trying audioread instead.')\n"
     ]
    },
    {
     "name": "stdout",
     "output_type": "stream",
     "text": [
      "-> created ./datasets/spectrograms/rock.00056.mp3_spectrogram_FULLSIZE.png\n",
      "Processing 937/1002...\n"
     ]
    },
    {
     "name": "stderr",
     "output_type": "stream",
     "text": [
      "/usr/local/anaconda3/lib/python3.7/site-packages/librosa/core/audio.py:161: UserWarning: PySoundFile failed. Trying audioread instead.\n",
      "  warnings.warn('PySoundFile failed. Trying audioread instead.')\n"
     ]
    },
    {
     "name": "stdout",
     "output_type": "stream",
     "text": [
      "-> created ./datasets/spectrograms/rock.00019.mp3_spectrogram_FULLSIZE.png\n",
      "Processing 938/1002...\n"
     ]
    },
    {
     "name": "stderr",
     "output_type": "stream",
     "text": [
      "/usr/local/anaconda3/lib/python3.7/site-packages/librosa/core/audio.py:161: UserWarning: PySoundFile failed. Trying audioread instead.\n",
      "  warnings.warn('PySoundFile failed. Trying audioread instead.')\n"
     ]
    },
    {
     "name": "stdout",
     "output_type": "stream",
     "text": [
      "-> created ./datasets/spectrograms/rock.00031.mp3_spectrogram_FULLSIZE.png\n",
      "Processing 939/1002...\n"
     ]
    },
    {
     "name": "stderr",
     "output_type": "stream",
     "text": [
      "/usr/local/anaconda3/lib/python3.7/site-packages/librosa/core/audio.py:161: UserWarning: PySoundFile failed. Trying audioread instead.\n",
      "  warnings.warn('PySoundFile failed. Trying audioread instead.')\n"
     ]
    },
    {
     "name": "stdout",
     "output_type": "stream",
     "text": [
      "-> created ./datasets/spectrograms/rock.00025.mp3_spectrogram_FULLSIZE.png\n",
      "Processing 940/1002...\n"
     ]
    },
    {
     "name": "stderr",
     "output_type": "stream",
     "text": [
      "/usr/local/anaconda3/lib/python3.7/site-packages/librosa/core/audio.py:161: UserWarning: PySoundFile failed. Trying audioread instead.\n",
      "  warnings.warn('PySoundFile failed. Trying audioread instead.')\n"
     ]
    },
    {
     "name": "stdout",
     "output_type": "stream",
     "text": [
      "-> created ./datasets/spectrograms/rock.00024.mp3_spectrogram_FULLSIZE.png\n",
      "Processing 941/1002...\n"
     ]
    },
    {
     "name": "stderr",
     "output_type": "stream",
     "text": [
      "/usr/local/anaconda3/lib/python3.7/site-packages/librosa/core/audio.py:161: UserWarning: PySoundFile failed. Trying audioread instead.\n",
      "  warnings.warn('PySoundFile failed. Trying audioread instead.')\n"
     ]
    },
    {
     "name": "stdout",
     "output_type": "stream",
     "text": [
      "-> created ./datasets/spectrograms/rock.00030.mp3_spectrogram_FULLSIZE.png\n",
      "Processing 942/1002...\n"
     ]
    },
    {
     "name": "stderr",
     "output_type": "stream",
     "text": [
      "/usr/local/anaconda3/lib/python3.7/site-packages/librosa/core/audio.py:161: UserWarning: PySoundFile failed. Trying audioread instead.\n",
      "  warnings.warn('PySoundFile failed. Trying audioread instead.')\n"
     ]
    },
    {
     "name": "stdout",
     "output_type": "stream",
     "text": [
      "-> created ./datasets/spectrograms/rock.00018.mp3_spectrogram_FULLSIZE.png\n",
      "Processing 943/1002...\n"
     ]
    },
    {
     "name": "stderr",
     "output_type": "stream",
     "text": [
      "/usr/local/anaconda3/lib/python3.7/site-packages/librosa/core/audio.py:161: UserWarning: PySoundFile failed. Trying audioread instead.\n",
      "  warnings.warn('PySoundFile failed. Trying audioread instead.')\n"
     ]
    },
    {
     "name": "stdout",
     "output_type": "stream",
     "text": [
      "-> created ./datasets/spectrograms/rock.00026.mp3_spectrogram_FULLSIZE.png\n",
      "Processing 944/1002...\n"
     ]
    },
    {
     "name": "stderr",
     "output_type": "stream",
     "text": [
      "/usr/local/anaconda3/lib/python3.7/site-packages/librosa/core/audio.py:161: UserWarning: PySoundFile failed. Trying audioread instead.\n",
      "  warnings.warn('PySoundFile failed. Trying audioread instead.')\n"
     ]
    },
    {
     "name": "stdout",
     "output_type": "stream",
     "text": [
      "-> created ./datasets/spectrograms/rock.00032.mp3_spectrogram_FULLSIZE.png\n",
      "Processing 945/1002...\n"
     ]
    },
    {
     "name": "stderr",
     "output_type": "stream",
     "text": [
      "/usr/local/anaconda3/lib/python3.7/site-packages/librosa/core/audio.py:161: UserWarning: PySoundFile failed. Trying audioread instead.\n",
      "  warnings.warn('PySoundFile failed. Trying audioread instead.')\n"
     ]
    },
    {
     "name": "stdout",
     "output_type": "stream",
     "text": [
      "-> created ./datasets/spectrograms/rock.00033.mp3_spectrogram_FULLSIZE.png\n",
      "Processing 946/1002...\n"
     ]
    },
    {
     "name": "stderr",
     "output_type": "stream",
     "text": [
      "/usr/local/anaconda3/lib/python3.7/site-packages/librosa/core/audio.py:161: UserWarning: PySoundFile failed. Trying audioread instead.\n",
      "  warnings.warn('PySoundFile failed. Trying audioread instead.')\n"
     ]
    },
    {
     "name": "stdout",
     "output_type": "stream",
     "text": [
      "-> created ./datasets/spectrograms/rock.00027.mp3_spectrogram_FULLSIZE.png\n",
      "Processing 947/1002...\n"
     ]
    },
    {
     "name": "stderr",
     "output_type": "stream",
     "text": [
      "/usr/local/anaconda3/lib/python3.7/site-packages/librosa/core/audio.py:161: UserWarning: PySoundFile failed. Trying audioread instead.\n",
      "  warnings.warn('PySoundFile failed. Trying audioread instead.')\n"
     ]
    },
    {
     "name": "stdout",
     "output_type": "stream",
     "text": [
      "-> created ./datasets/spectrograms/rock.00023.mp3_spectrogram_FULLSIZE.png\n",
      "Processing 948/1002...\n"
     ]
    },
    {
     "name": "stderr",
     "output_type": "stream",
     "text": [
      "/usr/local/anaconda3/lib/python3.7/site-packages/librosa/core/audio.py:161: UserWarning: PySoundFile failed. Trying audioread instead.\n",
      "  warnings.warn('PySoundFile failed. Trying audioread instead.')\n"
     ]
    },
    {
     "name": "stdout",
     "output_type": "stream",
     "text": [
      "-> created ./datasets/spectrograms/rock.00037.mp3_spectrogram_FULLSIZE.png\n",
      "Processing 949/1002...\n"
     ]
    },
    {
     "name": "stderr",
     "output_type": "stream",
     "text": [
      "/usr/local/anaconda3/lib/python3.7/site-packages/librosa/core/audio.py:161: UserWarning: PySoundFile failed. Trying audioread instead.\n",
      "  warnings.warn('PySoundFile failed. Trying audioread instead.')\n"
     ]
    },
    {
     "name": "stdout",
     "output_type": "stream",
     "text": [
      "-> created ./datasets/spectrograms/rock.00036.mp3_spectrogram_FULLSIZE.png\n",
      "Processing 950/1002...\n"
     ]
    },
    {
     "name": "stderr",
     "output_type": "stream",
     "text": [
      "/usr/local/anaconda3/lib/python3.7/site-packages/librosa/core/audio.py:161: UserWarning: PySoundFile failed. Trying audioread instead.\n",
      "  warnings.warn('PySoundFile failed. Trying audioread instead.')\n"
     ]
    },
    {
     "name": "stdout",
     "output_type": "stream",
     "text": [
      "-> created ./datasets/spectrograms/rock.00022.mp3_spectrogram_FULLSIZE.png\n",
      "Processing 951/1002...\n"
     ]
    },
    {
     "name": "stderr",
     "output_type": "stream",
     "text": [
      "/usr/local/anaconda3/lib/python3.7/site-packages/librosa/core/audio.py:161: UserWarning: PySoundFile failed. Trying audioread instead.\n",
      "  warnings.warn('PySoundFile failed. Trying audioread instead.')\n"
     ]
    },
    {
     "name": "stdout",
     "output_type": "stream",
     "text": [
      "-> created ./datasets/spectrograms/rock.00034.mp3_spectrogram_FULLSIZE.png\n",
      "Processing 952/1002...\n"
     ]
    },
    {
     "name": "stderr",
     "output_type": "stream",
     "text": [
      "/usr/local/anaconda3/lib/python3.7/site-packages/librosa/core/audio.py:161: UserWarning: PySoundFile failed. Trying audioread instead.\n",
      "  warnings.warn('PySoundFile failed. Trying audioread instead.')\n"
     ]
    },
    {
     "name": "stdout",
     "output_type": "stream",
     "text": [
      "-> created ./datasets/spectrograms/rock.00020.mp3_spectrogram_FULLSIZE.png\n",
      "Processing 953/1002...\n"
     ]
    },
    {
     "name": "stderr",
     "output_type": "stream",
     "text": [
      "/usr/local/anaconda3/lib/python3.7/site-packages/librosa/core/audio.py:161: UserWarning: PySoundFile failed. Trying audioread instead.\n",
      "  warnings.warn('PySoundFile failed. Trying audioread instead.')\n"
     ]
    },
    {
     "name": "stdout",
     "output_type": "stream",
     "text": [
      "-> created ./datasets/spectrograms/rock.00008.mp3_spectrogram_FULLSIZE.png\n",
      "Processing 954/1002...\n"
     ]
    },
    {
     "name": "stderr",
     "output_type": "stream",
     "text": [
      "/usr/local/anaconda3/lib/python3.7/site-packages/librosa/core/audio.py:161: UserWarning: PySoundFile failed. Trying audioread instead.\n",
      "  warnings.warn('PySoundFile failed. Trying audioread instead.')\n"
     ]
    },
    {
     "name": "stdout",
     "output_type": "stream",
     "text": [
      "-> created ./datasets/spectrograms/rock.00009.mp3_spectrogram_FULLSIZE.png\n",
      "Processing 955/1002...\n"
     ]
    },
    {
     "name": "stderr",
     "output_type": "stream",
     "text": [
      "/usr/local/anaconda3/lib/python3.7/site-packages/librosa/core/audio.py:161: UserWarning: PySoundFile failed. Trying audioread instead.\n",
      "  warnings.warn('PySoundFile failed. Trying audioread instead.')\n"
     ]
    },
    {
     "name": "stdout",
     "output_type": "stream",
     "text": [
      "-> created ./datasets/spectrograms/rock.00021.mp3_spectrogram_FULLSIZE.png\n",
      "Processing 956/1002...\n"
     ]
    },
    {
     "name": "stderr",
     "output_type": "stream",
     "text": [
      "/usr/local/anaconda3/lib/python3.7/site-packages/librosa/core/audio.py:161: UserWarning: PySoundFile failed. Trying audioread instead.\n",
      "  warnings.warn('PySoundFile failed. Trying audioread instead.')\n"
     ]
    },
    {
     "name": "stdout",
     "output_type": "stream",
     "text": [
      "-> created ./datasets/spectrograms/rock.00035.mp3_spectrogram_FULLSIZE.png\n",
      "Processing 957/1002...\n"
     ]
    },
    {
     "name": "stderr",
     "output_type": "stream",
     "text": [
      "/usr/local/anaconda3/lib/python3.7/site-packages/librosa/core/audio.py:161: UserWarning: PySoundFile failed. Trying audioread instead.\n",
      "  warnings.warn('PySoundFile failed. Trying audioread instead.')\n"
     ]
    },
    {
     "name": "stdout",
     "output_type": "stream",
     "text": [
      "-> created ./datasets/spectrograms/rock.00038.mp3_spectrogram_FULLSIZE.png\n",
      "Processing 958/1002...\n"
     ]
    },
    {
     "name": "stderr",
     "output_type": "stream",
     "text": [
      "/usr/local/anaconda3/lib/python3.7/site-packages/librosa/core/audio.py:161: UserWarning: PySoundFile failed. Trying audioread instead.\n",
      "  warnings.warn('PySoundFile failed. Trying audioread instead.')\n"
     ]
    },
    {
     "name": "stdout",
     "output_type": "stream",
     "text": [
      "-> created ./datasets/spectrograms/rock.00010.mp3_spectrogram_FULLSIZE.png\n",
      "Processing 959/1002...\n"
     ]
    },
    {
     "name": "stderr",
     "output_type": "stream",
     "text": [
      "/usr/local/anaconda3/lib/python3.7/site-packages/librosa/core/audio.py:161: UserWarning: PySoundFile failed. Trying audioread instead.\n",
      "  warnings.warn('PySoundFile failed. Trying audioread instead.')\n"
     ]
    },
    {
     "name": "stdout",
     "output_type": "stream",
     "text": [
      "-> created ./datasets/spectrograms/rock.00004.mp3_spectrogram_FULLSIZE.png\n",
      "Processing 960/1002...\n"
     ]
    },
    {
     "name": "stderr",
     "output_type": "stream",
     "text": [
      "/usr/local/anaconda3/lib/python3.7/site-packages/librosa/core/audio.py:161: UserWarning: PySoundFile failed. Trying audioread instead.\n",
      "  warnings.warn('PySoundFile failed. Trying audioread instead.')\n"
     ]
    },
    {
     "name": "stdout",
     "output_type": "stream",
     "text": [
      "-> created ./datasets/spectrograms/rock.00005.mp3_spectrogram_FULLSIZE.png\n",
      "Processing 961/1002...\n"
     ]
    },
    {
     "name": "stderr",
     "output_type": "stream",
     "text": [
      "/usr/local/anaconda3/lib/python3.7/site-packages/librosa/core/audio.py:161: UserWarning: PySoundFile failed. Trying audioread instead.\n",
      "  warnings.warn('PySoundFile failed. Trying audioread instead.')\n"
     ]
    },
    {
     "name": "stdout",
     "output_type": "stream",
     "text": [
      "-> created ./datasets/spectrograms/rock.00011.mp3_spectrogram_FULLSIZE.png\n",
      "Processing 962/1002...\n"
     ]
    },
    {
     "name": "stderr",
     "output_type": "stream",
     "text": [
      "/usr/local/anaconda3/lib/python3.7/site-packages/librosa/core/audio.py:161: UserWarning: PySoundFile failed. Trying audioread instead.\n",
      "  warnings.warn('PySoundFile failed. Trying audioread instead.')\n"
     ]
    },
    {
     "name": "stdout",
     "output_type": "stream",
     "text": [
      "-> created ./datasets/spectrograms/rock.00039.mp3_spectrogram_FULLSIZE.png\n",
      "Processing 963/1002...\n"
     ]
    },
    {
     "name": "stderr",
     "output_type": "stream",
     "text": [
      "/usr/local/anaconda3/lib/python3.7/site-packages/librosa/core/audio.py:161: UserWarning: PySoundFile failed. Trying audioread instead.\n",
      "  warnings.warn('PySoundFile failed. Trying audioread instead.')\n"
     ]
    },
    {
     "name": "stdout",
     "output_type": "stream",
     "text": [
      "-> created ./datasets/spectrograms/rock.00007.mp3_spectrogram_FULLSIZE.png\n",
      "Processing 964/1002...\n"
     ]
    },
    {
     "name": "stderr",
     "output_type": "stream",
     "text": [
      "/usr/local/anaconda3/lib/python3.7/site-packages/librosa/core/audio.py:161: UserWarning: PySoundFile failed. Trying audioread instead.\n",
      "  warnings.warn('PySoundFile failed. Trying audioread instead.')\n"
     ]
    },
    {
     "name": "stdout",
     "output_type": "stream",
     "text": [
      "-> created ./datasets/spectrograms/rock.00013.mp3_spectrogram_FULLSIZE.png\n",
      "Processing 965/1002...\n"
     ]
    },
    {
     "name": "stderr",
     "output_type": "stream",
     "text": [
      "/usr/local/anaconda3/lib/python3.7/site-packages/librosa/core/audio.py:161: UserWarning: PySoundFile failed. Trying audioread instead.\n",
      "  warnings.warn('PySoundFile failed. Trying audioread instead.')\n"
     ]
    },
    {
     "name": "stdout",
     "output_type": "stream",
     "text": [
      "-> created ./datasets/spectrograms/rock.00012.mp3_spectrogram_FULLSIZE.png\n",
      "Processing 966/1002...\n"
     ]
    },
    {
     "name": "stderr",
     "output_type": "stream",
     "text": [
      "/usr/local/anaconda3/lib/python3.7/site-packages/librosa/core/audio.py:161: UserWarning: PySoundFile failed. Trying audioread instead.\n",
      "  warnings.warn('PySoundFile failed. Trying audioread instead.')\n"
     ]
    },
    {
     "name": "stdout",
     "output_type": "stream",
     "text": [
      "-> created ./datasets/spectrograms/rock.00006.mp3_spectrogram_FULLSIZE.png\n",
      "Processing 967/1002...\n"
     ]
    },
    {
     "name": "stderr",
     "output_type": "stream",
     "text": [
      "/usr/local/anaconda3/lib/python3.7/site-packages/librosa/core/audio.py:161: UserWarning: PySoundFile failed. Trying audioread instead.\n",
      "  warnings.warn('PySoundFile failed. Trying audioread instead.')\n"
     ]
    },
    {
     "name": "stdout",
     "output_type": "stream",
     "text": [
      "-> created ./datasets/spectrograms/rock.00002.mp3_spectrogram_FULLSIZE.png\n",
      "Processing 968/1002...\n"
     ]
    },
    {
     "name": "stderr",
     "output_type": "stream",
     "text": [
      "/usr/local/anaconda3/lib/python3.7/site-packages/librosa/core/audio.py:161: UserWarning: PySoundFile failed. Trying audioread instead.\n",
      "  warnings.warn('PySoundFile failed. Trying audioread instead.')\n"
     ]
    },
    {
     "name": "stdout",
     "output_type": "stream",
     "text": [
      "-> created ./datasets/spectrograms/rock.00016.mp3_spectrogram_FULLSIZE.png\n",
      "Processing 969/1002...\n"
     ]
    },
    {
     "name": "stderr",
     "output_type": "stream",
     "text": [
      "/usr/local/anaconda3/lib/python3.7/site-packages/librosa/core/audio.py:161: UserWarning: PySoundFile failed. Trying audioread instead.\n",
      "  warnings.warn('PySoundFile failed. Trying audioread instead.')\n"
     ]
    },
    {
     "name": "stdout",
     "output_type": "stream",
     "text": [
      "-> created ./datasets/spectrograms/rock.00017.mp3_spectrogram_FULLSIZE.png\n",
      "Processing 970/1002...\n"
     ]
    },
    {
     "name": "stderr",
     "output_type": "stream",
     "text": [
      "/usr/local/anaconda3/lib/python3.7/site-packages/librosa/core/audio.py:161: UserWarning: PySoundFile failed. Trying audioread instead.\n",
      "  warnings.warn('PySoundFile failed. Trying audioread instead.')\n"
     ]
    },
    {
     "name": "stdout",
     "output_type": "stream",
     "text": [
      "-> created ./datasets/spectrograms/rock.00003.mp3_spectrogram_FULLSIZE.png\n",
      "Processing 971/1002...\n"
     ]
    },
    {
     "name": "stderr",
     "output_type": "stream",
     "text": [
      "/usr/local/anaconda3/lib/python3.7/site-packages/librosa/core/audio.py:161: UserWarning: PySoundFile failed. Trying audioread instead.\n",
      "  warnings.warn('PySoundFile failed. Trying audioread instead.')\n"
     ]
    },
    {
     "name": "stdout",
     "output_type": "stream",
     "text": [
      "-> created ./datasets/spectrograms/rock.00015.mp3_spectrogram_FULLSIZE.png\n",
      "Processing 972/1002...\n"
     ]
    },
    {
     "name": "stderr",
     "output_type": "stream",
     "text": [
      "/usr/local/anaconda3/lib/python3.7/site-packages/librosa/core/audio.py:161: UserWarning: PySoundFile failed. Trying audioread instead.\n",
      "  warnings.warn('PySoundFile failed. Trying audioread instead.')\n"
     ]
    },
    {
     "name": "stdout",
     "output_type": "stream",
     "text": [
      "-> created ./datasets/spectrograms/rock.00001.mp3_spectrogram_FULLSIZE.png\n",
      "Processing 973/1002...\n"
     ]
    },
    {
     "name": "stderr",
     "output_type": "stream",
     "text": [
      "/usr/local/anaconda3/lib/python3.7/site-packages/librosa/core/audio.py:161: UserWarning: PySoundFile failed. Trying audioread instead.\n",
      "  warnings.warn('PySoundFile failed. Trying audioread instead.')\n"
     ]
    },
    {
     "name": "stdout",
     "output_type": "stream",
     "text": [
      "-> created ./datasets/spectrograms/rock.00029.mp3_spectrogram_FULLSIZE.png\n",
      "Processing 974/1002...\n"
     ]
    },
    {
     "name": "stderr",
     "output_type": "stream",
     "text": [
      "/usr/local/anaconda3/lib/python3.7/site-packages/librosa/core/audio.py:161: UserWarning: PySoundFile failed. Trying audioread instead.\n",
      "  warnings.warn('PySoundFile failed. Trying audioread instead.')\n"
     ]
    },
    {
     "name": "stdout",
     "output_type": "stream",
     "text": [
      "-> created ./datasets/spectrograms/rock.00028.mp3_spectrogram_FULLSIZE.png\n",
      "Processing 975/1002...\n"
     ]
    },
    {
     "name": "stderr",
     "output_type": "stream",
     "text": [
      "/usr/local/anaconda3/lib/python3.7/site-packages/librosa/core/audio.py:161: UserWarning: PySoundFile failed. Trying audioread instead.\n",
      "  warnings.warn('PySoundFile failed. Trying audioread instead.')\n"
     ]
    },
    {
     "name": "stdout",
     "output_type": "stream",
     "text": [
      "-> created ./datasets/spectrograms/rock.00000.mp3_spectrogram_FULLSIZE.png\n",
      "Processing 976/1002...\n"
     ]
    },
    {
     "name": "stderr",
     "output_type": "stream",
     "text": [
      "/usr/local/anaconda3/lib/python3.7/site-packages/librosa/core/audio.py:161: UserWarning: PySoundFile failed. Trying audioread instead.\n",
      "  warnings.warn('PySoundFile failed. Trying audioread instead.')\n"
     ]
    },
    {
     "name": "stdout",
     "output_type": "stream",
     "text": [
      "-> created ./datasets/spectrograms/rock.00014.mp3_spectrogram_FULLSIZE.png\n",
      "Processing 977/1002...\n"
     ]
    },
    {
     "name": "stderr",
     "output_type": "stream",
     "text": [
      "/usr/local/anaconda3/lib/python3.7/site-packages/librosa/core/audio.py:161: UserWarning: PySoundFile failed. Trying audioread instead.\n",
      "  warnings.warn('PySoundFile failed. Trying audioread instead.')\n"
     ]
    },
    {
     "name": "stdout",
     "output_type": "stream",
     "text": [
      "-> created ./datasets/spectrograms/rock.00073.mp3_spectrogram_FULLSIZE.png\n",
      "Processing 978/1002...\n"
     ]
    },
    {
     "name": "stderr",
     "output_type": "stream",
     "text": [
      "/usr/local/anaconda3/lib/python3.7/site-packages/librosa/core/audio.py:161: UserWarning: PySoundFile failed. Trying audioread instead.\n",
      "  warnings.warn('PySoundFile failed. Trying audioread instead.')\n"
     ]
    },
    {
     "name": "stdout",
     "output_type": "stream",
     "text": [
      "-> created ./datasets/spectrograms/rock.00067.mp3_spectrogram_FULLSIZE.png\n",
      "Processing 979/1002...\n"
     ]
    },
    {
     "name": "stderr",
     "output_type": "stream",
     "text": [
      "/usr/local/anaconda3/lib/python3.7/site-packages/librosa/core/audio.py:161: UserWarning: PySoundFile failed. Trying audioread instead.\n",
      "  warnings.warn('PySoundFile failed. Trying audioread instead.')\n"
     ]
    },
    {
     "name": "stdout",
     "output_type": "stream",
     "text": [
      "-> created ./datasets/spectrograms/rock.00098.mp3_spectrogram_FULLSIZE.png\n",
      "Processing 980/1002...\n"
     ]
    },
    {
     "name": "stderr",
     "output_type": "stream",
     "text": [
      "/usr/local/anaconda3/lib/python3.7/site-packages/librosa/core/audio.py:161: UserWarning: PySoundFile failed. Trying audioread instead.\n",
      "  warnings.warn('PySoundFile failed. Trying audioread instead.')\n"
     ]
    },
    {
     "name": "stdout",
     "output_type": "stream",
     "text": [
      "-> created ./datasets/spectrograms/rock.00099.mp3_spectrogram_FULLSIZE.png\n",
      "Processing 981/1002...\n"
     ]
    },
    {
     "name": "stderr",
     "output_type": "stream",
     "text": [
      "/usr/local/anaconda3/lib/python3.7/site-packages/librosa/core/audio.py:161: UserWarning: PySoundFile failed. Trying audioread instead.\n",
      "  warnings.warn('PySoundFile failed. Trying audioread instead.')\n"
     ]
    },
    {
     "name": "stdout",
     "output_type": "stream",
     "text": [
      "-> created ./datasets/spectrograms/rock.00066.mp3_spectrogram_FULLSIZE.png\n",
      "Processing 982/1002...\n"
     ]
    },
    {
     "name": "stderr",
     "output_type": "stream",
     "text": [
      "/usr/local/anaconda3/lib/python3.7/site-packages/librosa/core/audio.py:161: UserWarning: PySoundFile failed. Trying audioread instead.\n",
      "  warnings.warn('PySoundFile failed. Trying audioread instead.')\n"
     ]
    },
    {
     "name": "stdout",
     "output_type": "stream",
     "text": [
      "-> created ./datasets/spectrograms/rock.00072.mp3_spectrogram_FULLSIZE.png\n",
      "Processing 983/1002...\n"
     ]
    },
    {
     "name": "stderr",
     "output_type": "stream",
     "text": [
      "/usr/local/anaconda3/lib/python3.7/site-packages/librosa/core/audio.py:161: UserWarning: PySoundFile failed. Trying audioread instead.\n",
      "  warnings.warn('PySoundFile failed. Trying audioread instead.')\n"
     ]
    },
    {
     "name": "stdout",
     "output_type": "stream",
     "text": [
      "-> created ./datasets/spectrograms/rock.00058.mp3_spectrogram_FULLSIZE.png\n",
      "Processing 984/1002...\n"
     ]
    },
    {
     "name": "stderr",
     "output_type": "stream",
     "text": [
      "/usr/local/anaconda3/lib/python3.7/site-packages/librosa/core/audio.py:161: UserWarning: PySoundFile failed. Trying audioread instead.\n",
      "  warnings.warn('PySoundFile failed. Trying audioread instead.')\n"
     ]
    },
    {
     "name": "stdout",
     "output_type": "stream",
     "text": [
      "-> created ./datasets/spectrograms/rock.00064.mp3_spectrogram_FULLSIZE.png\n",
      "Processing 985/1002...\n"
     ]
    },
    {
     "name": "stderr",
     "output_type": "stream",
     "text": [
      "/usr/local/anaconda3/lib/python3.7/site-packages/librosa/core/audio.py:161: UserWarning: PySoundFile failed. Trying audioread instead.\n",
      "  warnings.warn('PySoundFile failed. Trying audioread instead.')\n"
     ]
    },
    {
     "name": "stdout",
     "output_type": "stream",
     "text": [
      "-> created ./datasets/spectrograms/rock.00070.mp3_spectrogram_FULLSIZE.png\n",
      "Processing 986/1002...\n"
     ]
    },
    {
     "name": "stderr",
     "output_type": "stream",
     "text": [
      "/usr/local/anaconda3/lib/python3.7/site-packages/librosa/core/audio.py:161: UserWarning: PySoundFile failed. Trying audioread instead.\n",
      "  warnings.warn('PySoundFile failed. Trying audioread instead.')\n"
     ]
    },
    {
     "name": "stdout",
     "output_type": "stream",
     "text": [
      "-> created ./datasets/spectrograms/rock.00071.mp3_spectrogram_FULLSIZE.png\n",
      "Processing 987/1002...\n"
     ]
    },
    {
     "name": "stderr",
     "output_type": "stream",
     "text": [
      "/usr/local/anaconda3/lib/python3.7/site-packages/librosa/core/audio.py:161: UserWarning: PySoundFile failed. Trying audioread instead.\n",
      "  warnings.warn('PySoundFile failed. Trying audioread instead.')\n"
     ]
    },
    {
     "name": "stdout",
     "output_type": "stream",
     "text": [
      "-> created ./datasets/spectrograms/rock.00065.mp3_spectrogram_FULLSIZE.png\n",
      "Processing 988/1002...\n"
     ]
    },
    {
     "name": "stderr",
     "output_type": "stream",
     "text": [
      "/usr/local/anaconda3/lib/python3.7/site-packages/librosa/core/audio.py:161: UserWarning: PySoundFile failed. Trying audioread instead.\n",
      "  warnings.warn('PySoundFile failed. Trying audioread instead.')\n"
     ]
    },
    {
     "name": "stdout",
     "output_type": "stream",
     "text": [
      "-> created ./datasets/spectrograms/rock.00059.mp3_spectrogram_FULLSIZE.png\n",
      "Processing 989/1002...\n"
     ]
    },
    {
     "name": "stderr",
     "output_type": "stream",
     "text": [
      "/usr/local/anaconda3/lib/python3.7/site-packages/librosa/core/audio.py:161: UserWarning: PySoundFile failed. Trying audioread instead.\n",
      "  warnings.warn('PySoundFile failed. Trying audioread instead.')\n"
     ]
    },
    {
     "name": "stdout",
     "output_type": "stream",
     "text": [
      "-> created ./datasets/spectrograms/rock.00061.mp3_spectrogram_FULLSIZE.png\n",
      "Processing 990/1002...\n"
     ]
    },
    {
     "name": "stderr",
     "output_type": "stream",
     "text": [
      "/usr/local/anaconda3/lib/python3.7/site-packages/librosa/core/audio.py:161: UserWarning: PySoundFile failed. Trying audioread instead.\n",
      "  warnings.warn('PySoundFile failed. Trying audioread instead.')\n"
     ]
    },
    {
     "name": "stdout",
     "output_type": "stream",
     "text": [
      "-> created ./datasets/spectrograms/rock.00075.mp3_spectrogram_FULLSIZE.png\n",
      "Processing 991/1002...\n"
     ]
    },
    {
     "name": "stderr",
     "output_type": "stream",
     "text": [
      "/usr/local/anaconda3/lib/python3.7/site-packages/librosa/core/audio.py:161: UserWarning: PySoundFile failed. Trying audioread instead.\n",
      "  warnings.warn('PySoundFile failed. Trying audioread instead.')\n"
     ]
    },
    {
     "name": "stdout",
     "output_type": "stream",
     "text": [
      "-> created ./datasets/spectrograms/rock.00049.mp3_spectrogram_FULLSIZE.png\n",
      "Processing 992/1002...\n"
     ]
    },
    {
     "name": "stderr",
     "output_type": "stream",
     "text": [
      "/usr/local/anaconda3/lib/python3.7/site-packages/librosa/core/audio.py:161: UserWarning: PySoundFile failed. Trying audioread instead.\n",
      "  warnings.warn('PySoundFile failed. Trying audioread instead.')\n"
     ]
    },
    {
     "name": "stdout",
     "output_type": "stream",
     "text": [
      "-> created ./datasets/spectrograms/rock.00048.mp3_spectrogram_FULLSIZE.png\n",
      "Processing 993/1002...\n"
     ]
    },
    {
     "name": "stderr",
     "output_type": "stream",
     "text": [
      "/usr/local/anaconda3/lib/python3.7/site-packages/librosa/core/audio.py:161: UserWarning: PySoundFile failed. Trying audioread instead.\n",
      "  warnings.warn('PySoundFile failed. Trying audioread instead.')\n"
     ]
    },
    {
     "name": "stdout",
     "output_type": "stream",
     "text": [
      "-> created ./datasets/spectrograms/rock.00074.mp3_spectrogram_FULLSIZE.png\n",
      "Processing 994/1002...\n"
     ]
    },
    {
     "name": "stderr",
     "output_type": "stream",
     "text": [
      "/usr/local/anaconda3/lib/python3.7/site-packages/librosa/core/audio.py:161: UserWarning: PySoundFile failed. Trying audioread instead.\n",
      "  warnings.warn('PySoundFile failed. Trying audioread instead.')\n"
     ]
    },
    {
     "name": "stdout",
     "output_type": "stream",
     "text": [
      "-> created ./datasets/spectrograms/rock.00060.mp3_spectrogram_FULLSIZE.png\n",
      "Processing 995/1002...\n"
     ]
    },
    {
     "name": "stderr",
     "output_type": "stream",
     "text": [
      "/usr/local/anaconda3/lib/python3.7/site-packages/librosa/core/audio.py:161: UserWarning: PySoundFile failed. Trying audioread instead.\n",
      "  warnings.warn('PySoundFile failed. Trying audioread instead.')\n"
     ]
    },
    {
     "name": "stdout",
     "output_type": "stream",
     "text": [
      "-> created ./datasets/spectrograms/rock.00076.mp3_spectrogram_FULLSIZE.png\n",
      "Processing 996/1002...\n"
     ]
    },
    {
     "name": "stderr",
     "output_type": "stream",
     "text": [
      "/usr/local/anaconda3/lib/python3.7/site-packages/librosa/core/audio.py:161: UserWarning: PySoundFile failed. Trying audioread instead.\n",
      "  warnings.warn('PySoundFile failed. Trying audioread instead.')\n"
     ]
    },
    {
     "name": "stdout",
     "output_type": "stream",
     "text": [
      "-> created ./datasets/spectrograms/rock.00062.mp3_spectrogram_FULLSIZE.png\n",
      "Processing 997/1002...\n"
     ]
    },
    {
     "name": "stderr",
     "output_type": "stream",
     "text": [
      "/usr/local/anaconda3/lib/python3.7/site-packages/librosa/core/audio.py:161: UserWarning: PySoundFile failed. Trying audioread instead.\n",
      "  warnings.warn('PySoundFile failed. Trying audioread instead.')\n"
     ]
    },
    {
     "name": "stdout",
     "output_type": "stream",
     "text": [
      "-> created ./datasets/spectrograms/rock.00089.mp3_spectrogram_FULLSIZE.png\n",
      "Processing 998/1002...\n"
     ]
    },
    {
     "name": "stderr",
     "output_type": "stream",
     "text": [
      "/usr/local/anaconda3/lib/python3.7/site-packages/librosa/core/audio.py:161: UserWarning: PySoundFile failed. Trying audioread instead.\n",
      "  warnings.warn('PySoundFile failed. Trying audioread instead.')\n"
     ]
    },
    {
     "name": "stdout",
     "output_type": "stream",
     "text": [
      "-> created ./datasets/spectrograms/rock.00088.mp3_spectrogram_FULLSIZE.png\n",
      "Processing 999/1002...\n"
     ]
    },
    {
     "name": "stderr",
     "output_type": "stream",
     "text": [
      "/usr/local/anaconda3/lib/python3.7/site-packages/librosa/core/audio.py:161: UserWarning: PySoundFile failed. Trying audioread instead.\n",
      "  warnings.warn('PySoundFile failed. Trying audioread instead.')\n"
     ]
    },
    {
     "name": "stdout",
     "output_type": "stream",
     "text": [
      "-> created ./datasets/spectrograms/rock.00063.mp3_spectrogram_FULLSIZE.png\n",
      "Processing 1000/1002...\n"
     ]
    },
    {
     "name": "stderr",
     "output_type": "stream",
     "text": [
      "/usr/local/anaconda3/lib/python3.7/site-packages/librosa/core/audio.py:161: UserWarning: PySoundFile failed. Trying audioread instead.\n",
      "  warnings.warn('PySoundFile failed. Trying audioread instead.')\n"
     ]
    },
    {
     "name": "stdout",
     "output_type": "stream",
     "text": [
      "-> created ./datasets/spectrograms/rock.00077.mp3_spectrogram_FULLSIZE.png\n",
      "Processing 1001/1002...\n",
      "Created 1002 spectrograms in 235.82585501670837 s\n"
     ]
    }
   ],
   "source": [
    "import os\n",
    "import time\n",
    "\n",
    "start = time.time()\n",
    "\n",
    "\n",
    "mp3_filepaths = []\n",
    "\n",
    "for g in genres:\n",
    "    for filename in os.listdir(f'{mp3_dir_path}/{g}'):  #RENAME PATH HERE\n",
    "        path = f'{mp3_dir_path}{g}/{filename}'\n",
    "        mp3_filepaths.append(path)\n",
    "    \n",
    "# mp3_filepaths = mp3_filepaths[:2]\n",
    "\n",
    "nb_files = len(mp3_filepaths)\n",
    "\n",
    "for i in range(924, len(mp3_filepaths)):\n",
    "    if \".mp3\" not in mp3_filepaths[i]:\n",
    "        print(f\"skipped: {mp3_filepaths[i]}\")\n",
    "        continue\n",
    "    \n",
    "    create_spectrogram_png(mp3_filepaths[i])\n",
    "    print(f\"Processing {i}/{nb_files}...\")\n",
    "    \n",
    "\n",
    "\n",
    "end = time.time()\n",
    "print(f\"Created {nb_files} spectrograms in {end - start} s\")"
   ]
  },
  {
   "cell_type": "code",
   "execution_count": 20,
   "metadata": {},
   "outputs": [
    {
     "name": "stdout",
     "output_type": "stream",
     "text": [
      "blues already exists...\n",
      "classical already exists...\n",
      "country already exists...\n",
      "disco already exists...\n",
      "hiphop already exists...\n",
      "jazz already exists...\n",
      "metal already exists...\n",
      "pop already exists...\n",
      "reggae already exists...\n",
      "rock already exists...\n"
     ]
    }
   ],
   "source": [
    "import os\n",
    "import time\n",
    "\n",
    "def check_create_dirs(start_dir = \".\", dir_names = []):\n",
    "    for root, dirs, files in os.walk(start_dir):\n",
    "        for genre_dir in genres:\n",
    "            if genre_dir not in dirs:\n",
    "                os.makedirs(start_dir + genre_dir)\n",
    "                print(f\"Created {genre_dir} directory.\")\n",
    "            else: \n",
    "                print(f\"{genre_dir} already exists...\")\n",
    "        break\n",
    "    \n",
    "spectrogram_output_dir = \"./datasets/spectrograms/\"\n",
    "genres = 'blues classical country disco hiphop jazz metal pop reggae rock'.split()\n",
    "    \n",
    "check_create_dirs(spectrogram_output_dir, genres)"
   ]
  },
  {
   "cell_type": "code",
   "execution_count": 30,
   "metadata": {},
   "outputs": [
    {
     "name": "stdout",
     "output_type": "stream",
     "text": [
      "./datasets/spectrograms//rock/rock.00034.mp3_spectrogram_FULLSIZE.png\n",
      "Moved ./datasets/spectrograms//rock.00034.mp3_spectrogram_FULLSIZE.png to ./datasets/spectrograms//rock/rock.00034.mp3_spectrogram_FULLSIZE.png\n",
      "./datasets/spectrograms//metal/metal.00030.mp3_spectrogram_FULLSIZE.png\n",
      "Moved ./datasets/spectrograms//metal.00030.mp3_spectrogram_FULLSIZE.png to ./datasets/spectrograms//metal/metal.00030.mp3_spectrogram_FULLSIZE.png\n",
      "./datasets/spectrograms//disco/disco.00052.mp3_spectrogram_FULLSIZE.png\n",
      "Moved ./datasets/spectrograms//disco.00052.mp3_spectrogram_FULLSIZE.png to ./datasets/spectrograms//disco/disco.00052.mp3_spectrogram_FULLSIZE.png\n",
      "./datasets/spectrograms//classical/classical.00044.mp3_spectrogram_FULLSIZE.png\n",
      "Moved ./datasets/spectrograms//classical.00044.mp3_spectrogram_FULLSIZE.png to ./datasets/spectrograms//classical/classical.00044.mp3_spectrogram_FULLSIZE.png\n",
      "./datasets/spectrograms//jazz/jazz.00044.mp3_spectrogram_FULLSIZE.png\n",
      "Moved ./datasets/spectrograms//jazz.00044.mp3_spectrogram_FULLSIZE.png to ./datasets/spectrograms//jazz/jazz.00044.mp3_spectrogram_FULLSIZE.png\n",
      "./datasets/spectrograms//pop/pop.00078.mp3_spectrogram_FULLSIZE.png\n",
      "Moved ./datasets/spectrograms//pop.00078.mp3_spectrogram_FULLSIZE.png to ./datasets/spectrograms//pop/pop.00078.mp3_spectrogram_FULLSIZE.png\n",
      "./datasets/spectrograms//hiphop/hiphop.00029.mp3_spectrogram_FULLSIZE.png\n",
      "Moved ./datasets/spectrograms//hiphop.00029.mp3_spectrogram_FULLSIZE.png to ./datasets/spectrograms//hiphop/hiphop.00029.mp3_spectrogram_FULLSIZE.png\n",
      "./datasets/spectrograms//reggae/reggae.00063.mp3_spectrogram_FULLSIZE.png\n",
      "Moved ./datasets/spectrograms//reggae.00063.mp3_spectrogram_FULLSIZE.png to ./datasets/spectrograms//reggae/reggae.00063.mp3_spectrogram_FULLSIZE.png\n",
      "./datasets/spectrograms//country/country.00034.mp3_spectrogram_FULLSIZE.png\n",
      "Moved ./datasets/spectrograms//country.00034.mp3_spectrogram_FULLSIZE.png to ./datasets/spectrograms//country/country.00034.mp3_spectrogram_FULLSIZE.png\n",
      "./datasets/spectrograms//pop/pop.00076.mp3_spectrogram_FULLSIZE.png\n",
      "Moved ./datasets/spectrograms//pop.00076.mp3_spectrogram_FULLSIZE.png to ./datasets/spectrograms//pop/pop.00076.mp3_spectrogram_FULLSIZE.png\n",
      "./datasets/spectrograms//hiphop/hiphop.00027.mp3_spectrogram_FULLSIZE.png\n",
      "Moved ./datasets/spectrograms//hiphop.00027.mp3_spectrogram_FULLSIZE.png to ./datasets/spectrograms//hiphop/hiphop.00027.mp3_spectrogram_FULLSIZE.png\n",
      "./datasets/spectrograms//blues/blues.00052.mp3_spectrogram_FULLSIZE.png\n",
      "Moved ./datasets/spectrograms//blues.00052.mp3_spectrogram_FULLSIZE.png to ./datasets/spectrograms//blues/blues.00052.mp3_spectrogram_FULLSIZE.png\n",
      "./datasets/spectrograms//classical/classical.00085.mp3_spectrogram_FULLSIZE.png\n",
      "Moved ./datasets/spectrograms//classical.00085.mp3_spectrogram_FULLSIZE.png to ./datasets/spectrograms//classical/classical.00085.mp3_spectrogram_FULLSIZE.png\n",
      "./datasets/spectrograms//jazz/jazz.00085.mp3_spectrogram_FULLSIZE.png\n",
      "Moved ./datasets/spectrograms//jazz.00085.mp3_spectrogram_FULLSIZE.png to ./datasets/spectrograms//jazz/jazz.00085.mp3_spectrogram_FULLSIZE.png\n",
      "./datasets/spectrograms//metal/metal.00067.mp3_spectrogram_FULLSIZE.png\n",
      "Moved ./datasets/spectrograms//metal.00067.mp3_spectrogram_FULLSIZE.png to ./datasets/spectrograms//metal/metal.00067.mp3_spectrogram_FULLSIZE.png\n",
      "./datasets/spectrograms//disco/disco.00093.mp3_spectrogram_FULLSIZE.png\n",
      "Moved ./datasets/spectrograms//disco.00093.mp3_spectrogram_FULLSIZE.png to ./datasets/spectrograms//disco/disco.00093.mp3_spectrogram_FULLSIZE.png\n",
      "./datasets/spectrograms//rock/rock.00063.mp3_spectrogram_FULLSIZE.png\n",
      "Moved ./datasets/spectrograms//rock.00063.mp3_spectrogram_FULLSIZE.png to ./datasets/spectrograms//rock/rock.00063.mp3_spectrogram_FULLSIZE.png\n",
      "./datasets/spectrograms//metal/metal.00069.mp3_spectrogram_FULLSIZE.png\n",
      "Moved ./datasets/spectrograms//metal.00069.mp3_spectrogram_FULLSIZE.png to ./datasets/spectrograms//metal/metal.00069.mp3_spectrogram_FULLSIZE.png\n",
      "./datasets/spectrograms//classical/classical.00013.mp3_spectrogram_FULLSIZE.png\n",
      "Moved ./datasets/spectrograms//classical.00013.mp3_spectrogram_FULLSIZE.png to ./datasets/spectrograms//classical/classical.00013.mp3_spectrogram_FULLSIZE.png\n",
      "./datasets/spectrograms//jazz/jazz.00013.mp3_spectrogram_FULLSIZE.png\n",
      "Moved ./datasets/spectrograms//jazz.00013.mp3_spectrogram_FULLSIZE.png to ./datasets/spectrograms//jazz/jazz.00013.mp3_spectrogram_FULLSIZE.png\n",
      "./datasets/spectrograms//disco/disco.00005.mp3_spectrogram_FULLSIZE.png\n",
      "Moved ./datasets/spectrograms//disco.00005.mp3_spectrogram_FULLSIZE.png to ./datasets/spectrograms//disco/disco.00005.mp3_spectrogram_FULLSIZE.png\n",
      "./datasets/spectrograms//reggae/reggae.00034.mp3_spectrogram_FULLSIZE.png\n",
      "Moved ./datasets/spectrograms//reggae.00034.mp3_spectrogram_FULLSIZE.png to ./datasets/spectrograms//reggae/reggae.00034.mp3_spectrogram_FULLSIZE.png\n",
      "./datasets/spectrograms//blues/blues.00093.mp3_spectrogram_FULLSIZE.png\n",
      "Moved ./datasets/spectrograms//blues.00093.mp3_spectrogram_FULLSIZE.png to ./datasets/spectrograms//blues/blues.00093.mp3_spectrogram_FULLSIZE.png\n",
      "./datasets/spectrograms//country/country.00063.mp3_spectrogram_FULLSIZE.png\n",
      "Moved ./datasets/spectrograms//country.00063.mp3_spectrogram_FULLSIZE.png to ./datasets/spectrograms//country/country.00063.mp3_spectrogram_FULLSIZE.png\n",
      "./datasets/spectrograms//pop/pop.00021.mp3_spectrogram_FULLSIZE.png\n",
      "Moved ./datasets/spectrograms//pop.00021.mp3_spectrogram_FULLSIZE.png to ./datasets/spectrograms//pop/pop.00021.mp3_spectrogram_FULLSIZE.png\n",
      "./datasets/spectrograms//blues/blues.00005.mp3_spectrogram_FULLSIZE.png\n",
      "Moved ./datasets/spectrograms//blues.00005.mp3_spectrogram_FULLSIZE.png to ./datasets/spectrograms//blues/blues.00005.mp3_spectrogram_FULLSIZE.png\n",
      "./datasets/spectrograms//hiphop/hiphop.00070.mp3_spectrogram_FULLSIZE.png\n",
      "Moved ./datasets/spectrograms//hiphop.00070.mp3_spectrogram_FULLSIZE.png to ./datasets/spectrograms//hiphop/hiphop.00070.mp3_spectrogram_FULLSIZE.png\n",
      "./datasets/spectrograms//blues/blues.00088.mp3_spectrogram_FULLSIZE.png\n",
      "Moved ./datasets/spectrograms//blues.00088.mp3_spectrogram_FULLSIZE.png to ./datasets/spectrograms//blues/blues.00088.mp3_spectrogram_FULLSIZE.png\n",
      "./datasets/spectrograms//pop/pop.00034.mp3_spectrogram_FULLSIZE.png\n",
      "Moved ./datasets/spectrograms//pop.00034.mp3_spectrogram_FULLSIZE.png to ./datasets/spectrograms//pop/pop.00034.mp3_spectrogram_FULLSIZE.png\n",
      "./datasets/spectrograms//country/country.00076.mp3_spectrogram_FULLSIZE.png\n",
      "Moved ./datasets/spectrograms//country.00076.mp3_spectrogram_FULLSIZE.png to ./datasets/spectrograms//country/country.00076.mp3_spectrogram_FULLSIZE.png\n",
      "./datasets/spectrograms//hiphop/hiphop.00065.mp3_spectrogram_FULLSIZE.png\n",
      "Moved ./datasets/spectrograms//hiphop.00065.mp3_spectrogram_FULLSIZE.png to ./datasets/spectrograms//hiphop/hiphop.00065.mp3_spectrogram_FULLSIZE.png\n",
      "./datasets/spectrograms//blues/blues.00010.mp3_spectrogram_FULLSIZE.png\n",
      "Moved ./datasets/spectrograms//blues.00010.mp3_spectrogram_FULLSIZE.png to ./datasets/spectrograms//blues/blues.00010.mp3_spectrogram_FULLSIZE.png\n",
      "./datasets/spectrograms//blues/blues.00086.mp3_spectrogram_FULLSIZE.png\n",
      "Moved ./datasets/spectrograms//blues.00086.mp3_spectrogram_FULLSIZE.png to ./datasets/spectrograms//blues/blues.00086.mp3_spectrogram_FULLSIZE.png\n",
      "./datasets/spectrograms//country/country.00078.mp3_spectrogram_FULLSIZE.png\n",
      "Moved ./datasets/spectrograms//country.00078.mp3_spectrogram_FULLSIZE.png to ./datasets/spectrograms//country/country.00078.mp3_spectrogram_FULLSIZE.png\n",
      "./datasets/spectrograms//reggae/reggae.00021.mp3_spectrogram_FULLSIZE.png\n",
      "Moved ./datasets/spectrograms//reggae.00021.mp3_spectrogram_FULLSIZE.png to ./datasets/spectrograms//reggae/reggae.00021.mp3_spectrogram_FULLSIZE.png\n",
      "./datasets/spectrograms//disco/disco.00010.mp3_spectrogram_FULLSIZE.png\n",
      "Moved ./datasets/spectrograms//disco.00010.mp3_spectrogram_FULLSIZE.png to ./datasets/spectrograms//disco/disco.00010.mp3_spectrogram_FULLSIZE.png\n",
      "./datasets/spectrograms//jazz/jazz.00006.mp3_spectrogram_FULLSIZE.png\n",
      "Moved ./datasets/spectrograms//jazz.00006.mp3_spectrogram_FULLSIZE.png to ./datasets/spectrograms//jazz/jazz.00006.mp3_spectrogram_FULLSIZE.png\n",
      "./datasets/spectrograms//classical/classical.00006.mp3_spectrogram_FULLSIZE.png\n",
      "Moved ./datasets/spectrograms//classical.00006.mp3_spectrogram_FULLSIZE.png to ./datasets/spectrograms//classical/classical.00006.mp3_spectrogram_FULLSIZE.png\n",
      "./datasets/spectrograms//disco/disco.00088.mp3_spectrogram_FULLSIZE.png\n",
      "Moved ./datasets/spectrograms//disco.00088.mp3_spectrogram_FULLSIZE.png to ./datasets/spectrograms//disco/disco.00088.mp3_spectrogram_FULLSIZE.png\n",
      "./datasets/spectrograms//rock/rock.00078.mp3_spectrogram_FULLSIZE.png\n",
      "Moved ./datasets/spectrograms//rock.00078.mp3_spectrogram_FULLSIZE.png to ./datasets/spectrograms//rock/rock.00078.mp3_spectrogram_FULLSIZE.png\n",
      "./datasets/spectrograms//classical/classical.00008.mp3_spectrogram_FULLSIZE.png\n",
      "Moved ./datasets/spectrograms//classical.00008.mp3_spectrogram_FULLSIZE.png to ./datasets/spectrograms//classical/classical.00008.mp3_spectrogram_FULLSIZE.png\n",
      "./datasets/spectrograms//jazz/jazz.00008.mp3_spectrogram_FULLSIZE.png\n",
      "Moved ./datasets/spectrograms//jazz.00008.mp3_spectrogram_FULLSIZE.png to ./datasets/spectrograms//jazz/jazz.00008.mp3_spectrogram_FULLSIZE.png\n",
      "./datasets/spectrograms//rock/rock.00076.mp3_spectrogram_FULLSIZE.png\n",
      "Moved ./datasets/spectrograms//rock.00076.mp3_spectrogram_FULLSIZE.png to ./datasets/spectrograms//rock/rock.00076.mp3_spectrogram_FULLSIZE.png\n",
      "./datasets/spectrograms//disco/disco.00086.mp3_spectrogram_FULLSIZE.png\n",
      "Moved ./datasets/spectrograms//disco.00086.mp3_spectrogram_FULLSIZE.png to ./datasets/spectrograms//disco/disco.00086.mp3_spectrogram_FULLSIZE.png\n",
      "./datasets/spectrograms//jazz/jazz.00090.mp3_spectrogram_FULLSIZE.png\n",
      "Moved ./datasets/spectrograms//jazz.00090.mp3_spectrogram_FULLSIZE.png to ./datasets/spectrograms//jazz/jazz.00090.mp3_spectrogram_FULLSIZE.png\n",
      "./datasets/spectrograms//classical/classical.00090.mp3_spectrogram_FULLSIZE.png\n",
      "Moved ./datasets/spectrograms//classical.00090.mp3_spectrogram_FULLSIZE.png to ./datasets/spectrograms//classical/classical.00090.mp3_spectrogram_FULLSIZE.png\n",
      "./datasets/spectrograms//metal/metal.00072.mp3_spectrogram_FULLSIZE.png\n",
      "Moved ./datasets/spectrograms//metal.00072.mp3_spectrogram_FULLSIZE.png to ./datasets/spectrograms//metal/metal.00072.mp3_spectrogram_FULLSIZE.png\n",
      "./datasets/spectrograms//metal/metal.00058.mp3_spectrogram_FULLSIZE.png\n",
      "Moved ./datasets/spectrograms//metal.00058.mp3_spectrogram_FULLSIZE.png to ./datasets/spectrograms//metal/metal.00058.mp3_spectrogram_FULLSIZE.png\n",
      "./datasets/spectrograms//disco/disco.00034.mp3_spectrogram_FULLSIZE.png\n",
      "Moved ./datasets/spectrograms//disco.00034.mp3_spectrogram_FULLSIZE.png to ./datasets/spectrograms//disco/disco.00034.mp3_spectrogram_FULLSIZE.png\n",
      "./datasets/spectrograms//jazz/jazz.00022.mp3_spectrogram_FULLSIZE.png\n",
      "Moved ./datasets/spectrograms//jazz.00022.mp3_spectrogram_FULLSIZE.png to ./datasets/spectrograms//jazz/jazz.00022.mp3_spectrogram_FULLSIZE.png\n",
      "./datasets/spectrograms//classical/classical.00022.mp3_spectrogram_FULLSIZE.png\n",
      "Moved ./datasets/spectrograms//classical.00022.mp3_spectrogram_FULLSIZE.png to ./datasets/spectrograms//classical/classical.00022.mp3_spectrogram_FULLSIZE.png\n",
      "./datasets/spectrograms//rock/rock.00052.mp3_spectrogram_FULLSIZE.png\n",
      "Moved ./datasets/spectrograms//rock.00052.mp3_spectrogram_FULLSIZE.png to ./datasets/spectrograms//rock/rock.00052.mp3_spectrogram_FULLSIZE.png\n",
      "./datasets/spectrograms//metal/metal.00056.mp3_spectrogram_FULLSIZE.png\n",
      "Moved ./datasets/spectrograms//metal.00056.mp3_spectrogram_FULLSIZE.png to ./datasets/spectrograms//metal/metal.00056.mp3_spectrogram_FULLSIZE.png\n",
      "./datasets/spectrograms//hiphop/hiphop.00041.mp3_spectrogram_FULLSIZE.png\n",
      "Moved ./datasets/spectrograms//hiphop.00041.mp3_spectrogram_FULLSIZE.png to ./datasets/spectrograms//hiphop/hiphop.00041.mp3_spectrogram_FULLSIZE.png\n",
      "./datasets/spectrograms//blues/blues.00034.mp3_spectrogram_FULLSIZE.png\n",
      "Moved ./datasets/spectrograms//blues.00034.mp3_spectrogram_FULLSIZE.png to ./datasets/spectrograms//blues/blues.00034.mp3_spectrogram_FULLSIZE.png\n",
      "./datasets/spectrograms//pop/pop.00010.mp3_spectrogram_FULLSIZE.png\n",
      "Moved ./datasets/spectrograms//pop.00010.mp3_spectrogram_FULLSIZE.png to ./datasets/spectrograms//pop/pop.00010.mp3_spectrogram_FULLSIZE.png\n",
      "./datasets/spectrograms//country/country.00052.mp3_spectrogram_FULLSIZE.png\n",
      "Moved ./datasets/spectrograms//country.00052.mp3_spectrogram_FULLSIZE.png to ./datasets/spectrograms//country/country.00052.mp3_spectrogram_FULLSIZE.png\n",
      "./datasets/spectrograms//pop/pop.00088.mp3_spectrogram_FULLSIZE.png\n",
      "Moved ./datasets/spectrograms//pop.00088.mp3_spectrogram_FULLSIZE.png to ./datasets/spectrograms//pop/pop.00088.mp3_spectrogram_FULLSIZE.png\n",
      "./datasets/spectrograms//reggae/reggae.00093.mp3_spectrogram_FULLSIZE.png\n",
      "Moved ./datasets/spectrograms//reggae.00093.mp3_spectrogram_FULLSIZE.png to ./datasets/spectrograms//reggae/reggae.00093.mp3_spectrogram_FULLSIZE.png\n",
      "./datasets/spectrograms//reggae/reggae.00005.mp3_spectrogram_FULLSIZE.png\n",
      "Moved ./datasets/spectrograms//reggae.00005.mp3_spectrogram_FULLSIZE.png to ./datasets/spectrograms//reggae/reggae.00005.mp3_spectrogram_FULLSIZE.png\n",
      "./datasets/spectrograms//pop/pop.00086.mp3_spectrogram_FULLSIZE.png\n",
      "Moved ./datasets/spectrograms//pop.00086.mp3_spectrogram_FULLSIZE.png to ./datasets/spectrograms//pop/pop.00086.mp3_spectrogram_FULLSIZE.png\n",
      "./datasets/spectrograms//reggae/reggae.00088.mp3_spectrogram_FULLSIZE.png\n",
      "Moved ./datasets/spectrograms//reggae.00088.mp3_spectrogram_FULLSIZE.png to ./datasets/spectrograms//reggae/reggae.00088.mp3_spectrogram_FULLSIZE.png\n",
      "./datasets/spectrograms//pop/pop.00093.mp3_spectrogram_FULLSIZE.png\n",
      "Moved ./datasets/spectrograms//pop.00093.mp3_spectrogram_FULLSIZE.png to ./datasets/spectrograms//pop/pop.00093.mp3_spectrogram_FULLSIZE.png\n",
      "./datasets/spectrograms//reggae/reggae.00010.mp3_spectrogram_FULLSIZE.png\n",
      "Moved ./datasets/spectrograms//reggae.00010.mp3_spectrogram_FULLSIZE.png to ./datasets/spectrograms//reggae/reggae.00010.mp3_spectrogram_FULLSIZE.png\n",
      "./datasets/spectrograms//country/country.00049.mp3_spectrogram_FULLSIZE.png\n",
      "Moved ./datasets/spectrograms//country.00049.mp3_spectrogram_FULLSIZE.png to ./datasets/spectrograms//country/country.00049.mp3_spectrogram_FULLSIZE.png\n",
      "./datasets/spectrograms//reggae/reggae.00086.mp3_spectrogram_FULLSIZE.png\n",
      "Moved ./datasets/spectrograms//reggae.00086.mp3_spectrogram_FULLSIZE.png to ./datasets/spectrograms//reggae/reggae.00086.mp3_spectrogram_FULLSIZE.png\n",
      "./datasets/spectrograms//blues/blues.00021.mp3_spectrogram_FULLSIZE.png\n",
      "Moved ./datasets/spectrograms//blues.00021.mp3_spectrogram_FULLSIZE.png to ./datasets/spectrograms//blues/blues.00021.mp3_spectrogram_FULLSIZE.png\n",
      "./datasets/spectrograms//hiphop/hiphop.00054.mp3_spectrogram_FULLSIZE.png\n",
      "Moved ./datasets/spectrograms//hiphop.00054.mp3_spectrogram_FULLSIZE.png to ./datasets/spectrograms//hiphop/hiphop.00054.mp3_spectrogram_FULLSIZE.png\n",
      "./datasets/spectrograms//country/country.00047.mp3_spectrogram_FULLSIZE.png\n",
      "Moved ./datasets/spectrograms//country.00047.mp3_spectrogram_FULLSIZE.png to ./datasets/spectrograms//country/country.00047.mp3_spectrogram_FULLSIZE.png\n",
      "./datasets/spectrograms//pop/pop.00005.mp3_spectrogram_FULLSIZE.png\n",
      "Moved ./datasets/spectrograms//pop.00005.mp3_spectrogram_FULLSIZE.png to ./datasets/spectrograms//pop/pop.00005.mp3_spectrogram_FULLSIZE.png\n",
      "./datasets/spectrograms//jazz/jazz.00039.mp3_spectrogram_FULLSIZE.png\n",
      "Moved ./datasets/spectrograms//jazz.00039.mp3_spectrogram_FULLSIZE.png to ./datasets/spectrograms//jazz/jazz.00039.mp3_spectrogram_FULLSIZE.png\n",
      "./datasets/spectrograms//classical/classical.00039.mp3_spectrogram_FULLSIZE.png\n",
      "Moved ./datasets/spectrograms//classical.00039.mp3_spectrogram_FULLSIZE.png to ./datasets/spectrograms//classical/classical.00039.mp3_spectrogram_FULLSIZE.png\n",
      "./datasets/spectrograms//metal/metal.00043.mp3_spectrogram_FULLSIZE.png\n",
      "Moved ./datasets/spectrograms//metal.00043.mp3_spectrogram_FULLSIZE.png to ./datasets/spectrograms//metal/metal.00043.mp3_spectrogram_FULLSIZE.png\n",
      "./datasets/spectrograms//rock/rock.00047.mp3_spectrogram_FULLSIZE.png\n",
      "Moved ./datasets/spectrograms//rock.00047.mp3_spectrogram_FULLSIZE.png to ./datasets/spectrograms//rock/rock.00047.mp3_spectrogram_FULLSIZE.png\n",
      "./datasets/spectrograms//classical/classical.00037.mp3_spectrogram_FULLSIZE.png\n",
      "Moved ./datasets/spectrograms//classical.00037.mp3_spectrogram_FULLSIZE.png to ./datasets/spectrograms//classical/classical.00037.mp3_spectrogram_FULLSIZE.png\n",
      "./datasets/spectrograms//jazz/jazz.00037.mp3_spectrogram_FULLSIZE.png\n",
      "Moved ./datasets/spectrograms//jazz.00037.mp3_spectrogram_FULLSIZE.png to ./datasets/spectrograms//jazz/jazz.00037.mp3_spectrogram_FULLSIZE.png\n",
      "./datasets/spectrograms//disco/disco.00021.mp3_spectrogram_FULLSIZE.png\n",
      "Moved ./datasets/spectrograms//disco.00021.mp3_spectrogram_FULLSIZE.png to ./datasets/spectrograms//disco/disco.00021.mp3_spectrogram_FULLSIZE.png\n",
      "./datasets/spectrograms//rock/rock.00049.mp3_spectrogram_FULLSIZE.png\n",
      "Moved ./datasets/spectrograms//rock.00049.mp3_spectrogram_FULLSIZE.png to ./datasets/spectrograms//rock/rock.00049.mp3_spectrogram_FULLSIZE.png\n",
      "./datasets/spectrograms//disco/disco.00013.mp3_spectrogram_FULLSIZE.png\n",
      "Moved ./datasets/spectrograms//disco.00013.mp3_spectrogram_FULLSIZE.png to ./datasets/spectrograms//disco/disco.00013.mp3_spectrogram_FULLSIZE.png\n",
      "./datasets/spectrograms//classical/classical.00005.mp3_spectrogram_FULLSIZE.png\n",
      "Moved ./datasets/spectrograms//classical.00005.mp3_spectrogram_FULLSIZE.png to ./datasets/spectrograms//classical/classical.00005.mp3_spectrogram_FULLSIZE.png\n",
      "./datasets/spectrograms//jazz/jazz.00005.mp3_spectrogram_FULLSIZE.png\n",
      "Moved ./datasets/spectrograms//jazz.00005.mp3_spectrogram_FULLSIZE.png to ./datasets/spectrograms//jazz/jazz.00005.mp3_spectrogram_FULLSIZE.png\n",
      "./datasets/spectrograms//disco/disco.00085.mp3_spectrogram_FULLSIZE.png\n",
      "Moved ./datasets/spectrograms//disco.00085.mp3_spectrogram_FULLSIZE.png to ./datasets/spectrograms//disco/disco.00085.mp3_spectrogram_FULLSIZE.png\n",
      "./datasets/spectrograms//rock/rock.00075.mp3_spectrogram_FULLSIZE.png\n",
      "Moved ./datasets/spectrograms//rock.00075.mp3_spectrogram_FULLSIZE.png to ./datasets/spectrograms//rock/rock.00075.mp3_spectrogram_FULLSIZE.png\n",
      "./datasets/spectrograms//classical/classical.00093.mp3_spectrogram_FULLSIZE.png\n",
      "Moved ./datasets/spectrograms//classical.00093.mp3_spectrogram_FULLSIZE.png to ./datasets/spectrograms//classical/classical.00093.mp3_spectrogram_FULLSIZE.png\n",
      "./datasets/spectrograms//jazz/jazz.00093.mp3_spectrogram_FULLSIZE.png\n",
      "Moved ./datasets/spectrograms//jazz.00093.mp3_spectrogram_FULLSIZE.png to ./datasets/spectrograms//jazz/jazz.00093.mp3_spectrogram_FULLSIZE.png\n",
      "./datasets/spectrograms//metal/metal.00071.mp3_spectrogram_FULLSIZE.png\n",
      "Moved ./datasets/spectrograms//metal.00071.mp3_spectrogram_FULLSIZE.png to ./datasets/spectrograms//metal/metal.00071.mp3_spectrogram_FULLSIZE.png\n",
      "./datasets/spectrograms//pop/pop.00037.mp3_spectrogram_FULLSIZE.png\n",
      "Moved ./datasets/spectrograms//pop.00037.mp3_spectrogram_FULLSIZE.png to ./datasets/spectrograms//pop/pop.00037.mp3_spectrogram_FULLSIZE.png\n",
      "./datasets/spectrograms//country/country.00075.mp3_spectrogram_FULLSIZE.png\n",
      "Moved ./datasets/spectrograms//country.00075.mp3_spectrogram_FULLSIZE.png to ./datasets/spectrograms//country/country.00075.mp3_spectrogram_FULLSIZE.png\n",
      "./datasets/spectrograms//hiphop/hiphop.00066.mp3_spectrogram_FULLSIZE.png\n",
      "Moved ./datasets/spectrograms//hiphop.00066.mp3_spectrogram_FULLSIZE.png to ./datasets/spectrograms//hiphop/hiphop.00066.mp3_spectrogram_FULLSIZE.png\n",
      "./datasets/spectrograms//blues/blues.00013.mp3_spectrogram_FULLSIZE.png\n",
      "Moved ./datasets/spectrograms//blues.00013.mp3_spectrogram_FULLSIZE.png to ./datasets/spectrograms//blues/blues.00013.mp3_spectrogram_FULLSIZE.png\n",
      "./datasets/spectrograms//pop/pop.00039.mp3_spectrogram_FULLSIZE.png\n",
      "Moved ./datasets/spectrograms//pop.00039.mp3_spectrogram_FULLSIZE.png to ./datasets/spectrograms//pop/pop.00039.mp3_spectrogram_FULLSIZE.png\n",
      "./datasets/spectrograms//hiphop/hiphop.00068.mp3_spectrogram_FULLSIZE.png\n",
      "Moved ./datasets/spectrograms//hiphop.00068.mp3_spectrogram_FULLSIZE.png to ./datasets/spectrograms//hiphop/hiphop.00068.mp3_spectrogram_FULLSIZE.png\n",
      "./datasets/spectrograms//reggae/reggae.00022.mp3_spectrogram_FULLSIZE.png\n",
      "Moved ./datasets/spectrograms//reggae.00022.mp3_spectrogram_FULLSIZE.png to ./datasets/spectrograms//reggae/reggae.00022.mp3_spectrogram_FULLSIZE.png\n",
      "./datasets/spectrograms//blues/blues.00085.mp3_spectrogram_FULLSIZE.png\n",
      "Moved ./datasets/spectrograms//blues.00085.mp3_spectrogram_FULLSIZE.png to ./datasets/spectrograms//blues/blues.00085.mp3_spectrogram_FULLSIZE.png\n",
      "./datasets/spectrograms//blues/blues.00090.mp3_spectrogram_FULLSIZE.png\n",
      "Moved ./datasets/spectrograms//blues.00090.mp3_spectrogram_FULLSIZE.png to ./datasets/spectrograms//blues/blues.00090.mp3_spectrogram_FULLSIZE.png\n",
      "./datasets/spectrograms//reggae/reggae.00037.mp3_spectrogram_FULLSIZE.png\n",
      "Moved ./datasets/spectrograms//reggae.00037.mp3_spectrogram_FULLSIZE.png to ./datasets/spectrograms//reggae/reggae.00037.mp3_spectrogram_FULLSIZE.png\n",
      "./datasets/spectrograms//blues/blues.00008.mp3_spectrogram_FULLSIZE.png\n",
      "Moved ./datasets/spectrograms//blues.00008.mp3_spectrogram_FULLSIZE.png to ./datasets/spectrograms//blues/blues.00008.mp3_spectrogram_FULLSIZE.png\n",
      "./datasets/spectrograms//reggae/reggae.00039.mp3_spectrogram_FULLSIZE.png\n",
      "Moved ./datasets/spectrograms//reggae.00039.mp3_spectrogram_FULLSIZE.png to ./datasets/spectrograms//reggae/reggae.00039.mp3_spectrogram_FULLSIZE.png\n",
      "./datasets/spectrograms//country/country.00060.mp3_spectrogram_FULLSIZE.png\n",
      "Moved ./datasets/spectrograms//country.00060.mp3_spectrogram_FULLSIZE.png to ./datasets/spectrograms//country/country.00060.mp3_spectrogram_FULLSIZE.png\n",
      "./datasets/spectrograms//pop/pop.00022.mp3_spectrogram_FULLSIZE.png\n",
      "Moved ./datasets/spectrograms//pop.00022.mp3_spectrogram_FULLSIZE.png to ./datasets/spectrograms//pop/pop.00022.mp3_spectrogram_FULLSIZE.png\n",
      "./datasets/spectrograms//blues/blues.00006.mp3_spectrogram_FULLSIZE.png\n",
      "Moved ./datasets/spectrograms//blues.00006.mp3_spectrogram_FULLSIZE.png to ./datasets/spectrograms//blues/blues.00006.mp3_spectrogram_FULLSIZE.png\n",
      "./datasets/spectrograms//hiphop/hiphop.00073.mp3_spectrogram_FULLSIZE.png\n",
      "Moved ./datasets/spectrograms//hiphop.00073.mp3_spectrogram_FULLSIZE.png to ./datasets/spectrograms//hiphop/hiphop.00073.mp3_spectrogram_FULLSIZE.png\n",
      "./datasets/spectrograms//disco/disco.00008.mp3_spectrogram_FULLSIZE.png\n",
      "Moved ./datasets/spectrograms//disco.00008.mp3_spectrogram_FULLSIZE.png to ./datasets/spectrograms//disco/disco.00008.mp3_spectrogram_FULLSIZE.png\n",
      "./datasets/spectrograms//jazz/jazz.00086.mp3_spectrogram_FULLSIZE.png\n",
      "Moved ./datasets/spectrograms//jazz.00086.mp3_spectrogram_FULLSIZE.png to ./datasets/spectrograms//jazz/jazz.00086.mp3_spectrogram_FULLSIZE.png\n",
      "./datasets/spectrograms//classical/classical.00086.mp3_spectrogram_FULLSIZE.png\n",
      "Moved ./datasets/spectrograms//classical.00086.mp3_spectrogram_FULLSIZE.png to ./datasets/spectrograms//classical/classical.00086.mp3_spectrogram_FULLSIZE.png\n",
      "./datasets/spectrograms//metal/metal.00064.mp3_spectrogram_FULLSIZE.png\n",
      "Moved ./datasets/spectrograms//metal.00064.mp3_spectrogram_FULLSIZE.png to ./datasets/spectrograms//metal/metal.00064.mp3_spectrogram_FULLSIZE.png\n",
      "./datasets/spectrograms//rock/rock.00060.mp3_spectrogram_FULLSIZE.png\n",
      "Moved ./datasets/spectrograms//rock.00060.mp3_spectrogram_FULLSIZE.png to ./datasets/spectrograms//rock/rock.00060.mp3_spectrogram_FULLSIZE.png\n",
      "./datasets/spectrograms//disco/disco.00090.mp3_spectrogram_FULLSIZE.png\n",
      "Moved ./datasets/spectrograms//disco.00090.mp3_spectrogram_FULLSIZE.png to ./datasets/spectrograms//disco/disco.00090.mp3_spectrogram_FULLSIZE.png\n",
      "./datasets/spectrograms//jazz/jazz.00010.mp3_spectrogram_FULLSIZE.png\n",
      "Moved ./datasets/spectrograms//jazz.00010.mp3_spectrogram_FULLSIZE.png to ./datasets/spectrograms//jazz/jazz.00010.mp3_spectrogram_FULLSIZE.png\n",
      "./datasets/spectrograms//classical/classical.00010.mp3_spectrogram_FULLSIZE.png\n",
      "Moved ./datasets/spectrograms//classical.00010.mp3_spectrogram_FULLSIZE.png to ./datasets/spectrograms//classical/classical.00010.mp3_spectrogram_FULLSIZE.png\n",
      "./datasets/spectrograms//disco/disco.00006.mp3_spectrogram_FULLSIZE.png\n",
      "Moved ./datasets/spectrograms//disco.00006.mp3_spectrogram_FULLSIZE.png to ./datasets/spectrograms//disco/disco.00006.mp3_spectrogram_FULLSIZE.png\n",
      "./datasets/spectrograms//classical/classical.00088.mp3_spectrogram_FULLSIZE.png\n",
      "Moved ./datasets/spectrograms//classical.00088.mp3_spectrogram_FULLSIZE.png to ./datasets/spectrograms//classical/classical.00088.mp3_spectrogram_FULLSIZE.png\n",
      "./datasets/spectrograms//jazz/jazz.00088.mp3_spectrogram_FULLSIZE.png\n",
      "Moved ./datasets/spectrograms//jazz.00088.mp3_spectrogram_FULLSIZE.png to ./datasets/spectrograms//jazz/jazz.00088.mp3_spectrogram_FULLSIZE.png\n",
      "./datasets/spectrograms//metal/metal.00040.mp3_spectrogram_FULLSIZE.png\n",
      "Moved ./datasets/spectrograms//metal.00040.mp3_spectrogram_FULLSIZE.png to ./datasets/spectrograms//metal/metal.00040.mp3_spectrogram_FULLSIZE.png\n",
      "./datasets/spectrograms//rock/rock.00044.mp3_spectrogram_FULLSIZE.png\n",
      "Moved ./datasets/spectrograms//rock.00044.mp3_spectrogram_FULLSIZE.png to ./datasets/spectrograms//rock/rock.00044.mp3_spectrogram_FULLSIZE.png\n",
      "./datasets/spectrograms//jazz/jazz.00034.mp3_spectrogram_FULLSIZE.png\n",
      "Moved ./datasets/spectrograms//jazz.00034.mp3_spectrogram_FULLSIZE.png to ./datasets/spectrograms//jazz/jazz.00034.mp3_spectrogram_FULLSIZE.png\n",
      "./datasets/spectrograms//classical/classical.00034.mp3_spectrogram_FULLSIZE.png\n",
      "Moved ./datasets/spectrograms//classical.00034.mp3_spectrogram_FULLSIZE.png to ./datasets/spectrograms//classical/classical.00034.mp3_spectrogram_FULLSIZE.png\n",
      "./datasets/spectrograms//disco/disco.00022.mp3_spectrogram_FULLSIZE.png\n",
      "Moved ./datasets/spectrograms//disco.00022.mp3_spectrogram_FULLSIZE.png to ./datasets/spectrograms//disco/disco.00022.mp3_spectrogram_FULLSIZE.png\n",
      "./datasets/spectrograms//reggae/reggae.00013.mp3_spectrogram_FULLSIZE.png\n",
      "Moved ./datasets/spectrograms//reggae.00013.mp3_spectrogram_FULLSIZE.png to ./datasets/spectrograms//reggae/reggae.00013.mp3_spectrogram_FULLSIZE.png\n",
      "./datasets/spectrograms//hiphop/hiphop.00059.mp3_spectrogram_FULLSIZE.png\n",
      "Moved ./datasets/spectrograms//hiphop.00059.mp3_spectrogram_FULLSIZE.png to ./datasets/spectrograms//hiphop/hiphop.00059.mp3_spectrogram_FULLSIZE.png\n",
      "./datasets/spectrograms//pop/pop.00008.mp3_spectrogram_FULLSIZE.png\n",
      "Moved ./datasets/spectrograms//pop.00008.mp3_spectrogram_FULLSIZE.png to ./datasets/spectrograms//pop/pop.00008.mp3_spectrogram_FULLSIZE.png\n",
      "./datasets/spectrograms//pop/pop.00090.mp3_spectrogram_FULLSIZE.png\n",
      "Moved ./datasets/spectrograms//pop.00090.mp3_spectrogram_FULLSIZE.png to ./datasets/spectrograms//pop/pop.00090.mp3_spectrogram_FULLSIZE.png\n",
      "./datasets/spectrograms//blues/blues.00022.mp3_spectrogram_FULLSIZE.png\n",
      "Moved ./datasets/spectrograms//blues.00022.mp3_spectrogram_FULLSIZE.png to ./datasets/spectrograms//blues/blues.00022.mp3_spectrogram_FULLSIZE.png\n",
      "./datasets/spectrograms//hiphop/hiphop.00057.mp3_spectrogram_FULLSIZE.png\n",
      "Moved ./datasets/spectrograms//hiphop.00057.mp3_spectrogram_FULLSIZE.png to ./datasets/spectrograms//hiphop/hiphop.00057.mp3_spectrogram_FULLSIZE.png\n",
      "./datasets/spectrograms//country/country.00044.mp3_spectrogram_FULLSIZE.png\n",
      "Moved ./datasets/spectrograms//country.00044.mp3_spectrogram_FULLSIZE.png to ./datasets/spectrograms//country/country.00044.mp3_spectrogram_FULLSIZE.png\n",
      "./datasets/spectrograms//pop/pop.00006.mp3_spectrogram_FULLSIZE.png\n",
      "Moved ./datasets/spectrograms//pop.00006.mp3_spectrogram_FULLSIZE.png to ./datasets/spectrograms//pop/pop.00006.mp3_spectrogram_FULLSIZE.png\n",
      "./datasets/spectrograms//reggae/reggae.00085.mp3_spectrogram_FULLSIZE.png\n",
      "Moved ./datasets/spectrograms//reggae.00085.mp3_spectrogram_FULLSIZE.png to ./datasets/spectrograms//reggae/reggae.00085.mp3_spectrogram_FULLSIZE.png\n",
      "./datasets/spectrograms//reggae/reggae.00090.mp3_spectrogram_FULLSIZE.png\n",
      "Moved ./datasets/spectrograms//reggae.00090.mp3_spectrogram_FULLSIZE.png to ./datasets/spectrograms//reggae/reggae.00090.mp3_spectrogram_FULLSIZE.png\n",
      "./datasets/spectrograms//hiphop/hiphop.00042.mp3_spectrogram_FULLSIZE.png\n",
      "Moved ./datasets/spectrograms//hiphop.00042.mp3_spectrogram_FULLSIZE.png to ./datasets/spectrograms//hiphop/hiphop.00042.mp3_spectrogram_FULLSIZE.png\n",
      "./datasets/spectrograms//blues/blues.00037.mp3_spectrogram_FULLSIZE.png\n",
      "Moved ./datasets/spectrograms//blues.00037.mp3_spectrogram_FULLSIZE.png to ./datasets/spectrograms//blues/blues.00037.mp3_spectrogram_FULLSIZE.png\n",
      "./datasets/spectrograms//pop/pop.00013.mp3_spectrogram_FULLSIZE.png\n",
      "Moved ./datasets/spectrograms//pop.00013.mp3_spectrogram_FULLSIZE.png to ./datasets/spectrograms//pop/pop.00013.mp3_spectrogram_FULLSIZE.png\n",
      "./datasets/spectrograms//country/country.00051.mp3_spectrogram_FULLSIZE.png\n",
      "Moved ./datasets/spectrograms//country.00051.mp3_spectrogram_FULLSIZE.png to ./datasets/spectrograms//country/country.00051.mp3_spectrogram_FULLSIZE.png\n",
      "./datasets/spectrograms//reggae/reggae.00008.mp3_spectrogram_FULLSIZE.png\n",
      "Moved ./datasets/spectrograms//reggae.00008.mp3_spectrogram_FULLSIZE.png to ./datasets/spectrograms//reggae/reggae.00008.mp3_spectrogram_FULLSIZE.png\n",
      "./datasets/spectrograms//pop/pop.00085.mp3_spectrogram_FULLSIZE.png\n",
      "Moved ./datasets/spectrograms//pop.00085.mp3_spectrogram_FULLSIZE.png to ./datasets/spectrograms//pop/pop.00085.mp3_spectrogram_FULLSIZE.png\n",
      "./datasets/spectrograms//blues/blues.00039.mp3_spectrogram_FULLSIZE.png\n",
      "Moved ./datasets/spectrograms//blues.00039.mp3_spectrogram_FULLSIZE.png to ./datasets/spectrograms//blues/blues.00039.mp3_spectrogram_FULLSIZE.png\n",
      "./datasets/spectrograms//reggae/reggae.00006.mp3_spectrogram_FULLSIZE.png\n",
      "Moved ./datasets/spectrograms//reggae.00006.mp3_spectrogram_FULLSIZE.png to ./datasets/spectrograms//reggae/reggae.00006.mp3_spectrogram_FULLSIZE.png\n",
      "./datasets/spectrograms//disco/disco.00037.mp3_spectrogram_FULLSIZE.png\n",
      "Moved ./datasets/spectrograms//disco.00037.mp3_spectrogram_FULLSIZE.png to ./datasets/spectrograms//disco/disco.00037.mp3_spectrogram_FULLSIZE.png\n",
      "./datasets/spectrograms//classical/classical.00021.mp3_spectrogram_FULLSIZE.png\n",
      "Moved ./datasets/spectrograms//classical.00021.mp3_spectrogram_FULLSIZE.png to ./datasets/spectrograms//classical/classical.00021.mp3_spectrogram_FULLSIZE.png\n",
      "./datasets/spectrograms//jazz/jazz.00021.mp3_spectrogram_FULLSIZE.png\n",
      "Moved ./datasets/spectrograms//jazz.00021.mp3_spectrogram_FULLSIZE.png to ./datasets/spectrograms//jazz/jazz.00021.mp3_spectrogram_FULLSIZE.png\n",
      "./datasets/spectrograms//disco/disco.00039.mp3_spectrogram_FULLSIZE.png\n",
      "Moved ./datasets/spectrograms//disco.00039.mp3_spectrogram_FULLSIZE.png to ./datasets/spectrograms//disco/disco.00039.mp3_spectrogram_FULLSIZE.png\n",
      "./datasets/spectrograms//rock/rock.00051.mp3_spectrogram_FULLSIZE.png\n",
      "Moved ./datasets/spectrograms//rock.00051.mp3_spectrogram_FULLSIZE.png to ./datasets/spectrograms//rock/rock.00051.mp3_spectrogram_FULLSIZE.png\n",
      "./datasets/spectrograms//metal/metal.00055.mp3_spectrogram_FULLSIZE.png\n",
      "Moved ./datasets/spectrograms//metal.00055.mp3_spectrogram_FULLSIZE.png to ./datasets/spectrograms//metal/metal.00055.mp3_spectrogram_FULLSIZE.png\n",
      "./datasets/spectrograms//blues/blues.00060.mp3_spectrogram_FULLSIZE.png\n",
      "Moved ./datasets/spectrograms//blues.00060.mp3_spectrogram_FULLSIZE.png to ./datasets/spectrograms//blues/blues.00060.mp3_spectrogram_FULLSIZE.png\n",
      "./datasets/spectrograms//hiphop/hiphop.00015.mp3_spectrogram_FULLSIZE.png\n",
      "Moved ./datasets/spectrograms//hiphop.00015.mp3_spectrogram_FULLSIZE.png to ./datasets/spectrograms//hiphop/hiphop.00015.mp3_spectrogram_FULLSIZE.png\n",
      "./datasets/spectrograms//pop/pop.00044.mp3_spectrogram_FULLSIZE.png\n",
      "Moved ./datasets/spectrograms//pop.00044.mp3_spectrogram_FULLSIZE.png to ./datasets/spectrograms//pop/pop.00044.mp3_spectrogram_FULLSIZE.png\n",
      "./datasets/spectrograms//country/country.00006.mp3_spectrogram_FULLSIZE.png\n",
      "Moved ./datasets/spectrograms//country.00006.mp3_spectrogram_FULLSIZE.png to ./datasets/spectrograms//country/country.00006.mp3_spectrogram_FULLSIZE.png\n",
      "./datasets/spectrograms//hiphop/hiphop.00083.mp3_spectrogram_FULLSIZE.png\n",
      "Moved ./datasets/spectrograms//hiphop.00083.mp3_spectrogram_FULLSIZE.png to ./datasets/spectrograms//hiphop/hiphop.00083.mp3_spectrogram_FULLSIZE.png\n",
      "./datasets/spectrograms//country/country.00090.mp3_spectrogram_FULLSIZE.png\n",
      "Moved ./datasets/spectrograms//country.00090.mp3_spectrogram_FULLSIZE.png to ./datasets/spectrograms//country/country.00090.mp3_spectrogram_FULLSIZE.png\n",
      "./datasets/spectrograms//reggae/reggae.00051.mp3_spectrogram_FULLSIZE.png\n",
      "Moved ./datasets/spectrograms//reggae.00051.mp3_spectrogram_FULLSIZE.png to ./datasets/spectrograms//reggae/reggae.00051.mp3_spectrogram_FULLSIZE.png\n",
      "./datasets/spectrograms//country/country.00008.mp3_spectrogram_FULLSIZE.png\n",
      "Moved ./datasets/spectrograms//country.00008.mp3_spectrogram_FULLSIZE.png to ./datasets/spectrograms//country/country.00008.mp3_spectrogram_FULLSIZE.png\n",
      "./datasets/spectrograms//metal/metal.00094.mp3_spectrogram_FULLSIZE.png\n",
      "Moved ./datasets/spectrograms//metal.00094.mp3_spectrogram_FULLSIZE.png to ./datasets/spectrograms//metal/metal.00094.mp3_spectrogram_FULLSIZE.png\n",
      "./datasets/spectrograms//classical/classical.00076.mp3_spectrogram_FULLSIZE.png\n",
      "Moved ./datasets/spectrograms//classical.00076.mp3_spectrogram_FULLSIZE.png to ./datasets/spectrograms//classical/classical.00076.mp3_spectrogram_FULLSIZE.png\n",
      "./datasets/spectrograms//jazz/jazz.00076.mp3_spectrogram_FULLSIZE.png\n",
      "Moved ./datasets/spectrograms//jazz.00076.mp3_spectrogram_FULLSIZE.png to ./datasets/spectrograms//jazz/jazz.00076.mp3_spectrogram_FULLSIZE.png\n",
      "./datasets/spectrograms//disco/disco.00060.mp3_spectrogram_FULLSIZE.png\n",
      "Moved ./datasets/spectrograms//disco.00060.mp3_spectrogram_FULLSIZE.png to ./datasets/spectrograms//disco/disco.00060.mp3_spectrogram_FULLSIZE.png\n",
      "./datasets/spectrograms//rock/rock.00090.mp3_spectrogram_FULLSIZE.png\n",
      "Moved ./datasets/spectrograms//rock.00090.mp3_spectrogram_FULLSIZE.png to ./datasets/spectrograms//rock/rock.00090.mp3_spectrogram_FULLSIZE.png\n",
      "./datasets/spectrograms//rock/rock.00008.mp3_spectrogram_FULLSIZE.png\n",
      "Moved ./datasets/spectrograms//rock.00008.mp3_spectrogram_FULLSIZE.png to ./datasets/spectrograms//rock/rock.00008.mp3_spectrogram_FULLSIZE.png\n",
      "./datasets/spectrograms//jazz/jazz.00078.mp3_spectrogram_FULLSIZE.png\n",
      "Moved ./datasets/spectrograms//jazz.00078.mp3_spectrogram_FULLSIZE.png to ./datasets/spectrograms//jazz/jazz.00078.mp3_spectrogram_FULLSIZE.png\n",
      "./datasets/spectrograms//classical/classical.00078.mp3_spectrogram_FULLSIZE.png\n",
      "Moved ./datasets/spectrograms//classical.00078.mp3_spectrogram_FULLSIZE.png to ./datasets/spectrograms//classical/classical.00078.mp3_spectrogram_FULLSIZE.png\n",
      "./datasets/spectrograms//metal/metal.00002.mp3_spectrogram_FULLSIZE.png\n",
      "Moved ./datasets/spectrograms//metal.00002.mp3_spectrogram_FULLSIZE.png to ./datasets/spectrograms//metal/metal.00002.mp3_spectrogram_FULLSIZE.png\n",
      "./datasets/spectrograms//rock/rock.00006.mp3_spectrogram_FULLSIZE.png\n",
      "Moved ./datasets/spectrograms//rock.00006.mp3_spectrogram_FULLSIZE.png to ./datasets/spectrograms//rock/rock.00006.mp3_spectrogram_FULLSIZE.png\n",
      "./datasets/spectrograms//rock/rock.00013.mp3_spectrogram_FULLSIZE.png\n",
      "Moved ./datasets/spectrograms//rock.00013.mp3_spectrogram_FULLSIZE.png to ./datasets/spectrograms//rock/rock.00013.mp3_spectrogram_FULLSIZE.png\n",
      "./datasets/spectrograms//metal/metal.00017.mp3_spectrogram_FULLSIZE.png\n",
      "Moved ./datasets/spectrograms//metal.00017.mp3_spectrogram_FULLSIZE.png to ./datasets/spectrograms//metal/metal.00017.mp3_spectrogram_FULLSIZE.png\n",
      "./datasets/spectrograms//metal/metal.00019.mp3_spectrogram_FULLSIZE.png\n",
      "Moved ./datasets/spectrograms//metal.00019.mp3_spectrogram_FULLSIZE.png to ./datasets/spectrograms//metal/metal.00019.mp3_spectrogram_FULLSIZE.png\n",
      "./datasets/spectrograms//rock/rock.00085.mp3_spectrogram_FULLSIZE.png\n",
      "Moved ./datasets/spectrograms//rock.00085.mp3_spectrogram_FULLSIZE.png to ./datasets/spectrograms//rock/rock.00085.mp3_spectrogram_FULLSIZE.png\n",
      "./datasets/spectrograms//disco/disco.00075.mp3_spectrogram_FULLSIZE.png\n",
      "Moved ./datasets/spectrograms//disco.00075.mp3_spectrogram_FULLSIZE.png to ./datasets/spectrograms//disco/disco.00075.mp3_spectrogram_FULLSIZE.png\n",
      "./datasets/spectrograms//metal/metal.00081.mp3_spectrogram_FULLSIZE.png\n",
      "Moved ./datasets/spectrograms//metal.00081.mp3_spectrogram_FULLSIZE.png to ./datasets/spectrograms//metal/metal.00081.mp3_spectrogram_FULLSIZE.png\n",
      "./datasets/spectrograms//jazz/jazz.00063.mp3_spectrogram_FULLSIZE.png\n",
      "Moved ./datasets/spectrograms//jazz.00063.mp3_spectrogram_FULLSIZE.png to ./datasets/spectrograms//jazz/jazz.00063.mp3_spectrogram_FULLSIZE.png\n",
      "./datasets/spectrograms//classical/classical.00063.mp3_spectrogram_FULLSIZE.png\n",
      "Moved ./datasets/spectrograms//classical.00063.mp3_spectrogram_FULLSIZE.png to ./datasets/spectrograms//classical/classical.00063.mp3_spectrogram_FULLSIZE.png\n",
      "./datasets/spectrograms//reggae/reggae.00044.mp3_spectrogram_FULLSIZE.png\n",
      "Moved ./datasets/spectrograms//reggae.00044.mp3_spectrogram_FULLSIZE.png to ./datasets/spectrograms//reggae/reggae.00044.mp3_spectrogram_FULLSIZE.png\n",
      "./datasets/spectrograms//hiphop/hiphop.00096.mp3_spectrogram_FULLSIZE.png\n",
      "Moved ./datasets/spectrograms//hiphop.00096.mp3_spectrogram_FULLSIZE.png to ./datasets/spectrograms//hiphop/hiphop.00096.mp3_spectrogram_FULLSIZE.png\n",
      "./datasets/spectrograms//country/country.00085.mp3_spectrogram_FULLSIZE.png\n",
      "Moved ./datasets/spectrograms//country.00085.mp3_spectrogram_FULLSIZE.png to ./datasets/spectrograms//country/country.00085.mp3_spectrogram_FULLSIZE.png\n",
      "./datasets/spectrograms//hiphop/hiphop.00000.mp3_spectrogram_FULLSIZE.png\n",
      "Moved ./datasets/spectrograms//hiphop.00000.mp3_spectrogram_FULLSIZE.png to ./datasets/spectrograms//hiphop/hiphop.00000.mp3_spectrogram_FULLSIZE.png\n",
      "./datasets/spectrograms//blues/blues.00075.mp3_spectrogram_FULLSIZE.png\n",
      "Moved ./datasets/spectrograms//blues.00075.mp3_spectrogram_FULLSIZE.png to ./datasets/spectrograms//blues/blues.00075.mp3_spectrogram_FULLSIZE.png\n",
      "./datasets/spectrograms//country/country.00013.mp3_spectrogram_FULLSIZE.png\n",
      "Moved ./datasets/spectrograms//country.00013.mp3_spectrogram_FULLSIZE.png to ./datasets/spectrograms//country/country.00013.mp3_spectrogram_FULLSIZE.png\n",
      "./datasets/spectrograms//pop/pop.00051.mp3_spectrogram_FULLSIZE.png\n",
      "Moved ./datasets/spectrograms//pop.00051.mp3_spectrogram_FULLSIZE.png to ./datasets/spectrograms//pop/pop.00051.mp3_spectrogram_FULLSIZE.png\n",
      "./datasets/spectrograms//hiphop/hiphop.00098.mp3_spectrogram_FULLSIZE.png\n",
      "Moved ./datasets/spectrograms//hiphop.00098.mp3_spectrogram_FULLSIZE.png to ./datasets/spectrograms//hiphop/hiphop.00098.mp3_spectrogram_FULLSIZE.png\n",
      "./datasets/spectrograms//country/country.00039.mp3_spectrogram_FULLSIZE.png\n",
      "Moved ./datasets/spectrograms//country.00039.mp3_spectrogram_FULLSIZE.png to ./datasets/spectrograms//country/country.00039.mp3_spectrogram_FULLSIZE.png\n",
      "./datasets/spectrograms//reggae/reggae.00060.mp3_spectrogram_FULLSIZE.png\n",
      "Moved ./datasets/spectrograms//reggae.00060.mp3_spectrogram_FULLSIZE.png to ./datasets/spectrograms//reggae/reggae.00060.mp3_spectrogram_FULLSIZE.png\n",
      "./datasets/spectrograms//country/country.00037.mp3_spectrogram_FULLSIZE.png\n",
      "Moved ./datasets/spectrograms//country.00037.mp3_spectrogram_FULLSIZE.png to ./datasets/spectrograms//country/country.00037.mp3_spectrogram_FULLSIZE.png\n",
      "./datasets/spectrograms//pop/pop.00075.mp3_spectrogram_FULLSIZE.png\n",
      "Moved ./datasets/spectrograms//pop.00075.mp3_spectrogram_FULLSIZE.png to ./datasets/spectrograms//pop/pop.00075.mp3_spectrogram_FULLSIZE.png\n",
      "./datasets/spectrograms//hiphop/hiphop.00024.mp3_spectrogram_FULLSIZE.png\n",
      "Moved ./datasets/spectrograms//hiphop.00024.mp3_spectrogram_FULLSIZE.png to ./datasets/spectrograms//hiphop/hiphop.00024.mp3_spectrogram_FULLSIZE.png\n",
      "./datasets/spectrograms//blues/blues.00051.mp3_spectrogram_FULLSIZE.png\n",
      "Moved ./datasets/spectrograms//blues.00051.mp3_spectrogram_FULLSIZE.png to ./datasets/spectrograms//blues/blues.00051.mp3_spectrogram_FULLSIZE.png\n",
      "./datasets/spectrograms//classical/classical.00049.mp3_spectrogram_FULLSIZE.png\n",
      "Moved ./datasets/spectrograms//classical.00049.mp3_spectrogram_FULLSIZE.png to ./datasets/spectrograms//classical/classical.00049.mp3_spectrogram_FULLSIZE.png\n",
      "./datasets/spectrograms//jazz/jazz.00049.mp3_spectrogram_FULLSIZE.png\n",
      "Moved ./datasets/spectrograms//jazz.00049.mp3_spectrogram_FULLSIZE.png to ./datasets/spectrograms//jazz/jazz.00049.mp3_spectrogram_FULLSIZE.png\n",
      "./datasets/spectrograms//rock/rock.00037.mp3_spectrogram_FULLSIZE.png\n",
      "Moved ./datasets/spectrograms//rock.00037.mp3_spectrogram_FULLSIZE.png to ./datasets/spectrograms//rock/rock.00037.mp3_spectrogram_FULLSIZE.png\n",
      "./datasets/spectrograms//metal/metal.00033.mp3_spectrogram_FULLSIZE.png\n",
      "Moved ./datasets/spectrograms//metal.00033.mp3_spectrogram_FULLSIZE.png to ./datasets/spectrograms//metal/metal.00033.mp3_spectrogram_FULLSIZE.png\n",
      "./datasets/spectrograms//disco/disco.00051.mp3_spectrogram_FULLSIZE.png\n",
      "Moved ./datasets/spectrograms//disco.00051.mp3_spectrogram_FULLSIZE.png to ./datasets/spectrograms//disco/disco.00051.mp3_spectrogram_FULLSIZE.png\n",
      "./datasets/spectrograms//jazz/jazz.00047.mp3_spectrogram_FULLSIZE.png\n",
      "Moved ./datasets/spectrograms//jazz.00047.mp3_spectrogram_FULLSIZE.png to ./datasets/spectrograms//jazz/jazz.00047.mp3_spectrogram_FULLSIZE.png\n",
      "./datasets/spectrograms//classical/classical.00047.mp3_spectrogram_FULLSIZE.png\n",
      "Moved ./datasets/spectrograms//classical.00047.mp3_spectrogram_FULLSIZE.png to ./datasets/spectrograms//classical/classical.00047.mp3_spectrogram_FULLSIZE.png\n",
      "./datasets/spectrograms//rock/rock.00039.mp3_spectrogram_FULLSIZE.png\n",
      "Moved ./datasets/spectrograms//rock.00039.mp3_spectrogram_FULLSIZE.png to ./datasets/spectrograms//rock/rock.00039.mp3_spectrogram_FULLSIZE.png\n",
      "./datasets/spectrograms//metal/metal.00028.mp3_spectrogram_FULLSIZE.png\n",
      "Moved ./datasets/spectrograms//metal.00028.mp3_spectrogram_FULLSIZE.png to ./datasets/spectrograms//metal/metal.00028.mp3_spectrogram_FULLSIZE.png\n",
      "./datasets/spectrograms//classical/classical.00052.mp3_spectrogram_FULLSIZE.png\n",
      "Moved ./datasets/spectrograms//classical.00052.mp3_spectrogram_FULLSIZE.png to ./datasets/spectrograms//classical/classical.00052.mp3_spectrogram_FULLSIZE.png\n",
      "./datasets/spectrograms//jazz/jazz.00052.mp3_spectrogram_FULLSIZE.png\n",
      "Moved ./datasets/spectrograms//jazz.00052.mp3_spectrogram_FULLSIZE.png to ./datasets/spectrograms//jazz/jazz.00052.mp3_spectrogram_FULLSIZE.png\n",
      "./datasets/spectrograms//disco/disco.00044.mp3_spectrogram_FULLSIZE.png\n",
      "Moved ./datasets/spectrograms//disco.00044.mp3_spectrogram_FULLSIZE.png to ./datasets/spectrograms//disco/disco.00044.mp3_spectrogram_FULLSIZE.png\n",
      "./datasets/spectrograms//metal/metal.00026.mp3_spectrogram_FULLSIZE.png\n",
      "Moved ./datasets/spectrograms//metal.00026.mp3_spectrogram_FULLSIZE.png to ./datasets/spectrograms//metal/metal.00026.mp3_spectrogram_FULLSIZE.png\n",
      "./datasets/spectrograms//rock/rock.00022.mp3_spectrogram_FULLSIZE.png\n",
      "Moved ./datasets/spectrograms//rock.00022.mp3_spectrogram_FULLSIZE.png to ./datasets/spectrograms//rock/rock.00022.mp3_spectrogram_FULLSIZE.png\n",
      "./datasets/spectrograms//pop/pop.00060.mp3_spectrogram_FULLSIZE.png\n",
      "Moved ./datasets/spectrograms//pop.00060.mp3_spectrogram_FULLSIZE.png to ./datasets/spectrograms//pop/pop.00060.mp3_spectrogram_FULLSIZE.png\n",
      "./datasets/spectrograms//country/country.00022.mp3_spectrogram_FULLSIZE.png\n",
      "Moved ./datasets/spectrograms//country.00022.mp3_spectrogram_FULLSIZE.png to ./datasets/spectrograms//country/country.00022.mp3_spectrogram_FULLSIZE.png\n",
      "./datasets/spectrograms//blues/blues.00044.mp3_spectrogram_FULLSIZE.png\n",
      "Moved ./datasets/spectrograms//blues.00044.mp3_spectrogram_FULLSIZE.png to ./datasets/spectrograms//blues/blues.00044.mp3_spectrogram_FULLSIZE.png\n",
      "./datasets/spectrograms//hiphop/hiphop.00031.mp3_spectrogram_FULLSIZE.png\n",
      "Moved ./datasets/spectrograms//hiphop.00031.mp3_spectrogram_FULLSIZE.png to ./datasets/spectrograms//hiphop/hiphop.00031.mp3_spectrogram_FULLSIZE.png\n",
      "./datasets/spectrograms//reggae/reggae.00075.mp3_spectrogram_FULLSIZE.png\n",
      "Moved ./datasets/spectrograms//reggae.00075.mp3_spectrogram_FULLSIZE.png to ./datasets/spectrograms//reggae/reggae.00075.mp3_spectrogram_FULLSIZE.png\n",
      "./datasets/spectrograms//pop/pop.00083.mp3_spectrogram_FULLSIZE.png\n",
      "Moved ./datasets/spectrograms//pop.00083.mp3_spectrogram_FULLSIZE.png to ./datasets/spectrograms//pop/pop.00083.mp3_spectrogram_FULLSIZE.png\n",
      "./datasets/spectrograms//reggae/reggae.00098.mp3_spectrogram_FULLSIZE.png\n",
      "Moved ./datasets/spectrograms//reggae.00098.mp3_spectrogram_FULLSIZE.png to ./datasets/spectrograms//reggae/reggae.00098.mp3_spectrogram_FULLSIZE.png\n",
      "./datasets/spectrograms//country/country.00059.mp3_spectrogram_FULLSIZE.png\n",
      "Moved ./datasets/spectrograms//country.00059.mp3_spectrogram_FULLSIZE.png to ./datasets/spectrograms//country/country.00059.mp3_spectrogram_FULLSIZE.png\n",
      "./datasets/spectrograms//reggae/reggae.00000.mp3_spectrogram_FULLSIZE.png\n",
      "Moved ./datasets/spectrograms//reggae.00000.mp3_spectrogram_FULLSIZE.png to ./datasets/spectrograms//reggae/reggae.00000.mp3_spectrogram_FULLSIZE.png\n",
      "./datasets/spectrograms//reggae/reggae.00096.mp3_spectrogram_FULLSIZE.png\n",
      "Moved ./datasets/spectrograms//reggae.00096.mp3_spectrogram_FULLSIZE.png to ./datasets/spectrograms//reggae/reggae.00096.mp3_spectrogram_FULLSIZE.png\n",
      "./datasets/spectrograms//hiphop/hiphop.00044.mp3_spectrogram_FULLSIZE.png\n",
      "Moved ./datasets/spectrograms//hiphop.00044.mp3_spectrogram_FULLSIZE.png to ./datasets/spectrograms//hiphop/hiphop.00044.mp3_spectrogram_FULLSIZE.png\n",
      "./datasets/spectrograms//blues/blues.00031.mp3_spectrogram_FULLSIZE.png\n",
      "Moved ./datasets/spectrograms//blues.00031.mp3_spectrogram_FULLSIZE.png to ./datasets/spectrograms//blues/blues.00031.mp3_spectrogram_FULLSIZE.png\n",
      "./datasets/spectrograms//country/country.00057.mp3_spectrogram_FULLSIZE.png\n",
      "Moved ./datasets/spectrograms//country.00057.mp3_spectrogram_FULLSIZE.png to ./datasets/spectrograms//country/country.00057.mp3_spectrogram_FULLSIZE.png\n",
      "./datasets/spectrograms//pop/pop.00015.mp3_spectrogram_FULLSIZE.png\n",
      "Moved ./datasets/spectrograms//pop.00015.mp3_spectrogram_FULLSIZE.png to ./datasets/spectrograms//pop/pop.00015.mp3_spectrogram_FULLSIZE.png\n",
      "./datasets/spectrograms//classical/classical.00029.mp3_spectrogram_FULLSIZE.png\n",
      "Moved ./datasets/spectrograms//classical.00029.mp3_spectrogram_FULLSIZE.png to ./datasets/spectrograms//classical/classical.00029.mp3_spectrogram_FULLSIZE.png\n",
      "./datasets/spectrograms//jazz/jazz.00029.mp3_spectrogram_FULLSIZE.png\n",
      "Moved ./datasets/spectrograms//jazz.00029.mp3_spectrogram_FULLSIZE.png to ./datasets/spectrograms//jazz/jazz.00029.mp3_spectrogram_FULLSIZE.png\n",
      "./datasets/spectrograms//rock/rock.00057.mp3_spectrogram_FULLSIZE.png\n",
      "Moved ./datasets/spectrograms//rock.00057.mp3_spectrogram_FULLSIZE.png to ./datasets/spectrograms//rock/rock.00057.mp3_spectrogram_FULLSIZE.png\n",
      "./datasets/spectrograms//metal/metal.00053.mp3_spectrogram_FULLSIZE.png\n",
      "Moved ./datasets/spectrograms//metal.00053.mp3_spectrogram_FULLSIZE.png to ./datasets/spectrograms//metal/metal.00053.mp3_spectrogram_FULLSIZE.png\n",
      "./datasets/spectrograms//disco/disco.00031.mp3_spectrogram_FULLSIZE.png\n",
      "Moved ./datasets/spectrograms//disco.00031.mp3_spectrogram_FULLSIZE.png to ./datasets/spectrograms//disco/disco.00031.mp3_spectrogram_FULLSIZE.png\n",
      "./datasets/spectrograms//jazz/jazz.00027.mp3_spectrogram_FULLSIZE.png\n",
      "Moved ./datasets/spectrograms//jazz.00027.mp3_spectrogram_FULLSIZE.png to ./datasets/spectrograms//jazz/jazz.00027.mp3_spectrogram_FULLSIZE.png\n",
      "./datasets/spectrograms//classical/classical.00027.mp3_spectrogram_FULLSIZE.png\n",
      "Moved ./datasets/spectrograms//classical.00027.mp3_spectrogram_FULLSIZE.png to ./datasets/spectrograms//classical/classical.00027.mp3_spectrogram_FULLSIZE.png\n",
      "./datasets/spectrograms//rock/rock.00059.mp3_spectrogram_FULLSIZE.png\n",
      "Moved ./datasets/spectrograms//rock.00059.mp3_spectrogram_FULLSIZE.png to ./datasets/spectrograms//rock/rock.00059.mp3_spectrogram_FULLSIZE.png\n",
      "./datasets/spectrograms//metal/metal.00048.mp3_spectrogram_FULLSIZE.png\n",
      "Moved ./datasets/spectrograms//metal.00048.mp3_spectrogram_FULLSIZE.png to ./datasets/spectrograms//metal/metal.00048.mp3_spectrogram_FULLSIZE.png\n",
      "./datasets/spectrograms//classical/classical.00032.mp3_spectrogram_FULLSIZE.png\n",
      "Moved ./datasets/spectrograms//classical.00032.mp3_spectrogram_FULLSIZE.png to ./datasets/spectrograms//classical/classical.00032.mp3_spectrogram_FULLSIZE.png\n",
      "./datasets/spectrograms//jazz/jazz.00032.mp3_spectrogram_FULLSIZE.png\n",
      "Moved ./datasets/spectrograms//jazz.00032.mp3_spectrogram_FULLSIZE.png to ./datasets/spectrograms//jazz/jazz.00032.mp3_spectrogram_FULLSIZE.png\n",
      "./datasets/spectrograms//disco/disco.00024.mp3_spectrogram_FULLSIZE.png\n",
      "Moved ./datasets/spectrograms//disco.00024.mp3_spectrogram_FULLSIZE.png to ./datasets/spectrograms//disco/disco.00024.mp3_spectrogram_FULLSIZE.png\n",
      "./datasets/spectrograms//metal/metal.00046.mp3_spectrogram_FULLSIZE.png\n",
      "Moved ./datasets/spectrograms//metal.00046.mp3_spectrogram_FULLSIZE.png to ./datasets/spectrograms//metal/metal.00046.mp3_spectrogram_FULLSIZE.png\n",
      "./datasets/spectrograms//rock/rock.00042.mp3_spectrogram_FULLSIZE.png\n",
      "Moved ./datasets/spectrograms//rock.00042.mp3_spectrogram_FULLSIZE.png to ./datasets/spectrograms//rock/rock.00042.mp3_spectrogram_FULLSIZE.png\n",
      "./datasets/spectrograms//blues/blues.00024.mp3_spectrogram_FULLSIZE.png\n",
      "Moved ./datasets/spectrograms//blues.00024.mp3_spectrogram_FULLSIZE.png to ./datasets/spectrograms//blues/blues.00024.mp3_spectrogram_FULLSIZE.png\n",
      "./datasets/spectrograms//hiphop/hiphop.00051.mp3_spectrogram_FULLSIZE.png\n",
      "Moved ./datasets/spectrograms//hiphop.00051.mp3_spectrogram_FULLSIZE.png to ./datasets/spectrograms//hiphop/hiphop.00051.mp3_spectrogram_FULLSIZE.png\n",
      "./datasets/spectrograms//pop/pop.00000.mp3_spectrogram_FULLSIZE.png\n",
      "Moved ./datasets/spectrograms//pop.00000.mp3_spectrogram_FULLSIZE.png to ./datasets/spectrograms//pop/pop.00000.mp3_spectrogram_FULLSIZE.png\n",
      "./datasets/spectrograms//country/country.00042.mp3_spectrogram_FULLSIZE.png\n",
      "Moved ./datasets/spectrograms//country.00042.mp3_spectrogram_FULLSIZE.png to ./datasets/spectrograms//country/country.00042.mp3_spectrogram_FULLSIZE.png\n",
      "./datasets/spectrograms//reggae/reggae.00083.mp3_spectrogram_FULLSIZE.png\n",
      "Moved ./datasets/spectrograms//reggae.00083.mp3_spectrogram_FULLSIZE.png to ./datasets/spectrograms//reggae/reggae.00083.mp3_spectrogram_FULLSIZE.png\n",
      "./datasets/spectrograms//pop/pop.00098.mp3_spectrogram_FULLSIZE.png\n",
      "Moved ./datasets/spectrograms//pop.00098.mp3_spectrogram_FULLSIZE.png to ./datasets/spectrograms//pop/pop.00098.mp3_spectrogram_FULLSIZE.png\n",
      "./datasets/spectrograms//reggae/reggae.00015.mp3_spectrogram_FULLSIZE.png\n",
      "Moved ./datasets/spectrograms//reggae.00015.mp3_spectrogram_FULLSIZE.png to ./datasets/spectrograms//reggae/reggae.00015.mp3_spectrogram_FULLSIZE.png\n",
      "./datasets/spectrograms//pop/pop.00096.mp3_spectrogram_FULLSIZE.png\n",
      "Moved ./datasets/spectrograms//pop.00096.mp3_spectrogram_FULLSIZE.png to ./datasets/spectrograms//pop/pop.00096.mp3_spectrogram_FULLSIZE.png\n",
      "./datasets/spectrograms//blues/blues.00098.mp3_spectrogram_FULLSIZE.png\n",
      "Moved ./datasets/spectrograms//blues.00098.mp3_spectrogram_FULLSIZE.png to ./datasets/spectrograms//blues/blues.00098.mp3_spectrogram_FULLSIZE.png\n",
      "./datasets/spectrograms//pop/pop.00024.mp3_spectrogram_FULLSIZE.png\n",
      "Moved ./datasets/spectrograms//pop.00024.mp3_spectrogram_FULLSIZE.png to ./datasets/spectrograms//pop/pop.00024.mp3_spectrogram_FULLSIZE.png\n",
      "./datasets/spectrograms//country/country.00066.mp3_spectrogram_FULLSIZE.png\n",
      "Moved ./datasets/spectrograms//country.00066.mp3_spectrogram_FULLSIZE.png to ./datasets/spectrograms//country/country.00066.mp3_spectrogram_FULLSIZE.png\n",
      "./datasets/spectrograms//blues/blues.00000.mp3_spectrogram_FULLSIZE.png\n",
      "Moved ./datasets/spectrograms//blues.00000.mp3_spectrogram_FULLSIZE.png to ./datasets/spectrograms//blues/blues.00000.mp3_spectrogram_FULLSIZE.png\n",
      "./datasets/spectrograms//hiphop/hiphop.00075.mp3_spectrogram_FULLSIZE.png\n",
      "Moved ./datasets/spectrograms//hiphop.00075.mp3_spectrogram_FULLSIZE.png to ./datasets/spectrograms//hiphop/hiphop.00075.mp3_spectrogram_FULLSIZE.png\n",
      "./datasets/spectrograms//blues/blues.00096.mp3_spectrogram_FULLSIZE.png\n",
      "Moved ./datasets/spectrograms//blues.00096.mp3_spectrogram_FULLSIZE.png to ./datasets/spectrograms//blues/blues.00096.mp3_spectrogram_FULLSIZE.png\n",
      "./datasets/spectrograms//reggae/reggae.00031.mp3_spectrogram_FULLSIZE.png\n",
      "Moved ./datasets/spectrograms//reggae.00031.mp3_spectrogram_FULLSIZE.png to ./datasets/spectrograms//reggae/reggae.00031.mp3_spectrogram_FULLSIZE.png\n",
      "./datasets/spectrograms//country/country.00068.mp3_spectrogram_FULLSIZE.png\n",
      "Moved ./datasets/spectrograms//country.00068.mp3_spectrogram_FULLSIZE.png to ./datasets/spectrograms//country/country.00068.mp3_spectrogram_FULLSIZE.png\n",
      "./datasets/spectrograms//classical/classical.00016.mp3_spectrogram_FULLSIZE.png\n",
      "Moved ./datasets/spectrograms//classical.00016.mp3_spectrogram_FULLSIZE.png to ./datasets/spectrograms//classical/classical.00016.mp3_spectrogram_FULLSIZE.png\n",
      "./datasets/spectrograms//jazz/jazz.00016.mp3_spectrogram_FULLSIZE.png\n",
      "Moved ./datasets/spectrograms//jazz.00016.mp3_spectrogram_FULLSIZE.png to ./datasets/spectrograms//jazz/jazz.00016.mp3_spectrogram_FULLSIZE.png\n",
      "./datasets/spectrograms//disco/disco.00000.mp3_spectrogram_FULLSIZE.png\n",
      "Moved ./datasets/spectrograms//disco.00000.mp3_spectrogram_FULLSIZE.png to ./datasets/spectrograms//disco/disco.00000.mp3_spectrogram_FULLSIZE.png\n",
      "./datasets/spectrograms//rock/rock.00068.mp3_spectrogram_FULLSIZE.png\n",
      "Moved ./datasets/spectrograms//rock.00068.mp3_spectrogram_FULLSIZE.png to ./datasets/spectrograms//rock/rock.00068.mp3_spectrogram_FULLSIZE.png\n",
      "./datasets/spectrograms//disco/disco.00098.mp3_spectrogram_FULLSIZE.png\n",
      "Moved ./datasets/spectrograms//disco.00098.mp3_spectrogram_FULLSIZE.png to ./datasets/spectrograms//disco/disco.00098.mp3_spectrogram_FULLSIZE.png\n",
      "./datasets/spectrograms//jazz/jazz.00018.mp3_spectrogram_FULLSIZE.png\n",
      "Moved ./datasets/spectrograms//jazz.00018.mp3_spectrogram_FULLSIZE.png to ./datasets/spectrograms//jazz/jazz.00018.mp3_spectrogram_FULLSIZE.png\n",
      "./datasets/spectrograms//classical/classical.00018.mp3_spectrogram_FULLSIZE.png\n",
      "Moved ./datasets/spectrograms//classical.00018.mp3_spectrogram_FULLSIZE.png to ./datasets/spectrograms//classical/classical.00018.mp3_spectrogram_FULLSIZE.png\n",
      "./datasets/spectrograms//classical/classical.00080.mp3_spectrogram_FULLSIZE.png\n",
      "Moved ./datasets/spectrograms//classical.00080.mp3_spectrogram_FULLSIZE.png to ./datasets/spectrograms//classical/classical.00080.mp3_spectrogram_FULLSIZE.png\n",
      "./datasets/spectrograms//jazz/jazz.00080.mp3_spectrogram_FULLSIZE.png\n",
      "Moved ./datasets/spectrograms//jazz.00080.mp3_spectrogram_FULLSIZE.png to ./datasets/spectrograms//jazz/jazz.00080.mp3_spectrogram_FULLSIZE.png\n",
      "./datasets/spectrograms//metal/metal.00062.mp3_spectrogram_FULLSIZE.png\n",
      "Moved ./datasets/spectrograms//metal.00062.mp3_spectrogram_FULLSIZE.png to ./datasets/spectrograms//metal/metal.00062.mp3_spectrogram_FULLSIZE.png\n",
      "./datasets/spectrograms//disco/disco.00096.mp3_spectrogram_FULLSIZE.png\n",
      "Moved ./datasets/spectrograms//disco.00096.mp3_spectrogram_FULLSIZE.png to ./datasets/spectrograms//disco/disco.00096.mp3_spectrogram_FULLSIZE.png\n",
      "./datasets/spectrograms//rock/rock.00066.mp3_spectrogram_FULLSIZE.png\n",
      "Moved ./datasets/spectrograms//rock.00066.mp3_spectrogram_FULLSIZE.png to ./datasets/spectrograms//rock/rock.00066.mp3_spectrogram_FULLSIZE.png\n",
      "./datasets/spectrograms//rock/rock.00073.mp3_spectrogram_FULLSIZE.png\n",
      "Moved ./datasets/spectrograms//rock.00073.mp3_spectrogram_FULLSIZE.png to ./datasets/spectrograms//rock/rock.00073.mp3_spectrogram_FULLSIZE.png\n",
      "./datasets/spectrograms//disco/disco.00083.mp3_spectrogram_FULLSIZE.png\n",
      "Moved ./datasets/spectrograms//disco.00083.mp3_spectrogram_FULLSIZE.png to ./datasets/spectrograms//disco/disco.00083.mp3_spectrogram_FULLSIZE.png\n",
      "./datasets/spectrograms//jazz/jazz.00095.mp3_spectrogram_FULLSIZE.png\n",
      "Moved ./datasets/spectrograms//jazz.00095.mp3_spectrogram_FULLSIZE.png to ./datasets/spectrograms//jazz/jazz.00095.mp3_spectrogram_FULLSIZE.png\n",
      "./datasets/spectrograms//classical/classical.00095.mp3_spectrogram_FULLSIZE.png\n",
      "Moved ./datasets/spectrograms//classical.00095.mp3_spectrogram_FULLSIZE.png to ./datasets/spectrograms//classical/classical.00095.mp3_spectrogram_FULLSIZE.png\n",
      "./datasets/spectrograms//metal/metal.00077.mp3_spectrogram_FULLSIZE.png\n",
      "Moved ./datasets/spectrograms//metal.00077.mp3_spectrogram_FULLSIZE.png to ./datasets/spectrograms//metal/metal.00077.mp3_spectrogram_FULLSIZE.png\n",
      "./datasets/spectrograms//metal/metal.00079.mp3_spectrogram_FULLSIZE.png\n",
      "Moved ./datasets/spectrograms//metal.00079.mp3_spectrogram_FULLSIZE.png to ./datasets/spectrograms//metal/metal.00079.mp3_spectrogram_FULLSIZE.png\n",
      "./datasets/spectrograms//disco/disco.00015.mp3_spectrogram_FULLSIZE.png\n",
      "Moved ./datasets/spectrograms//disco.00015.mp3_spectrogram_FULLSIZE.png to ./datasets/spectrograms//disco/disco.00015.mp3_spectrogram_FULLSIZE.png\n",
      "./datasets/spectrograms//jazz/jazz.00003.mp3_spectrogram_FULLSIZE.png\n",
      "Moved ./datasets/spectrograms//jazz.00003.mp3_spectrogram_FULLSIZE.png to ./datasets/spectrograms//jazz/jazz.00003.mp3_spectrogram_FULLSIZE.png\n",
      "./datasets/spectrograms//classical/classical.00003.mp3_spectrogram_FULLSIZE.png\n",
      "Moved ./datasets/spectrograms//classical.00003.mp3_spectrogram_FULLSIZE.png to ./datasets/spectrograms//classical/classical.00003.mp3_spectrogram_FULLSIZE.png\n",
      "./datasets/spectrograms//reggae/reggae.00024.mp3_spectrogram_FULLSIZE.png\n",
      "Moved ./datasets/spectrograms//reggae.00024.mp3_spectrogram_FULLSIZE.png to ./datasets/spectrograms//reggae/reggae.00024.mp3_spectrogram_FULLSIZE.png\n",
      "./datasets/spectrograms//blues/blues.00083.mp3_spectrogram_FULLSIZE.png\n",
      "Moved ./datasets/spectrograms//blues.00083.mp3_spectrogram_FULLSIZE.png to ./datasets/spectrograms//blues/blues.00083.mp3_spectrogram_FULLSIZE.png\n",
      "./datasets/spectrograms//country/country.00073.mp3_spectrogram_FULLSIZE.png\n",
      "Moved ./datasets/spectrograms//country.00073.mp3_spectrogram_FULLSIZE.png to ./datasets/spectrograms//country/country.00073.mp3_spectrogram_FULLSIZE.png\n",
      "./datasets/spectrograms//pop/pop.00031.mp3_spectrogram_FULLSIZE.png\n",
      "Moved ./datasets/spectrograms//pop.00031.mp3_spectrogram_FULLSIZE.png to ./datasets/spectrograms//pop/pop.00031.mp3_spectrogram_FULLSIZE.png\n",
      "./datasets/spectrograms//hiphop/hiphop.00060.mp3_spectrogram_FULLSIZE.png\n",
      "Moved ./datasets/spectrograms//hiphop.00060.mp3_spectrogram_FULLSIZE.png to ./datasets/spectrograms//hiphop/hiphop.00060.mp3_spectrogram_FULLSIZE.png\n",
      "./datasets/spectrograms//blues/blues.00015.mp3_spectrogram_FULLSIZE.png\n",
      "Moved ./datasets/spectrograms//blues.00015.mp3_spectrogram_FULLSIZE.png to ./datasets/spectrograms//blues/blues.00015.mp3_spectrogram_FULLSIZE.png\n",
      "./datasets/spectrograms//metal/metal.00020.mp3_spectrogram_FULLSIZE.png\n",
      "Moved ./datasets/spectrograms//metal.00020.mp3_spectrogram_FULLSIZE.png to ./datasets/spectrograms//metal/metal.00020.mp3_spectrogram_FULLSIZE.png\n",
      "./datasets/spectrograms//rock/rock.00024.mp3_spectrogram_FULLSIZE.png\n",
      "Moved ./datasets/spectrograms//rock.00024.mp3_spectrogram_FULLSIZE.png to ./datasets/spectrograms//rock/rock.00024.mp3_spectrogram_FULLSIZE.png\n",
      "./datasets/spectrograms//jazz/jazz.00054.mp3_spectrogram_FULLSIZE.png\n",
      "Moved ./datasets/spectrograms//jazz.00054.mp3_spectrogram_FULLSIZE.png to ./datasets/spectrograms//jazz/jazz.00054.mp3_spectrogram_FULLSIZE.png\n",
      "./datasets/spectrograms//classical/classical.00054.mp3_spectrogram_FULLSIZE.png\n",
      "Moved ./datasets/spectrograms//classical.00054.mp3_spectrogram_FULLSIZE.png to ./datasets/spectrograms//classical/classical.00054.mp3_spectrogram_FULLSIZE.png\n",
      "./datasets/spectrograms//disco/disco.00042.mp3_spectrogram_FULLSIZE.png\n",
      "Moved ./datasets/spectrograms//disco.00042.mp3_spectrogram_FULLSIZE.png to ./datasets/spectrograms//disco/disco.00042.mp3_spectrogram_FULLSIZE.png\n",
      "./datasets/spectrograms//reggae/reggae.00073.mp3_spectrogram_FULLSIZE.png\n",
      "Moved ./datasets/spectrograms//reggae.00073.mp3_spectrogram_FULLSIZE.png to ./datasets/spectrograms//reggae/reggae.00073.mp3_spectrogram_FULLSIZE.png\n",
      "./datasets/spectrograms//pop/pop.00068.mp3_spectrogram_FULLSIZE.png\n",
      "Moved ./datasets/spectrograms//pop.00068.mp3_spectrogram_FULLSIZE.png to ./datasets/spectrograms//pop/pop.00068.mp3_spectrogram_FULLSIZE.png\n",
      "./datasets/spectrograms//hiphop/hiphop.00039.mp3_spectrogram_FULLSIZE.png\n",
      "Moved ./datasets/spectrograms//hiphop.00039.mp3_spectrogram_FULLSIZE.png to ./datasets/spectrograms//hiphop/hiphop.00039.mp3_spectrogram_FULLSIZE.png\n",
      "./datasets/spectrograms//country/country.00024.mp3_spectrogram_FULLSIZE.png\n",
      "Moved ./datasets/spectrograms//country.00024.mp3_spectrogram_FULLSIZE.png to ./datasets/spectrograms//country/country.00024.mp3_spectrogram_FULLSIZE.png\n",
      "./datasets/spectrograms//pop/pop.00066.mp3_spectrogram_FULLSIZE.png\n",
      "Moved ./datasets/spectrograms//pop.00066.mp3_spectrogram_FULLSIZE.png to ./datasets/spectrograms//pop/pop.00066.mp3_spectrogram_FULLSIZE.png\n",
      "./datasets/spectrograms//blues/blues.00042.mp3_spectrogram_FULLSIZE.png\n",
      "Moved ./datasets/spectrograms//blues.00042.mp3_spectrogram_FULLSIZE.png to ./datasets/spectrograms//blues/blues.00042.mp3_spectrogram_FULLSIZE.png\n",
      "./datasets/spectrograms//hiphop/hiphop.00037.mp3_spectrogram_FULLSIZE.png\n",
      "Moved ./datasets/spectrograms//hiphop.00037.mp3_spectrogram_FULLSIZE.png to ./datasets/spectrograms//hiphop/hiphop.00037.mp3_spectrogram_FULLSIZE.png\n",
      "./datasets/spectrograms//pop/pop.00073.mp3_spectrogram_FULLSIZE.png\n",
      "Moved ./datasets/spectrograms//pop.00073.mp3_spectrogram_FULLSIZE.png to ./datasets/spectrograms//pop/pop.00073.mp3_spectrogram_FULLSIZE.png\n",
      "./datasets/spectrograms//country/country.00031.mp3_spectrogram_FULLSIZE.png\n",
      "Moved ./datasets/spectrograms//country.00031.mp3_spectrogram_FULLSIZE.png to ./datasets/spectrograms//country/country.00031.mp3_spectrogram_FULLSIZE.png\n",
      "./datasets/spectrograms//hiphop/hiphop.00022.mp3_spectrogram_FULLSIZE.png\n",
      "Moved ./datasets/spectrograms//hiphop.00022.mp3_spectrogram_FULLSIZE.png to ./datasets/spectrograms//hiphop/hiphop.00022.mp3_spectrogram_FULLSIZE.png\n",
      "./datasets/spectrograms//blues/blues.00057.mp3_spectrogram_FULLSIZE.png\n",
      "Moved ./datasets/spectrograms//blues.00057.mp3_spectrogram_FULLSIZE.png to ./datasets/spectrograms//blues/blues.00057.mp3_spectrogram_FULLSIZE.png\n",
      "./datasets/spectrograms//reggae/reggae.00068.mp3_spectrogram_FULLSIZE.png\n",
      "Moved ./datasets/spectrograms//reggae.00068.mp3_spectrogram_FULLSIZE.png to ./datasets/spectrograms//reggae/reggae.00068.mp3_spectrogram_FULLSIZE.png\n",
      "./datasets/spectrograms//blues/blues.00059.mp3_spectrogram_FULLSIZE.png\n",
      "Moved ./datasets/spectrograms//blues.00059.mp3_spectrogram_FULLSIZE.png to ./datasets/spectrograms//blues/blues.00059.mp3_spectrogram_FULLSIZE.png\n",
      "./datasets/spectrograms//reggae/reggae.00066.mp3_spectrogram_FULLSIZE.png\n",
      "Moved ./datasets/spectrograms//reggae.00066.mp3_spectrogram_FULLSIZE.png to ./datasets/spectrograms//reggae/reggae.00066.mp3_spectrogram_FULLSIZE.png\n",
      "./datasets/spectrograms//disco/disco.00057.mp3_spectrogram_FULLSIZE.png\n",
      "Moved ./datasets/spectrograms//disco.00057.mp3_spectrogram_FULLSIZE.png to ./datasets/spectrograms//disco/disco.00057.mp3_spectrogram_FULLSIZE.png\n",
      "./datasets/spectrograms//classical/classical.00041.mp3_spectrogram_FULLSIZE.png\n",
      "Moved ./datasets/spectrograms//classical.00041.mp3_spectrogram_FULLSIZE.png to ./datasets/spectrograms//classical/classical.00041.mp3_spectrogram_FULLSIZE.png\n",
      "./datasets/spectrograms//jazz/jazz.00041.mp3_spectrogram_FULLSIZE.png\n",
      "Moved ./datasets/spectrograms//jazz.00041.mp3_spectrogram_FULLSIZE.png to ./datasets/spectrograms//jazz/jazz.00041.mp3_spectrogram_FULLSIZE.png\n",
      "./datasets/spectrograms//disco/disco.00059.mp3_spectrogram_FULLSIZE.png\n",
      "Moved ./datasets/spectrograms//disco.00059.mp3_spectrogram_FULLSIZE.png to ./datasets/spectrograms//disco/disco.00059.mp3_spectrogram_FULLSIZE.png\n",
      "./datasets/spectrograms//rock/rock.00031.mp3_spectrogram_FULLSIZE.png\n",
      "Moved ./datasets/spectrograms//rock.00031.mp3_spectrogram_FULLSIZE.png to ./datasets/spectrograms//rock/rock.00031.mp3_spectrogram_FULLSIZE.png\n",
      "./datasets/spectrograms//metal/metal.00035.mp3_spectrogram_FULLSIZE.png\n",
      "Moved ./datasets/spectrograms//metal.00035.mp3_spectrogram_FULLSIZE.png to ./datasets/spectrograms//metal/metal.00035.mp3_spectrogram_FULLSIZE.png\n",
      "./datasets/spectrograms//disco/disco.00073.mp3_spectrogram_FULLSIZE.png\n",
      "Moved ./datasets/spectrograms//disco.00073.mp3_spectrogram_FULLSIZE.png to ./datasets/spectrograms//disco/disco.00073.mp3_spectrogram_FULLSIZE.png\n",
      "./datasets/spectrograms//rock/rock.00083.mp3_spectrogram_FULLSIZE.png\n"
     ]
    },
    {
     "name": "stdout",
     "output_type": "stream",
     "text": [
      "Moved ./datasets/spectrograms//rock.00083.mp3_spectrogram_FULLSIZE.png to ./datasets/spectrograms//rock/rock.00083.mp3_spectrogram_FULLSIZE.png\n",
      "./datasets/spectrograms//metal/metal.00087.mp3_spectrogram_FULLSIZE.png\n",
      "Moved ./datasets/spectrograms//metal.00087.mp3_spectrogram_FULLSIZE.png to ./datasets/spectrograms//metal/metal.00087.mp3_spectrogram_FULLSIZE.png\n",
      "./datasets/spectrograms//classical/classical.00065.mp3_spectrogram_FULLSIZE.png\n",
      "Moved ./datasets/spectrograms//classical.00065.mp3_spectrogram_FULLSIZE.png to ./datasets/spectrograms//classical/classical.00065.mp3_spectrogram_FULLSIZE.png\n",
      "./datasets/spectrograms//jazz/jazz.00065.mp3_spectrogram_FULLSIZE.png\n",
      "Moved ./datasets/spectrograms//jazz.00065.mp3_spectrogram_FULLSIZE.png to ./datasets/spectrograms//jazz/jazz.00065.mp3_spectrogram_FULLSIZE.png\n",
      "./datasets/spectrograms//rock/rock.00015.mp3_spectrogram_FULLSIZE.png\n",
      "Moved ./datasets/spectrograms//rock.00015.mp3_spectrogram_FULLSIZE.png to ./datasets/spectrograms//rock/rock.00015.mp3_spectrogram_FULLSIZE.png\n",
      "./datasets/spectrograms//metal/metal.00011.mp3_spectrogram_FULLSIZE.png\n",
      "Moved ./datasets/spectrograms//metal.00011.mp3_spectrogram_FULLSIZE.png to ./datasets/spectrograms//metal/metal.00011.mp3_spectrogram_FULLSIZE.png\n",
      "./datasets/spectrograms//metal/metal.00089.mp3_spectrogram_FULLSIZE.png\n",
      "Moved ./datasets/spectrograms//metal.00089.mp3_spectrogram_FULLSIZE.png to ./datasets/spectrograms//metal/metal.00089.mp3_spectrogram_FULLSIZE.png\n",
      "./datasets/spectrograms//hiphop/hiphop.00006.mp3_spectrogram_FULLSIZE.png\n",
      "Moved ./datasets/spectrograms//hiphop.00006.mp3_spectrogram_FULLSIZE.png to ./datasets/spectrograms//hiphop/hiphop.00006.mp3_spectrogram_FULLSIZE.png\n",
      "./datasets/spectrograms//blues/blues.00073.mp3_spectrogram_FULLSIZE.png\n",
      "Moved ./datasets/spectrograms//blues.00073.mp3_spectrogram_FULLSIZE.png to ./datasets/spectrograms//blues/blues.00073.mp3_spectrogram_FULLSIZE.png\n",
      "./datasets/spectrograms//pop/pop.00057.mp3_spectrogram_FULLSIZE.png\n",
      "Moved ./datasets/spectrograms//pop.00057.mp3_spectrogram_FULLSIZE.png to ./datasets/spectrograms//pop/pop.00057.mp3_spectrogram_FULLSIZE.png\n",
      "./datasets/spectrograms//country/country.00015.mp3_spectrogram_FULLSIZE.png\n",
      "Moved ./datasets/spectrograms//country.00015.mp3_spectrogram_FULLSIZE.png to ./datasets/spectrograms//country/country.00015.mp3_spectrogram_FULLSIZE.png\n",
      "./datasets/spectrograms//hiphop/hiphop.00008.mp3_spectrogram_FULLSIZE.png\n",
      "Moved ./datasets/spectrograms//hiphop.00008.mp3_spectrogram_FULLSIZE.png to ./datasets/spectrograms//hiphop/hiphop.00008.mp3_spectrogram_FULLSIZE.png\n",
      "./datasets/spectrograms//pop/pop.00059.mp3_spectrogram_FULLSIZE.png\n",
      "Moved ./datasets/spectrograms//pop.00059.mp3_spectrogram_FULLSIZE.png to ./datasets/spectrograms//pop/pop.00059.mp3_spectrogram_FULLSIZE.png\n",
      "./datasets/spectrograms//reggae/reggae.00042.mp3_spectrogram_FULLSIZE.png\n",
      "Moved ./datasets/spectrograms//reggae.00042.mp3_spectrogram_FULLSIZE.png to ./datasets/spectrograms//reggae/reggae.00042.mp3_spectrogram_FULLSIZE.png\n",
      "./datasets/spectrograms//hiphop/hiphop.00090.mp3_spectrogram_FULLSIZE.png\n",
      "Moved ./datasets/spectrograms//hiphop.00090.mp3_spectrogram_FULLSIZE.png to ./datasets/spectrograms//hiphop/hiphop.00090.mp3_spectrogram_FULLSIZE.png\n",
      "./datasets/spectrograms//country/country.00083.mp3_spectrogram_FULLSIZE.png\n",
      "Moved ./datasets/spectrograms//country.00083.mp3_spectrogram_FULLSIZE.png to ./datasets/spectrograms//country/country.00083.mp3_spectrogram_FULLSIZE.png\n",
      "./datasets/spectrograms//hiphop/hiphop.00085.mp3_spectrogram_FULLSIZE.png\n",
      "Moved ./datasets/spectrograms//hiphop.00085.mp3_spectrogram_FULLSIZE.png to ./datasets/spectrograms//hiphop/hiphop.00085.mp3_spectrogram_FULLSIZE.png\n",
      "./datasets/spectrograms//country/country.00096.mp3_spectrogram_FULLSIZE.png\n",
      "Moved ./datasets/spectrograms//country.00096.mp3_spectrogram_FULLSIZE.png to ./datasets/spectrograms//country/country.00096.mp3_spectrogram_FULLSIZE.png\n",
      "./datasets/spectrograms//reggae/reggae.00057.mp3_spectrogram_FULLSIZE.png\n",
      "Moved ./datasets/spectrograms//reggae.00057.mp3_spectrogram_FULLSIZE.png to ./datasets/spectrograms//reggae/reggae.00057.mp3_spectrogram_FULLSIZE.png\n",
      "./datasets/spectrograms//blues/blues.00068.mp3_spectrogram_FULLSIZE.png\n",
      "Moved ./datasets/spectrograms//blues.00068.mp3_spectrogram_FULLSIZE.png to ./datasets/spectrograms//blues/blues.00068.mp3_spectrogram_FULLSIZE.png\n",
      "./datasets/spectrograms//country/country.00098.mp3_spectrogram_FULLSIZE.png\n",
      "Moved ./datasets/spectrograms//country.00098.mp3_spectrogram_FULLSIZE.png to ./datasets/spectrograms//country/country.00098.mp3_spectrogram_FULLSIZE.png\n",
      "./datasets/spectrograms//reggae/reggae.00059.mp3_spectrogram_FULLSIZE.png\n",
      "Moved ./datasets/spectrograms//reggae.00059.mp3_spectrogram_FULLSIZE.png to ./datasets/spectrograms//reggae/reggae.00059.mp3_spectrogram_FULLSIZE.png\n",
      "./datasets/spectrograms//blues/blues.00066.mp3_spectrogram_FULLSIZE.png\n",
      "Moved ./datasets/spectrograms//blues.00066.mp3_spectrogram_FULLSIZE.png to ./datasets/spectrograms//blues/blues.00066.mp3_spectrogram_FULLSIZE.png\n",
      "./datasets/spectrograms//hiphop/hiphop.00013.mp3_spectrogram_FULLSIZE.png\n",
      "Moved ./datasets/spectrograms//hiphop.00013.mp3_spectrogram_FULLSIZE.png to ./datasets/spectrograms//hiphop/hiphop.00013.mp3_spectrogram_FULLSIZE.png\n",
      "./datasets/spectrograms//country/country.00000.mp3_spectrogram_FULLSIZE.png\n",
      "Moved ./datasets/spectrograms//country.00000.mp3_spectrogram_FULLSIZE.png to ./datasets/spectrograms//country/country.00000.mp3_spectrogram_FULLSIZE.png\n",
      "./datasets/spectrograms//pop/pop.00042.mp3_spectrogram_FULLSIZE.png\n",
      "Moved ./datasets/spectrograms//pop.00042.mp3_spectrogram_FULLSIZE.png to ./datasets/spectrograms//pop/pop.00042.mp3_spectrogram_FULLSIZE.png\n",
      "./datasets/spectrograms//disco/disco.00068.mp3_spectrogram_FULLSIZE.png\n",
      "Moved ./datasets/spectrograms//disco.00068.mp3_spectrogram_FULLSIZE.png to ./datasets/spectrograms//disco/disco.00068.mp3_spectrogram_FULLSIZE.png\n",
      "./datasets/spectrograms//rock/rock.00098.mp3_spectrogram_FULLSIZE.png\n",
      "Moved ./datasets/spectrograms//rock.00098.mp3_spectrogram_FULLSIZE.png to ./datasets/spectrograms//rock/rock.00098.mp3_spectrogram_FULLSIZE.png\n",
      "./datasets/spectrograms//metal/metal.00004.mp3_spectrogram_FULLSIZE.png\n",
      "Moved ./datasets/spectrograms//metal.00004.mp3_spectrogram_FULLSIZE.png to ./datasets/spectrograms//metal/metal.00004.mp3_spectrogram_FULLSIZE.png\n",
      "./datasets/spectrograms//rock/rock.00000.mp3_spectrogram_FULLSIZE.png\n",
      "Moved ./datasets/spectrograms//rock.00000.mp3_spectrogram_FULLSIZE.png to ./datasets/spectrograms//rock/rock.00000.mp3_spectrogram_FULLSIZE.png\n",
      "./datasets/spectrograms//metal/metal.00092.mp3_spectrogram_FULLSIZE.png\n",
      "Moved ./datasets/spectrograms//metal.00092.mp3_spectrogram_FULLSIZE.png to ./datasets/spectrograms//metal/metal.00092.mp3_spectrogram_FULLSIZE.png\n",
      "./datasets/spectrograms//jazz/jazz.00070.mp3_spectrogram_FULLSIZE.png\n",
      "Moved ./datasets/spectrograms//jazz.00070.mp3_spectrogram_FULLSIZE.png to ./datasets/spectrograms//jazz/jazz.00070.mp3_spectrogram_FULLSIZE.png\n",
      "./datasets/spectrograms//classical/classical.00070.mp3_spectrogram_FULLSIZE.png\n",
      "Moved ./datasets/spectrograms//classical.00070.mp3_spectrogram_FULLSIZE.png to ./datasets/spectrograms//classical/classical.00070.mp3_spectrogram_FULLSIZE.png\n",
      "./datasets/spectrograms//rock/rock.00096.mp3_spectrogram_FULLSIZE.png\n",
      "Moved ./datasets/spectrograms//rock.00096.mp3_spectrogram_FULLSIZE.png to ./datasets/spectrograms//rock/rock.00096.mp3_spectrogram_FULLSIZE.png\n",
      "./datasets/spectrograms//disco/disco.00066.mp3_spectrogram_FULLSIZE.png\n",
      "Moved ./datasets/spectrograms//disco.00066.mp3_spectrogram_FULLSIZE.png to ./datasets/spectrograms//disco/disco.00066.mp3_spectrogram_FULLSIZE.png\n",
      "./datasets/spectrograms//metal/metal.00038.mp3_spectrogram_FULLSIZE.png\n",
      "Moved ./datasets/spectrograms//metal.00038.mp3_spectrogram_FULLSIZE.png to ./datasets/spectrograms//metal/metal.00038.mp3_spectrogram_FULLSIZE.png\n",
      "./datasets/spectrograms//disco/disco.00054.mp3_spectrogram_FULLSIZE.png\n",
      "Moved ./datasets/spectrograms//disco.00054.mp3_spectrogram_FULLSIZE.png to ./datasets/spectrograms//disco/disco.00054.mp3_spectrogram_FULLSIZE.png\n",
      "./datasets/spectrograms//jazz/jazz.00042.mp3_spectrogram_FULLSIZE.png\n",
      "Moved ./datasets/spectrograms//jazz.00042.mp3_spectrogram_FULLSIZE.png to ./datasets/spectrograms//jazz/jazz.00042.mp3_spectrogram_FULLSIZE.png\n",
      "./datasets/spectrograms//classical/classical.00042.mp3_spectrogram_FULLSIZE.png\n",
      "Moved ./datasets/spectrograms//classical.00042.mp3_spectrogram_FULLSIZE.png to ./datasets/spectrograms//classical/classical.00042.mp3_spectrogram_FULLSIZE.png\n",
      "./datasets/spectrograms//rock/rock.00032.mp3_spectrogram_FULLSIZE.png\n",
      "Moved ./datasets/spectrograms//rock.00032.mp3_spectrogram_FULLSIZE.png to ./datasets/spectrograms//rock/rock.00032.mp3_spectrogram_FULLSIZE.png\n",
      "./datasets/spectrograms//metal/metal.00036.mp3_spectrogram_FULLSIZE.png\n",
      "Moved ./datasets/spectrograms//metal.00036.mp3_spectrogram_FULLSIZE.png to ./datasets/spectrograms//metal/metal.00036.mp3_spectrogram_FULLSIZE.png\n",
      "./datasets/spectrograms//pop/pop.00070.mp3_spectrogram_FULLSIZE.png\n",
      "Moved ./datasets/spectrograms//pop.00070.mp3_spectrogram_FULLSIZE.png to ./datasets/spectrograms//pop/pop.00070.mp3_spectrogram_FULLSIZE.png\n",
      "./datasets/spectrograms//country/country.00032.mp3_spectrogram_FULLSIZE.png\n",
      "Moved ./datasets/spectrograms//country.00032.mp3_spectrogram_FULLSIZE.png to ./datasets/spectrograms//country/country.00032.mp3_spectrogram_FULLSIZE.png\n",
      "./datasets/spectrograms//hiphop/hiphop.00021.mp3_spectrogram_FULLSIZE.png\n",
      "Moved ./datasets/spectrograms//hiphop.00021.mp3_spectrogram_FULLSIZE.png to ./datasets/spectrograms//hiphop/hiphop.00021.mp3_spectrogram_FULLSIZE.png\n",
      "./datasets/spectrograms//blues/blues.00054.mp3_spectrogram_FULLSIZE.png\n",
      "Moved ./datasets/spectrograms//blues.00054.mp3_spectrogram_FULLSIZE.png to ./datasets/spectrograms//blues/blues.00054.mp3_spectrogram_FULLSIZE.png\n",
      "./datasets/spectrograms//reggae/reggae.00065.mp3_spectrogram_FULLSIZE.png\n",
      "Moved ./datasets/spectrograms//reggae.00065.mp3_spectrogram_FULLSIZE.png to ./datasets/spectrograms//reggae/reggae.00065.mp3_spectrogram_FULLSIZE.png\n",
      "./datasets/spectrograms//reggae/reggae.00070.mp3_spectrogram_FULLSIZE.png\n",
      "Moved ./datasets/spectrograms//reggae.00070.mp3_spectrogram_FULLSIZE.png to ./datasets/spectrograms//reggae/reggae.00070.mp3_spectrogram_FULLSIZE.png\n",
      "./datasets/spectrograms//country/country.00029.mp3_spectrogram_FULLSIZE.png\n",
      "Moved ./datasets/spectrograms//country.00029.mp3_spectrogram_FULLSIZE.png to ./datasets/spectrograms//country/country.00029.mp3_spectrogram_FULLSIZE.png\n",
      "./datasets/spectrograms//country/country.00027.mp3_spectrogram_FULLSIZE.png\n",
      "Moved ./datasets/spectrograms//country.00027.mp3_spectrogram_FULLSIZE.png to ./datasets/spectrograms//country/country.00027.mp3_spectrogram_FULLSIZE.png\n",
      "./datasets/spectrograms//pop/pop.00065.mp3_spectrogram_FULLSIZE.png\n",
      "Moved ./datasets/spectrograms//pop.00065.mp3_spectrogram_FULLSIZE.png to ./datasets/spectrograms//pop/pop.00065.mp3_spectrogram_FULLSIZE.png\n",
      "./datasets/spectrograms//blues/blues.00041.mp3_spectrogram_FULLSIZE.png\n",
      "Moved ./datasets/spectrograms//blues.00041.mp3_spectrogram_FULLSIZE.png to ./datasets/spectrograms//blues/blues.00041.mp3_spectrogram_FULLSIZE.png\n",
      "./datasets/spectrograms//hiphop/hiphop.00034.mp3_spectrogram_FULLSIZE.png\n",
      "Moved ./datasets/spectrograms//hiphop.00034.mp3_spectrogram_FULLSIZE.png to ./datasets/spectrograms//hiphop/hiphop.00034.mp3_spectrogram_FULLSIZE.png\n",
      "./datasets/spectrograms//jazz/jazz.00059.mp3_spectrogram_FULLSIZE.png\n",
      "Moved ./datasets/spectrograms//jazz.00059.mp3_spectrogram_FULLSIZE.png to ./datasets/spectrograms//jazz/jazz.00059.mp3_spectrogram_FULLSIZE.png\n",
      "./datasets/spectrograms//classical/classical.00059.mp3_spectrogram_FULLSIZE.png\n",
      "Moved ./datasets/spectrograms//classical.00059.mp3_spectrogram_FULLSIZE.png to ./datasets/spectrograms//classical/classical.00059.mp3_spectrogram_FULLSIZE.png\n",
      "./datasets/spectrograms//metal/metal.00023.mp3_spectrogram_FULLSIZE.png\n",
      "Moved ./datasets/spectrograms//metal.00023.mp3_spectrogram_FULLSIZE.png to ./datasets/spectrograms//metal/metal.00023.mp3_spectrogram_FULLSIZE.png\n",
      "./datasets/spectrograms//rock/rock.00027.mp3_spectrogram_FULLSIZE.png\n",
      "Moved ./datasets/spectrograms//rock.00027.mp3_spectrogram_FULLSIZE.png to ./datasets/spectrograms//rock/rock.00027.mp3_spectrogram_FULLSIZE.png\n",
      "./datasets/spectrograms//classical/classical.00057.mp3_spectrogram_FULLSIZE.png\n",
      "Moved ./datasets/spectrograms//classical.00057.mp3_spectrogram_FULLSIZE.png to ./datasets/spectrograms//classical/classical.00057.mp3_spectrogram_FULLSIZE.png\n",
      "./datasets/spectrograms//jazz/jazz.00057.mp3_spectrogram_FULLSIZE.png\n",
      "Moved ./datasets/spectrograms//jazz.00057.mp3_spectrogram_FULLSIZE.png to ./datasets/spectrograms//jazz/jazz.00057.mp3_spectrogram_FULLSIZE.png\n",
      "./datasets/spectrograms//disco/disco.00041.mp3_spectrogram_FULLSIZE.png\n",
      "Moved ./datasets/spectrograms//disco.00041.mp3_spectrogram_FULLSIZE.png to ./datasets/spectrograms//disco/disco.00041.mp3_spectrogram_FULLSIZE.png\n",
      "./datasets/spectrograms//rock/rock.00029.mp3_spectrogram_FULLSIZE.png\n",
      "Moved ./datasets/spectrograms//rock.00029.mp3_spectrogram_FULLSIZE.png to ./datasets/spectrograms//rock/rock.00029.mp3_spectrogram_FULLSIZE.png\n",
      "./datasets/spectrograms//metal/metal.00007.mp3_spectrogram_FULLSIZE.png\n",
      "Moved ./datasets/spectrograms//metal.00007.mp3_spectrogram_FULLSIZE.png to ./datasets/spectrograms//metal/metal.00007.mp3_spectrogram_FULLSIZE.png\n",
      "./datasets/spectrograms//rock/rock.00003.mp3_spectrogram_FULLSIZE.png\n",
      "Moved ./datasets/spectrograms//rock.00003.mp3_spectrogram_FULLSIZE.png to ./datasets/spectrograms//rock/rock.00003.mp3_spectrogram_FULLSIZE.png\n",
      "./datasets/spectrograms//metal/metal.00009.mp3_spectrogram_FULLSIZE.png\n",
      "Moved ./datasets/spectrograms//metal.00009.mp3_spectrogram_FULLSIZE.png to ./datasets/spectrograms//metal/metal.00009.mp3_spectrogram_FULLSIZE.png\n",
      "./datasets/spectrograms//metal/metal.00091.mp3_spectrogram_FULLSIZE.png\n",
      "Moved ./datasets/spectrograms//metal.00091.mp3_spectrogram_FULLSIZE.png to ./datasets/spectrograms//metal/metal.00091.mp3_spectrogram_FULLSIZE.png\n",
      "./datasets/spectrograms//classical/classical.00073.mp3_spectrogram_FULLSIZE.png\n",
      "Moved ./datasets/spectrograms//classical.00073.mp3_spectrogram_FULLSIZE.png to ./datasets/spectrograms//classical/classical.00073.mp3_spectrogram_FULLSIZE.png\n",
      "./datasets/spectrograms//jazz/jazz.00073.mp3_spectrogram_FULLSIZE.png\n",
      "Moved ./datasets/spectrograms//jazz.00073.mp3_spectrogram_FULLSIZE.png to ./datasets/spectrograms//jazz/jazz.00073.mp3_spectrogram_FULLSIZE.png\n",
      "./datasets/spectrograms//disco/disco.00065.mp3_spectrogram_FULLSIZE.png\n",
      "Moved ./datasets/spectrograms//disco.00065.mp3_spectrogram_FULLSIZE.png to ./datasets/spectrograms//disco/disco.00065.mp3_spectrogram_FULLSIZE.png\n",
      "./datasets/spectrograms//rock/rock.00095.mp3_spectrogram_FULLSIZE.png\n",
      "Moved ./datasets/spectrograms//rock.00095.mp3_spectrogram_FULLSIZE.png to ./datasets/spectrograms//rock/rock.00095.mp3_spectrogram_FULLSIZE.png\n",
      "./datasets/spectrograms//reggae/reggae.00054.mp3_spectrogram_FULLSIZE.png\n",
      "Moved ./datasets/spectrograms//reggae.00054.mp3_spectrogram_FULLSIZE.png to ./datasets/spectrograms//reggae/reggae.00054.mp3_spectrogram_FULLSIZE.png\n",
      "./datasets/spectrograms//hiphop/hiphop.00086.mp3_spectrogram_FULLSIZE.png\n",
      "Moved ./datasets/spectrograms//hiphop.00086.mp3_spectrogram_FULLSIZE.png to ./datasets/spectrograms//hiphop/hiphop.00086.mp3_spectrogram_FULLSIZE.png\n",
      "./datasets/spectrograms//country/country.00095.mp3_spectrogram_FULLSIZE.png\n",
      "Moved ./datasets/spectrograms//country.00095.mp3_spectrogram_FULLSIZE.png to ./datasets/spectrograms//country/country.00095.mp3_spectrogram_FULLSIZE.png\n",
      "./datasets/spectrograms//blues/blues.00065.mp3_spectrogram_FULLSIZE.png\n",
      "Moved ./datasets/spectrograms//blues.00065.mp3_spectrogram_FULLSIZE.png to ./datasets/spectrograms//blues/blues.00065.mp3_spectrogram_FULLSIZE.png\n",
      "./datasets/spectrograms//hiphop/hiphop.00010.mp3_spectrogram_FULLSIZE.png\n",
      "Moved ./datasets/spectrograms//hiphop.00010.mp3_spectrogram_FULLSIZE.png to ./datasets/spectrograms//hiphop/hiphop.00010.mp3_spectrogram_FULLSIZE.png\n",
      "./datasets/spectrograms//country/country.00003.mp3_spectrogram_FULLSIZE.png\n",
      "Moved ./datasets/spectrograms//country.00003.mp3_spectrogram_FULLSIZE.png to ./datasets/spectrograms//country/country.00003.mp3_spectrogram_FULLSIZE.png\n",
      "./datasets/spectrograms//pop/pop.00041.mp3_spectrogram_FULLSIZE.png\n",
      "Moved ./datasets/spectrograms//pop.00041.mp3_spectrogram_FULLSIZE.png to ./datasets/spectrograms//pop/pop.00041.mp3_spectrogram_FULLSIZE.png\n",
      "./datasets/spectrograms//hiphop/hiphop.00088.mp3_spectrogram_FULLSIZE.png\n",
      "Moved ./datasets/spectrograms//hiphop.00088.mp3_spectrogram_FULLSIZE.png to ./datasets/spectrograms//hiphop/hiphop.00088.mp3_spectrogram_FULLSIZE.png\n",
      "./datasets/spectrograms//hiphop/hiphop.00005.mp3_spectrogram_FULLSIZE.png\n",
      "Moved ./datasets/spectrograms//hiphop.00005.mp3_spectrogram_FULLSIZE.png to ./datasets/spectrograms//hiphop/hiphop.00005.mp3_spectrogram_FULLSIZE.png\n",
      "./datasets/spectrograms//blues/blues.00070.mp3_spectrogram_FULLSIZE.png\n",
      "Moved ./datasets/spectrograms//blues.00070.mp3_spectrogram_FULLSIZE.png to ./datasets/spectrograms//blues/blues.00070.mp3_spectrogram_FULLSIZE.png\n",
      "./datasets/spectrograms//pop/pop.00054.mp3_spectrogram_FULLSIZE.png\n",
      "Moved ./datasets/spectrograms//pop.00054.mp3_spectrogram_FULLSIZE.png to ./datasets/spectrograms//pop/pop.00054.mp3_spectrogram_FULLSIZE.png\n",
      "./datasets/spectrograms//country/country.00016.mp3_spectrogram_FULLSIZE.png\n",
      "Moved ./datasets/spectrograms//country.00016.mp3_spectrogram_FULLSIZE.png to ./datasets/spectrograms//country/country.00016.mp3_spectrogram_FULLSIZE.png\n",
      "./datasets/spectrograms//hiphop/hiphop.00093.mp3_spectrogram_FULLSIZE.png\n",
      "Moved ./datasets/spectrograms//hiphop.00093.mp3_spectrogram_FULLSIZE.png to ./datasets/spectrograms//hiphop/hiphop.00093.mp3_spectrogram_FULLSIZE.png\n",
      "./datasets/spectrograms//country/country.00080.mp3_spectrogram_FULLSIZE.png\n",
      "Moved ./datasets/spectrograms//country.00080.mp3_spectrogram_FULLSIZE.png to ./datasets/spectrograms//country/country.00080.mp3_spectrogram_FULLSIZE.png\n",
      "./datasets/spectrograms//country/country.00018.mp3_spectrogram_FULLSIZE.png\n",
      "Moved ./datasets/spectrograms//country.00018.mp3_spectrogram_FULLSIZE.png to ./datasets/spectrograms//country/country.00018.mp3_spectrogram_FULLSIZE.png\n",
      "./datasets/spectrograms//reggae/reggae.00041.mp3_spectrogram_FULLSIZE.png\n",
      "Moved ./datasets/spectrograms//reggae.00041.mp3_spectrogram_FULLSIZE.png to ./datasets/spectrograms//reggae/reggae.00041.mp3_spectrogram_FULLSIZE.png\n",
      "./datasets/spectrograms//rock/rock.00080.mp3_spectrogram_FULLSIZE.png\n",
      "Moved ./datasets/spectrograms//rock.00080.mp3_spectrogram_FULLSIZE.png to ./datasets/spectrograms//rock/rock.00080.mp3_spectrogram_FULLSIZE.png\n",
      "./datasets/spectrograms//disco/disco.00070.mp3_spectrogram_FULLSIZE.png\n",
      "Moved ./datasets/spectrograms//disco.00070.mp3_spectrogram_FULLSIZE.png to ./datasets/spectrograms//disco/disco.00070.mp3_spectrogram_FULLSIZE.png\n",
      "./datasets/spectrograms//metal/metal.00084.mp3_spectrogram_FULLSIZE.png\n",
      "Moved ./datasets/spectrograms//metal.00084.mp3_spectrogram_FULLSIZE.png to ./datasets/spectrograms//metal/metal.00084.mp3_spectrogram_FULLSIZE.png\n",
      "./datasets/spectrograms//jazz/jazz.00066.mp3_spectrogram_FULLSIZE.png\n",
      "Moved ./datasets/spectrograms//jazz.00066.mp3_spectrogram_FULLSIZE.png to ./datasets/spectrograms//jazz/jazz.00066.mp3_spectrogram_FULLSIZE.png\n",
      "./datasets/spectrograms//classical/classical.00066.mp3_spectrogram_FULLSIZE.png\n",
      "Moved ./datasets/spectrograms//classical.00066.mp3_spectrogram_FULLSIZE.png to ./datasets/spectrograms//classical/classical.00066.mp3_spectrogram_FULLSIZE.png\n",
      "./datasets/spectrograms//rock/rock.00018.mp3_spectrogram_FULLSIZE.png\n",
      "Moved ./datasets/spectrograms//rock.00018.mp3_spectrogram_FULLSIZE.png to ./datasets/spectrograms//rock/rock.00018.mp3_spectrogram_FULLSIZE.png\n",
      "./datasets/spectrograms//classical/classical.00068.mp3_spectrogram_FULLSIZE.png\n",
      "Moved ./datasets/spectrograms//classical.00068.mp3_spectrogram_FULLSIZE.png to ./datasets/spectrograms//classical/classical.00068.mp3_spectrogram_FULLSIZE.png\n",
      "./datasets/spectrograms//jazz/jazz.00068.mp3_spectrogram_FULLSIZE.png\n",
      "Moved ./datasets/spectrograms//jazz.00068.mp3_spectrogram_FULLSIZE.png to ./datasets/spectrograms//jazz/jazz.00068.mp3_spectrogram_FULLSIZE.png\n",
      "./datasets/spectrograms//rock/rock.00016.mp3_spectrogram_FULLSIZE.png\n",
      "Moved ./datasets/spectrograms//rock.00016.mp3_spectrogram_FULLSIZE.png to ./datasets/spectrograms//rock/rock.00016.mp3_spectrogram_FULLSIZE.png\n",
      "./datasets/spectrograms//metal/metal.00012.mp3_spectrogram_FULLSIZE.png\n",
      "Moved ./datasets/spectrograms//metal.00012.mp3_spectrogram_FULLSIZE.png to ./datasets/spectrograms//metal/metal.00012.mp3_spectrogram_FULLSIZE.png\n",
      "./datasets/spectrograms//reggae/reggae.00080.mp3_spectrogram_FULLSIZE.png\n",
      "Moved ./datasets/spectrograms//reggae.00080.mp3_spectrogram_FULLSIZE.png to ./datasets/spectrograms//reggae/reggae.00080.mp3_spectrogram_FULLSIZE.png\n",
      "./datasets/spectrograms//reggae/reggae.00018.mp3_spectrogram_FULLSIZE.png\n",
      "Moved ./datasets/spectrograms//reggae.00018.mp3_spectrogram_FULLSIZE.png to ./datasets/spectrograms//reggae/reggae.00018.mp3_spectrogram_FULLSIZE.png\n",
      "./datasets/spectrograms//blues/blues.00027.mp3_spectrogram_FULLSIZE.png\n",
      "Moved ./datasets/spectrograms//blues.00027.mp3_spectrogram_FULLSIZE.png to ./datasets/spectrograms//blues/blues.00027.mp3_spectrogram_FULLSIZE.png\n",
      "./datasets/spectrograms//hiphop/hiphop.00052.mp3_spectrogram_FULLSIZE.png\n",
      "Moved ./datasets/spectrograms//hiphop.00052.mp3_spectrogram_FULLSIZE.png to ./datasets/spectrograms//hiphop/hiphop.00052.mp3_spectrogram_FULLSIZE.png\n",
      "./datasets/spectrograms//pop/pop.00003.mp3_spectrogram_FULLSIZE.png\n",
      "Moved ./datasets/spectrograms//pop.00003.mp3_spectrogram_FULLSIZE.png to ./datasets/spectrograms//pop/pop.00003.mp3_spectrogram_FULLSIZE.png\n",
      "./datasets/spectrograms//country/country.00041.mp3_spectrogram_FULLSIZE.png\n",
      "Moved ./datasets/spectrograms//country.00041.mp3_spectrogram_FULLSIZE.png to ./datasets/spectrograms//country/country.00041.mp3_spectrogram_FULLSIZE.png\n",
      "./datasets/spectrograms//pop/pop.00095.mp3_spectrogram_FULLSIZE.png\n",
      "Moved ./datasets/spectrograms//pop.00095.mp3_spectrogram_FULLSIZE.png to ./datasets/spectrograms//pop/pop.00095.mp3_spectrogram_FULLSIZE.png\n",
      "./datasets/spectrograms//reggae/reggae.00016.mp3_spectrogram_FULLSIZE.png\n",
      "Moved ./datasets/spectrograms//reggae.00016.mp3_spectrogram_FULLSIZE.png to ./datasets/spectrograms//reggae/reggae.00016.mp3_spectrogram_FULLSIZE.png\n",
      "./datasets/spectrograms//blues/blues.00029.mp3_spectrogram_FULLSIZE.png\n",
      "Moved ./datasets/spectrograms//blues.00029.mp3_spectrogram_FULLSIZE.png to ./datasets/spectrograms//blues/blues.00029.mp3_spectrogram_FULLSIZE.png\n",
      "./datasets/spectrograms//jazz/jazz.00031.mp3_spectrogram_FULLSIZE.png\n",
      "Moved ./datasets/spectrograms//jazz.00031.mp3_spectrogram_FULLSIZE.png to ./datasets/spectrograms//jazz/jazz.00031.mp3_spectrogram_FULLSIZE.png\n",
      "./datasets/spectrograms//classical/classical.00031.mp3_spectrogram_FULLSIZE.png\n",
      "Moved ./datasets/spectrograms//classical.00031.mp3_spectrogram_FULLSIZE.png to ./datasets/spectrograms//classical/classical.00031.mp3_spectrogram_FULLSIZE.png\n",
      "./datasets/spectrograms//disco/disco.00027.mp3_spectrogram_FULLSIZE.png\n",
      "Moved ./datasets/spectrograms//disco.00027.mp3_spectrogram_FULLSIZE.png to ./datasets/spectrograms//disco/disco.00027.mp3_spectrogram_FULLSIZE.png\n",
      "./datasets/spectrograms//disco/disco.00029.mp3_spectrogram_FULLSIZE.png\n",
      "Moved ./datasets/spectrograms//disco.00029.mp3_spectrogram_FULLSIZE.png to ./datasets/spectrograms//disco/disco.00029.mp3_spectrogram_FULLSIZE.png\n",
      "./datasets/spectrograms//metal/metal.00045.mp3_spectrogram_FULLSIZE.png\n",
      "Moved ./datasets/spectrograms//metal.00045.mp3_spectrogram_FULLSIZE.png to ./datasets/spectrograms//metal/metal.00045.mp3_spectrogram_FULLSIZE.png\n",
      "./datasets/spectrograms//rock/rock.00041.mp3_spectrogram_FULLSIZE.png\n",
      "Moved ./datasets/spectrograms//rock.00041.mp3_spectrogram_FULLSIZE.png to ./datasets/spectrograms//rock/rock.00041.mp3_spectrogram_FULLSIZE.png\n",
      "./datasets/spectrograms//rock/rock.00054.mp3_spectrogram_FULLSIZE.png\n",
      "Moved ./datasets/spectrograms//rock.00054.mp3_spectrogram_FULLSIZE.png to ./datasets/spectrograms//rock/rock.00054.mp3_spectrogram_FULLSIZE.png\n",
      "./datasets/spectrograms//metal/metal.00050.mp3_spectrogram_FULLSIZE.png\n",
      "Moved ./datasets/spectrograms//metal.00050.mp3_spectrogram_FULLSIZE.png to ./datasets/spectrograms//metal/metal.00050.mp3_spectrogram_FULLSIZE.png\n",
      "./datasets/spectrograms//disco/disco.00032.mp3_spectrogram_FULLSIZE.png\n",
      "Moved ./datasets/spectrograms//disco.00032.mp3_spectrogram_FULLSIZE.png to ./datasets/spectrograms//disco/disco.00032.mp3_spectrogram_FULLSIZE.png\n",
      "./datasets/spectrograms//classical/classical.00024.mp3_spectrogram_FULLSIZE.png\n",
      "Moved ./datasets/spectrograms//classical.00024.mp3_spectrogram_FULLSIZE.png to ./datasets/spectrograms//classical/classical.00024.mp3_spectrogram_FULLSIZE.png\n",
      "./datasets/spectrograms//jazz/jazz.00024.mp3_spectrogram_FULLSIZE.png\n",
      "Moved ./datasets/spectrograms//jazz.00024.mp3_spectrogram_FULLSIZE.png to ./datasets/spectrograms//jazz/jazz.00024.mp3_spectrogram_FULLSIZE.png\n",
      "./datasets/spectrograms//hiphop/hiphop.00049.mp3_spectrogram_FULLSIZE.png\n",
      "Moved ./datasets/spectrograms//hiphop.00049.mp3_spectrogram_FULLSIZE.png to ./datasets/spectrograms//hiphop/hiphop.00049.mp3_spectrogram_FULLSIZE.png\n",
      "./datasets/spectrograms//pop/pop.00018.mp3_spectrogram_FULLSIZE.png\n",
      "Moved ./datasets/spectrograms//pop.00018.mp3_spectrogram_FULLSIZE.png to ./datasets/spectrograms//pop/pop.00018.mp3_spectrogram_FULLSIZE.png\n",
      "./datasets/spectrograms//reggae/reggae.00003.mp3_spectrogram_FULLSIZE.png\n",
      "Moved ./datasets/spectrograms//reggae.00003.mp3_spectrogram_FULLSIZE.png to ./datasets/spectrograms//reggae/reggae.00003.mp3_spectrogram_FULLSIZE.png\n",
      "./datasets/spectrograms//pop/pop.00080.mp3_spectrogram_FULLSIZE.png\n",
      "Moved ./datasets/spectrograms//pop.00080.mp3_spectrogram_FULLSIZE.png to ./datasets/spectrograms//pop/pop.00080.mp3_spectrogram_FULLSIZE.png\n",
      "./datasets/spectrograms//hiphop/hiphop.00047.mp3_spectrogram_FULLSIZE.png\n",
      "Moved ./datasets/spectrograms//hiphop.00047.mp3_spectrogram_FULLSIZE.png to ./datasets/spectrograms//hiphop/hiphop.00047.mp3_spectrogram_FULLSIZE.png\n",
      "./datasets/spectrograms//blues/blues.00032.mp3_spectrogram_FULLSIZE.png\n",
      "Moved ./datasets/spectrograms//blues.00032.mp3_spectrogram_FULLSIZE.png to ./datasets/spectrograms//blues/blues.00032.mp3_spectrogram_FULLSIZE.png\n",
      "./datasets/spectrograms//country/country.00054.mp3_spectrogram_FULLSIZE.png\n",
      "Moved ./datasets/spectrograms//country.00054.mp3_spectrogram_FULLSIZE.png to ./datasets/spectrograms//country/country.00054.mp3_spectrogram_FULLSIZE.png\n",
      "./datasets/spectrograms//pop/pop.00016.mp3_spectrogram_FULLSIZE.png\n",
      "Moved ./datasets/spectrograms//pop.00016.mp3_spectrogram_FULLSIZE.png to ./datasets/spectrograms//pop/pop.00016.mp3_spectrogram_FULLSIZE.png\n",
      "./datasets/spectrograms//reggae/reggae.00095.mp3_spectrogram_FULLSIZE.png\n",
      "Moved ./datasets/spectrograms//reggae.00095.mp3_spectrogram_FULLSIZE.png to ./datasets/spectrograms//reggae/reggae.00095.mp3_spectrogram_FULLSIZE.png\n",
      "./datasets/spectrograms//blues/blues.00080.mp3_spectrogram_FULLSIZE.png\n",
      "Moved ./datasets/spectrograms//blues.00080.mp3_spectrogram_FULLSIZE.png to ./datasets/spectrograms//blues/blues.00080.mp3_spectrogram_FULLSIZE.png\n",
      "./datasets/spectrograms//blues/blues.00018.mp3_spectrogram_FULLSIZE.png\n",
      "Moved ./datasets/spectrograms//blues.00018.mp3_spectrogram_FULLSIZE.png to ./datasets/spectrograms//blues/blues.00018.mp3_spectrogram_FULLSIZE.png\n",
      "./datasets/spectrograms//reggae/reggae.00027.mp3_spectrogram_FULLSIZE.png\n",
      "Moved ./datasets/spectrograms//reggae.00027.mp3_spectrogram_FULLSIZE.png to ./datasets/spectrograms//reggae/reggae.00027.mp3_spectrogram_FULLSIZE.png\n",
      "./datasets/spectrograms//country/country.00070.mp3_spectrogram_FULLSIZE.png\n",
      "Moved ./datasets/spectrograms//country.00070.mp3_spectrogram_FULLSIZE.png to ./datasets/spectrograms//country/country.00070.mp3_spectrogram_FULLSIZE.png\n",
      "./datasets/spectrograms//pop/pop.00032.mp3_spectrogram_FULLSIZE.png\n",
      "Moved ./datasets/spectrograms//pop.00032.mp3_spectrogram_FULLSIZE.png to ./datasets/spectrograms//pop/pop.00032.mp3_spectrogram_FULLSIZE.png\n",
      "./datasets/spectrograms//hiphop/hiphop.00063.mp3_spectrogram_FULLSIZE.png\n",
      "Moved ./datasets/spectrograms//hiphop.00063.mp3_spectrogram_FULLSIZE.png to ./datasets/spectrograms//hiphop/hiphop.00063.mp3_spectrogram_FULLSIZE.png\n",
      "./datasets/spectrograms//blues/blues.00016.mp3_spectrogram_FULLSIZE.png\n",
      "Moved ./datasets/spectrograms//blues.00016.mp3_spectrogram_FULLSIZE.png to ./datasets/spectrograms//blues/blues.00016.mp3_spectrogram_FULLSIZE.png\n",
      "./datasets/spectrograms//reggae/reggae.00029.mp3_spectrogram_FULLSIZE.png\n",
      "Moved ./datasets/spectrograms//reggae.00029.mp3_spectrogram_FULLSIZE.png to ./datasets/spectrograms//reggae/reggae.00029.mp3_spectrogram_FULLSIZE.png\n",
      "./datasets/spectrograms//disco/disco.00018.mp3_spectrogram_FULLSIZE.png\n",
      "Moved ./datasets/spectrograms//disco.00018.mp3_spectrogram_FULLSIZE.png to ./datasets/spectrograms//disco/disco.00018.mp3_spectrogram_FULLSIZE.png\n",
      "./datasets/spectrograms//disco/disco.00080.mp3_spectrogram_FULLSIZE.png\n",
      "Moved ./datasets/spectrograms//disco.00080.mp3_spectrogram_FULLSIZE.png to ./datasets/spectrograms//disco/disco.00080.mp3_spectrogram_FULLSIZE.png\n",
      "./datasets/spectrograms//rock/rock.00070.mp3_spectrogram_FULLSIZE.png\n",
      "Moved ./datasets/spectrograms//rock.00070.mp3_spectrogram_FULLSIZE.png to ./datasets/spectrograms//rock/rock.00070.mp3_spectrogram_FULLSIZE.png\n",
      "./datasets/spectrograms//classical/classical.00096.mp3_spectrogram_FULLSIZE.png\n",
      "Moved ./datasets/spectrograms//classical.00096.mp3_spectrogram_FULLSIZE.png to ./datasets/spectrograms//classical/classical.00096.mp3_spectrogram_FULLSIZE.png\n",
      "./datasets/spectrograms//jazz/jazz.00096.mp3_spectrogram_FULLSIZE.png\n",
      "Moved ./datasets/spectrograms//jazz.00096.mp3_spectrogram_FULLSIZE.png to ./datasets/spectrograms//jazz/jazz.00096.mp3_spectrogram_FULLSIZE.png\n",
      "./datasets/spectrograms//metal/metal.00074.mp3_spectrogram_FULLSIZE.png\n",
      "Moved ./datasets/spectrograms//metal.00074.mp3_spectrogram_FULLSIZE.png to ./datasets/spectrograms//metal/metal.00074.mp3_spectrogram_FULLSIZE.png\n",
      "./datasets/spectrograms//disco/disco.00016.mp3_spectrogram_FULLSIZE.png\n",
      "Moved ./datasets/spectrograms//disco.00016.mp3_spectrogram_FULLSIZE.png to ./datasets/spectrograms//disco/disco.00016.mp3_spectrogram_FULLSIZE.png\n",
      "./datasets/spectrograms//classical/classical.00000.mp3_spectrogram_FULLSIZE.png\n",
      "Moved ./datasets/spectrograms//classical.00000.mp3_spectrogram_FULLSIZE.png to ./datasets/spectrograms//classical/classical.00000.mp3_spectrogram_FULLSIZE.png\n",
      "./datasets/spectrograms//jazz/jazz.00000.mp3_spectrogram_FULLSIZE.png\n",
      "Moved ./datasets/spectrograms//jazz.00000.mp3_spectrogram_FULLSIZE.png to ./datasets/spectrograms//jazz/jazz.00000.mp3_spectrogram_FULLSIZE.png\n",
      "./datasets/spectrograms//jazz/jazz.00098.mp3_spectrogram_FULLSIZE.png\n",
      "Moved ./datasets/spectrograms//jazz.00098.mp3_spectrogram_FULLSIZE.png to ./datasets/spectrograms//jazz/jazz.00098.mp3_spectrogram_FULLSIZE.png\n",
      "./datasets/spectrograms//classical/classical.00098.mp3_spectrogram_FULLSIZE.png\n",
      "Moved ./datasets/spectrograms//classical.00098.mp3_spectrogram_FULLSIZE.png to ./datasets/spectrograms//classical/classical.00098.mp3_spectrogram_FULLSIZE.png\n",
      "./datasets/spectrograms//jazz/jazz.00015.mp3_spectrogram_FULLSIZE.png\n",
      "Moved ./datasets/spectrograms//jazz.00015.mp3_spectrogram_FULLSIZE.png to ./datasets/spectrograms//jazz/jazz.00015.mp3_spectrogram_FULLSIZE.png\n",
      "./datasets/spectrograms//classical/classical.00015.mp3_spectrogram_FULLSIZE.png\n",
      "Moved ./datasets/spectrograms//classical.00015.mp3_spectrogram_FULLSIZE.png to ./datasets/spectrograms//classical/classical.00015.mp3_spectrogram_FULLSIZE.png\n",
      "./datasets/spectrograms//disco/disco.00003.mp3_spectrogram_FULLSIZE.png\n",
      "Moved ./datasets/spectrograms//disco.00003.mp3_spectrogram_FULLSIZE.png to ./datasets/spectrograms//disco/disco.00003.mp3_spectrogram_FULLSIZE.png\n",
      "./datasets/spectrograms//jazz/jazz.00083.mp3_spectrogram_FULLSIZE.png\n",
      "Moved ./datasets/spectrograms//jazz.00083.mp3_spectrogram_FULLSIZE.png to ./datasets/spectrograms//jazz/jazz.00083.mp3_spectrogram_FULLSIZE.png\n",
      "./datasets/spectrograms//classical/classical.00083.mp3_spectrogram_FULLSIZE.png\n",
      "Moved ./datasets/spectrograms//classical.00083.mp3_spectrogram_FULLSIZE.png to ./datasets/spectrograms//classical/classical.00083.mp3_spectrogram_FULLSIZE.png\n",
      "./datasets/spectrograms//metal/metal.00061.mp3_spectrogram_FULLSIZE.png\n",
      "Moved ./datasets/spectrograms//metal.00061.mp3_spectrogram_FULLSIZE.png to ./datasets/spectrograms//metal/metal.00061.mp3_spectrogram_FULLSIZE.png\n",
      "./datasets/spectrograms//rock/rock.00065.mp3_spectrogram_FULLSIZE.png\n",
      "Moved ./datasets/spectrograms//rock.00065.mp3_spectrogram_FULLSIZE.png to ./datasets/spectrograms//rock/rock.00065.mp3_spectrogram_FULLSIZE.png\n",
      "./datasets/spectrograms//disco/disco.00095.mp3_spectrogram_FULLSIZE.png\n",
      "Moved ./datasets/spectrograms//disco.00095.mp3_spectrogram_FULLSIZE.png to ./datasets/spectrograms//disco/disco.00095.mp3_spectrogram_FULLSIZE.png\n",
      "./datasets/spectrograms//pop/pop.00027.mp3_spectrogram_FULLSIZE.png\n",
      "Moved ./datasets/spectrograms//pop.00027.mp3_spectrogram_FULLSIZE.png to ./datasets/spectrograms//pop/pop.00027.mp3_spectrogram_FULLSIZE.png\n",
      "./datasets/spectrograms//country/country.00065.mp3_spectrogram_FULLSIZE.png\n",
      "Moved ./datasets/spectrograms//country.00065.mp3_spectrogram_FULLSIZE.png to ./datasets/spectrograms//country/country.00065.mp3_spectrogram_FULLSIZE.png\n",
      "./datasets/spectrograms//blues/blues.00003.mp3_spectrogram_FULLSIZE.png\n",
      "Moved ./datasets/spectrograms//blues.00003.mp3_spectrogram_FULLSIZE.png to ./datasets/spectrograms//blues/blues.00003.mp3_spectrogram_FULLSIZE.png\n",
      "./datasets/spectrograms//hiphop/hiphop.00076.mp3_spectrogram_FULLSIZE.png\n",
      "Moved ./datasets/spectrograms//hiphop.00076.mp3_spectrogram_FULLSIZE.png to ./datasets/spectrograms//hiphop/hiphop.00076.mp3_spectrogram_FULLSIZE.png\n",
      "./datasets/spectrograms//reggae/reggae.00032.mp3_spectrogram_FULLSIZE.png\n",
      "Moved ./datasets/spectrograms//reggae.00032.mp3_spectrogram_FULLSIZE.png to ./datasets/spectrograms//reggae/reggae.00032.mp3_spectrogram_FULLSIZE.png\n",
      "./datasets/spectrograms//pop/pop.00029.mp3_spectrogram_FULLSIZE.png\n",
      "Moved ./datasets/spectrograms//pop.00029.mp3_spectrogram_FULLSIZE.png to ./datasets/spectrograms//pop/pop.00029.mp3_spectrogram_FULLSIZE.png\n",
      "./datasets/spectrograms//hiphop/hiphop.00078.mp3_spectrogram_FULLSIZE.png\n",
      "Moved ./datasets/spectrograms//hiphop.00078.mp3_spectrogram_FULLSIZE.png to ./datasets/spectrograms//hiphop/hiphop.00078.mp3_spectrogram_FULLSIZE.png\n",
      "./datasets/spectrograms//blues/blues.00095.mp3_spectrogram_FULLSIZE.png\n",
      "Moved ./datasets/spectrograms//blues.00095.mp3_spectrogram_FULLSIZE.png to ./datasets/spectrograms//blues/blues.00095.mp3_spectrogram_FULLSIZE.png\n",
      "./datasets/spectrograms//country/country.00019.mp3_spectrogram_FULLSIZE.png\n",
      "Moved ./datasets/spectrograms//country.00019.mp3_spectrogram_FULLSIZE.png to ./datasets/spectrograms//country/country.00019.mp3_spectrogram_FULLSIZE.png\n",
      "./datasets/spectrograms//reggae/reggae.00040.mp3_spectrogram_FULLSIZE.png\n",
      "Moved ./datasets/spectrograms//reggae.00040.mp3_spectrogram_FULLSIZE.png to ./datasets/spectrograms//reggae/reggae.00040.mp3_spectrogram_FULLSIZE.png\n",
      "./datasets/spectrograms//hiphop/hiphop.00092.mp3_spectrogram_FULLSIZE.png\n",
      "Moved ./datasets/spectrograms//hiphop.00092.mp3_spectrogram_FULLSIZE.png to ./datasets/spectrograms//hiphop/hiphop.00092.mp3_spectrogram_FULLSIZE.png\n",
      "./datasets/spectrograms//country/country.00081.mp3_spectrogram_FULLSIZE.png\n",
      "Moved ./datasets/spectrograms//country.00081.mp3_spectrogram_FULLSIZE.png to ./datasets/spectrograms//country/country.00081.mp3_spectrogram_FULLSIZE.png\n",
      "./datasets/spectrograms//hiphop/hiphop.00004.mp3_spectrogram_FULLSIZE.png\n",
      "Moved ./datasets/spectrograms//hiphop.00004.mp3_spectrogram_FULLSIZE.png to ./datasets/spectrograms//hiphop/hiphop.00004.mp3_spectrogram_FULLSIZE.png\n",
      "./datasets/spectrograms//blues/blues.00071.mp3_spectrogram_FULLSIZE.png\n",
      "Moved ./datasets/spectrograms//blues.00071.mp3_spectrogram_FULLSIZE.png to ./datasets/spectrograms//blues/blues.00071.mp3_spectrogram_FULLSIZE.png\n",
      "./datasets/spectrograms//pop/pop.00055.mp3_spectrogram_FULLSIZE.png\n",
      "Moved ./datasets/spectrograms//pop.00055.mp3_spectrogram_FULLSIZE.png to ./datasets/spectrograms//pop/pop.00055.mp3_spectrogram_FULLSIZE.png\n",
      "./datasets/spectrograms//country/country.00017.mp3_spectrogram_FULLSIZE.png\n",
      "Moved ./datasets/spectrograms//country.00017.mp3_spectrogram_FULLSIZE.png to ./datasets/spectrograms//country/country.00017.mp3_spectrogram_FULLSIZE.png\n",
      "./datasets/spectrograms//rock/rock.00017.mp3_spectrogram_FULLSIZE.png\n",
      "Moved ./datasets/spectrograms//rock.00017.mp3_spectrogram_FULLSIZE.png to ./datasets/spectrograms//rock/rock.00017.mp3_spectrogram_FULLSIZE.png\n",
      "./datasets/spectrograms//metal/metal.00013.mp3_spectrogram_FULLSIZE.png\n",
      "Moved ./datasets/spectrograms//metal.00013.mp3_spectrogram_FULLSIZE.png to ./datasets/spectrograms//metal/metal.00013.mp3_spectrogram_FULLSIZE.png\n",
      "./datasets/spectrograms//classical/classical.00069.mp3_spectrogram_FULLSIZE.png\n",
      "Moved ./datasets/spectrograms//classical.00069.mp3_spectrogram_FULLSIZE.png to ./datasets/spectrograms//classical/classical.00069.mp3_spectrogram_FULLSIZE.png\n",
      "./datasets/spectrograms//jazz/jazz.00069.mp3_spectrogram_FULLSIZE.png\n",
      "Moved ./datasets/spectrograms//jazz.00069.mp3_spectrogram_FULLSIZE.png to ./datasets/spectrograms//jazz/jazz.00069.mp3_spectrogram_FULLSIZE.png\n",
      "./datasets/spectrograms//rock/rock.00019.mp3_spectrogram_FULLSIZE.png\n",
      "Moved ./datasets/spectrograms//rock.00019.mp3_spectrogram_FULLSIZE.png to ./datasets/spectrograms//rock/rock.00019.mp3_spectrogram_FULLSIZE.png\n",
      "./datasets/spectrograms//rock/rock.00081.mp3_spectrogram_FULLSIZE.png\n",
      "Moved ./datasets/spectrograms//rock.00081.mp3_spectrogram_FULLSIZE.png to ./datasets/spectrograms//rock/rock.00081.mp3_spectrogram_FULLSIZE.png\n",
      "./datasets/spectrograms//disco/disco.00071.mp3_spectrogram_FULLSIZE.png\n",
      "Moved ./datasets/spectrograms//disco.00071.mp3_spectrogram_FULLSIZE.png to ./datasets/spectrograms//disco/disco.00071.mp3_spectrogram_FULLSIZE.png\n",
      "./datasets/spectrograms//metal/metal.00085.mp3_spectrogram_FULLSIZE.png\n",
      "Moved ./datasets/spectrograms//metal.00085.mp3_spectrogram_FULLSIZE.png to ./datasets/spectrograms//metal/metal.00085.mp3_spectrogram_FULLSIZE.png\n",
      "./datasets/spectrograms//jazz/jazz.00067.mp3_spectrogram_FULLSIZE.png\n",
      "Moved ./datasets/spectrograms//jazz.00067.mp3_spectrogram_FULLSIZE.png to ./datasets/spectrograms//jazz/jazz.00067.mp3_spectrogram_FULLSIZE.png\n",
      "./datasets/spectrograms//classical/classical.00067.mp3_spectrogram_FULLSIZE.png\n",
      "Moved ./datasets/spectrograms//classical.00067.mp3_spectrogram_FULLSIZE.png to ./datasets/spectrograms//classical/classical.00067.mp3_spectrogram_FULLSIZE.png\n",
      "./datasets/spectrograms//metal/metal.00090.mp3_spectrogram_FULLSIZE.png\n",
      "Moved ./datasets/spectrograms//metal.00090.mp3_spectrogram_FULLSIZE.png to ./datasets/spectrograms//metal/metal.00090.mp3_spectrogram_FULLSIZE.png\n",
      "./datasets/spectrograms//classical/classical.00072.mp3_spectrogram_FULLSIZE.png\n",
      "Moved ./datasets/spectrograms//classical.00072.mp3_spectrogram_FULLSIZE.png to ./datasets/spectrograms//classical/classical.00072.mp3_spectrogram_FULLSIZE.png\n",
      "./datasets/spectrograms//jazz/jazz.00072.mp3_spectrogram_FULLSIZE.png\n",
      "Moved ./datasets/spectrograms//jazz.00072.mp3_spectrogram_FULLSIZE.png to ./datasets/spectrograms//jazz/jazz.00072.mp3_spectrogram_FULLSIZE.png\n",
      "./datasets/spectrograms//disco/disco.00064.mp3_spectrogram_FULLSIZE.png\n",
      "Moved ./datasets/spectrograms//disco.00064.mp3_spectrogram_FULLSIZE.png to ./datasets/spectrograms//disco/disco.00064.mp3_spectrogram_FULLSIZE.png\n",
      "./datasets/spectrograms//rock/rock.00094.mp3_spectrogram_FULLSIZE.png\n",
      "Moved ./datasets/spectrograms//rock.00094.mp3_spectrogram_FULLSIZE.png to ./datasets/spectrograms//rock/rock.00094.mp3_spectrogram_FULLSIZE.png\n",
      "./datasets/spectrograms//metal/metal.00008.mp3_spectrogram_FULLSIZE.png\n",
      "Moved ./datasets/spectrograms//metal.00008.mp3_spectrogram_FULLSIZE.png to ./datasets/spectrograms//metal/metal.00008.mp3_spectrogram_FULLSIZE.png\n",
      "./datasets/spectrograms//metal/metal.00006.mp3_spectrogram_FULLSIZE.png\n",
      "Moved ./datasets/spectrograms//metal.00006.mp3_spectrogram_FULLSIZE.png to ./datasets/spectrograms//metal/metal.00006.mp3_spectrogram_FULLSIZE.png\n",
      "./datasets/spectrograms//rock/rock.00002.mp3_spectrogram_FULLSIZE.png\n",
      "Moved ./datasets/spectrograms//rock.00002.mp3_spectrogram_FULLSIZE.png to ./datasets/spectrograms//rock/rock.00002.mp3_spectrogram_FULLSIZE.png\n",
      "./datasets/spectrograms//hiphop/hiphop.00089.mp3_spectrogram_FULLSIZE.png\n",
      "Moved ./datasets/spectrograms//hiphop.00089.mp3_spectrogram_FULLSIZE.png to ./datasets/spectrograms//hiphop/hiphop.00089.mp3_spectrogram_FULLSIZE.png\n",
      "./datasets/spectrograms//blues/blues.00064.mp3_spectrogram_FULLSIZE.png\n",
      "Moved ./datasets/spectrograms//blues.00064.mp3_spectrogram_FULLSIZE.png to ./datasets/spectrograms//blues/blues.00064.mp3_spectrogram_FULLSIZE.png\n",
      "./datasets/spectrograms//hiphop/hiphop.00011.mp3_spectrogram_FULLSIZE.png\n",
      "Moved ./datasets/spectrograms//hiphop.00011.mp3_spectrogram_FULLSIZE.png to ./datasets/spectrograms//hiphop/hiphop.00011.mp3_spectrogram_FULLSIZE.png\n",
      "./datasets/spectrograms//country/country.00002.mp3_spectrogram_FULLSIZE.png\n",
      "Moved ./datasets/spectrograms//country.00002.mp3_spectrogram_FULLSIZE.png to ./datasets/spectrograms//country/country.00002.mp3_spectrogram_FULLSIZE.png\n",
      "./datasets/spectrograms//pop/pop.00040.mp3_spectrogram_FULLSIZE.png\n",
      "Moved ./datasets/spectrograms//pop.00040.mp3_spectrogram_FULLSIZE.png to ./datasets/spectrograms//pop/pop.00040.mp3_spectrogram_FULLSIZE.png\n",
      "./datasets/spectrograms//hiphop/hiphop.00087.mp3_spectrogram_FULLSIZE.png\n",
      "Moved ./datasets/spectrograms//hiphop.00087.mp3_spectrogram_FULLSIZE.png to ./datasets/spectrograms//hiphop/hiphop.00087.mp3_spectrogram_FULLSIZE.png\n",
      "./datasets/spectrograms//country/country.00094.mp3_spectrogram_FULLSIZE.png\n",
      "Moved ./datasets/spectrograms//country.00094.mp3_spectrogram_FULLSIZE.png to ./datasets/spectrograms//country/country.00094.mp3_spectrogram_FULLSIZE.png\n",
      "./datasets/spectrograms//reggae/reggae.00055.mp3_spectrogram_FULLSIZE.png\n",
      "Moved ./datasets/spectrograms//reggae.00055.mp3_spectrogram_FULLSIZE.png to ./datasets/spectrograms//reggae/reggae.00055.mp3_spectrogram_FULLSIZE.png\n",
      "./datasets/spectrograms//country/country.00026.mp3_spectrogram_FULLSIZE.png\n",
      "Moved ./datasets/spectrograms//country.00026.mp3_spectrogram_FULLSIZE.png to ./datasets/spectrograms//country/country.00026.mp3_spectrogram_FULLSIZE.png\n",
      "./datasets/spectrograms//pop/pop.00064.mp3_spectrogram_FULLSIZE.png\n",
      "Moved ./datasets/spectrograms//pop.00064.mp3_spectrogram_FULLSIZE.png to ./datasets/spectrograms//pop/pop.00064.mp3_spectrogram_FULLSIZE.png\n",
      "./datasets/spectrograms//blues/blues.00040.mp3_spectrogram_FULLSIZE.png\n",
      "Moved ./datasets/spectrograms//blues.00040.mp3_spectrogram_FULLSIZE.png to ./datasets/spectrograms//blues/blues.00040.mp3_spectrogram_FULLSIZE.png\n",
      "./datasets/spectrograms//hiphop/hiphop.00035.mp3_spectrogram_FULLSIZE.png\n",
      "Moved ./datasets/spectrograms//hiphop.00035.mp3_spectrogram_FULLSIZE.png to ./datasets/spectrograms//hiphop/hiphop.00035.mp3_spectrogram_FULLSIZE.png\n",
      "./datasets/spectrograms//reggae/reggae.00071.mp3_spectrogram_FULLSIZE.png\n",
      "Moved ./datasets/spectrograms//reggae.00071.mp3_spectrogram_FULLSIZE.png to ./datasets/spectrograms//reggae/reggae.00071.mp3_spectrogram_FULLSIZE.png\n",
      "./datasets/spectrograms//country/country.00028.mp3_spectrogram_FULLSIZE.png\n",
      "Moved ./datasets/spectrograms//country.00028.mp3_spectrogram_FULLSIZE.png to ./datasets/spectrograms//country/country.00028.mp3_spectrogram_FULLSIZE.png\n",
      "./datasets/spectrograms//rock/rock.00028.mp3_spectrogram_FULLSIZE.png\n",
      "Moved ./datasets/spectrograms//rock.00028.mp3_spectrogram_FULLSIZE.png to ./datasets/spectrograms//rock/rock.00028.mp3_spectrogram_FULLSIZE.png\n",
      "./datasets/spectrograms//classical/classical.00056.mp3_spectrogram_FULLSIZE.png\n",
      "Moved ./datasets/spectrograms//classical.00056.mp3_spectrogram_FULLSIZE.png to ./datasets/spectrograms//classical/classical.00056.mp3_spectrogram_FULLSIZE.png\n",
      "./datasets/spectrograms//jazz/jazz.00056.mp3_spectrogram_FULLSIZE.png\n",
      "Moved ./datasets/spectrograms//jazz.00056.mp3_spectrogram_FULLSIZE.png to ./datasets/spectrograms//jazz/jazz.00056.mp3_spectrogram_FULLSIZE.png\n",
      "./datasets/spectrograms//disco/disco.00040.mp3_spectrogram_FULLSIZE.png\n",
      "Moved ./datasets/spectrograms//disco.00040.mp3_spectrogram_FULLSIZE.png to ./datasets/spectrograms//disco/disco.00040.mp3_spectrogram_FULLSIZE.png\n",
      "./datasets/spectrograms//metal/metal.00022.mp3_spectrogram_FULLSIZE.png\n",
      "Moved ./datasets/spectrograms//metal.00022.mp3_spectrogram_FULLSIZE.png to ./datasets/spectrograms//metal/metal.00022.mp3_spectrogram_FULLSIZE.png\n",
      "./datasets/spectrograms//rock/rock.00026.mp3_spectrogram_FULLSIZE.png\n",
      "Moved ./datasets/spectrograms//rock.00026.mp3_spectrogram_FULLSIZE.png to ./datasets/spectrograms//rock/rock.00026.mp3_spectrogram_FULLSIZE.png\n",
      "./datasets/spectrograms//jazz/jazz.00058.mp3_spectrogram_FULLSIZE.png\n",
      "Moved ./datasets/spectrograms//jazz.00058.mp3_spectrogram_FULLSIZE.png to ./datasets/spectrograms//jazz/jazz.00058.mp3_spectrogram_FULLSIZE.png\n",
      "./datasets/spectrograms//classical/classical.00058.mp3_spectrogram_FULLSIZE.png\n",
      "Moved ./datasets/spectrograms//classical.00058.mp3_spectrogram_FULLSIZE.png to ./datasets/spectrograms//classical/classical.00058.mp3_spectrogram_FULLSIZE.png\n",
      "./datasets/spectrograms//rock/rock.00033.mp3_spectrogram_FULLSIZE.png\n",
      "Moved ./datasets/spectrograms//rock.00033.mp3_spectrogram_FULLSIZE.png to ./datasets/spectrograms//rock/rock.00033.mp3_spectrogram_FULLSIZE.png\n",
      "./datasets/spectrograms//metal/metal.00037.mp3_spectrogram_FULLSIZE.png\n",
      "Moved ./datasets/spectrograms//metal.00037.mp3_spectrogram_FULLSIZE.png to ./datasets/spectrograms//metal/metal.00037.mp3_spectrogram_FULLSIZE.png\n",
      "./datasets/spectrograms//disco/disco.00055.mp3_spectrogram_FULLSIZE.png\n",
      "Moved ./datasets/spectrograms//disco.00055.mp3_spectrogram_FULLSIZE.png to ./datasets/spectrograms//disco/disco.00055.mp3_spectrogram_FULLSIZE.png\n",
      "./datasets/spectrograms//jazz/jazz.00043.mp3_spectrogram_FULLSIZE.png\n",
      "Moved ./datasets/spectrograms//jazz.00043.mp3_spectrogram_FULLSIZE.png to ./datasets/spectrograms//jazz/jazz.00043.mp3_spectrogram_FULLSIZE.png\n",
      "./datasets/spectrograms//classical/classical.00043.mp3_spectrogram_FULLSIZE.png\n",
      "Moved ./datasets/spectrograms//classical.00043.mp3_spectrogram_FULLSIZE.png to ./datasets/spectrograms//classical/classical.00043.mp3_spectrogram_FULLSIZE.png\n",
      "./datasets/spectrograms//metal/metal.00039.mp3_spectrogram_FULLSIZE.png\n",
      "Moved ./datasets/spectrograms//metal.00039.mp3_spectrogram_FULLSIZE.png to ./datasets/spectrograms//metal/metal.00039.mp3_spectrogram_FULLSIZE.png\n",
      "./datasets/spectrograms//reggae/reggae.00064.mp3_spectrogram_FULLSIZE.png\n",
      "Moved ./datasets/spectrograms//reggae.00064.mp3_spectrogram_FULLSIZE.png to ./datasets/spectrograms//reggae/reggae.00064.mp3_spectrogram_FULLSIZE.png\n",
      "./datasets/spectrograms//pop/pop.00071.mp3_spectrogram_FULLSIZE.png\n",
      "Moved ./datasets/spectrograms//pop.00071.mp3_spectrogram_FULLSIZE.png to ./datasets/spectrograms//pop/pop.00071.mp3_spectrogram_FULLSIZE.png\n",
      "./datasets/spectrograms//country/country.00033.mp3_spectrogram_FULLSIZE.png\n",
      "Moved ./datasets/spectrograms//country.00033.mp3_spectrogram_FULLSIZE.png to ./datasets/spectrograms//country/country.00033.mp3_spectrogram_FULLSIZE.png\n",
      "./datasets/spectrograms//hiphop/hiphop.00020.mp3_spectrogram_FULLSIZE.png\n",
      "Moved ./datasets/spectrograms//hiphop.00020.mp3_spectrogram_FULLSIZE.png to ./datasets/spectrograms//hiphop/hiphop.00020.mp3_spectrogram_FULLSIZE.png\n",
      "./datasets/spectrograms//blues/blues.00055.mp3_spectrogram_FULLSIZE.png\n",
      "Moved ./datasets/spectrograms//blues.00055.mp3_spectrogram_FULLSIZE.png to ./datasets/spectrograms//blues/blues.00055.mp3_spectrogram_FULLSIZE.png\n",
      "./datasets/spectrograms//jazz/jazz.00082.mp3_spectrogram_FULLSIZE.png\n",
      "Moved ./datasets/spectrograms//jazz.00082.mp3_spectrogram_FULLSIZE.png to ./datasets/spectrograms//jazz/jazz.00082.mp3_spectrogram_FULLSIZE.png\n",
      "./datasets/spectrograms//classical/classical.00082.mp3_spectrogram_FULLSIZE.png\n",
      "Moved ./datasets/spectrograms//classical.00082.mp3_spectrogram_FULLSIZE.png to ./datasets/spectrograms//classical/classical.00082.mp3_spectrogram_FULLSIZE.png\n",
      "./datasets/spectrograms//metal/metal.00060.mp3_spectrogram_FULLSIZE.png\n",
      "Moved ./datasets/spectrograms//metal.00060.mp3_spectrogram_FULLSIZE.png to ./datasets/spectrograms//metal/metal.00060.mp3_spectrogram_FULLSIZE.png\n",
      "./datasets/spectrograms//rock/rock.00064.mp3_spectrogram_FULLSIZE.png\n",
      "Moved ./datasets/spectrograms//rock.00064.mp3_spectrogram_FULLSIZE.png to ./datasets/spectrograms//rock/rock.00064.mp3_spectrogram_FULLSIZE.png\n",
      "./datasets/spectrograms//disco/disco.00094.mp3_spectrogram_FULLSIZE.png\n",
      "Moved ./datasets/spectrograms//disco.00094.mp3_spectrogram_FULLSIZE.png to ./datasets/spectrograms//disco/disco.00094.mp3_spectrogram_FULLSIZE.png\n",
      "./datasets/spectrograms//jazz/jazz.00014.mp3_spectrogram_FULLSIZE.png\n",
      "Moved ./datasets/spectrograms//jazz.00014.mp3_spectrogram_FULLSIZE.png to ./datasets/spectrograms//jazz/jazz.00014.mp3_spectrogram_FULLSIZE.png\n",
      "./datasets/spectrograms//classical/classical.00014.mp3_spectrogram_FULLSIZE.png\n",
      "Moved ./datasets/spectrograms//classical.00014.mp3_spectrogram_FULLSIZE.png to ./datasets/spectrograms//classical/classical.00014.mp3_spectrogram_FULLSIZE.png\n",
      "./datasets/spectrograms//disco/disco.00002.mp3_spectrogram_FULLSIZE.png\n",
      "Moved ./datasets/spectrograms//disco.00002.mp3_spectrogram_FULLSIZE.png to ./datasets/spectrograms//disco/disco.00002.mp3_spectrogram_FULLSIZE.png\n",
      "./datasets/spectrograms//blues/blues.00094.mp3_spectrogram_FULLSIZE.png\n",
      "Moved ./datasets/spectrograms//blues.00094.mp3_spectrogram_FULLSIZE.png to ./datasets/spectrograms//blues/blues.00094.mp3_spectrogram_FULLSIZE.png\n",
      "./datasets/spectrograms//reggae/reggae.00033.mp3_spectrogram_FULLSIZE.png\n",
      "Moved ./datasets/spectrograms//reggae.00033.mp3_spectrogram_FULLSIZE.png to ./datasets/spectrograms//reggae/reggae.00033.mp3_spectrogram_FULLSIZE.png\n",
      "./datasets/spectrograms//pop/pop.00028.mp3_spectrogram_FULLSIZE.png\n",
      "Moved ./datasets/spectrograms//pop.00028.mp3_spectrogram_FULLSIZE.png to ./datasets/spectrograms//pop/pop.00028.mp3_spectrogram_FULLSIZE.png\n",
      "./datasets/spectrograms//hiphop/hiphop.00079.mp3_spectrogram_FULLSIZE.png\n",
      "Moved ./datasets/spectrograms//hiphop.00079.mp3_spectrogram_FULLSIZE.png to ./datasets/spectrograms//hiphop/hiphop.00079.mp3_spectrogram_FULLSIZE.png\n",
      "./datasets/spectrograms//pop/pop.00026.mp3_spectrogram_FULLSIZE.png\n",
      "Moved ./datasets/spectrograms//pop.00026.mp3_spectrogram_FULLSIZE.png to ./datasets/spectrograms//pop/pop.00026.mp3_spectrogram_FULLSIZE.png\n",
      "./datasets/spectrograms//country/country.00064.mp3_spectrogram_FULLSIZE.png\n",
      "Moved ./datasets/spectrograms//country.00064.mp3_spectrogram_FULLSIZE.png to ./datasets/spectrograms//country/country.00064.mp3_spectrogram_FULLSIZE.png\n",
      "./datasets/spectrograms//blues/blues.00002.mp3_spectrogram_FULLSIZE.png\n",
      "Moved ./datasets/spectrograms//blues.00002.mp3_spectrogram_FULLSIZE.png to ./datasets/spectrograms//blues/blues.00002.mp3_spectrogram_FULLSIZE.png\n",
      "./datasets/spectrograms//hiphop/hiphop.00077.mp3_spectrogram_FULLSIZE.png\n",
      "Moved ./datasets/spectrograms//hiphop.00077.mp3_spectrogram_FULLSIZE.png to ./datasets/spectrograms//hiphop/hiphop.00077.mp3_spectrogram_FULLSIZE.png\n",
      "./datasets/spectrograms//country/country.00071.mp3_spectrogram_FULLSIZE.png\n",
      "Moved ./datasets/spectrograms//country.00071.mp3_spectrogram_FULLSIZE.png to ./datasets/spectrograms//country/country.00071.mp3_spectrogram_FULLSIZE.png\n",
      "./datasets/spectrograms//pop/pop.00033.mp3_spectrogram_FULLSIZE.png\n",
      "Moved ./datasets/spectrograms//pop.00033.mp3_spectrogram_FULLSIZE.png to ./datasets/spectrograms//pop/pop.00033.mp3_spectrogram_FULLSIZE.png\n",
      "./datasets/spectrograms//hiphop/hiphop.00062.mp3_spectrogram_FULLSIZE.png\n",
      "Moved ./datasets/spectrograms//hiphop.00062.mp3_spectrogram_FULLSIZE.png to ./datasets/spectrograms//hiphop/hiphop.00062.mp3_spectrogram_FULLSIZE.png\n",
      "./datasets/spectrograms//blues/blues.00017.mp3_spectrogram_FULLSIZE.png\n",
      "Moved ./datasets/spectrograms//blues.00017.mp3_spectrogram_FULLSIZE.png to ./datasets/spectrograms//blues/blues.00017.mp3_spectrogram_FULLSIZE.png\n",
      "./datasets/spectrograms//reggae/reggae.00028.mp3_spectrogram_FULLSIZE.png\n",
      "Moved ./datasets/spectrograms//reggae.00028.mp3_spectrogram_FULLSIZE.png to ./datasets/spectrograms//reggae/reggae.00028.mp3_spectrogram_FULLSIZE.png\n",
      "./datasets/spectrograms//blues/blues.00019.mp3_spectrogram_FULLSIZE.png\n",
      "Moved ./datasets/spectrograms//blues.00019.mp3_spectrogram_FULLSIZE.png to ./datasets/spectrograms//blues/blues.00019.mp3_spectrogram_FULLSIZE.png\n",
      "./datasets/spectrograms//reggae/reggae.00026.mp3_spectrogram_FULLSIZE.png\n",
      "Moved ./datasets/spectrograms//reggae.00026.mp3_spectrogram_FULLSIZE.png to ./datasets/spectrograms//reggae/reggae.00026.mp3_spectrogram_FULLSIZE.png\n",
      "./datasets/spectrograms//blues/blues.00081.mp3_spectrogram_FULLSIZE.png\n",
      "Moved ./datasets/spectrograms//blues.00081.mp3_spectrogram_FULLSIZE.png to ./datasets/spectrograms//blues/blues.00081.mp3_spectrogram_FULLSIZE.png\n",
      "./datasets/spectrograms//jazz/jazz.00099.mp3_spectrogram_FULLSIZE.png\n",
      "Moved ./datasets/spectrograms//jazz.00099.mp3_spectrogram_FULLSIZE.png to ./datasets/spectrograms//jazz/jazz.00099.mp3_spectrogram_FULLSIZE.png\n",
      "./datasets/spectrograms//classical/classical.00099.mp3_spectrogram_FULLSIZE.png\n",
      "Moved ./datasets/spectrograms//classical.00099.mp3_spectrogram_FULLSIZE.png to ./datasets/spectrograms//classical/classical.00099.mp3_spectrogram_FULLSIZE.png\n",
      "./datasets/spectrograms//disco/disco.00017.mp3_spectrogram_FULLSIZE.png\n",
      "Moved ./datasets/spectrograms//disco.00017.mp3_spectrogram_FULLSIZE.png to ./datasets/spectrograms//disco/disco.00017.mp3_spectrogram_FULLSIZE.png\n",
      "./datasets/spectrograms//classical/classical.00001.mp3_spectrogram_FULLSIZE.png\n",
      "Moved ./datasets/spectrograms//classical.00001.mp3_spectrogram_FULLSIZE.png to ./datasets/spectrograms//classical/classical.00001.mp3_spectrogram_FULLSIZE.png\n",
      "./datasets/spectrograms//jazz/jazz.00001.mp3_spectrogram_FULLSIZE.png\n",
      "Moved ./datasets/spectrograms//jazz.00001.mp3_spectrogram_FULLSIZE.png to ./datasets/spectrograms//jazz/jazz.00001.mp3_spectrogram_FULLSIZE.png\n",
      "./datasets/spectrograms//disco/disco.00081.mp3_spectrogram_FULLSIZE.png\n",
      "Moved ./datasets/spectrograms//disco.00081.mp3_spectrogram_FULLSIZE.png to ./datasets/spectrograms//disco/disco.00081.mp3_spectrogram_FULLSIZE.png\n",
      "./datasets/spectrograms//rock/rock.00071.mp3_spectrogram_FULLSIZE.png\n",
      "Moved ./datasets/spectrograms//rock.00071.mp3_spectrogram_FULLSIZE.png to ./datasets/spectrograms//rock/rock.00071.mp3_spectrogram_FULLSIZE.png\n",
      "./datasets/spectrograms//classical/classical.00097.mp3_spectrogram_FULLSIZE.png\n",
      "Moved ./datasets/spectrograms//classical.00097.mp3_spectrogram_FULLSIZE.png to ./datasets/spectrograms//classical/classical.00097.mp3_spectrogram_FULLSIZE.png\n",
      "./datasets/spectrograms//jazz/jazz.00097.mp3_spectrogram_FULLSIZE.png\n",
      "Moved ./datasets/spectrograms//jazz.00097.mp3_spectrogram_FULLSIZE.png to ./datasets/spectrograms//jazz/jazz.00097.mp3_spectrogram_FULLSIZE.png\n",
      "./datasets/spectrograms//metal/metal.00075.mp3_spectrogram_FULLSIZE.png\n",
      "Moved ./datasets/spectrograms//metal.00075.mp3_spectrogram_FULLSIZE.png to ./datasets/spectrograms//metal/metal.00075.mp3_spectrogram_FULLSIZE.png\n",
      "./datasets/spectrograms//disco/disco.00019.mp3_spectrogram_FULLSIZE.png\n",
      "Moved ./datasets/spectrograms//disco.00019.mp3_spectrogram_FULLSIZE.png to ./datasets/spectrograms//disco/disco.00019.mp3_spectrogram_FULLSIZE.png\n",
      "./datasets/spectrograms//disco/disco.00033.mp3_spectrogram_FULLSIZE.png\n",
      "Moved ./datasets/spectrograms//disco.00033.mp3_spectrogram_FULLSIZE.png to ./datasets/spectrograms//disco/disco.00033.mp3_spectrogram_FULLSIZE.png\n",
      "./datasets/spectrograms//classical/classical.00025.mp3_spectrogram_FULLSIZE.png\n",
      "Moved ./datasets/spectrograms//classical.00025.mp3_spectrogram_FULLSIZE.png to ./datasets/spectrograms//classical/classical.00025.mp3_spectrogram_FULLSIZE.png\n",
      "./datasets/spectrograms//jazz/jazz.00025.mp3_spectrogram_FULLSIZE.png\n",
      "Moved ./datasets/spectrograms//jazz.00025.mp3_spectrogram_FULLSIZE.png to ./datasets/spectrograms//jazz/jazz.00025.mp3_spectrogram_FULLSIZE.png\n",
      "./datasets/spectrograms//rock/rock.00055.mp3_spectrogram_FULLSIZE.png\n",
      "Moved ./datasets/spectrograms//rock.00055.mp3_spectrogram_FULLSIZE.png to ./datasets/spectrograms//rock/rock.00055.mp3_spectrogram_FULLSIZE.png\n",
      "./datasets/spectrograms//metal/metal.00051.mp3_spectrogram_FULLSIZE.png\n",
      "Moved ./datasets/spectrograms//metal.00051.mp3_spectrogram_FULLSIZE.png to ./datasets/spectrograms//metal/metal.00051.mp3_spectrogram_FULLSIZE.png\n",
      "./datasets/spectrograms//reggae/reggae.00094.mp3_spectrogram_FULLSIZE.png\n",
      "Moved ./datasets/spectrograms//reggae.00094.mp3_spectrogram_FULLSIZE.png to ./datasets/spectrograms//reggae/reggae.00094.mp3_spectrogram_FULLSIZE.png\n",
      "./datasets/spectrograms//hiphop/hiphop.00046.mp3_spectrogram_FULLSIZE.png\n",
      "Moved ./datasets/spectrograms//hiphop.00046.mp3_spectrogram_FULLSIZE.png to ./datasets/spectrograms//hiphop/hiphop.00046.mp3_spectrogram_FULLSIZE.png\n",
      "./datasets/spectrograms//blues/blues.00033.mp3_spectrogram_FULLSIZE.png\n",
      "Moved ./datasets/spectrograms//blues.00033.mp3_spectrogram_FULLSIZE.png to ./datasets/spectrograms//blues/blues.00033.mp3_spectrogram_FULLSIZE.png\n",
      "./datasets/spectrograms//country/country.00055.mp3_spectrogram_FULLSIZE.png\n",
      "Moved ./datasets/spectrograms//country.00055.mp3_spectrogram_FULLSIZE.png to ./datasets/spectrograms//country/country.00055.mp3_spectrogram_FULLSIZE.png\n",
      "./datasets/spectrograms//pop/pop.00017.mp3_spectrogram_FULLSIZE.png\n",
      "Moved ./datasets/spectrograms//pop.00017.mp3_spectrogram_FULLSIZE.png to ./datasets/spectrograms//pop/pop.00017.mp3_spectrogram_FULLSIZE.png\n",
      "./datasets/spectrograms//pop/pop.00081.mp3_spectrogram_FULLSIZE.png\n",
      "Moved ./datasets/spectrograms//pop.00081.mp3_spectrogram_FULLSIZE.png to ./datasets/spectrograms//pop/pop.00081.mp3_spectrogram_FULLSIZE.png\n",
      "./datasets/spectrograms//hiphop/hiphop.00048.mp3_spectrogram_FULLSIZE.png\n",
      "Moved ./datasets/spectrograms//hiphop.00048.mp3_spectrogram_FULLSIZE.png to ./datasets/spectrograms//hiphop/hiphop.00048.mp3_spectrogram_FULLSIZE.png\n",
      "./datasets/spectrograms//pop/pop.00019.mp3_spectrogram_FULLSIZE.png\n",
      "Moved ./datasets/spectrograms//pop.00019.mp3_spectrogram_FULLSIZE.png to ./datasets/spectrograms//pop/pop.00019.mp3_spectrogram_FULLSIZE.png\n",
      "./datasets/spectrograms//reggae/reggae.00002.mp3_spectrogram_FULLSIZE.png\n",
      "Moved ./datasets/spectrograms//reggae.00002.mp3_spectrogram_FULLSIZE.png to ./datasets/spectrograms//reggae/reggae.00002.mp3_spectrogram_FULLSIZE.png\n",
      "./datasets/spectrograms//reggae/reggae.00017.mp3_spectrogram_FULLSIZE.png\n",
      "Moved ./datasets/spectrograms//reggae.00017.mp3_spectrogram_FULLSIZE.png to ./datasets/spectrograms//reggae/reggae.00017.mp3_spectrogram_FULLSIZE.png\n",
      "./datasets/spectrograms//blues/blues.00028.mp3_spectrogram_FULLSIZE.png\n",
      "Moved ./datasets/spectrograms//blues.00028.mp3_spectrogram_FULLSIZE.png to ./datasets/spectrograms//blues/blues.00028.mp3_spectrogram_FULLSIZE.png\n",
      "./datasets/spectrograms//pop/pop.00094.mp3_spectrogram_FULLSIZE.png\n",
      "Moved ./datasets/spectrograms//pop.00094.mp3_spectrogram_FULLSIZE.png to ./datasets/spectrograms//pop/pop.00094.mp3_spectrogram_FULLSIZE.png\n",
      "./datasets/spectrograms//reggae/reggae.00019.mp3_spectrogram_FULLSIZE.png\n",
      "Moved ./datasets/spectrograms//reggae.00019.mp3_spectrogram_FULLSIZE.png to ./datasets/spectrograms//reggae/reggae.00019.mp3_spectrogram_FULLSIZE.png\n",
      "./datasets/spectrograms//blues/blues.00026.mp3_spectrogram_FULLSIZE.png\n",
      "Moved ./datasets/spectrograms//blues.00026.mp3_spectrogram_FULLSIZE.png to ./datasets/spectrograms//blues/blues.00026.mp3_spectrogram_FULLSIZE.png\n",
      "./datasets/spectrograms//hiphop/hiphop.00053.mp3_spectrogram_FULLSIZE.png\n",
      "Moved ./datasets/spectrograms//hiphop.00053.mp3_spectrogram_FULLSIZE.png to ./datasets/spectrograms//hiphop/hiphop.00053.mp3_spectrogram_FULLSIZE.png\n",
      "./datasets/spectrograms//pop/pop.00002.mp3_spectrogram_FULLSIZE.png\n",
      "Moved ./datasets/spectrograms//pop.00002.mp3_spectrogram_FULLSIZE.png to ./datasets/spectrograms//pop/pop.00002.mp3_spectrogram_FULLSIZE.png\n",
      "./datasets/spectrograms//country/country.00040.mp3_spectrogram_FULLSIZE.png\n",
      "Moved ./datasets/spectrograms//country.00040.mp3_spectrogram_FULLSIZE.png to ./datasets/spectrograms//country/country.00040.mp3_spectrogram_FULLSIZE.png\n",
      "./datasets/spectrograms//reggae/reggae.00081.mp3_spectrogram_FULLSIZE.png\n",
      "Moved ./datasets/spectrograms//reggae.00081.mp3_spectrogram_FULLSIZE.png to ./datasets/spectrograms//reggae/reggae.00081.mp3_spectrogram_FULLSIZE.png\n",
      "./datasets/spectrograms//metal/metal.00044.mp3_spectrogram_FULLSIZE.png\n",
      "Moved ./datasets/spectrograms//metal.00044.mp3_spectrogram_FULLSIZE.png to ./datasets/spectrograms//metal/metal.00044.mp3_spectrogram_FULLSIZE.png\n",
      "./datasets/spectrograms//rock/rock.00040.mp3_spectrogram_FULLSIZE.png\n",
      "Moved ./datasets/spectrograms//rock.00040.mp3_spectrogram_FULLSIZE.png to ./datasets/spectrograms//rock/rock.00040.mp3_spectrogram_FULLSIZE.png\n",
      "./datasets/spectrograms//disco/disco.00028.mp3_spectrogram_FULLSIZE.png\n",
      "Moved ./datasets/spectrograms//disco.00028.mp3_spectrogram_FULLSIZE.png to ./datasets/spectrograms//disco/disco.00028.mp3_spectrogram_FULLSIZE.png\n",
      "./datasets/spectrograms//jazz/jazz.00030.mp3_spectrogram_FULLSIZE.png\n",
      "Moved ./datasets/spectrograms//jazz.00030.mp3_spectrogram_FULLSIZE.png to ./datasets/spectrograms//jazz/jazz.00030.mp3_spectrogram_FULLSIZE.png\n",
      "./datasets/spectrograms//classical/classical.00030.mp3_spectrogram_FULLSIZE.png\n",
      "Moved ./datasets/spectrograms//classical.00030.mp3_spectrogram_FULLSIZE.png to ./datasets/spectrograms//classical/classical.00030.mp3_spectrogram_FULLSIZE.png\n",
      "./datasets/spectrograms//disco/disco.00026.mp3_spectrogram_FULLSIZE.png\n",
      "Moved ./datasets/spectrograms//disco.00026.mp3_spectrogram_FULLSIZE.png to ./datasets/spectrograms//disco/disco.00026.mp3_spectrogram_FULLSIZE.png\n",
      "./datasets/spectrograms//disco/disco.00014.mp3_spectrogram_FULLSIZE.png\n",
      "Moved ./datasets/spectrograms//disco.00014.mp3_spectrogram_FULLSIZE.png to ./datasets/spectrograms//disco/disco.00014.mp3_spectrogram_FULLSIZE.png\n",
      "./datasets/spectrograms//jazz/jazz.00002.mp3_spectrogram_FULLSIZE.png\n",
      "Moved ./datasets/spectrograms//jazz.00002.mp3_spectrogram_FULLSIZE.png to ./datasets/spectrograms//jazz/jazz.00002.mp3_spectrogram_FULLSIZE.png\n",
      "./datasets/spectrograms//classical/classical.00002.mp3_spectrogram_FULLSIZE.png\n",
      "Moved ./datasets/spectrograms//classical.00002.mp3_spectrogram_FULLSIZE.png to ./datasets/spectrograms//classical/classical.00002.mp3_spectrogram_FULLSIZE.png\n",
      "./datasets/spectrograms//metal/metal.00078.mp3_spectrogram_FULLSIZE.png\n",
      "Moved ./datasets/spectrograms//metal.00078.mp3_spectrogram_FULLSIZE.png to ./datasets/spectrograms//metal/metal.00078.mp3_spectrogram_FULLSIZE.png\n",
      "./datasets/spectrograms//rock/rock.00072.mp3_spectrogram_FULLSIZE.png\n",
      "Moved ./datasets/spectrograms//rock.00072.mp3_spectrogram_FULLSIZE.png to ./datasets/spectrograms//rock/rock.00072.mp3_spectrogram_FULLSIZE.png\n",
      "./datasets/spectrograms//disco/disco.00082.mp3_spectrogram_FULLSIZE.png\n",
      "Moved ./datasets/spectrograms//disco.00082.mp3_spectrogram_FULLSIZE.png to ./datasets/spectrograms//disco/disco.00082.mp3_spectrogram_FULLSIZE.png\n",
      "./datasets/spectrograms//jazz/jazz.00094.mp3_spectrogram_FULLSIZE.png\n",
      "Moved ./datasets/spectrograms//jazz.00094.mp3_spectrogram_FULLSIZE.png to ./datasets/spectrograms//jazz/jazz.00094.mp3_spectrogram_FULLSIZE.png\n",
      "./datasets/spectrograms//classical/classical.00094.mp3_spectrogram_FULLSIZE.png\n",
      "Moved ./datasets/spectrograms//classical.00094.mp3_spectrogram_FULLSIZE.png to ./datasets/spectrograms//classical/classical.00094.mp3_spectrogram_FULLSIZE.png\n",
      "./datasets/spectrograms//metal/metal.00076.mp3_spectrogram_FULLSIZE.png\n",
      "Moved ./datasets/spectrograms//metal.00076.mp3_spectrogram_FULLSIZE.png to ./datasets/spectrograms//metal/metal.00076.mp3_spectrogram_FULLSIZE.png\n",
      "./datasets/spectrograms//country/country.00072.mp3_spectrogram_FULLSIZE.png\n",
      "Moved ./datasets/spectrograms//country.00072.mp3_spectrogram_FULLSIZE.png to ./datasets/spectrograms//country/country.00072.mp3_spectrogram_FULLSIZE.png\n",
      "./datasets/spectrograms//pop/pop.00030.mp3_spectrogram_FULLSIZE.png\n",
      "Moved ./datasets/spectrograms//pop.00030.mp3_spectrogram_FULLSIZE.png to ./datasets/spectrograms//pop/pop.00030.mp3_spectrogram_FULLSIZE.png\n",
      "./datasets/spectrograms//hiphop/hiphop.00061.mp3_spectrogram_FULLSIZE.png\n",
      "Moved ./datasets/spectrograms//hiphop.00061.mp3_spectrogram_FULLSIZE.png to ./datasets/spectrograms//hiphop/hiphop.00061.mp3_spectrogram_FULLSIZE.png\n",
      "./datasets/spectrograms//blues/blues.00014.mp3_spectrogram_FULLSIZE.png\n",
      "Moved ./datasets/spectrograms//blues.00014.mp3_spectrogram_FULLSIZE.png to ./datasets/spectrograms//blues/blues.00014.mp3_spectrogram_FULLSIZE.png\n",
      "./datasets/spectrograms//blues/blues.00082.mp3_spectrogram_FULLSIZE.png\n",
      "Moved ./datasets/spectrograms//blues.00082.mp3_spectrogram_FULLSIZE.png to ./datasets/spectrograms//blues/blues.00082.mp3_spectrogram_FULLSIZE.png\n",
      "./datasets/spectrograms//reggae/reggae.00025.mp3_spectrogram_FULLSIZE.png\n",
      "Moved ./datasets/spectrograms//reggae.00025.mp3_spectrogram_FULLSIZE.png to ./datasets/spectrograms//reggae/reggae.00025.mp3_spectrogram_FULLSIZE.png\n",
      "./datasets/spectrograms//reggae/reggae.00030.mp3_spectrogram_FULLSIZE.png\n",
      "Moved ./datasets/spectrograms//reggae.00030.mp3_spectrogram_FULLSIZE.png to ./datasets/spectrograms//reggae/reggae.00030.mp3_spectrogram_FULLSIZE.png\n",
      "./datasets/spectrograms//country/country.00069.mp3_spectrogram_FULLSIZE.png\n",
      "Moved ./datasets/spectrograms//country.00069.mp3_spectrogram_FULLSIZE.png to ./datasets/spectrograms//country/country.00069.mp3_spectrogram_FULLSIZE.png\n",
      "./datasets/spectrograms//blues/blues.00097.mp3_spectrogram_FULLSIZE.png\n",
      "Moved ./datasets/spectrograms//blues.00097.mp3_spectrogram_FULLSIZE.png to ./datasets/spectrograms//blues/blues.00097.mp3_spectrogram_FULLSIZE.png\n",
      "./datasets/spectrograms//pop/pop.00025.mp3_spectrogram_FULLSIZE.png\n",
      "Moved ./datasets/spectrograms//pop.00025.mp3_spectrogram_FULLSIZE.png to ./datasets/spectrograms//pop/pop.00025.mp3_spectrogram_FULLSIZE.png\n",
      "./datasets/spectrograms//country/country.00067.mp3_spectrogram_FULLSIZE.png\n",
      "Moved ./datasets/spectrograms//country.00067.mp3_spectrogram_FULLSIZE.png to ./datasets/spectrograms//country/country.00067.mp3_spectrogram_FULLSIZE.png\n",
      "./datasets/spectrograms//blues/blues.00001.mp3_spectrogram_FULLSIZE.png\n",
      "Moved ./datasets/spectrograms//blues.00001.mp3_spectrogram_FULLSIZE.png to ./datasets/spectrograms//blues/blues.00001.mp3_spectrogram_FULLSIZE.png\n",
      "./datasets/spectrograms//hiphop/hiphop.00074.mp3_spectrogram_FULLSIZE.png\n",
      "Moved ./datasets/spectrograms//hiphop.00074.mp3_spectrogram_FULLSIZE.png to ./datasets/spectrograms//hiphop/hiphop.00074.mp3_spectrogram_FULLSIZE.png\n",
      "./datasets/spectrograms//blues/blues.00099.mp3_spectrogram_FULLSIZE.png\n",
      "Moved ./datasets/spectrograms//blues.00099.mp3_spectrogram_FULLSIZE.png to ./datasets/spectrograms//blues/blues.00099.mp3_spectrogram_FULLSIZE.png\n",
      "./datasets/spectrograms//classical/classical.00081.mp3_spectrogram_FULLSIZE.png\n",
      "Moved ./datasets/spectrograms//classical.00081.mp3_spectrogram_FULLSIZE.png to ./datasets/spectrograms//classical/classical.00081.mp3_spectrogram_FULLSIZE.png\n",
      "./datasets/spectrograms//jazz/jazz.00081.mp3_spectrogram_FULLSIZE.png\n",
      "Moved ./datasets/spectrograms//jazz.00081.mp3_spectrogram_FULLSIZE.png to ./datasets/spectrograms//jazz/jazz.00081.mp3_spectrogram_FULLSIZE.png\n",
      "./datasets/spectrograms//metal/metal.00063.mp3_spectrogram_FULLSIZE.png\n",
      "Moved ./datasets/spectrograms//metal.00063.mp3_spectrogram_FULLSIZE.png to ./datasets/spectrograms//metal/metal.00063.mp3_spectrogram_FULLSIZE.png\n",
      "./datasets/spectrograms//disco/disco.00097.mp3_spectrogram_FULLSIZE.png\n",
      "Moved ./datasets/spectrograms//disco.00097.mp3_spectrogram_FULLSIZE.png to ./datasets/spectrograms//disco/disco.00097.mp3_spectrogram_FULLSIZE.png\n",
      "./datasets/spectrograms//rock/rock.00067.mp3_spectrogram_FULLSIZE.png\n",
      "Moved ./datasets/spectrograms//rock.00067.mp3_spectrogram_FULLSIZE.png to ./datasets/spectrograms//rock/rock.00067.mp3_spectrogram_FULLSIZE.png\n",
      "./datasets/spectrograms//jazz/jazz.00019.mp3_spectrogram_FULLSIZE.png\n",
      "Moved ./datasets/spectrograms//jazz.00019.mp3_spectrogram_FULLSIZE.png to ./datasets/spectrograms//jazz/jazz.00019.mp3_spectrogram_FULLSIZE.png\n",
      "./datasets/spectrograms//classical/classical.00019.mp3_spectrogram_FULLSIZE.png\n",
      "Moved ./datasets/spectrograms//classical.00019.mp3_spectrogram_FULLSIZE.png to ./datasets/spectrograms//classical/classical.00019.mp3_spectrogram_FULLSIZE.png\n",
      "./datasets/spectrograms//rock/rock.00069.mp3_spectrogram_FULLSIZE.png\n",
      "Moved ./datasets/spectrograms//rock.00069.mp3_spectrogram_FULLSIZE.png to ./datasets/spectrograms//rock/rock.00069.mp3_spectrogram_FULLSIZE.png\n",
      "./datasets/spectrograms//disco/disco.00099.mp3_spectrogram_FULLSIZE.png\n",
      "Moved ./datasets/spectrograms//disco.00099.mp3_spectrogram_FULLSIZE.png to ./datasets/spectrograms//disco/disco.00099.mp3_spectrogram_FULLSIZE.png\n",
      "./datasets/spectrograms//classical/classical.00017.mp3_spectrogram_FULLSIZE.png\n",
      "Moved ./datasets/spectrograms//classical.00017.mp3_spectrogram_FULLSIZE.png to ./datasets/spectrograms//classical/classical.00017.mp3_spectrogram_FULLSIZE.png\n",
      "./datasets/spectrograms//jazz/jazz.00017.mp3_spectrogram_FULLSIZE.png\n",
      "Moved ./datasets/spectrograms//jazz.00017.mp3_spectrogram_FULLSIZE.png to ./datasets/spectrograms//jazz/jazz.00017.mp3_spectrogram_FULLSIZE.png\n",
      "./datasets/spectrograms//disco/disco.00001.mp3_spectrogram_FULLSIZE.png\n",
      "Moved ./datasets/spectrograms//disco.00001.mp3_spectrogram_FULLSIZE.png to ./datasets/spectrograms//disco/disco.00001.mp3_spectrogram_FULLSIZE.png\n",
      "./datasets/spectrograms//metal/metal.00047.mp3_spectrogram_FULLSIZE.png\n",
      "Moved ./datasets/spectrograms//metal.00047.mp3_spectrogram_FULLSIZE.png to ./datasets/spectrograms//metal/metal.00047.mp3_spectrogram_FULLSIZE.png\n",
      "./datasets/spectrograms//rock/rock.00043.mp3_spectrogram_FULLSIZE.png\n",
      "Moved ./datasets/spectrograms//rock.00043.mp3_spectrogram_FULLSIZE.png to ./datasets/spectrograms//rock/rock.00043.mp3_spectrogram_FULLSIZE.png\n",
      "./datasets/spectrograms//classical/classical.00033.mp3_spectrogram_FULLSIZE.png\n",
      "Moved ./datasets/spectrograms//classical.00033.mp3_spectrogram_FULLSIZE.png to ./datasets/spectrograms//classical/classical.00033.mp3_spectrogram_FULLSIZE.png\n",
      "./datasets/spectrograms//jazz/jazz.00033.mp3_spectrogram_FULLSIZE.png\n",
      "Moved ./datasets/spectrograms//jazz.00033.mp3_spectrogram_FULLSIZE.png to ./datasets/spectrograms//jazz/jazz.00033.mp3_spectrogram_FULLSIZE.png\n",
      "./datasets/spectrograms//disco/disco.00025.mp3_spectrogram_FULLSIZE.png\n",
      "Moved ./datasets/spectrograms//disco.00025.mp3_spectrogram_FULLSIZE.png to ./datasets/spectrograms//disco/disco.00025.mp3_spectrogram_FULLSIZE.png\n",
      "./datasets/spectrograms//metal/metal.00049.mp3_spectrogram_FULLSIZE.png\n",
      "Moved ./datasets/spectrograms//metal.00049.mp3_spectrogram_FULLSIZE.png to ./datasets/spectrograms//metal/metal.00049.mp3_spectrogram_FULLSIZE.png\n",
      "./datasets/spectrograms//pop/pop.00097.mp3_spectrogram_FULLSIZE.png\n",
      "Moved ./datasets/spectrograms//pop.00097.mp3_spectrogram_FULLSIZE.png to ./datasets/spectrograms//pop/pop.00097.mp3_spectrogram_FULLSIZE.png\n",
      "./datasets/spectrograms//reggae/reggae.00014.mp3_spectrogram_FULLSIZE.png\n",
      "Moved ./datasets/spectrograms//reggae.00014.mp3_spectrogram_FULLSIZE.png to ./datasets/spectrograms//reggae/reggae.00014.mp3_spectrogram_FULLSIZE.png\n",
      "./datasets/spectrograms//reggae/reggae.00082.mp3_spectrogram_FULLSIZE.png\n",
      "Moved ./datasets/spectrograms//reggae.00082.mp3_spectrogram_FULLSIZE.png to ./datasets/spectrograms//reggae/reggae.00082.mp3_spectrogram_FULLSIZE.png\n",
      "./datasets/spectrograms//pop/pop.00099.mp3_spectrogram_FULLSIZE.png\n",
      "Moved ./datasets/spectrograms//pop.00099.mp3_spectrogram_FULLSIZE.png to ./datasets/spectrograms//pop/pop.00099.mp3_spectrogram_FULLSIZE.png\n",
      "./datasets/spectrograms//blues/blues.00025.mp3_spectrogram_FULLSIZE.png\n",
      "Moved ./datasets/spectrograms//blues.00025.mp3_spectrogram_FULLSIZE.png to ./datasets/spectrograms//blues/blues.00025.mp3_spectrogram_FULLSIZE.png\n",
      "./datasets/spectrograms//hiphop/hiphop.00050.mp3_spectrogram_FULLSIZE.png\n",
      "Moved ./datasets/spectrograms//hiphop.00050.mp3_spectrogram_FULLSIZE.png to ./datasets/spectrograms//hiphop/hiphop.00050.mp3_spectrogram_FULLSIZE.png\n",
      "./datasets/spectrograms//pop/pop.00001.mp3_spectrogram_FULLSIZE.png\n",
      "Moved ./datasets/spectrograms//pop.00001.mp3_spectrogram_FULLSIZE.png to ./datasets/spectrograms//pop/pop.00001.mp3_spectrogram_FULLSIZE.png\n",
      "./datasets/spectrograms//country/country.00043.mp3_spectrogram_FULLSIZE.png\n",
      "Moved ./datasets/spectrograms//country.00043.mp3_spectrogram_FULLSIZE.png to ./datasets/spectrograms//country/country.00043.mp3_spectrogram_FULLSIZE.png\n",
      "./datasets/spectrograms//hiphop/hiphop.00045.mp3_spectrogram_FULLSIZE.png\n",
      "Moved ./datasets/spectrograms//hiphop.00045.mp3_spectrogram_FULLSIZE.png to ./datasets/spectrograms//hiphop/hiphop.00045.mp3_spectrogram_FULLSIZE.png\n",
      "./datasets/spectrograms//blues/blues.00030.mp3_spectrogram_FULLSIZE.png\n",
      "Moved ./datasets/spectrograms//blues.00030.mp3_spectrogram_FULLSIZE.png to ./datasets/spectrograms//blues/blues.00030.mp3_spectrogram_FULLSIZE.png\n",
      "./datasets/spectrograms//country/country.00056.mp3_spectrogram_FULLSIZE.png\n",
      "Moved ./datasets/spectrograms//country.00056.mp3_spectrogram_FULLSIZE.png to ./datasets/spectrograms//country/country.00056.mp3_spectrogram_FULLSIZE.png\n",
      "./datasets/spectrograms//pop/pop.00014.mp3_spectrogram_FULLSIZE.png\n",
      "Moved ./datasets/spectrograms//pop.00014.mp3_spectrogram_FULLSIZE.png to ./datasets/spectrograms//pop/pop.00014.mp3_spectrogram_FULLSIZE.png\n",
      "./datasets/spectrograms//reggae/reggae.00097.mp3_spectrogram_FULLSIZE.png\n",
      "Moved ./datasets/spectrograms//reggae.00097.mp3_spectrogram_FULLSIZE.png to ./datasets/spectrograms//reggae/reggae.00097.mp3_spectrogram_FULLSIZE.png\n",
      "./datasets/spectrograms//country/country.00058.mp3_spectrogram_FULLSIZE.png\n",
      "Moved ./datasets/spectrograms//country.00058.mp3_spectrogram_FULLSIZE.png to ./datasets/spectrograms//country/country.00058.mp3_spectrogram_FULLSIZE.png\n",
      "./datasets/spectrograms//reggae/reggae.00001.mp3_spectrogram_FULLSIZE.png\n",
      "Moved ./datasets/spectrograms//reggae.00001.mp3_spectrogram_FULLSIZE.png to ./datasets/spectrograms//reggae/reggae.00001.mp3_spectrogram_FULLSIZE.png\n",
      "./datasets/spectrograms//pop/pop.00082.mp3_spectrogram_FULLSIZE.png\n",
      "Moved ./datasets/spectrograms//pop.00082.mp3_spectrogram_FULLSIZE.png to ./datasets/spectrograms//pop/pop.00082.mp3_spectrogram_FULLSIZE.png\n",
      "./datasets/spectrograms//reggae/reggae.00099.mp3_spectrogram_FULLSIZE.png\n",
      "Moved ./datasets/spectrograms//reggae.00099.mp3_spectrogram_FULLSIZE.png to ./datasets/spectrograms//reggae/reggae.00099.mp3_spectrogram_FULLSIZE.png\n",
      "./datasets/spectrograms//rock/rock.00058.mp3_spectrogram_FULLSIZE.png\n",
      "Moved ./datasets/spectrograms//rock.00058.mp3_spectrogram_FULLSIZE.png to ./datasets/spectrograms//rock/rock.00058.mp3_spectrogram_FULLSIZE.png\n",
      "./datasets/spectrograms//disco/disco.00030.mp3_spectrogram_FULLSIZE.png\n",
      "Moved ./datasets/spectrograms//disco.00030.mp3_spectrogram_FULLSIZE.png to ./datasets/spectrograms//disco/disco.00030.mp3_spectrogram_FULLSIZE.png\n",
      "./datasets/spectrograms//jazz/jazz.00026.mp3_spectrogram_FULLSIZE.png\n",
      "Moved ./datasets/spectrograms//jazz.00026.mp3_spectrogram_FULLSIZE.png to ./datasets/spectrograms//jazz/jazz.00026.mp3_spectrogram_FULLSIZE.png\n",
      "./datasets/spectrograms//classical/classical.00026.mp3_spectrogram_FULLSIZE.png\n",
      "Moved ./datasets/spectrograms//classical.00026.mp3_spectrogram_FULLSIZE.png to ./datasets/spectrograms//classical/classical.00026.mp3_spectrogram_FULLSIZE.png\n",
      "./datasets/spectrograms//rock/rock.00056.mp3_spectrogram_FULLSIZE.png\n",
      "Moved ./datasets/spectrograms//rock.00056.mp3_spectrogram_FULLSIZE.png to ./datasets/spectrograms//rock/rock.00056.mp3_spectrogram_FULLSIZE.png\n",
      "./datasets/spectrograms//metal/metal.00052.mp3_spectrogram_FULLSIZE.png\n",
      "Moved ./datasets/spectrograms//metal.00052.mp3_spectrogram_FULLSIZE.png to ./datasets/spectrograms//metal/metal.00052.mp3_spectrogram_FULLSIZE.png\n",
      "./datasets/spectrograms//classical/classical.00028.mp3_spectrogram_FULLSIZE.png\n",
      "Moved ./datasets/spectrograms//classical.00028.mp3_spectrogram_FULLSIZE.png to ./datasets/spectrograms//classical/classical.00028.mp3_spectrogram_FULLSIZE.png\n",
      "./datasets/spectrograms//jazz/jazz.00028.mp3_spectrogram_FULLSIZE.png\n",
      "Moved ./datasets/spectrograms//jazz.00028.mp3_spectrogram_FULLSIZE.png to ./datasets/spectrograms//jazz/jazz.00028.mp3_spectrogram_FULLSIZE.png\n",
      "./datasets/spectrograms//reggae/reggae.00058.mp3_spectrogram_FULLSIZE.png\n",
      "Moved ./datasets/spectrograms//reggae.00058.mp3_spectrogram_FULLSIZE.png to ./datasets/spectrograms//reggae/reggae.00058.mp3_spectrogram_FULLSIZE.png\n",
      "./datasets/spectrograms//blues/blues.00067.mp3_spectrogram_FULLSIZE.png\n",
      "Moved ./datasets/spectrograms//blues.00067.mp3_spectrogram_FULLSIZE.png to ./datasets/spectrograms//blues/blues.00067.mp3_spectrogram_FULLSIZE.png\n",
      "./datasets/spectrograms//hiphop/hiphop.00012.mp3_spectrogram_FULLSIZE.png\n",
      "Moved ./datasets/spectrograms//hiphop.00012.mp3_spectrogram_FULLSIZE.png to ./datasets/spectrograms//hiphop/hiphop.00012.mp3_spectrogram_FULLSIZE.png\n",
      "./datasets/spectrograms//country/country.00001.mp3_spectrogram_FULLSIZE.png\n",
      "Moved ./datasets/spectrograms//country.00001.mp3_spectrogram_FULLSIZE.png to ./datasets/spectrograms//country/country.00001.mp3_spectrogram_FULLSIZE.png\n",
      "./datasets/spectrograms//pop/pop.00043.mp3_spectrogram_FULLSIZE.png\n",
      "Moved ./datasets/spectrograms//pop.00043.mp3_spectrogram_FULLSIZE.png to ./datasets/spectrograms//pop/pop.00043.mp3_spectrogram_FULLSIZE.png\n",
      "./datasets/spectrograms//country/country.00099.mp3_spectrogram_FULLSIZE.png\n",
      "Moved ./datasets/spectrograms//country.00099.mp3_spectrogram_FULLSIZE.png to ./datasets/spectrograms//country/country.00099.mp3_spectrogram_FULLSIZE.png\n",
      "./datasets/spectrograms//reggae/reggae.00056.mp3_spectrogram_FULLSIZE.png\n",
      "Moved ./datasets/spectrograms//reggae.00056.mp3_spectrogram_FULLSIZE.png to ./datasets/spectrograms//reggae/reggae.00056.mp3_spectrogram_FULLSIZE.png\n",
      "./datasets/spectrograms//blues/blues.00069.mp3_spectrogram_FULLSIZE.png\n",
      "Moved ./datasets/spectrograms//blues.00069.mp3_spectrogram_FULLSIZE.png to ./datasets/spectrograms//blues/blues.00069.mp3_spectrogram_FULLSIZE.png\n",
      "./datasets/spectrograms//hiphop/hiphop.00084.mp3_spectrogram_FULLSIZE.png\n",
      "Moved ./datasets/spectrograms//hiphop.00084.mp3_spectrogram_FULLSIZE.png to ./datasets/spectrograms//hiphop/hiphop.00084.mp3_spectrogram_FULLSIZE.png\n",
      "./datasets/spectrograms//country/country.00097.mp3_spectrogram_FULLSIZE.png\n",
      "Moved ./datasets/spectrograms//country.00097.mp3_spectrogram_FULLSIZE.png to ./datasets/spectrograms//country/country.00097.mp3_spectrogram_FULLSIZE.png\n",
      "./datasets/spectrograms//metal/metal.00093.mp3_spectrogram_FULLSIZE.png\n",
      "Moved ./datasets/spectrograms//metal.00093.mp3_spectrogram_FULLSIZE.png to ./datasets/spectrograms//metal/metal.00093.mp3_spectrogram_FULLSIZE.png\n",
      "./datasets/spectrograms//jazz/jazz.00071.mp3_spectrogram_FULLSIZE.png\n",
      "Moved ./datasets/spectrograms//jazz.00071.mp3_spectrogram_FULLSIZE.png to ./datasets/spectrograms//jazz/jazz.00071.mp3_spectrogram_FULLSIZE.png\n",
      "./datasets/spectrograms//classical/classical.00071.mp3_spectrogram_FULLSIZE.png\n",
      "Moved ./datasets/spectrograms//classical.00071.mp3_spectrogram_FULLSIZE.png to ./datasets/spectrograms//classical/classical.00071.mp3_spectrogram_FULLSIZE.png\n",
      "./datasets/spectrograms//rock/rock.00097.mp3_spectrogram_FULLSIZE.png\n",
      "Moved ./datasets/spectrograms//rock.00097.mp3_spectrogram_FULLSIZE.png to ./datasets/spectrograms//rock/rock.00097.mp3_spectrogram_FULLSIZE.png\n",
      "./datasets/spectrograms//disco/disco.00067.mp3_spectrogram_FULLSIZE.png\n",
      "Moved ./datasets/spectrograms//disco.00067.mp3_spectrogram_FULLSIZE.png to ./datasets/spectrograms//disco/disco.00067.mp3_spectrogram_FULLSIZE.png\n",
      "./datasets/spectrograms//metal/metal.00005.mp3_spectrogram_FULLSIZE.png\n",
      "Moved ./datasets/spectrograms//metal.00005.mp3_spectrogram_FULLSIZE.png to ./datasets/spectrograms//metal/metal.00005.mp3_spectrogram_FULLSIZE.png\n",
      "./datasets/spectrograms//rock/rock.00001.mp3_spectrogram_FULLSIZE.png\n",
      "Moved ./datasets/spectrograms//rock.00001.mp3_spectrogram_FULLSIZE.png to ./datasets/spectrograms//rock/rock.00001.mp3_spectrogram_FULLSIZE.png\n",
      "./datasets/spectrograms//disco/disco.00069.mp3_spectrogram_FULLSIZE.png\n",
      "Moved ./datasets/spectrograms//disco.00069.mp3_spectrogram_FULLSIZE.png to ./datasets/spectrograms//disco/disco.00069.mp3_spectrogram_FULLSIZE.png\n",
      "./datasets/spectrograms//rock/rock.00099.mp3_spectrogram_FULLSIZE.png\n",
      "Moved ./datasets/spectrograms//rock.00099.mp3_spectrogram_FULLSIZE.png to ./datasets/spectrograms//rock/rock.00099.mp3_spectrogram_FULLSIZE.png\n",
      "./datasets/spectrograms//metal/metal.00088.mp3_spectrogram_FULLSIZE.png\n",
      "Moved ./datasets/spectrograms//metal.00088.mp3_spectrogram_FULLSIZE.png to ./datasets/spectrograms//metal/metal.00088.mp3_spectrogram_FULLSIZE.png\n",
      "./datasets/spectrograms//rock/rock.00014.mp3_spectrogram_FULLSIZE.png\n",
      "Moved ./datasets/spectrograms//rock.00014.mp3_spectrogram_FULLSIZE.png to ./datasets/spectrograms//rock/rock.00014.mp3_spectrogram_FULLSIZE.png\n",
      "./datasets/spectrograms//metal/metal.00010.mp3_spectrogram_FULLSIZE.png\n",
      "Moved ./datasets/spectrograms//metal.00010.mp3_spectrogram_FULLSIZE.png to ./datasets/spectrograms//metal/metal.00010.mp3_spectrogram_FULLSIZE.png\n",
      "./datasets/spectrograms//disco/disco.00072.mp3_spectrogram_FULLSIZE.png\n",
      "Moved ./datasets/spectrograms//disco.00072.mp3_spectrogram_FULLSIZE.png to ./datasets/spectrograms//disco/disco.00072.mp3_spectrogram_FULLSIZE.png\n",
      "./datasets/spectrograms//rock/rock.00082.mp3_spectrogram_FULLSIZE.png\n",
      "Moved ./datasets/spectrograms//rock.00082.mp3_spectrogram_FULLSIZE.png to ./datasets/spectrograms//rock/rock.00082.mp3_spectrogram_FULLSIZE.png\n",
      "./datasets/spectrograms//metal/metal.00086.mp3_spectrogram_FULLSIZE.png\n",
      "Moved ./datasets/spectrograms//metal.00086.mp3_spectrogram_FULLSIZE.png to ./datasets/spectrograms//metal/metal.00086.mp3_spectrogram_FULLSIZE.png\n",
      "./datasets/spectrograms//classical/classical.00064.mp3_spectrogram_FULLSIZE.png\n",
      "Moved ./datasets/spectrograms//classical.00064.mp3_spectrogram_FULLSIZE.png to ./datasets/spectrograms//classical/classical.00064.mp3_spectrogram_FULLSIZE.png\n",
      "./datasets/spectrograms//jazz/jazz.00064.mp3_spectrogram_FULLSIZE.png\n",
      "Moved ./datasets/spectrograms//jazz.00064.mp3_spectrogram_FULLSIZE.png to ./datasets/spectrograms//jazz/jazz.00064.mp3_spectrogram_FULLSIZE.png\n",
      "./datasets/spectrograms//hiphop/hiphop.00091.mp3_spectrogram_FULLSIZE.png\n",
      "Moved ./datasets/spectrograms//hiphop.00091.mp3_spectrogram_FULLSIZE.png to ./datasets/spectrograms//hiphop/hiphop.00091.mp3_spectrogram_FULLSIZE.png\n",
      "./datasets/spectrograms//country/country.00082.mp3_spectrogram_FULLSIZE.png\n",
      "Moved ./datasets/spectrograms//country.00082.mp3_spectrogram_FULLSIZE.png to ./datasets/spectrograms//country/country.00082.mp3_spectrogram_FULLSIZE.png\n",
      "./datasets/spectrograms//hiphop/hiphop.00009.mp3_spectrogram_FULLSIZE.png\n",
      "Moved ./datasets/spectrograms//hiphop.00009.mp3_spectrogram_FULLSIZE.png to ./datasets/spectrograms//hiphop/hiphop.00009.mp3_spectrogram_FULLSIZE.png\n",
      "./datasets/spectrograms//pop/pop.00058.mp3_spectrogram_FULLSIZE.png\n",
      "Moved ./datasets/spectrograms//pop.00058.mp3_spectrogram_FULLSIZE.png to ./datasets/spectrograms//pop/pop.00058.mp3_spectrogram_FULLSIZE.png\n",
      "./datasets/spectrograms//reggae/reggae.00043.mp3_spectrogram_FULLSIZE.png\n",
      "Moved ./datasets/spectrograms//reggae.00043.mp3_spectrogram_FULLSIZE.png to ./datasets/spectrograms//reggae/reggae.00043.mp3_spectrogram_FULLSIZE.png\n",
      "./datasets/spectrograms//hiphop/hiphop.00007.mp3_spectrogram_FULLSIZE.png\n",
      "Moved ./datasets/spectrograms//hiphop.00007.mp3_spectrogram_FULLSIZE.png to ./datasets/spectrograms//hiphop/hiphop.00007.mp3_spectrogram_FULLSIZE.png\n",
      "./datasets/spectrograms//blues/blues.00072.mp3_spectrogram_FULLSIZE.png\n",
      "Moved ./datasets/spectrograms//blues.00072.mp3_spectrogram_FULLSIZE.png to ./datasets/spectrograms//blues/blues.00072.mp3_spectrogram_FULLSIZE.png\n",
      "./datasets/spectrograms//pop/pop.00056.mp3_spectrogram_FULLSIZE.png\n",
      "Moved ./datasets/spectrograms//pop.00056.mp3_spectrogram_FULLSIZE.png to ./datasets/spectrograms//pop/pop.00056.mp3_spectrogram_FULLSIZE.png\n",
      "./datasets/spectrograms//country/country.00014.mp3_spectrogram_FULLSIZE.png\n",
      "Moved ./datasets/spectrograms//country.00014.mp3_spectrogram_FULLSIZE.png to ./datasets/spectrograms//country/country.00014.mp3_spectrogram_FULLSIZE.png\n",
      "./datasets/spectrograms//blues/blues.00058.mp3_spectrogram_FULLSIZE.png\n",
      "Moved ./datasets/spectrograms//blues.00058.mp3_spectrogram_FULLSIZE.png to ./datasets/spectrograms//blues/blues.00058.mp3_spectrogram_FULLSIZE.png\n",
      "./datasets/spectrograms//reggae/reggae.00067.mp3_spectrogram_FULLSIZE.png\n",
      "Moved ./datasets/spectrograms//reggae.00067.mp3_spectrogram_FULLSIZE.png to ./datasets/spectrograms//reggae/reggae.00067.mp3_spectrogram_FULLSIZE.png\n",
      "./datasets/spectrograms//pop/pop.00072.mp3_spectrogram_FULLSIZE.png\n",
      "Moved ./datasets/spectrograms//pop.00072.mp3_spectrogram_FULLSIZE.png to ./datasets/spectrograms//pop/pop.00072.mp3_spectrogram_FULLSIZE.png\n",
      "./datasets/spectrograms//country/country.00030.mp3_spectrogram_FULLSIZE.png\n",
      "Moved ./datasets/spectrograms//country.00030.mp3_spectrogram_FULLSIZE.png to ./datasets/spectrograms//country/country.00030.mp3_spectrogram_FULLSIZE.png\n",
      "./datasets/spectrograms//hiphop/hiphop.00023.mp3_spectrogram_FULLSIZE.png\n",
      "Moved ./datasets/spectrograms//hiphop.00023.mp3_spectrogram_FULLSIZE.png to ./datasets/spectrograms//hiphop/hiphop.00023.mp3_spectrogram_FULLSIZE.png\n",
      "./datasets/spectrograms//blues/blues.00056.mp3_spectrogram_FULLSIZE.png\n",
      "Moved ./datasets/spectrograms//blues.00056.mp3_spectrogram_FULLSIZE.png to ./datasets/spectrograms//blues/blues.00056.mp3_spectrogram_FULLSIZE.png\n",
      "./datasets/spectrograms//reggae/reggae.00069.mp3_spectrogram_FULLSIZE.png\n",
      "Moved ./datasets/spectrograms//reggae.00069.mp3_spectrogram_FULLSIZE.png to ./datasets/spectrograms//reggae/reggae.00069.mp3_spectrogram_FULLSIZE.png\n",
      "./datasets/spectrograms//rock/rock.00030.mp3_spectrogram_FULLSIZE.png\n",
      "Moved ./datasets/spectrograms//rock.00030.mp3_spectrogram_FULLSIZE.png to ./datasets/spectrograms//rock/rock.00030.mp3_spectrogram_FULLSIZE.png\n",
      "./datasets/spectrograms//metal/metal.00034.mp3_spectrogram_FULLSIZE.png\n",
      "Moved ./datasets/spectrograms//metal.00034.mp3_spectrogram_FULLSIZE.png to ./datasets/spectrograms//metal/metal.00034.mp3_spectrogram_FULLSIZE.png\n",
      "./datasets/spectrograms//disco/disco.00058.mp3_spectrogram_FULLSIZE.png\n",
      "Moved ./datasets/spectrograms//disco.00058.mp3_spectrogram_FULLSIZE.png to ./datasets/spectrograms//disco/disco.00058.mp3_spectrogram_FULLSIZE.png\n",
      "./datasets/spectrograms//disco/disco.00056.mp3_spectrogram_FULLSIZE.png\n",
      "Moved ./datasets/spectrograms//disco.00056.mp3_spectrogram_FULLSIZE.png to ./datasets/spectrograms//disco/disco.00056.mp3_spectrogram_FULLSIZE.png\n",
      "./datasets/spectrograms//classical/classical.00040.mp3_spectrogram_FULLSIZE.png\n",
      "Moved ./datasets/spectrograms//classical.00040.mp3_spectrogram_FULLSIZE.png to ./datasets/spectrograms//classical/classical.00040.mp3_spectrogram_FULLSIZE.png\n",
      "./datasets/spectrograms//jazz/jazz.00040.mp3_spectrogram_FULLSIZE.png\n",
      "Moved ./datasets/spectrograms//jazz.00040.mp3_spectrogram_FULLSIZE.png to ./datasets/spectrograms//jazz/jazz.00040.mp3_spectrogram_FULLSIZE.png\n",
      "./datasets/spectrograms//jazz/jazz.00055.mp3_spectrogram_FULLSIZE.png\n",
      "Moved ./datasets/spectrograms//jazz.00055.mp3_spectrogram_FULLSIZE.png to ./datasets/spectrograms//jazz/jazz.00055.mp3_spectrogram_FULLSIZE.png\n",
      "./datasets/spectrograms//classical/classical.00055.mp3_spectrogram_FULLSIZE.png\n",
      "Moved ./datasets/spectrograms//classical.00055.mp3_spectrogram_FULLSIZE.png to ./datasets/spectrograms//classical/classical.00055.mp3_spectrogram_FULLSIZE.png\n",
      "./datasets/spectrograms//disco/disco.00043.mp3_spectrogram_FULLSIZE.png\n",
      "Moved ./datasets/spectrograms//disco.00043.mp3_spectrogram_FULLSIZE.png to ./datasets/spectrograms//disco/disco.00043.mp3_spectrogram_FULLSIZE.png\n",
      "./datasets/spectrograms//metal/metal.00021.mp3_spectrogram_FULLSIZE.png\n"
     ]
    },
    {
     "name": "stdout",
     "output_type": "stream",
     "text": [
      "Moved ./datasets/spectrograms//metal.00021.mp3_spectrogram_FULLSIZE.png to ./datasets/spectrograms//metal/metal.00021.mp3_spectrogram_FULLSIZE.png\n",
      "./datasets/spectrograms//rock/rock.00025.mp3_spectrogram_FULLSIZE.png\n",
      "Moved ./datasets/spectrograms//rock.00025.mp3_spectrogram_FULLSIZE.png to ./datasets/spectrograms//rock/rock.00025.mp3_spectrogram_FULLSIZE.png\n",
      "./datasets/spectrograms//country/country.00025.mp3_spectrogram_FULLSIZE.png\n",
      "Moved ./datasets/spectrograms//country.00025.mp3_spectrogram_FULLSIZE.png to ./datasets/spectrograms//country/country.00025.mp3_spectrogram_FULLSIZE.png\n",
      "./datasets/spectrograms//pop/pop.00067.mp3_spectrogram_FULLSIZE.png\n",
      "Moved ./datasets/spectrograms//pop.00067.mp3_spectrogram_FULLSIZE.png to ./datasets/spectrograms//pop/pop.00067.mp3_spectrogram_FULLSIZE.png\n",
      "./datasets/spectrograms//blues/blues.00043.mp3_spectrogram_FULLSIZE.png\n",
      "Moved ./datasets/spectrograms//blues.00043.mp3_spectrogram_FULLSIZE.png to ./datasets/spectrograms//blues/blues.00043.mp3_spectrogram_FULLSIZE.png\n",
      "./datasets/spectrograms//hiphop/hiphop.00036.mp3_spectrogram_FULLSIZE.png\n",
      "Moved ./datasets/spectrograms//hiphop.00036.mp3_spectrogram_FULLSIZE.png to ./datasets/spectrograms//hiphop/hiphop.00036.mp3_spectrogram_FULLSIZE.png\n",
      "./datasets/spectrograms//reggae/reggae.00072.mp3_spectrogram_FULLSIZE.png\n",
      "Moved ./datasets/spectrograms//reggae.00072.mp3_spectrogram_FULLSIZE.png to ./datasets/spectrograms//reggae/reggae.00072.mp3_spectrogram_FULLSIZE.png\n",
      "./datasets/spectrograms//pop/pop.00069.mp3_spectrogram_FULLSIZE.png\n",
      "Moved ./datasets/spectrograms//pop.00069.mp3_spectrogram_FULLSIZE.png to ./datasets/spectrograms//pop/pop.00069.mp3_spectrogram_FULLSIZE.png\n",
      "./datasets/spectrograms//hiphop/hiphop.00038.mp3_spectrogram_FULLSIZE.png\n",
      "Moved ./datasets/spectrograms//hiphop.00038.mp3_spectrogram_FULLSIZE.png to ./datasets/spectrograms//hiphop/hiphop.00038.mp3_spectrogram_FULLSIZE.png\n",
      "./datasets/spectrograms//blues/blues.00038.mp3_spectrogram_FULLSIZE.png\n",
      "Moved ./datasets/spectrograms//blues.00038.mp3_spectrogram_FULLSIZE.png to ./datasets/spectrograms//blues/blues.00038.mp3_spectrogram_FULLSIZE.png\n",
      "./datasets/spectrograms//reggae/reggae.00007.mp3_spectrogram_FULLSIZE.png\n",
      "Moved ./datasets/spectrograms//reggae.00007.mp3_spectrogram_FULLSIZE.png to ./datasets/spectrograms//reggae/reggae.00007.mp3_spectrogram_FULLSIZE.png\n",
      "./datasets/spectrograms//pop/pop.00084.mp3_spectrogram_FULLSIZE.png\n",
      "Moved ./datasets/spectrograms//pop.00084.mp3_spectrogram_FULLSIZE.png to ./datasets/spectrograms//pop/pop.00084.mp3_spectrogram_FULLSIZE.png\n",
      "./datasets/spectrograms//hiphop/hiphop.00043.mp3_spectrogram_FULLSIZE.png\n",
      "Moved ./datasets/spectrograms//hiphop.00043.mp3_spectrogram_FULLSIZE.png to ./datasets/spectrograms//hiphop/hiphop.00043.mp3_spectrogram_FULLSIZE.png\n",
      "./datasets/spectrograms//blues/blues.00036.mp3_spectrogram_FULLSIZE.png\n",
      "Moved ./datasets/spectrograms//blues.00036.mp3_spectrogram_FULLSIZE.png to ./datasets/spectrograms//blues/blues.00036.mp3_spectrogram_FULLSIZE.png\n",
      "./datasets/spectrograms//pop/pop.00012.mp3_spectrogram_FULLSIZE.png\n",
      "Moved ./datasets/spectrograms//pop.00012.mp3_spectrogram_FULLSIZE.png to ./datasets/spectrograms//pop/pop.00012.mp3_spectrogram_FULLSIZE.png\n",
      "./datasets/spectrograms//country/country.00050.mp3_spectrogram_FULLSIZE.png\n",
      "Moved ./datasets/spectrograms//country.00050.mp3_spectrogram_FULLSIZE.png to ./datasets/spectrograms//country/country.00050.mp3_spectrogram_FULLSIZE.png\n",
      "./datasets/spectrograms//reggae/reggae.00009.mp3_spectrogram_FULLSIZE.png\n",
      "Moved ./datasets/spectrograms//reggae.00009.mp3_spectrogram_FULLSIZE.png to ./datasets/spectrograms//reggae/reggae.00009.mp3_spectrogram_FULLSIZE.png\n",
      "./datasets/spectrograms//reggae/reggae.00091.mp3_spectrogram_FULLSIZE.png\n",
      "Moved ./datasets/spectrograms//reggae.00091.mp3_spectrogram_FULLSIZE.png to ./datasets/spectrograms//reggae/reggae.00091.mp3_spectrogram_FULLSIZE.png\n",
      "./datasets/spectrograms//rock/rock.00050.mp3_spectrogram_FULLSIZE.png\n",
      "Moved ./datasets/spectrograms//rock.00050.mp3_spectrogram_FULLSIZE.png to ./datasets/spectrograms//rock/rock.00050.mp3_spectrogram_FULLSIZE.png\n",
      "./datasets/spectrograms//metal/metal.00054.mp3_spectrogram_FULLSIZE.png\n",
      "Moved ./datasets/spectrograms//metal.00054.mp3_spectrogram_FULLSIZE.png to ./datasets/spectrograms//metal/metal.00054.mp3_spectrogram_FULLSIZE.png\n",
      "./datasets/spectrograms//disco/disco.00038.mp3_spectrogram_FULLSIZE.png\n",
      "Moved ./datasets/spectrograms//disco.00038.mp3_spectrogram_FULLSIZE.png to ./datasets/spectrograms//disco/disco.00038.mp3_spectrogram_FULLSIZE.png\n",
      "./datasets/spectrograms//disco/disco.00036.mp3_spectrogram_FULLSIZE.png\n",
      "Moved ./datasets/spectrograms//disco.00036.mp3_spectrogram_FULLSIZE.png to ./datasets/spectrograms//disco/disco.00036.mp3_spectrogram_FULLSIZE.png\n",
      "./datasets/spectrograms//classical/classical.00020.mp3_spectrogram_FULLSIZE.png\n",
      "Moved ./datasets/spectrograms//classical.00020.mp3_spectrogram_FULLSIZE.png to ./datasets/spectrograms//classical/classical.00020.mp3_spectrogram_FULLSIZE.png\n",
      "./datasets/spectrograms//jazz/jazz.00020.mp3_spectrogram_FULLSIZE.png\n",
      "Moved ./datasets/spectrograms//jazz.00020.mp3_spectrogram_FULLSIZE.png to ./datasets/spectrograms//jazz/jazz.00020.mp3_spectrogram_FULLSIZE.png\n",
      "./datasets/spectrograms//jazz/jazz.00035.mp3_spectrogram_FULLSIZE.png\n",
      "Moved ./datasets/spectrograms//jazz.00035.mp3_spectrogram_FULLSIZE.png to ./datasets/spectrograms//jazz/jazz.00035.mp3_spectrogram_FULLSIZE.png\n",
      "./datasets/spectrograms//classical/classical.00035.mp3_spectrogram_FULLSIZE.png\n",
      "Moved ./datasets/spectrograms//classical.00035.mp3_spectrogram_FULLSIZE.png to ./datasets/spectrograms//classical/classical.00035.mp3_spectrogram_FULLSIZE.png\n",
      "./datasets/spectrograms//disco/disco.00023.mp3_spectrogram_FULLSIZE.png\n",
      "Moved ./datasets/spectrograms//disco.00023.mp3_spectrogram_FULLSIZE.png to ./datasets/spectrograms//disco/disco.00023.mp3_spectrogram_FULLSIZE.png\n",
      "./datasets/spectrograms//metal/metal.00041.mp3_spectrogram_FULLSIZE.png\n",
      "Moved ./datasets/spectrograms//metal.00041.mp3_spectrogram_FULLSIZE.png to ./datasets/spectrograms//metal/metal.00041.mp3_spectrogram_FULLSIZE.png\n",
      "./datasets/spectrograms//rock/rock.00045.mp3_spectrogram_FULLSIZE.png\n",
      "Moved ./datasets/spectrograms//rock.00045.mp3_spectrogram_FULLSIZE.png to ./datasets/spectrograms//rock/rock.00045.mp3_spectrogram_FULLSIZE.png\n",
      "./datasets/spectrograms//reggae/reggae.00084.mp3_spectrogram_FULLSIZE.png\n",
      "Moved ./datasets/spectrograms//reggae.00084.mp3_spectrogram_FULLSIZE.png to ./datasets/spectrograms//reggae/reggae.00084.mp3_spectrogram_FULLSIZE.png\n",
      "./datasets/spectrograms//blues/blues.00023.mp3_spectrogram_FULLSIZE.png\n",
      "Moved ./datasets/spectrograms//blues.00023.mp3_spectrogram_FULLSIZE.png to ./datasets/spectrograms//blues/blues.00023.mp3_spectrogram_FULLSIZE.png\n",
      "./datasets/spectrograms//hiphop/hiphop.00056.mp3_spectrogram_FULLSIZE.png\n",
      "Moved ./datasets/spectrograms//hiphop.00056.mp3_spectrogram_FULLSIZE.png to ./datasets/spectrograms//hiphop/hiphop.00056.mp3_spectrogram_FULLSIZE.png\n",
      "./datasets/spectrograms//country/country.00045.mp3_spectrogram_FULLSIZE.png\n",
      "Moved ./datasets/spectrograms//country.00045.mp3_spectrogram_FULLSIZE.png to ./datasets/spectrograms//country/country.00045.mp3_spectrogram_FULLSIZE.png\n",
      "./datasets/spectrograms//pop/pop.00007.mp3_spectrogram_FULLSIZE.png\n",
      "Moved ./datasets/spectrograms//pop.00007.mp3_spectrogram_FULLSIZE.png to ./datasets/spectrograms//pop/pop.00007.mp3_spectrogram_FULLSIZE.png\n",
      "./datasets/spectrograms//pop/pop.00091.mp3_spectrogram_FULLSIZE.png\n",
      "Moved ./datasets/spectrograms//pop.00091.mp3_spectrogram_FULLSIZE.png to ./datasets/spectrograms//pop/pop.00091.mp3_spectrogram_FULLSIZE.png\n",
      "./datasets/spectrograms//reggae/reggae.00012.mp3_spectrogram_FULLSIZE.png\n",
      "Moved ./datasets/spectrograms//reggae.00012.mp3_spectrogram_FULLSIZE.png to ./datasets/spectrograms//reggae/reggae.00012.mp3_spectrogram_FULLSIZE.png\n",
      "./datasets/spectrograms//hiphop/hiphop.00058.mp3_spectrogram_FULLSIZE.png\n",
      "Moved ./datasets/spectrograms//hiphop.00058.mp3_spectrogram_FULLSIZE.png to ./datasets/spectrograms//hiphop/hiphop.00058.mp3_spectrogram_FULLSIZE.png\n",
      "./datasets/spectrograms//pop/pop.00009.mp3_spectrogram_FULLSIZE.png\n",
      "Moved ./datasets/spectrograms//pop.00009.mp3_spectrogram_FULLSIZE.png to ./datasets/spectrograms//pop/pop.00009.mp3_spectrogram_FULLSIZE.png\n",
      "./datasets/spectrograms//reggae/reggae.00038.mp3_spectrogram_FULLSIZE.png\n",
      "Moved ./datasets/spectrograms//reggae.00038.mp3_spectrogram_FULLSIZE.png to ./datasets/spectrograms//reggae/reggae.00038.mp3_spectrogram_FULLSIZE.png\n",
      "./datasets/spectrograms//country/country.00061.mp3_spectrogram_FULLSIZE.png\n",
      "Moved ./datasets/spectrograms//country.00061.mp3_spectrogram_FULLSIZE.png to ./datasets/spectrograms//country/country.00061.mp3_spectrogram_FULLSIZE.png\n",
      "./datasets/spectrograms//pop/pop.00023.mp3_spectrogram_FULLSIZE.png\n",
      "Moved ./datasets/spectrograms//pop.00023.mp3_spectrogram_FULLSIZE.png to ./datasets/spectrograms//pop/pop.00023.mp3_spectrogram_FULLSIZE.png\n",
      "./datasets/spectrograms//blues/blues.00007.mp3_spectrogram_FULLSIZE.png\n",
      "Moved ./datasets/spectrograms//blues.00007.mp3_spectrogram_FULLSIZE.png to ./datasets/spectrograms//blues/blues.00007.mp3_spectrogram_FULLSIZE.png\n",
      "./datasets/spectrograms//hiphop/hiphop.00072.mp3_spectrogram_FULLSIZE.png\n",
      "Moved ./datasets/spectrograms//hiphop.00072.mp3_spectrogram_FULLSIZE.png to ./datasets/spectrograms//hiphop/hiphop.00072.mp3_spectrogram_FULLSIZE.png\n",
      "./datasets/spectrograms//reggae/reggae.00036.mp3_spectrogram_FULLSIZE.png\n",
      "Moved ./datasets/spectrograms//reggae.00036.mp3_spectrogram_FULLSIZE.png to ./datasets/spectrograms//reggae/reggae.00036.mp3_spectrogram_FULLSIZE.png\n",
      "./datasets/spectrograms//blues/blues.00009.mp3_spectrogram_FULLSIZE.png\n",
      "Moved ./datasets/spectrograms//blues.00009.mp3_spectrogram_FULLSIZE.png to ./datasets/spectrograms//blues/blues.00009.mp3_spectrogram_FULLSIZE.png\n",
      "./datasets/spectrograms//blues/blues.00091.mp3_spectrogram_FULLSIZE.png\n",
      "Moved ./datasets/spectrograms//blues.00091.mp3_spectrogram_FULLSIZE.png to ./datasets/spectrograms//blues/blues.00091.mp3_spectrogram_FULLSIZE.png\n",
      "./datasets/spectrograms//classical/classical.00089.mp3_spectrogram_FULLSIZE.png\n",
      "Moved ./datasets/spectrograms//classical.00089.mp3_spectrogram_FULLSIZE.png to ./datasets/spectrograms//classical/classical.00089.mp3_spectrogram_FULLSIZE.png\n",
      "./datasets/spectrograms//jazz/jazz.00089.mp3_spectrogram_FULLSIZE.png\n",
      "Moved ./datasets/spectrograms//jazz.00089.mp3_spectrogram_FULLSIZE.png to ./datasets/spectrograms//jazz/jazz.00089.mp3_spectrogram_FULLSIZE.png\n",
      "./datasets/spectrograms//jazz/jazz.00011.mp3_spectrogram_FULLSIZE.png\n",
      "Moved ./datasets/spectrograms//jazz.00011.mp3_spectrogram_FULLSIZE.png to ./datasets/spectrograms//jazz/jazz.00011.mp3_spectrogram_FULLSIZE.png\n",
      "./datasets/spectrograms//classical/classical.00011.mp3_spectrogram_FULLSIZE.png\n",
      "Moved ./datasets/spectrograms//classical.00011.mp3_spectrogram_FULLSIZE.png to ./datasets/spectrograms//classical/classical.00011.mp3_spectrogram_FULLSIZE.png\n",
      "./datasets/spectrograms//disco/disco.00007.mp3_spectrogram_FULLSIZE.png\n",
      "Moved ./datasets/spectrograms//disco.00007.mp3_spectrogram_FULLSIZE.png to ./datasets/spectrograms//disco/disco.00007.mp3_spectrogram_FULLSIZE.png\n",
      "./datasets/spectrograms//jazz/jazz.00087.mp3_spectrogram_FULLSIZE.png\n",
      "Moved ./datasets/spectrograms//jazz.00087.mp3_spectrogram_FULLSIZE.png to ./datasets/spectrograms//jazz/jazz.00087.mp3_spectrogram_FULLSIZE.png\n",
      "./datasets/spectrograms//classical/classical.00087.mp3_spectrogram_FULLSIZE.png\n",
      "Moved ./datasets/spectrograms//classical.00087.mp3_spectrogram_FULLSIZE.png to ./datasets/spectrograms//classical/classical.00087.mp3_spectrogram_FULLSIZE.png\n",
      "./datasets/spectrograms//metal/metal.00065.mp3_spectrogram_FULLSIZE.png\n",
      "Moved ./datasets/spectrograms//metal.00065.mp3_spectrogram_FULLSIZE.png to ./datasets/spectrograms//metal/metal.00065.mp3_spectrogram_FULLSIZE.png\n",
      "./datasets/spectrograms//rock/rock.00061.mp3_spectrogram_FULLSIZE.png\n",
      "Moved ./datasets/spectrograms//rock.00061.mp3_spectrogram_FULLSIZE.png to ./datasets/spectrograms//rock/rock.00061.mp3_spectrogram_FULLSIZE.png\n",
      "./datasets/spectrograms//disco/disco.00091.mp3_spectrogram_FULLSIZE.png\n",
      "Moved ./datasets/spectrograms//disco.00091.mp3_spectrogram_FULLSIZE.png to ./datasets/spectrograms//disco/disco.00091.mp3_spectrogram_FULLSIZE.png\n",
      "./datasets/spectrograms//disco/disco.00009.mp3_spectrogram_FULLSIZE.png\n",
      "Moved ./datasets/spectrograms//disco.00009.mp3_spectrogram_FULLSIZE.png to ./datasets/spectrograms//disco/disco.00009.mp3_spectrogram_FULLSIZE.png\n",
      "./datasets/spectrograms//disco/disco.00084.mp3_spectrogram_FULLSIZE.png\n",
      "Moved ./datasets/spectrograms//disco.00084.mp3_spectrogram_FULLSIZE.png to ./datasets/spectrograms//disco/disco.00084.mp3_spectrogram_FULLSIZE.png\n",
      "./datasets/spectrograms//rock/rock.00074.mp3_spectrogram_FULLSIZE.png\n",
      "Moved ./datasets/spectrograms//rock.00074.mp3_spectrogram_FULLSIZE.png to ./datasets/spectrograms//rock/rock.00074.mp3_spectrogram_FULLSIZE.png\n",
      "./datasets/spectrograms//classical/classical.00092.mp3_spectrogram_FULLSIZE.png\n",
      "Moved ./datasets/spectrograms//classical.00092.mp3_spectrogram_FULLSIZE.png to ./datasets/spectrograms//classical/classical.00092.mp3_spectrogram_FULLSIZE.png\n",
      "./datasets/spectrograms//jazz/jazz.00092.mp3_spectrogram_FULLSIZE.png\n",
      "Moved ./datasets/spectrograms//jazz.00092.mp3_spectrogram_FULLSIZE.png to ./datasets/spectrograms//jazz/jazz.00092.mp3_spectrogram_FULLSIZE.png\n",
      "./datasets/spectrograms//metal/metal.00070.mp3_spectrogram_FULLSIZE.png\n",
      "Moved ./datasets/spectrograms//metal.00070.mp3_spectrogram_FULLSIZE.png to ./datasets/spectrograms//metal/metal.00070.mp3_spectrogram_FULLSIZE.png\n",
      "./datasets/spectrograms//disco/disco.00012.mp3_spectrogram_FULLSIZE.png\n",
      "Moved ./datasets/spectrograms//disco.00012.mp3_spectrogram_FULLSIZE.png to ./datasets/spectrograms//disco/disco.00012.mp3_spectrogram_FULLSIZE.png\n",
      "./datasets/spectrograms//classical/classical.00004.mp3_spectrogram_FULLSIZE.png\n",
      "Moved ./datasets/spectrograms//classical.00004.mp3_spectrogram_FULLSIZE.png to ./datasets/spectrograms//classical/classical.00004.mp3_spectrogram_FULLSIZE.png\n",
      "./datasets/spectrograms//jazz/jazz.00004.mp3_spectrogram_FULLSIZE.png\n",
      "Moved ./datasets/spectrograms//jazz.00004.mp3_spectrogram_FULLSIZE.png to ./datasets/spectrograms//jazz/jazz.00004.mp3_spectrogram_FULLSIZE.png\n",
      "./datasets/spectrograms//blues/blues.00084.mp3_spectrogram_FULLSIZE.png\n",
      "Moved ./datasets/spectrograms//blues.00084.mp3_spectrogram_FULLSIZE.png to ./datasets/spectrograms//blues/blues.00084.mp3_spectrogram_FULLSIZE.png\n",
      "./datasets/spectrograms//pop/pop.00038.mp3_spectrogram_FULLSIZE.png\n",
      "Moved ./datasets/spectrograms//pop.00038.mp3_spectrogram_FULLSIZE.png to ./datasets/spectrograms//pop/pop.00038.mp3_spectrogram_FULLSIZE.png\n",
      "./datasets/spectrograms//hiphop/hiphop.00069.mp3_spectrogram_FULLSIZE.png\n",
      "Moved ./datasets/spectrograms//hiphop.00069.mp3_spectrogram_FULLSIZE.png to ./datasets/spectrograms//hiphop/hiphop.00069.mp3_spectrogram_FULLSIZE.png\n",
      "./datasets/spectrograms//reggae/reggae.00023.mp3_spectrogram_FULLSIZE.png\n",
      "Moved ./datasets/spectrograms//reggae.00023.mp3_spectrogram_FULLSIZE.png to ./datasets/spectrograms//reggae/reggae.00023.mp3_spectrogram_FULLSIZE.png\n",
      "./datasets/spectrograms//pop/pop.00036.mp3_spectrogram_FULLSIZE.png\n",
      "Moved ./datasets/spectrograms//pop.00036.mp3_spectrogram_FULLSIZE.png to ./datasets/spectrograms//pop/pop.00036.mp3_spectrogram_FULLSIZE.png\n",
      "./datasets/spectrograms//country/country.00074.mp3_spectrogram_FULLSIZE.png\n",
      "Moved ./datasets/spectrograms//country.00074.mp3_spectrogram_FULLSIZE.png to ./datasets/spectrograms//country/country.00074.mp3_spectrogram_FULLSIZE.png\n",
      "./datasets/spectrograms//hiphop/hiphop.00067.mp3_spectrogram_FULLSIZE.png\n",
      "Moved ./datasets/spectrograms//hiphop.00067.mp3_spectrogram_FULLSIZE.png to ./datasets/spectrograms//hiphop/hiphop.00067.mp3_spectrogram_FULLSIZE.png\n",
      "./datasets/spectrograms//blues/blues.00012.mp3_spectrogram_FULLSIZE.png\n",
      "Moved ./datasets/spectrograms//blues.00012.mp3_spectrogram_FULLSIZE.png to ./datasets/spectrograms//blues/blues.00012.mp3_spectrogram_FULLSIZE.png\n",
      "./datasets/spectrograms//metal/metal.00027.mp3_spectrogram_FULLSIZE.png\n",
      "Moved ./datasets/spectrograms//metal.00027.mp3_spectrogram_FULLSIZE.png to ./datasets/spectrograms//metal/metal.00027.mp3_spectrogram_FULLSIZE.png\n",
      "./datasets/spectrograms//rock/rock.00023.mp3_spectrogram_FULLSIZE.png\n",
      "Moved ./datasets/spectrograms//rock.00023.mp3_spectrogram_FULLSIZE.png to ./datasets/spectrograms//rock/rock.00023.mp3_spectrogram_FULLSIZE.png\n",
      "./datasets/spectrograms//classical/classical.00053.mp3_spectrogram_FULLSIZE.png\n",
      "Moved ./datasets/spectrograms//classical.00053.mp3_spectrogram_FULLSIZE.png to ./datasets/spectrograms//classical/classical.00053.mp3_spectrogram_FULLSIZE.png\n",
      "./datasets/spectrograms//jazz/jazz.00053.mp3_spectrogram_FULLSIZE.png\n",
      "Moved ./datasets/spectrograms//jazz.00053.mp3_spectrogram_FULLSIZE.png to ./datasets/spectrograms//jazz/jazz.00053.mp3_spectrogram_FULLSIZE.png\n",
      "./datasets/spectrograms//disco/disco.00045.mp3_spectrogram_FULLSIZE.png\n",
      "Moved ./datasets/spectrograms//disco.00045.mp3_spectrogram_FULLSIZE.png to ./datasets/spectrograms//disco/disco.00045.mp3_spectrogram_FULLSIZE.png\n",
      "./datasets/spectrograms//metal/metal.00029.mp3_spectrogram_FULLSIZE.png\n",
      "Moved ./datasets/spectrograms//metal.00029.mp3_spectrogram_FULLSIZE.png to ./datasets/spectrograms//metal/metal.00029.mp3_spectrogram_FULLSIZE.png\n",
      "./datasets/spectrograms//reggae/reggae.00074.mp3_spectrogram_FULLSIZE.png\n",
      "Moved ./datasets/spectrograms//reggae.00074.mp3_spectrogram_FULLSIZE.png to ./datasets/spectrograms//reggae/reggae.00074.mp3_spectrogram_FULLSIZE.png\n",
      "./datasets/spectrograms//pop/pop.00061.mp3_spectrogram_FULLSIZE.png\n",
      "Moved ./datasets/spectrograms//pop.00061.mp3_spectrogram_FULLSIZE.png to ./datasets/spectrograms//pop/pop.00061.mp3_spectrogram_FULLSIZE.png\n",
      "./datasets/spectrograms//country/country.00023.mp3_spectrogram_FULLSIZE.png\n",
      "Moved ./datasets/spectrograms//country.00023.mp3_spectrogram_FULLSIZE.png to ./datasets/spectrograms//country/country.00023.mp3_spectrogram_FULLSIZE.png\n",
      "./datasets/spectrograms//blues/blues.00045.mp3_spectrogram_FULLSIZE.png\n",
      "Moved ./datasets/spectrograms//blues.00045.mp3_spectrogram_FULLSIZE.png to ./datasets/spectrograms//blues/blues.00045.mp3_spectrogram_FULLSIZE.png\n",
      "./datasets/spectrograms//hiphop/hiphop.00030.mp3_spectrogram_FULLSIZE.png\n",
      "Moved ./datasets/spectrograms//hiphop.00030.mp3_spectrogram_FULLSIZE.png to ./datasets/spectrograms//hiphop/hiphop.00030.mp3_spectrogram_FULLSIZE.png\n",
      "./datasets/spectrograms//country/country.00036.mp3_spectrogram_FULLSIZE.png\n",
      "Moved ./datasets/spectrograms//country.00036.mp3_spectrogram_FULLSIZE.png to ./datasets/spectrograms//country/country.00036.mp3_spectrogram_FULLSIZE.png\n",
      "./datasets/spectrograms//pop/pop.00074.mp3_spectrogram_FULLSIZE.png\n",
      "Moved ./datasets/spectrograms//pop.00074.mp3_spectrogram_FULLSIZE.png to ./datasets/spectrograms//pop/pop.00074.mp3_spectrogram_FULLSIZE.png\n",
      "./datasets/spectrograms//hiphop/hiphop.00025.mp3_spectrogram_FULLSIZE.png\n",
      "Moved ./datasets/spectrograms//hiphop.00025.mp3_spectrogram_FULLSIZE.png to ./datasets/spectrograms//hiphop/hiphop.00025.mp3_spectrogram_FULLSIZE.png\n",
      "./datasets/spectrograms//blues/blues.00050.mp3_spectrogram_FULLSIZE.png\n",
      "Moved ./datasets/spectrograms//blues.00050.mp3_spectrogram_FULLSIZE.png to ./datasets/spectrograms//blues/blues.00050.mp3_spectrogram_FULLSIZE.png\n",
      "./datasets/spectrograms//country/country.00038.mp3_spectrogram_FULLSIZE.png\n",
      "Moved ./datasets/spectrograms//country.00038.mp3_spectrogram_FULLSIZE.png to ./datasets/spectrograms//country/country.00038.mp3_spectrogram_FULLSIZE.png\n",
      "./datasets/spectrograms//reggae/reggae.00061.mp3_spectrogram_FULLSIZE.png\n",
      "Moved ./datasets/spectrograms//reggae.00061.mp3_spectrogram_FULLSIZE.png to ./datasets/spectrograms//reggae/reggae.00061.mp3_spectrogram_FULLSIZE.png\n",
      "./datasets/spectrograms//rock/rock.00038.mp3_spectrogram_FULLSIZE.png\n",
      "Moved ./datasets/spectrograms//rock.00038.mp3_spectrogram_FULLSIZE.png to ./datasets/spectrograms//rock/rock.00038.mp3_spectrogram_FULLSIZE.png\n",
      "./datasets/spectrograms//disco/disco.00050.mp3_spectrogram_FULLSIZE.png\n",
      "Moved ./datasets/spectrograms//disco.00050.mp3_spectrogram_FULLSIZE.png to ./datasets/spectrograms//disco/disco.00050.mp3_spectrogram_FULLSIZE.png\n",
      "./datasets/spectrograms//jazz/jazz.00046.mp3_spectrogram_FULLSIZE.png\n",
      "Moved ./datasets/spectrograms//jazz.00046.mp3_spectrogram_FULLSIZE.png to ./datasets/spectrograms//jazz/jazz.00046.mp3_spectrogram_FULLSIZE.png\n",
      "./datasets/spectrograms//classical/classical.00046.mp3_spectrogram_FULLSIZE.png\n",
      "Moved ./datasets/spectrograms//classical.00046.mp3_spectrogram_FULLSIZE.png to ./datasets/spectrograms//classical/classical.00046.mp3_spectrogram_FULLSIZE.png\n",
      "./datasets/spectrograms//rock/rock.00036.mp3_spectrogram_FULLSIZE.png\n",
      "Moved ./datasets/spectrograms//rock.00036.mp3_spectrogram_FULLSIZE.png to ./datasets/spectrograms//rock/rock.00036.mp3_spectrogram_FULLSIZE.png\n",
      "./datasets/spectrograms//metal/metal.00032.mp3_spectrogram_FULLSIZE.png\n",
      "Moved ./datasets/spectrograms//metal.00032.mp3_spectrogram_FULLSIZE.png to ./datasets/spectrograms//metal/metal.00032.mp3_spectrogram_FULLSIZE.png\n",
      "./datasets/spectrograms//classical/classical.00048.mp3_spectrogram_FULLSIZE.png\n",
      "Moved ./datasets/spectrograms//classical.00048.mp3_spectrogram_FULLSIZE.png to ./datasets/spectrograms//classical/classical.00048.mp3_spectrogram_FULLSIZE.png\n",
      "./datasets/spectrograms//jazz/jazz.00048.mp3_spectrogram_FULLSIZE.png\n",
      "Moved ./datasets/spectrograms//jazz.00048.mp3_spectrogram_FULLSIZE.png to ./datasets/spectrograms//jazz/jazz.00048.mp3_spectrogram_FULLSIZE.png\n",
      "./datasets/spectrograms//rock/rock.00084.mp3_spectrogram_FULLSIZE.png\n",
      "Moved ./datasets/spectrograms//rock.00084.mp3_spectrogram_FULLSIZE.png to ./datasets/spectrograms//rock/rock.00084.mp3_spectrogram_FULLSIZE.png\n",
      "./datasets/spectrograms//disco/disco.00074.mp3_spectrogram_FULLSIZE.png\n",
      "Moved ./datasets/spectrograms//disco.00074.mp3_spectrogram_FULLSIZE.png to ./datasets/spectrograms//disco/disco.00074.mp3_spectrogram_FULLSIZE.png\n",
      "./datasets/spectrograms//metal/metal.00080.mp3_spectrogram_FULLSIZE.png\n",
      "Moved ./datasets/spectrograms//metal.00080.mp3_spectrogram_FULLSIZE.png to ./datasets/spectrograms//metal/metal.00080.mp3_spectrogram_FULLSIZE.png\n",
      "./datasets/spectrograms//jazz/jazz.00062.mp3_spectrogram_FULLSIZE.png\n",
      "Moved ./datasets/spectrograms//jazz.00062.mp3_spectrogram_FULLSIZE.png to ./datasets/spectrograms//jazz/jazz.00062.mp3_spectrogram_FULLSIZE.png\n",
      "./datasets/spectrograms//classical/classical.00062.mp3_spectrogram_FULLSIZE.png\n",
      "Moved ./datasets/spectrograms//classical.00062.mp3_spectrogram_FULLSIZE.png to ./datasets/spectrograms//classical/classical.00062.mp3_spectrogram_FULLSIZE.png\n",
      "./datasets/spectrograms//metal/metal.00018.mp3_spectrogram_FULLSIZE.png\n",
      "Moved ./datasets/spectrograms//metal.00018.mp3_spectrogram_FULLSIZE.png to ./datasets/spectrograms//metal/metal.00018.mp3_spectrogram_FULLSIZE.png\n",
      "./datasets/spectrograms//rock/rock.00012.mp3_spectrogram_FULLSIZE.png\n",
      "Moved ./datasets/spectrograms//rock.00012.mp3_spectrogram_FULLSIZE.png to ./datasets/spectrograms//rock/rock.00012.mp3_spectrogram_FULLSIZE.png\n",
      "./datasets/spectrograms//metal/metal.00016.mp3_spectrogram_FULLSIZE.png\n",
      "Moved ./datasets/spectrograms//metal.00016.mp3_spectrogram_FULLSIZE.png to ./datasets/spectrograms//metal/metal.00016.mp3_spectrogram_FULLSIZE.png\n",
      "./datasets/spectrograms//hiphop/hiphop.00099.mp3_spectrogram_FULLSIZE.png\n",
      "Moved ./datasets/spectrograms//hiphop.00099.mp3_spectrogram_FULLSIZE.png to ./datasets/spectrograms//hiphop/hiphop.00099.mp3_spectrogram_FULLSIZE.png\n",
      "./datasets/spectrograms//hiphop/hiphop.00001.mp3_spectrogram_FULLSIZE.png\n",
      "Moved ./datasets/spectrograms//hiphop.00001.mp3_spectrogram_FULLSIZE.png to ./datasets/spectrograms//hiphop/hiphop.00001.mp3_spectrogram_FULLSIZE.png\n",
      "./datasets/spectrograms//blues/blues.00074.mp3_spectrogram_FULLSIZE.png\n",
      "Moved ./datasets/spectrograms//blues.00074.mp3_spectrogram_FULLSIZE.png to ./datasets/spectrograms//blues/blues.00074.mp3_spectrogram_FULLSIZE.png\n",
      "./datasets/spectrograms//country/country.00012.mp3_spectrogram_FULLSIZE.png\n",
      "Moved ./datasets/spectrograms//country.00012.mp3_spectrogram_FULLSIZE.png to ./datasets/spectrograms//country/country.00012.mp3_spectrogram_FULLSIZE.png\n",
      "./datasets/spectrograms//pop/pop.00050.mp3_spectrogram_FULLSIZE.png\n",
      "Moved ./datasets/spectrograms//pop.00050.mp3_spectrogram_FULLSIZE.png to ./datasets/spectrograms//pop/pop.00050.mp3_spectrogram_FULLSIZE.png\n",
      "./datasets/spectrograms//hiphop/hiphop.00097.mp3_spectrogram_FULLSIZE.png\n",
      "Moved ./datasets/spectrograms//hiphop.00097.mp3_spectrogram_FULLSIZE.png to ./datasets/spectrograms//hiphop/hiphop.00097.mp3_spectrogram_FULLSIZE.png\n",
      "./datasets/spectrograms//country/country.00084.mp3_spectrogram_FULLSIZE.png\n",
      "Moved ./datasets/spectrograms//country.00084.mp3_spectrogram_FULLSIZE.png to ./datasets/spectrograms//country/country.00084.mp3_spectrogram_FULLSIZE.png\n",
      "./datasets/spectrograms//reggae/reggae.00045.mp3_spectrogram_FULLSIZE.png\n",
      "Moved ./datasets/spectrograms//reggae.00045.mp3_spectrogram_FULLSIZE.png to ./datasets/spectrograms//reggae/reggae.00045.mp3_spectrogram_FULLSIZE.png\n",
      "./datasets/spectrograms//reggae/reggae.00050.mp3_spectrogram_FULLSIZE.png\n",
      "Moved ./datasets/spectrograms//reggae.00050.mp3_spectrogram_FULLSIZE.png to ./datasets/spectrograms//reggae/reggae.00050.mp3_spectrogram_FULLSIZE.png\n",
      "./datasets/spectrograms//country/country.00009.mp3_spectrogram_FULLSIZE.png\n",
      "Moved ./datasets/spectrograms//country.00009.mp3_spectrogram_FULLSIZE.png to ./datasets/spectrograms//country/country.00009.mp3_spectrogram_FULLSIZE.png\n",
      "./datasets/spectrograms//hiphop/hiphop.00082.mp3_spectrogram_FULLSIZE.png\n",
      "Moved ./datasets/spectrograms//hiphop.00082.mp3_spectrogram_FULLSIZE.png to ./datasets/spectrograms//hiphop/hiphop.00082.mp3_spectrogram_FULLSIZE.png\n",
      "./datasets/spectrograms//country/country.00091.mp3_spectrogram_FULLSIZE.png\n",
      "Moved ./datasets/spectrograms//country.00091.mp3_spectrogram_FULLSIZE.png to ./datasets/spectrograms//country/country.00091.mp3_spectrogram_FULLSIZE.png\n",
      "./datasets/spectrograms//blues/blues.00061.mp3_spectrogram_FULLSIZE.png\n",
      "Moved ./datasets/spectrograms//blues.00061.mp3_spectrogram_FULLSIZE.png to ./datasets/spectrograms//blues/blues.00061.mp3_spectrogram_FULLSIZE.png\n",
      "./datasets/spectrograms//hiphop/hiphop.00014.mp3_spectrogram_FULLSIZE.png\n",
      "Moved ./datasets/spectrograms//hiphop.00014.mp3_spectrogram_FULLSIZE.png to ./datasets/spectrograms//hiphop/hiphop.00014.mp3_spectrogram_FULLSIZE.png\n",
      "./datasets/spectrograms//pop/pop.00045.mp3_spectrogram_FULLSIZE.png\n",
      "Moved ./datasets/spectrograms//pop.00045.mp3_spectrogram_FULLSIZE.png to ./datasets/spectrograms//pop/pop.00045.mp3_spectrogram_FULLSIZE.png\n",
      "./datasets/spectrograms//country/country.00007.mp3_spectrogram_FULLSIZE.png\n",
      "Moved ./datasets/spectrograms//country.00007.mp3_spectrogram_FULLSIZE.png to ./datasets/spectrograms//country/country.00007.mp3_spectrogram_FULLSIZE.png\n",
      "./datasets/spectrograms//metal/metal.00003.mp3_spectrogram_FULLSIZE.png\n",
      "Moved ./datasets/spectrograms//metal.00003.mp3_spectrogram_FULLSIZE.png to ./datasets/spectrograms//metal/metal.00003.mp3_spectrogram_FULLSIZE.png\n",
      "./datasets/spectrograms//rock/rock.00007.mp3_spectrogram_FULLSIZE.png\n",
      "Moved ./datasets/spectrograms//rock.00007.mp3_spectrogram_FULLSIZE.png to ./datasets/spectrograms//rock/rock.00007.mp3_spectrogram_FULLSIZE.png\n",
      "./datasets/spectrograms//jazz/jazz.00079.mp3_spectrogram_FULLSIZE.png\n",
      "Moved ./datasets/spectrograms//jazz.00079.mp3_spectrogram_FULLSIZE.png to ./datasets/spectrograms//jazz/jazz.00079.mp3_spectrogram_FULLSIZE.png\n",
      "./datasets/spectrograms//classical/classical.00079.mp3_spectrogram_FULLSIZE.png\n",
      "Moved ./datasets/spectrograms//classical.00079.mp3_spectrogram_FULLSIZE.png to ./datasets/spectrograms//classical/classical.00079.mp3_spectrogram_FULLSIZE.png\n",
      "./datasets/spectrograms//rock/rock.00009.mp3_spectrogram_FULLSIZE.png\n",
      "Moved ./datasets/spectrograms//rock.00009.mp3_spectrogram_FULLSIZE.png to ./datasets/spectrograms//rock/rock.00009.mp3_spectrogram_FULLSIZE.png\n",
      "./datasets/spectrograms//metal/metal.00095.mp3_spectrogram_FULLSIZE.png\n",
      "Moved ./datasets/spectrograms//metal.00095.mp3_spectrogram_FULLSIZE.png to ./datasets/spectrograms//metal/metal.00095.mp3_spectrogram_FULLSIZE.png\n",
      "./datasets/spectrograms//classical/classical.00077.mp3_spectrogram_FULLSIZE.png\n",
      "Moved ./datasets/spectrograms//classical.00077.mp3_spectrogram_FULLSIZE.png to ./datasets/spectrograms//classical/classical.00077.mp3_spectrogram_FULLSIZE.png\n",
      "./datasets/spectrograms//jazz/jazz.00077.mp3_spectrogram_FULLSIZE.png\n",
      "Moved ./datasets/spectrograms//jazz.00077.mp3_spectrogram_FULLSIZE.png to ./datasets/spectrograms//jazz/jazz.00077.mp3_spectrogram_FULLSIZE.png\n",
      "./datasets/spectrograms//disco/disco.00061.mp3_spectrogram_FULLSIZE.png\n",
      "Moved ./datasets/spectrograms//disco.00061.mp3_spectrogram_FULLSIZE.png to ./datasets/spectrograms//disco/disco.00061.mp3_spectrogram_FULLSIZE.png\n",
      "./datasets/spectrograms//rock/rock.00091.mp3_spectrogram_FULLSIZE.png\n",
      "Moved ./datasets/spectrograms//rock.00091.mp3_spectrogram_FULLSIZE.png to ./datasets/spectrograms//rock/rock.00091.mp3_spectrogram_FULLSIZE.png\n",
      "./datasets/spectrograms//disco/disco.00053.mp3_spectrogram_FULLSIZE.png\n",
      "Moved ./datasets/spectrograms//disco.00053.mp3_spectrogram_FULLSIZE.png to ./datasets/spectrograms//disco/disco.00053.mp3_spectrogram_FULLSIZE.png\n",
      "./datasets/spectrograms//classical/classical.00045.mp3_spectrogram_FULLSIZE.png\n",
      "Moved ./datasets/spectrograms//classical.00045.mp3_spectrogram_FULLSIZE.png to ./datasets/spectrograms//classical/classical.00045.mp3_spectrogram_FULLSIZE.png\n",
      "./datasets/spectrograms//jazz/jazz.00045.mp3_spectrogram_FULLSIZE.png\n",
      "Moved ./datasets/spectrograms//jazz.00045.mp3_spectrogram_FULLSIZE.png to ./datasets/spectrograms//jazz/jazz.00045.mp3_spectrogram_FULLSIZE.png\n",
      "./datasets/spectrograms//rock/rock.00035.mp3_spectrogram_FULLSIZE.png\n",
      "Moved ./datasets/spectrograms//rock.00035.mp3_spectrogram_FULLSIZE.png to ./datasets/spectrograms//rock/rock.00035.mp3_spectrogram_FULLSIZE.png\n",
      "./datasets/spectrograms//metal/metal.00031.mp3_spectrogram_FULLSIZE.png\n",
      "Moved ./datasets/spectrograms//metal.00031.mp3_spectrogram_FULLSIZE.png to ./datasets/spectrograms//metal/metal.00031.mp3_spectrogram_FULLSIZE.png\n",
      "./datasets/spectrograms//country/country.00035.mp3_spectrogram_FULLSIZE.png\n",
      "Moved ./datasets/spectrograms//country.00035.mp3_spectrogram_FULLSIZE.png to ./datasets/spectrograms//country/country.00035.mp3_spectrogram_FULLSIZE.png\n",
      "./datasets/spectrograms//pop/pop.00077.mp3_spectrogram_FULLSIZE.png\n",
      "Moved ./datasets/spectrograms//pop.00077.mp3_spectrogram_FULLSIZE.png to ./datasets/spectrograms//pop/pop.00077.mp3_spectrogram_FULLSIZE.png\n",
      "./datasets/spectrograms//hiphop/hiphop.00026.mp3_spectrogram_FULLSIZE.png\n",
      "Moved ./datasets/spectrograms//hiphop.00026.mp3_spectrogram_FULLSIZE.png to ./datasets/spectrograms//hiphop/hiphop.00026.mp3_spectrogram_FULLSIZE.png\n",
      "./datasets/spectrograms//blues/blues.00053.mp3_spectrogram_FULLSIZE.png\n",
      "Moved ./datasets/spectrograms//blues.00053.mp3_spectrogram_FULLSIZE.png to ./datasets/spectrograms//blues/blues.00053.mp3_spectrogram_FULLSIZE.png\n",
      "./datasets/spectrograms//pop/pop.00079.mp3_spectrogram_FULLSIZE.png\n",
      "Moved ./datasets/spectrograms//pop.00079.mp3_spectrogram_FULLSIZE.png to ./datasets/spectrograms//pop/pop.00079.mp3_spectrogram_FULLSIZE.png\n",
      "./datasets/spectrograms//hiphop/hiphop.00028.mp3_spectrogram_FULLSIZE.png\n",
      "Moved ./datasets/spectrograms//hiphop.00028.mp3_spectrogram_FULLSIZE.png to ./datasets/spectrograms//hiphop/hiphop.00028.mp3_spectrogram_FULLSIZE.png\n",
      "./datasets/spectrograms//reggae/reggae.00062.mp3_spectrogram_FULLSIZE.png\n",
      "Moved ./datasets/spectrograms//reggae.00062.mp3_spectrogram_FULLSIZE.png to ./datasets/spectrograms//reggae/reggae.00062.mp3_spectrogram_FULLSIZE.png\n",
      "./datasets/spectrograms//reggae/reggae.00077.mp3_spectrogram_FULLSIZE.png\n",
      "Moved ./datasets/spectrograms//reggae.00077.mp3_spectrogram_FULLSIZE.png to ./datasets/spectrograms//reggae/reggae.00077.mp3_spectrogram_FULLSIZE.png\n",
      "./datasets/spectrograms//blues/blues.00048.mp3_spectrogram_FULLSIZE.png\n",
      "Moved ./datasets/spectrograms//blues.00048.mp3_spectrogram_FULLSIZE.png to ./datasets/spectrograms//blues/blues.00048.mp3_spectrogram_FULLSIZE.png\n",
      "./datasets/spectrograms//reggae/reggae.00079.mp3_spectrogram_FULLSIZE.png\n",
      "Moved ./datasets/spectrograms//reggae.00079.mp3_spectrogram_FULLSIZE.png to ./datasets/spectrograms//reggae/reggae.00079.mp3_spectrogram_FULLSIZE.png\n",
      "./datasets/spectrograms//pop/pop.00062.mp3_spectrogram_FULLSIZE.png\n",
      "Moved ./datasets/spectrograms//pop.00062.mp3_spectrogram_FULLSIZE.png to ./datasets/spectrograms//pop/pop.00062.mp3_spectrogram_FULLSIZE.png\n",
      "./datasets/spectrograms//country/country.00020.mp3_spectrogram_FULLSIZE.png\n",
      "Moved ./datasets/spectrograms//country.00020.mp3_spectrogram_FULLSIZE.png to ./datasets/spectrograms//country/country.00020.mp3_spectrogram_FULLSIZE.png\n",
      "./datasets/spectrograms//blues/blues.00046.mp3_spectrogram_FULLSIZE.png\n",
      "Moved ./datasets/spectrograms//blues.00046.mp3_spectrogram_FULLSIZE.png to ./datasets/spectrograms//blues/blues.00046.mp3_spectrogram_FULLSIZE.png\n",
      "./datasets/spectrograms//hiphop/hiphop.00033.mp3_spectrogram_FULLSIZE.png\n",
      "Moved ./datasets/spectrograms//hiphop.00033.mp3_spectrogram_FULLSIZE.png to ./datasets/spectrograms//hiphop/hiphop.00033.mp3_spectrogram_FULLSIZE.png\n",
      "./datasets/spectrograms//metal/metal.00024.mp3_spectrogram_FULLSIZE.png\n",
      "Moved ./datasets/spectrograms//metal.00024.mp3_spectrogram_FULLSIZE.png to ./datasets/spectrograms//metal/metal.00024.mp3_spectrogram_FULLSIZE.png\n",
      "./datasets/spectrograms//rock/rock.00020.mp3_spectrogram_FULLSIZE.png\n",
      "Moved ./datasets/spectrograms//rock.00020.mp3_spectrogram_FULLSIZE.png to ./datasets/spectrograms//rock/rock.00020.mp3_spectrogram_FULLSIZE.png\n",
      "./datasets/spectrograms//disco/disco.00048.mp3_spectrogram_FULLSIZE.png\n",
      "Moved ./datasets/spectrograms//disco.00048.mp3_spectrogram_FULLSIZE.png to ./datasets/spectrograms//disco/disco.00048.mp3_spectrogram_FULLSIZE.png\n",
      "./datasets/spectrograms//jazz/jazz.00050.mp3_spectrogram_FULLSIZE.png\n",
      "Moved ./datasets/spectrograms//jazz.00050.mp3_spectrogram_FULLSIZE.png to ./datasets/spectrograms//jazz/jazz.00050.mp3_spectrogram_FULLSIZE.png\n",
      "./datasets/spectrograms//classical/classical.00050.mp3_spectrogram_FULLSIZE.png\n",
      "Moved ./datasets/spectrograms//classical.00050.mp3_spectrogram_FULLSIZE.png to ./datasets/spectrograms//classical/classical.00050.mp3_spectrogram_FULLSIZE.png\n",
      "./datasets/spectrograms//disco/disco.00046.mp3_spectrogram_FULLSIZE.png\n",
      "Moved ./datasets/spectrograms//disco.00046.mp3_spectrogram_FULLSIZE.png to ./datasets/spectrograms//disco/disco.00046.mp3_spectrogram_FULLSIZE.png\n",
      "./datasets/spectrograms//metal/metal.00098.mp3_spectrogram_FULLSIZE.png\n",
      "Moved ./datasets/spectrograms//metal.00098.mp3_spectrogram_FULLSIZE.png to ./datasets/spectrograms//metal/metal.00098.mp3_spectrogram_FULLSIZE.png\n",
      "./datasets/spectrograms//metal/metal.00000.mp3_spectrogram_FULLSIZE.png\n",
      "Moved ./datasets/spectrograms//metal.00000.mp3_spectrogram_FULLSIZE.png to ./datasets/spectrograms//metal/metal.00000.mp3_spectrogram_FULLSIZE.png\n",
      "./datasets/spectrograms//rock/rock.00004.mp3_spectrogram_FULLSIZE.png\n",
      "Moved ./datasets/spectrograms//rock.00004.mp3_spectrogram_FULLSIZE.png to ./datasets/spectrograms//rock/rock.00004.mp3_spectrogram_FULLSIZE.png\n",
      "./datasets/spectrograms//metal/metal.00096.mp3_spectrogram_FULLSIZE.png\n",
      "Moved ./datasets/spectrograms//metal.00096.mp3_spectrogram_FULLSIZE.png to ./datasets/spectrograms//metal/metal.00096.mp3_spectrogram_FULLSIZE.png\n",
      "./datasets/spectrograms//jazz/jazz.00074.mp3_spectrogram_FULLSIZE.png\n",
      "Moved ./datasets/spectrograms//jazz.00074.mp3_spectrogram_FULLSIZE.png to ./datasets/spectrograms//jazz/jazz.00074.mp3_spectrogram_FULLSIZE.png\n",
      "./datasets/spectrograms//classical/classical.00074.mp3_spectrogram_FULLSIZE.png\n",
      "Moved ./datasets/spectrograms//classical.00074.mp3_spectrogram_FULLSIZE.png to ./datasets/spectrograms//classical/classical.00074.mp3_spectrogram_FULLSIZE.png\n",
      "./datasets/spectrograms//rock/rock.00092.mp3_spectrogram_FULLSIZE.png\n",
      "Moved ./datasets/spectrograms//rock.00092.mp3_spectrogram_FULLSIZE.png to ./datasets/spectrograms//rock/rock.00092.mp3_spectrogram_FULLSIZE.png\n",
      "./datasets/spectrograms//disco/disco.00062.mp3_spectrogram_FULLSIZE.png\n",
      "Moved ./datasets/spectrograms//disco.00062.mp3_spectrogram_FULLSIZE.png to ./datasets/spectrograms//disco/disco.00062.mp3_spectrogram_FULLSIZE.png\n",
      "./datasets/spectrograms//hiphop/hiphop.00081.mp3_spectrogram_FULLSIZE.png\n",
      "Moved ./datasets/spectrograms//hiphop.00081.mp3_spectrogram_FULLSIZE.png to ./datasets/spectrograms//hiphop/hiphop.00081.mp3_spectrogram_FULLSIZE.png\n",
      "./datasets/spectrograms//country/country.00092.mp3_spectrogram_FULLSIZE.png\n",
      "Moved ./datasets/spectrograms//country.00092.mp3_spectrogram_FULLSIZE.png to ./datasets/spectrograms//country/country.00092.mp3_spectrogram_FULLSIZE.png\n",
      "./datasets/spectrograms//reggae/reggae.00053.mp3_spectrogram_FULLSIZE.png\n",
      "Moved ./datasets/spectrograms//reggae.00053.mp3_spectrogram_FULLSIZE.png to ./datasets/spectrograms//reggae/reggae.00053.mp3_spectrogram_FULLSIZE.png\n",
      "./datasets/spectrograms//hiphop/hiphop.00019.mp3_spectrogram_FULLSIZE.png\n",
      "Moved ./datasets/spectrograms//hiphop.00019.mp3_spectrogram_FULLSIZE.png to ./datasets/spectrograms//hiphop/hiphop.00019.mp3_spectrogram_FULLSIZE.png\n",
      "./datasets/spectrograms//pop/pop.00048.mp3_spectrogram_FULLSIZE.png\n",
      "Moved ./datasets/spectrograms//pop.00048.mp3_spectrogram_FULLSIZE.png to ./datasets/spectrograms//pop/pop.00048.mp3_spectrogram_FULLSIZE.png\n",
      "./datasets/spectrograms//blues/blues.00062.mp3_spectrogram_FULLSIZE.png\n",
      "Moved ./datasets/spectrograms//blues.00062.mp3_spectrogram_FULLSIZE.png to ./datasets/spectrograms//blues/blues.00062.mp3_spectrogram_FULLSIZE.png\n",
      "./datasets/spectrograms//hiphop/hiphop.00017.mp3_spectrogram_FULLSIZE.png\n",
      "Moved ./datasets/spectrograms//hiphop.00017.mp3_spectrogram_FULLSIZE.png to ./datasets/spectrograms//hiphop/hiphop.00017.mp3_spectrogram_FULLSIZE.png\n",
      "./datasets/spectrograms//pop/pop.00046.mp3_spectrogram_FULLSIZE.png\n",
      "Moved ./datasets/spectrograms//pop.00046.mp3_spectrogram_FULLSIZE.png to ./datasets/spectrograms//pop/pop.00046.mp3_spectrogram_FULLSIZE.png\n",
      "./datasets/spectrograms//country/country.00004.mp3_spectrogram_FULLSIZE.png\n",
      "Moved ./datasets/spectrograms//country.00004.mp3_spectrogram_FULLSIZE.png to ./datasets/spectrograms//country/country.00004.mp3_spectrogram_FULLSIZE.png\n",
      "./datasets/spectrograms//hiphop/hiphop.00002.mp3_spectrogram_FULLSIZE.png\n",
      "Moved ./datasets/spectrograms//hiphop.00002.mp3_spectrogram_FULLSIZE.png to ./datasets/spectrograms//hiphop/hiphop.00002.mp3_spectrogram_FULLSIZE.png\n",
      "./datasets/spectrograms//blues/blues.00077.mp3_spectrogram_FULLSIZE.png\n",
      "Moved ./datasets/spectrograms//blues.00077.mp3_spectrogram_FULLSIZE.png to ./datasets/spectrograms//blues/blues.00077.mp3_spectrogram_FULLSIZE.png\n",
      "./datasets/spectrograms//country/country.00011.mp3_spectrogram_FULLSIZE.png\n",
      "Moved ./datasets/spectrograms//country.00011.mp3_spectrogram_FULLSIZE.png to ./datasets/spectrograms//country/country.00011.mp3_spectrogram_FULLSIZE.png\n",
      "./datasets/spectrograms//pop/pop.00053.mp3_spectrogram_FULLSIZE.png\n",
      "Moved ./datasets/spectrograms//pop.00053.mp3_spectrogram_FULLSIZE.png to ./datasets/spectrograms//pop/pop.00053.mp3_spectrogram_FULLSIZE.png\n",
      "./datasets/spectrograms//reggae/reggae.00048.mp3_spectrogram_FULLSIZE.png\n",
      "Moved ./datasets/spectrograms//reggae.00048.mp3_spectrogram_FULLSIZE.png to ./datasets/spectrograms//reggae/reggae.00048.mp3_spectrogram_FULLSIZE.png\n",
      "./datasets/spectrograms//country/country.00089.mp3_spectrogram_FULLSIZE.png\n",
      "Moved ./datasets/spectrograms//country.00089.mp3_spectrogram_FULLSIZE.png to ./datasets/spectrograms//country/country.00089.mp3_spectrogram_FULLSIZE.png\n",
      "./datasets/spectrograms//blues/blues.00079.mp3_spectrogram_FULLSIZE.png\n",
      "Moved ./datasets/spectrograms//blues.00079.mp3_spectrogram_FULLSIZE.png to ./datasets/spectrograms//blues/blues.00079.mp3_spectrogram_FULLSIZE.png\n",
      "./datasets/spectrograms//reggae/reggae.00046.mp3_spectrogram_FULLSIZE.png\n",
      "Moved ./datasets/spectrograms//reggae.00046.mp3_spectrogram_FULLSIZE.png to ./datasets/spectrograms//reggae/reggae.00046.mp3_spectrogram_FULLSIZE.png\n",
      "./datasets/spectrograms//hiphop/hiphop.00094.mp3_spectrogram_FULLSIZE.png\n",
      "Moved ./datasets/spectrograms//hiphop.00094.mp3_spectrogram_FULLSIZE.png to ./datasets/spectrograms//hiphop/hiphop.00094.mp3_spectrogram_FULLSIZE.png\n",
      "./datasets/spectrograms//country/country.00087.mp3_spectrogram_FULLSIZE.png\n",
      "Moved ./datasets/spectrograms//country.00087.mp3_spectrogram_FULLSIZE.png to ./datasets/spectrograms//country/country.00087.mp3_spectrogram_FULLSIZE.png\n",
      "./datasets/spectrograms//disco/disco.00077.mp3_spectrogram_FULLSIZE.png\n",
      "Moved ./datasets/spectrograms//disco.00077.mp3_spectrogram_FULLSIZE.png to ./datasets/spectrograms//disco/disco.00077.mp3_spectrogram_FULLSIZE.png\n",
      "./datasets/spectrograms//rock/rock.00087.mp3_spectrogram_FULLSIZE.png\n",
      "Moved ./datasets/spectrograms//rock.00087.mp3_spectrogram_FULLSIZE.png to ./datasets/spectrograms//rock/rock.00087.mp3_spectrogram_FULLSIZE.png\n",
      "./datasets/spectrograms//metal/metal.00083.mp3_spectrogram_FULLSIZE.png\n",
      "Moved ./datasets/spectrograms//metal.00083.mp3_spectrogram_FULLSIZE.png to ./datasets/spectrograms//metal/metal.00083.mp3_spectrogram_FULLSIZE.png\n",
      "./datasets/spectrograms//classical/classical.00061.mp3_spectrogram_FULLSIZE.png\n",
      "Moved ./datasets/spectrograms//classical.00061.mp3_spectrogram_FULLSIZE.png to ./datasets/spectrograms//classical/classical.00061.mp3_spectrogram_FULLSIZE.png\n",
      "./datasets/spectrograms//jazz/jazz.00061.mp3_spectrogram_FULLSIZE.png\n",
      "Moved ./datasets/spectrograms//jazz.00061.mp3_spectrogram_FULLSIZE.png to ./datasets/spectrograms//jazz/jazz.00061.mp3_spectrogram_FULLSIZE.png\n",
      "./datasets/spectrograms//rock/rock.00011.mp3_spectrogram_FULLSIZE.png\n",
      "Moved ./datasets/spectrograms//rock.00011.mp3_spectrogram_FULLSIZE.png to ./datasets/spectrograms//rock/rock.00011.mp3_spectrogram_FULLSIZE.png\n",
      "./datasets/spectrograms//metal/metal.00015.mp3_spectrogram_FULLSIZE.png\n",
      "Moved ./datasets/spectrograms//metal.00015.mp3_spectrogram_FULLSIZE.png to ./datasets/spectrograms//metal/metal.00015.mp3_spectrogram_FULLSIZE.png\n",
      "./datasets/spectrograms//rock/rock.00089.mp3_spectrogram_FULLSIZE.png\n",
      "Moved ./datasets/spectrograms//rock.00089.mp3_spectrogram_FULLSIZE.png to ./datasets/spectrograms//rock/rock.00089.mp3_spectrogram_FULLSIZE.png\n",
      "./datasets/spectrograms//disco/disco.00079.mp3_spectrogram_FULLSIZE.png\n",
      "Moved ./datasets/spectrograms//disco.00079.mp3_spectrogram_FULLSIZE.png to ./datasets/spectrograms//disco/disco.00079.mp3_spectrogram_FULLSIZE.png\n",
      "./datasets/spectrograms//blues/blues.00020.mp3_spectrogram_FULLSIZE.png\n",
      "Moved ./datasets/spectrograms//blues.00020.mp3_spectrogram_FULLSIZE.png to ./datasets/spectrograms//blues/blues.00020.mp3_spectrogram_FULLSIZE.png\n",
      "./datasets/spectrograms//hiphop/hiphop.00055.mp3_spectrogram_FULLSIZE.png\n",
      "Moved ./datasets/spectrograms//hiphop.00055.mp3_spectrogram_FULLSIZE.png to ./datasets/spectrograms//hiphop/hiphop.00055.mp3_spectrogram_FULLSIZE.png\n",
      "./datasets/spectrograms//country/country.00046.mp3_spectrogram_FULLSIZE.png\n",
      "Moved ./datasets/spectrograms//country.00046.mp3_spectrogram_FULLSIZE.png to ./datasets/spectrograms//country/country.00046.mp3_spectrogram_FULLSIZE.png\n",
      "./datasets/spectrograms//pop/pop.00004.mp3_spectrogram_FULLSIZE.png\n",
      "Moved ./datasets/spectrograms//pop.00004.mp3_spectrogram_FULLSIZE.png to ./datasets/spectrograms//pop/pop.00004.mp3_spectrogram_FULLSIZE.png\n",
      "./datasets/spectrograms//reggae/reggae.00087.mp3_spectrogram_FULLSIZE.png\n",
      "Moved ./datasets/spectrograms//reggae.00087.mp3_spectrogram_FULLSIZE.png to ./datasets/spectrograms//reggae/reggae.00087.mp3_spectrogram_FULLSIZE.png\n",
      "./datasets/spectrograms//reggae/reggae.00011.mp3_spectrogram_FULLSIZE.png\n",
      "Moved ./datasets/spectrograms//reggae.00011.mp3_spectrogram_FULLSIZE.png to ./datasets/spectrograms//reggae/reggae.00011.mp3_spectrogram_FULLSIZE.png\n",
      "./datasets/spectrograms//country/country.00048.mp3_spectrogram_FULLSIZE.png\n",
      "Moved ./datasets/spectrograms//country.00048.mp3_spectrogram_FULLSIZE.png to ./datasets/spectrograms//country/country.00048.mp3_spectrogram_FULLSIZE.png\n",
      "./datasets/spectrograms//reggae/reggae.00089.mp3_spectrogram_FULLSIZE.png\n",
      "Moved ./datasets/spectrograms//reggae.00089.mp3_spectrogram_FULLSIZE.png to ./datasets/spectrograms//reggae/reggae.00089.mp3_spectrogram_FULLSIZE.png\n",
      "./datasets/spectrograms//pop/pop.00092.mp3_spectrogram_FULLSIZE.png\n",
      "Moved ./datasets/spectrograms//pop.00092.mp3_spectrogram_FULLSIZE.png to ./datasets/spectrograms//pop/pop.00092.mp3_spectrogram_FULLSIZE.png\n",
      "./datasets/spectrograms//rock/rock.00048.mp3_spectrogram_FULLSIZE.png\n",
      "Moved ./datasets/spectrograms//rock.00048.mp3_spectrogram_FULLSIZE.png to ./datasets/spectrograms//rock/rock.00048.mp3_spectrogram_FULLSIZE.png\n",
      "./datasets/spectrograms//classical/classical.00036.mp3_spectrogram_FULLSIZE.png\n",
      "Moved ./datasets/spectrograms//classical.00036.mp3_spectrogram_FULLSIZE.png to ./datasets/spectrograms//classical/classical.00036.mp3_spectrogram_FULLSIZE.png\n",
      "./datasets/spectrograms//jazz/jazz.00036.mp3_spectrogram_FULLSIZE.png\n",
      "Moved ./datasets/spectrograms//jazz.00036.mp3_spectrogram_FULLSIZE.png to ./datasets/spectrograms//jazz/jazz.00036.mp3_spectrogram_FULLSIZE.png\n",
      "./datasets/spectrograms//disco/disco.00020.mp3_spectrogram_FULLSIZE.png\n",
      "Moved ./datasets/spectrograms//disco.00020.mp3_spectrogram_FULLSIZE.png to ./datasets/spectrograms//disco/disco.00020.mp3_spectrogram_FULLSIZE.png\n",
      "./datasets/spectrograms//metal/metal.00042.mp3_spectrogram_FULLSIZE.png\n",
      "Moved ./datasets/spectrograms//metal.00042.mp3_spectrogram_FULLSIZE.png to ./datasets/spectrograms//metal/metal.00042.mp3_spectrogram_FULLSIZE.png\n",
      "./datasets/spectrograms//rock/rock.00046.mp3_spectrogram_FULLSIZE.png\n",
      "Moved ./datasets/spectrograms//rock.00046.mp3_spectrogram_FULLSIZE.png to ./datasets/spectrograms//rock/rock.00046.mp3_spectrogram_FULLSIZE.png\n",
      "./datasets/spectrograms//jazz/jazz.00038.mp3_spectrogram_FULLSIZE.png\n",
      "Moved ./datasets/spectrograms//jazz.00038.mp3_spectrogram_FULLSIZE.png to ./datasets/spectrograms//jazz/jazz.00038.mp3_spectrogram_FULLSIZE.png\n",
      "./datasets/spectrograms//classical/classical.00038.mp3_spectrogram_FULLSIZE.png\n",
      "Moved ./datasets/spectrograms//classical.00038.mp3_spectrogram_FULLSIZE.png to ./datasets/spectrograms//classical/classical.00038.mp3_spectrogram_FULLSIZE.png\n",
      "./datasets/spectrograms//rock/rock.00053.mp3_spectrogram_FULLSIZE.png\n",
      "Moved ./datasets/spectrograms//rock.00053.mp3_spectrogram_FULLSIZE.png to ./datasets/spectrograms//rock/rock.00053.mp3_spectrogram_FULLSIZE.png\n",
      "./datasets/spectrograms//metal/metal.00057.mp3_spectrogram_FULLSIZE.png\n",
      "Moved ./datasets/spectrograms//metal.00057.mp3_spectrogram_FULLSIZE.png to ./datasets/spectrograms//metal/metal.00057.mp3_spectrogram_FULLSIZE.png\n",
      "./datasets/spectrograms//disco/disco.00035.mp3_spectrogram_FULLSIZE.png\n",
      "Moved ./datasets/spectrograms//disco.00035.mp3_spectrogram_FULLSIZE.png to ./datasets/spectrograms//disco/disco.00035.mp3_spectrogram_FULLSIZE.png\n",
      "./datasets/spectrograms//jazz/jazz.00023.mp3_spectrogram_FULLSIZE.png\n",
      "Moved ./datasets/spectrograms//jazz.00023.mp3_spectrogram_FULLSIZE.png to ./datasets/spectrograms//jazz/jazz.00023.mp3_spectrogram_FULLSIZE.png\n",
      "./datasets/spectrograms//classical/classical.00023.mp3_spectrogram_FULLSIZE.png\n",
      "Moved ./datasets/spectrograms//classical.00023.mp3_spectrogram_FULLSIZE.png to ./datasets/spectrograms//classical/classical.00023.mp3_spectrogram_FULLSIZE.png\n",
      "./datasets/spectrograms//metal/metal.00059.mp3_spectrogram_FULLSIZE.png\n",
      "Moved ./datasets/spectrograms//metal.00059.mp3_spectrogram_FULLSIZE.png to ./datasets/spectrograms//metal/metal.00059.mp3_spectrogram_FULLSIZE.png\n",
      "./datasets/spectrograms//pop/pop.00087.mp3_spectrogram_FULLSIZE.png\n",
      "Moved ./datasets/spectrograms//pop.00087.mp3_spectrogram_FULLSIZE.png to ./datasets/spectrograms//pop/pop.00087.mp3_spectrogram_FULLSIZE.png\n",
      "./datasets/spectrograms//reggae/reggae.00004.mp3_spectrogram_FULLSIZE.png\n",
      "Moved ./datasets/spectrograms//reggae.00004.mp3_spectrogram_FULLSIZE.png to ./datasets/spectrograms//reggae/reggae.00004.mp3_spectrogram_FULLSIZE.png\n",
      "./datasets/spectrograms//pop/pop.00089.mp3_spectrogram_FULLSIZE.png\n",
      "Moved ./datasets/spectrograms//pop.00089.mp3_spectrogram_FULLSIZE.png to ./datasets/spectrograms//pop/pop.00089.mp3_spectrogram_FULLSIZE.png\n",
      "./datasets/spectrograms//reggae/reggae.00092.mp3_spectrogram_FULLSIZE.png\n",
      "Moved ./datasets/spectrograms//reggae.00092.mp3_spectrogram_FULLSIZE.png to ./datasets/spectrograms//reggae/reggae.00092.mp3_spectrogram_FULLSIZE.png\n",
      "./datasets/spectrograms//hiphop/hiphop.00040.mp3_spectrogram_FULLSIZE.png\n",
      "Moved ./datasets/spectrograms//hiphop.00040.mp3_spectrogram_FULLSIZE.png to ./datasets/spectrograms//hiphop/hiphop.00040.mp3_spectrogram_FULLSIZE.png\n",
      "./datasets/spectrograms//blues/blues.00035.mp3_spectrogram_FULLSIZE.png\n",
      "Moved ./datasets/spectrograms//blues.00035.mp3_spectrogram_FULLSIZE.png to ./datasets/spectrograms//blues/blues.00035.mp3_spectrogram_FULLSIZE.png\n",
      "./datasets/spectrograms//pop/pop.00011.mp3_spectrogram_FULLSIZE.png\n",
      "Moved ./datasets/spectrograms//pop.00011.mp3_spectrogram_FULLSIZE.png to ./datasets/spectrograms//pop/pop.00011.mp3_spectrogram_FULLSIZE.png\n",
      "./datasets/spectrograms//country/country.00053.mp3_spectrogram_FULLSIZE.png\n",
      "Moved ./datasets/spectrograms//country.00053.mp3_spectrogram_FULLSIZE.png to ./datasets/spectrograms//country/country.00053.mp3_spectrogram_FULLSIZE.png\n",
      "./datasets/spectrograms//country/country.00079.mp3_spectrogram_FULLSIZE.png\n",
      "Moved ./datasets/spectrograms//country.00079.mp3_spectrogram_FULLSIZE.png to ./datasets/spectrograms//country/country.00079.mp3_spectrogram_FULLSIZE.png\n",
      "./datasets/spectrograms//reggae/reggae.00020.mp3_spectrogram_FULLSIZE.png\n",
      "Moved ./datasets/spectrograms//reggae.00020.mp3_spectrogram_FULLSIZE.png to ./datasets/spectrograms//reggae/reggae.00020.mp3_spectrogram_FULLSIZE.png\n",
      "./datasets/spectrograms//blues/blues.00087.mp3_spectrogram_FULLSIZE.png\n",
      "Moved ./datasets/spectrograms//blues.00087.mp3_spectrogram_FULLSIZE.png to ./datasets/spectrograms//blues/blues.00087.mp3_spectrogram_FULLSIZE.png\n",
      "./datasets/spectrograms//pop/pop.00035.mp3_spectrogram_FULLSIZE.png\n",
      "Moved ./datasets/spectrograms//pop.00035.mp3_spectrogram_FULLSIZE.png to ./datasets/spectrograms//pop/pop.00035.mp3_spectrogram_FULLSIZE.png\n",
      "./datasets/spectrograms//country/country.00077.mp3_spectrogram_FULLSIZE.png\n",
      "Moved ./datasets/spectrograms//country.00077.mp3_spectrogram_FULLSIZE.png to ./datasets/spectrograms//country/country.00077.mp3_spectrogram_FULLSIZE.png\n",
      "./datasets/spectrograms//hiphop/hiphop.00064.mp3_spectrogram_FULLSIZE.png\n",
      "Moved ./datasets/spectrograms//hiphop.00064.mp3_spectrogram_FULLSIZE.png to ./datasets/spectrograms//hiphop/hiphop.00064.mp3_spectrogram_FULLSIZE.png\n",
      "./datasets/spectrograms//blues/blues.00011.mp3_spectrogram_FULLSIZE.png\n",
      "Moved ./datasets/spectrograms//blues.00011.mp3_spectrogram_FULLSIZE.png to ./datasets/spectrograms//blues/blues.00011.mp3_spectrogram_FULLSIZE.png\n",
      "./datasets/spectrograms//blues/blues.00089.mp3_spectrogram_FULLSIZE.png\n",
      "Moved ./datasets/spectrograms//blues.00089.mp3_spectrogram_FULLSIZE.png to ./datasets/spectrograms//blues/blues.00089.mp3_spectrogram_FULLSIZE.png\n",
      "./datasets/spectrograms//rock/rock.00077.mp3_spectrogram_FULLSIZE.png\n",
      "Moved ./datasets/spectrograms//rock.00077.mp3_spectrogram_FULLSIZE.png to ./datasets/spectrograms//rock/rock.00077.mp3_spectrogram_FULLSIZE.png\n",
      "./datasets/spectrograms//disco/disco.00087.mp3_spectrogram_FULLSIZE.png\n",
      "Moved ./datasets/spectrograms//disco.00087.mp3_spectrogram_FULLSIZE.png to ./datasets/spectrograms//disco/disco.00087.mp3_spectrogram_FULLSIZE.png\n",
      "./datasets/spectrograms//jazz/jazz.00091.mp3_spectrogram_FULLSIZE.png\n",
      "Moved ./datasets/spectrograms//jazz.00091.mp3_spectrogram_FULLSIZE.png to ./datasets/spectrograms//jazz/jazz.00091.mp3_spectrogram_FULLSIZE.png\n",
      "./datasets/spectrograms//classical/classical.00091.mp3_spectrogram_FULLSIZE.png\n",
      "Moved ./datasets/spectrograms//classical.00091.mp3_spectrogram_FULLSIZE.png to ./datasets/spectrograms//classical/classical.00091.mp3_spectrogram_FULLSIZE.png\n",
      "./datasets/spectrograms//metal/metal.00073.mp3_spectrogram_FULLSIZE.png\n",
      "Moved ./datasets/spectrograms//metal.00073.mp3_spectrogram_FULLSIZE.png to ./datasets/spectrograms//metal/metal.00073.mp3_spectrogram_FULLSIZE.png\n",
      "./datasets/spectrograms//classical/classical.00009.mp3_spectrogram_FULLSIZE.png\n",
      "Moved ./datasets/spectrograms//classical.00009.mp3_spectrogram_FULLSIZE.png to ./datasets/spectrograms//classical/classical.00009.mp3_spectrogram_FULLSIZE.png\n",
      "./datasets/spectrograms//jazz/jazz.00009.mp3_spectrogram_FULLSIZE.png\n",
      "Moved ./datasets/spectrograms//jazz.00009.mp3_spectrogram_FULLSIZE.png to ./datasets/spectrograms//jazz/jazz.00009.mp3_spectrogram_FULLSIZE.png\n",
      "./datasets/spectrograms//disco/disco.00089.mp3_spectrogram_FULLSIZE.png\n",
      "Moved ./datasets/spectrograms//disco.00089.mp3_spectrogram_FULLSIZE.png to ./datasets/spectrograms//disco/disco.00089.mp3_spectrogram_FULLSIZE.png\n",
      "./datasets/spectrograms//rock/rock.00079.mp3_spectrogram_FULLSIZE.png\n",
      "Moved ./datasets/spectrograms//rock.00079.mp3_spectrogram_FULLSIZE.png to ./datasets/spectrograms//rock/rock.00079.mp3_spectrogram_FULLSIZE.png\n",
      "./datasets/spectrograms//disco/disco.00011.mp3_spectrogram_FULLSIZE.png\n",
      "Moved ./datasets/spectrograms//disco.00011.mp3_spectrogram_FULLSIZE.png to ./datasets/spectrograms//disco/disco.00011.mp3_spectrogram_FULLSIZE.png\n",
      "./datasets/spectrograms//jazz/jazz.00007.mp3_spectrogram_FULLSIZE.png\n",
      "Moved ./datasets/spectrograms//jazz.00007.mp3_spectrogram_FULLSIZE.png to ./datasets/spectrograms//jazz/jazz.00007.mp3_spectrogram_FULLSIZE.png\n",
      "./datasets/spectrograms//classical/classical.00007.mp3_spectrogram_FULLSIZE.png\n",
      "Moved ./datasets/spectrograms//classical.00007.mp3_spectrogram_FULLSIZE.png to ./datasets/spectrograms//classical/classical.00007.mp3_spectrogram_FULLSIZE.png\n",
      "./datasets/spectrograms//classical/classical.00012.mp3_spectrogram_FULLSIZE.png\n",
      "Moved ./datasets/spectrograms//classical.00012.mp3_spectrogram_FULLSIZE.png to ./datasets/spectrograms//classical/classical.00012.mp3_spectrogram_FULLSIZE.png\n",
      "./datasets/spectrograms//jazz/jazz.00012.mp3_spectrogram_FULLSIZE.png\n",
      "Moved ./datasets/spectrograms//jazz.00012.mp3_spectrogram_FULLSIZE.png to ./datasets/spectrograms//jazz/jazz.00012.mp3_spectrogram_FULLSIZE.png\n",
      "./datasets/spectrograms//disco/disco.00004.mp3_spectrogram_FULLSIZE.png\n",
      "Moved ./datasets/spectrograms//disco.00004.mp3_spectrogram_FULLSIZE.png to ./datasets/spectrograms//disco/disco.00004.mp3_spectrogram_FULLSIZE.png\n",
      "./datasets/spectrograms//metal/metal.00068.mp3_spectrogram_FULLSIZE.png\n",
      "Moved ./datasets/spectrograms//metal.00068.mp3_spectrogram_FULLSIZE.png to ./datasets/spectrograms//metal/metal.00068.mp3_spectrogram_FULLSIZE.png\n",
      "./datasets/spectrograms//classical/classical.00084.mp3_spectrogram_FULLSIZE.png\n",
      "Moved ./datasets/spectrograms//classical.00084.mp3_spectrogram_FULLSIZE.png to ./datasets/spectrograms//classical/classical.00084.mp3_spectrogram_FULLSIZE.png\n",
      "./datasets/spectrograms//jazz/jazz.00084.mp3_spectrogram_FULLSIZE.png\n",
      "Moved ./datasets/spectrograms//jazz.00084.mp3_spectrogram_FULLSIZE.png to ./datasets/spectrograms//jazz/jazz.00084.mp3_spectrogram_FULLSIZE.png\n",
      "./datasets/spectrograms//metal/metal.00066.mp3_spectrogram_FULLSIZE.png\n",
      "Moved ./datasets/spectrograms//metal.00066.mp3_spectrogram_FULLSIZE.png to ./datasets/spectrograms//metal/metal.00066.mp3_spectrogram_FULLSIZE.png\n",
      "./datasets/spectrograms//disco/disco.00092.mp3_spectrogram_FULLSIZE.png\n",
      "Moved ./datasets/spectrograms//disco.00092.mp3_spectrogram_FULLSIZE.png to ./datasets/spectrograms//disco/disco.00092.mp3_spectrogram_FULLSIZE.png\n",
      "./datasets/spectrograms//rock/rock.00062.mp3_spectrogram_FULLSIZE.png\n",
      "Moved ./datasets/spectrograms//rock.00062.mp3_spectrogram_FULLSIZE.png to ./datasets/spectrograms//rock/rock.00062.mp3_spectrogram_FULLSIZE.png\n",
      "./datasets/spectrograms//country/country.00062.mp3_spectrogram_FULLSIZE.png\n",
      "Moved ./datasets/spectrograms//country.00062.mp3_spectrogram_FULLSIZE.png to ./datasets/spectrograms//country/country.00062.mp3_spectrogram_FULLSIZE.png\n",
      "./datasets/spectrograms//pop/pop.00020.mp3_spectrogram_FULLSIZE.png\n",
      "Moved ./datasets/spectrograms//pop.00020.mp3_spectrogram_FULLSIZE.png to ./datasets/spectrograms//pop/pop.00020.mp3_spectrogram_FULLSIZE.png\n",
      "./datasets/spectrograms//blues/blues.00004.mp3_spectrogram_FULLSIZE.png\n",
      "Moved ./datasets/spectrograms//blues.00004.mp3_spectrogram_FULLSIZE.png to ./datasets/spectrograms//blues/blues.00004.mp3_spectrogram_FULLSIZE.png\n",
      "./datasets/spectrograms//hiphop/hiphop.00071.mp3_spectrogram_FULLSIZE.png\n",
      "Moved ./datasets/spectrograms//hiphop.00071.mp3_spectrogram_FULLSIZE.png to ./datasets/spectrograms//hiphop/hiphop.00071.mp3_spectrogram_FULLSIZE.png\n",
      "./datasets/spectrograms//blues/blues.00092.mp3_spectrogram_FULLSIZE.png\n",
      "Moved ./datasets/spectrograms//blues.00092.mp3_spectrogram_FULLSIZE.png to ./datasets/spectrograms//blues/blues.00092.mp3_spectrogram_FULLSIZE.png\n",
      "./datasets/spectrograms//reggae/reggae.00035.mp3_spectrogram_FULLSIZE.png\n",
      "Moved ./datasets/spectrograms//reggae.00035.mp3_spectrogram_FULLSIZE.png to ./datasets/spectrograms//reggae/reggae.00035.mp3_spectrogram_FULLSIZE.png\n",
      "./datasets/spectrograms//pop/pop.00052.mp3_spectrogram_FULLSIZE.png\n"
     ]
    },
    {
     "ename": "FileNotFoundError",
     "evalue": "[Errno 2] No such file or directory: './datasets/spectrograms//pop.00052.mp3_spectrogram_FULLSIZE.png'",
     "output_type": "error",
     "traceback": [
      "\u001b[0;31m---------------------------------------------------------------------------\u001b[0m",
      "\u001b[0;31mFileNotFoundError\u001b[0m                         Traceback (most recent call last)",
      "\u001b[0;32m/usr/local/anaconda3/lib/python3.7/shutil.py\u001b[0m in \u001b[0;36mmove\u001b[0;34m(src, dst, copy_function)\u001b[0m\n\u001b[1;32m    562\u001b[0m     \u001b[0;32mtry\u001b[0m\u001b[0;34m:\u001b[0m\u001b[0;34m\u001b[0m\u001b[0;34m\u001b[0m\u001b[0m\n\u001b[0;32m--> 563\u001b[0;31m         \u001b[0mos\u001b[0m\u001b[0;34m.\u001b[0m\u001b[0mrename\u001b[0m\u001b[0;34m(\u001b[0m\u001b[0msrc\u001b[0m\u001b[0;34m,\u001b[0m \u001b[0mreal_dst\u001b[0m\u001b[0;34m)\u001b[0m\u001b[0;34m\u001b[0m\u001b[0;34m\u001b[0m\u001b[0m\n\u001b[0m\u001b[1;32m    564\u001b[0m     \u001b[0;32mexcept\u001b[0m \u001b[0mOSError\u001b[0m\u001b[0;34m:\u001b[0m\u001b[0;34m\u001b[0m\u001b[0;34m\u001b[0m\u001b[0m\n",
      "\u001b[0;31mFileNotFoundError\u001b[0m: [Errno 2] No such file or directory: './datasets/spectrograms//pop.00052.mp3_spectrogram_FULLSIZE.png' -> './datasets/spectrograms//pop/pop.00052.mp3_spectrogram_FULLSIZE.png'",
      "\nDuring handling of the above exception, another exception occurred:\n",
      "\u001b[0;31mFileNotFoundError\u001b[0m                         Traceback (most recent call last)",
      "\u001b[0;32m<ipython-input-30-253f5decad11>\u001b[0m in \u001b[0;36m<module>\u001b[0;34m\u001b[0m\n\u001b[1;32m     17\u001b[0m \u001b[0;34m\u001b[0m\u001b[0m\n\u001b[1;32m     18\u001b[0m \u001b[0;34m\u001b[0m\u001b[0m\n\u001b[0;32m---> 19\u001b[0;31m \u001b[0mmove_into_subdirs\u001b[0m\u001b[0;34m(\u001b[0m\u001b[0mspectrogram_output_dir\u001b[0m\u001b[0;34m)\u001b[0m\u001b[0;34m\u001b[0m\u001b[0;34m\u001b[0m\u001b[0m\n\u001b[0m",
      "\u001b[0;32m<ipython-input-30-253f5decad11>\u001b[0m in \u001b[0;36mmove_into_subdirs\u001b[0;34m(start_dir)\u001b[0m\n\u001b[1;32m     11\u001b[0m                 \u001b[0mdestination\u001b[0m \u001b[0;34m=\u001b[0m \u001b[0mstart_dir\u001b[0m \u001b[0;34m+\u001b[0m \u001b[0;34m\"/\"\u001b[0m \u001b[0;34m+\u001b[0m \u001b[0mclass_name\u001b[0m \u001b[0;34m+\u001b[0m \u001b[0;34m\"/\"\u001b[0m \u001b[0;34m+\u001b[0m \u001b[0mfile\u001b[0m\u001b[0;34m\u001b[0m\u001b[0;34m\u001b[0m\u001b[0m\n\u001b[1;32m     12\u001b[0m                 \u001b[0mprint\u001b[0m\u001b[0;34m(\u001b[0m\u001b[0mdestination\u001b[0m\u001b[0;34m)\u001b[0m\u001b[0;34m\u001b[0m\u001b[0;34m\u001b[0m\u001b[0m\n\u001b[0;32m---> 13\u001b[0;31m                 \u001b[0mshutil\u001b[0m\u001b[0;34m.\u001b[0m\u001b[0mmove\u001b[0m\u001b[0;34m(\u001b[0m\u001b[0msource\u001b[0m\u001b[0;34m,\u001b[0m \u001b[0mdestination\u001b[0m\u001b[0;34m)\u001b[0m\u001b[0;34m\u001b[0m\u001b[0;34m\u001b[0m\u001b[0m\n\u001b[0m\u001b[1;32m     14\u001b[0m \u001b[0;34m\u001b[0m\u001b[0m\n\u001b[1;32m     15\u001b[0m                 \u001b[0mprint\u001b[0m\u001b[0;34m(\u001b[0m\u001b[0;34mf\"Moved {source} to {destination}\"\u001b[0m\u001b[0;34m)\u001b[0m\u001b[0;34m\u001b[0m\u001b[0;34m\u001b[0m\u001b[0m\n",
      "\u001b[0;32m/usr/local/anaconda3/lib/python3.7/shutil.py\u001b[0m in \u001b[0;36mmove\u001b[0;34m(src, dst, copy_function)\u001b[0m\n\u001b[1;32m    575\u001b[0m             \u001b[0mrmtree\u001b[0m\u001b[0;34m(\u001b[0m\u001b[0msrc\u001b[0m\u001b[0;34m)\u001b[0m\u001b[0;34m\u001b[0m\u001b[0;34m\u001b[0m\u001b[0m\n\u001b[1;32m    576\u001b[0m         \u001b[0;32melse\u001b[0m\u001b[0;34m:\u001b[0m\u001b[0;34m\u001b[0m\u001b[0;34m\u001b[0m\u001b[0m\n\u001b[0;32m--> 577\u001b[0;31m             \u001b[0mcopy_function\u001b[0m\u001b[0;34m(\u001b[0m\u001b[0msrc\u001b[0m\u001b[0;34m,\u001b[0m \u001b[0mreal_dst\u001b[0m\u001b[0;34m)\u001b[0m\u001b[0;34m\u001b[0m\u001b[0;34m\u001b[0m\u001b[0m\n\u001b[0m\u001b[1;32m    578\u001b[0m             \u001b[0mos\u001b[0m\u001b[0;34m.\u001b[0m\u001b[0munlink\u001b[0m\u001b[0;34m(\u001b[0m\u001b[0msrc\u001b[0m\u001b[0;34m)\u001b[0m\u001b[0;34m\u001b[0m\u001b[0;34m\u001b[0m\u001b[0m\n\u001b[1;32m    579\u001b[0m     \u001b[0;32mreturn\u001b[0m \u001b[0mreal_dst\u001b[0m\u001b[0;34m\u001b[0m\u001b[0;34m\u001b[0m\u001b[0m\n",
      "\u001b[0;32m/usr/local/anaconda3/lib/python3.7/shutil.py\u001b[0m in \u001b[0;36mcopy2\u001b[0;34m(src, dst, follow_symlinks)\u001b[0m\n\u001b[1;32m    261\u001b[0m     \u001b[0;32mif\u001b[0m \u001b[0mos\u001b[0m\u001b[0;34m.\u001b[0m\u001b[0mpath\u001b[0m\u001b[0;34m.\u001b[0m\u001b[0misdir\u001b[0m\u001b[0;34m(\u001b[0m\u001b[0mdst\u001b[0m\u001b[0;34m)\u001b[0m\u001b[0;34m:\u001b[0m\u001b[0;34m\u001b[0m\u001b[0;34m\u001b[0m\u001b[0m\n\u001b[1;32m    262\u001b[0m         \u001b[0mdst\u001b[0m \u001b[0;34m=\u001b[0m \u001b[0mos\u001b[0m\u001b[0;34m.\u001b[0m\u001b[0mpath\u001b[0m\u001b[0;34m.\u001b[0m\u001b[0mjoin\u001b[0m\u001b[0;34m(\u001b[0m\u001b[0mdst\u001b[0m\u001b[0;34m,\u001b[0m \u001b[0mos\u001b[0m\u001b[0;34m.\u001b[0m\u001b[0mpath\u001b[0m\u001b[0;34m.\u001b[0m\u001b[0mbasename\u001b[0m\u001b[0;34m(\u001b[0m\u001b[0msrc\u001b[0m\u001b[0;34m)\u001b[0m\u001b[0;34m)\u001b[0m\u001b[0;34m\u001b[0m\u001b[0;34m\u001b[0m\u001b[0m\n\u001b[0;32m--> 263\u001b[0;31m     \u001b[0mcopyfile\u001b[0m\u001b[0;34m(\u001b[0m\u001b[0msrc\u001b[0m\u001b[0;34m,\u001b[0m \u001b[0mdst\u001b[0m\u001b[0;34m,\u001b[0m \u001b[0mfollow_symlinks\u001b[0m\u001b[0;34m=\u001b[0m\u001b[0mfollow_symlinks\u001b[0m\u001b[0;34m)\u001b[0m\u001b[0;34m\u001b[0m\u001b[0;34m\u001b[0m\u001b[0m\n\u001b[0m\u001b[1;32m    264\u001b[0m     \u001b[0mcopystat\u001b[0m\u001b[0;34m(\u001b[0m\u001b[0msrc\u001b[0m\u001b[0;34m,\u001b[0m \u001b[0mdst\u001b[0m\u001b[0;34m,\u001b[0m \u001b[0mfollow_symlinks\u001b[0m\u001b[0;34m=\u001b[0m\u001b[0mfollow_symlinks\u001b[0m\u001b[0;34m)\u001b[0m\u001b[0;34m\u001b[0m\u001b[0;34m\u001b[0m\u001b[0m\n\u001b[1;32m    265\u001b[0m     \u001b[0;32mreturn\u001b[0m \u001b[0mdst\u001b[0m\u001b[0;34m\u001b[0m\u001b[0;34m\u001b[0m\u001b[0m\n",
      "\u001b[0;32m/usr/local/anaconda3/lib/python3.7/shutil.py\u001b[0m in \u001b[0;36mcopyfile\u001b[0;34m(src, dst, follow_symlinks)\u001b[0m\n\u001b[1;32m    118\u001b[0m         \u001b[0mos\u001b[0m\u001b[0;34m.\u001b[0m\u001b[0msymlink\u001b[0m\u001b[0;34m(\u001b[0m\u001b[0mos\u001b[0m\u001b[0;34m.\u001b[0m\u001b[0mreadlink\u001b[0m\u001b[0;34m(\u001b[0m\u001b[0msrc\u001b[0m\u001b[0;34m)\u001b[0m\u001b[0;34m,\u001b[0m \u001b[0mdst\u001b[0m\u001b[0;34m)\u001b[0m\u001b[0;34m\u001b[0m\u001b[0;34m\u001b[0m\u001b[0m\n\u001b[1;32m    119\u001b[0m     \u001b[0;32melse\u001b[0m\u001b[0;34m:\u001b[0m\u001b[0;34m\u001b[0m\u001b[0;34m\u001b[0m\u001b[0m\n\u001b[0;32m--> 120\u001b[0;31m         \u001b[0;32mwith\u001b[0m \u001b[0mopen\u001b[0m\u001b[0;34m(\u001b[0m\u001b[0msrc\u001b[0m\u001b[0;34m,\u001b[0m \u001b[0;34m'rb'\u001b[0m\u001b[0;34m)\u001b[0m \u001b[0;32mas\u001b[0m \u001b[0mfsrc\u001b[0m\u001b[0;34m:\u001b[0m\u001b[0;34m\u001b[0m\u001b[0;34m\u001b[0m\u001b[0m\n\u001b[0m\u001b[1;32m    121\u001b[0m             \u001b[0;32mwith\u001b[0m \u001b[0mopen\u001b[0m\u001b[0;34m(\u001b[0m\u001b[0mdst\u001b[0m\u001b[0;34m,\u001b[0m \u001b[0;34m'wb'\u001b[0m\u001b[0;34m)\u001b[0m \u001b[0;32mas\u001b[0m \u001b[0mfdst\u001b[0m\u001b[0;34m:\u001b[0m\u001b[0;34m\u001b[0m\u001b[0;34m\u001b[0m\u001b[0m\n\u001b[1;32m    122\u001b[0m                 \u001b[0mcopyfileobj\u001b[0m\u001b[0;34m(\u001b[0m\u001b[0mfsrc\u001b[0m\u001b[0;34m,\u001b[0m \u001b[0mfdst\u001b[0m\u001b[0;34m)\u001b[0m\u001b[0;34m\u001b[0m\u001b[0;34m\u001b[0m\u001b[0m\n",
      "\u001b[0;31mFileNotFoundError\u001b[0m: [Errno 2] No such file or directory: './datasets/spectrograms//pop.00052.mp3_spectrogram_FULLSIZE.png'"
     ]
    }
   ],
   "source": [
    "import shutil\n",
    "from os import path\n",
    "\n",
    "def move_into_subdirs(start_dir = \".\"):\n",
    "    for _, dirs, files in os.walk(start_dir):\n",
    "        for file in files:\n",
    "            class_name = file.split(\".\")[0] # filename example: pop.00052.mp3_spectrogram_FULLSIZE.png\n",
    "            \n",
    "            if path.exists(start_dir + \"/\" + class_name):                \n",
    "                source = start_dir + \"/\" + file\n",
    "                destination = start_dir + \"/\" + class_name + \"/\" + file\n",
    "                print(destination)\n",
    "                shutil.move(source, destination)\n",
    "                \n",
    "                print(f\"Moved {source} to {destination}\")\n",
    "\n",
    "move_into_subdirs(spectrogram_output_dir) # careful this is a bit broken"
   ]
  },
  {
   "cell_type": "code",
   "execution_count": null,
   "metadata": {},
   "outputs": [],
   "source": []
  }
 ],
 "metadata": {
  "kernelspec": {
   "display_name": "Python 3",
   "language": "python",
   "name": "python3"
  },
  "language_info": {
   "codemirror_mode": {
    "name": "ipython",
    "version": 3
   },
   "file_extension": ".py",
   "mimetype": "text/x-python",
   "name": "python",
   "nbconvert_exporter": "python",
   "pygments_lexer": "ipython3",
   "version": "3.7.3"
  }
 },
 "nbformat": 4,
 "nbformat_minor": 2
}

{
 "cells": [
  {
   "cell_type": "code",
   "execution_count": 1,
   "metadata": {},
   "outputs": [
    {
     "name": "stdout",
     "output_type": "stream",
     "text": [
      "Populating the interactive namespace from numpy and matplotlib\n"
     ]
    }
   ],
   "source": [
    "%config IPCompleter.greedy=True\n",
    "%pylab inline\n",
    "\n",
    "SMALL_SIZE = 14\n",
    "MEDIUM_SIZE = 18\n",
    "BIGGER_SIZE = 25\n",
    "\n",
    "plt.rc('font', size=SMALL_SIZE)         # controls default text sizes\n",
    "plt.rc('axes', titlesize=SMALL_SIZE)    # fontsize of the axes title\n",
    "plt.rc('axes', labelsize=MEDIUM_SIZE)    # fontsize of the x and y labels\n",
    "plt.rc('xtick', labelsize=SMALL_SIZE)    # fontsize of the tick labels\n",
    "plt.rc('ytick', labelsize=SMALL_SIZE)    # fontsize of the tick labels\n",
    "plt.rc('legend', fontsize=SMALL_SIZE)    # legend fontsize\n",
    "plt.rc('figure', titlesize=BIGGER_SIZE)  # fontsize of the figure title\n",
    "\n",
    "import numpy as np\n",
    "import pandas as pd\n",
    "import matplotlib.pyplot as plt\n",
    "import seaborn as sb"
   ]
  },
  {
   "cell_type": "markdown",
   "metadata": {},
   "source": [
    "# k-NN Project: Music Genre Prediction\n",
    "\n",
    "author: andrew.pouret@berkeley.edu, matthieujacquand@berkeley.edu"
   ]
  },
  {
   "cell_type": "markdown",
   "metadata": {},
   "source": [
    "## Dataset\n",
    "\n",
    "Dataset : https://www.kaggle.com/carlthome/gtzan-genre-collection \n",
    "\n",
    "We've extracted our own features from the original audio file dataset.\n",
    "\n",
    "![datset-extraction-figure](./docs/DatasetCreation.jpg)"
   ]
  },
  {
   "cell_type": "code",
   "execution_count": 2,
   "metadata": {},
   "outputs": [],
   "source": [
    "dataset_file = \"datasets/data-v1.csv\"\n",
    "\n",
    "df = pd.read_csv(dataset_file, sep=\",\")"
   ]
  },
  {
   "cell_type": "markdown",
   "metadata": {},
   "source": [
    "# Data Descriptive Statistics\n",
    "\n",
    "## Summaries and Analysis"
   ]
  },
  {
   "cell_type": "markdown",
   "metadata": {},
   "source": [
    "Describing the whole dataset by mean, interquartiles, count, standard deviation, min and max values."
   ]
  },
  {
   "cell_type": "code",
   "execution_count": 3,
   "metadata": {},
   "outputs": [
    {
     "data": {
      "text/html": [
       "<div>\n",
       "<style scoped>\n",
       "    .dataframe tbody tr th:only-of-type {\n",
       "        vertical-align: middle;\n",
       "    }\n",
       "\n",
       "    .dataframe tbody tr th {\n",
       "        vertical-align: top;\n",
       "    }\n",
       "\n",
       "    .dataframe thead th {\n",
       "        text-align: right;\n",
       "    }\n",
       "</style>\n",
       "<table border=\"1\" class=\"dataframe\">\n",
       "  <thead>\n",
       "    <tr style=\"text-align: right;\">\n",
       "      <th></th>\n",
       "      <th>chroma_stft</th>\n",
       "      <th>rmse</th>\n",
       "      <th>spectral_centroid</th>\n",
       "      <th>spectral_bandwidth</th>\n",
       "      <th>rolloff</th>\n",
       "      <th>zero_crossing_rate</th>\n",
       "      <th>mfcc1</th>\n",
       "      <th>mfcc2</th>\n",
       "      <th>mfcc3</th>\n",
       "      <th>mfcc4</th>\n",
       "      <th>...</th>\n",
       "      <th>mfcc11</th>\n",
       "      <th>mfcc12</th>\n",
       "      <th>mfcc13</th>\n",
       "      <th>mfcc14</th>\n",
       "      <th>mfcc15</th>\n",
       "      <th>mfcc16</th>\n",
       "      <th>mfcc17</th>\n",
       "      <th>mfcc18</th>\n",
       "      <th>mfcc19</th>\n",
       "      <th>mfcc20</th>\n",
       "    </tr>\n",
       "  </thead>\n",
       "  <tbody>\n",
       "    <tr>\n",
       "      <th>count</th>\n",
       "      <td>1000.000000</td>\n",
       "      <td>1000.000000</td>\n",
       "      <td>1000.000000</td>\n",
       "      <td>1000.000000</td>\n",
       "      <td>1000.000000</td>\n",
       "      <td>1000.000000</td>\n",
       "      <td>1000.000000</td>\n",
       "      <td>1000.000000</td>\n",
       "      <td>1000.000000</td>\n",
       "      <td>1000.000000</td>\n",
       "      <td>...</td>\n",
       "      <td>1000.000000</td>\n",
       "      <td>1000.000000</td>\n",
       "      <td>1000.000000</td>\n",
       "      <td>1000.000000</td>\n",
       "      <td>1000.000000</td>\n",
       "      <td>1000.000000</td>\n",
       "      <td>1000.000000</td>\n",
       "      <td>1000.000000</td>\n",
       "      <td>1000.000000</td>\n",
       "      <td>1000.000000</td>\n",
       "    </tr>\n",
       "    <tr>\n",
       "      <th>mean</th>\n",
       "      <td>0.380795</td>\n",
       "      <td>0.124698</td>\n",
       "      <td>1883.001208</td>\n",
       "      <td>1865.303842</td>\n",
       "      <td>3878.803772</td>\n",
       "      <td>0.101184</td>\n",
       "      <td>-162.754063</td>\n",
       "      <td>121.255273</td>\n",
       "      <td>-29.199931</td>\n",
       "      <td>54.109434</td>\n",
       "      <td>...</td>\n",
       "      <td>-7.320438</td>\n",
       "      <td>3.900521</td>\n",
       "      <td>-2.205811</td>\n",
       "      <td>-2.243190</td>\n",
       "      <td>1.619559</td>\n",
       "      <td>-5.134632</td>\n",
       "      <td>3.043665</td>\n",
       "      <td>-6.634297</td>\n",
       "      <td>5.002622</td>\n",
       "      <td>-7.852236</td>\n",
       "    </tr>\n",
       "    <tr>\n",
       "      <th>std</th>\n",
       "      <td>0.082699</td>\n",
       "      <td>0.062342</td>\n",
       "      <td>522.242739</td>\n",
       "      <td>339.144108</td>\n",
       "      <td>1096.400581</td>\n",
       "      <td>0.039370</td>\n",
       "      <td>95.151859</td>\n",
       "      <td>23.111192</td>\n",
       "      <td>20.168244</td>\n",
       "      <td>16.110998</td>\n",
       "      <td>...</td>\n",
       "      <td>5.512331</td>\n",
       "      <td>5.395750</td>\n",
       "      <td>4.365042</td>\n",
       "      <td>3.977097</td>\n",
       "      <td>3.694564</td>\n",
       "      <td>3.984223</td>\n",
       "      <td>4.333503</td>\n",
       "      <td>4.096735</td>\n",
       "      <td>4.316616</td>\n",
       "      <td>4.287511</td>\n",
       "    </tr>\n",
       "    <tr>\n",
       "      <th>min</th>\n",
       "      <td>0.171805</td>\n",
       "      <td>0.005014</td>\n",
       "      <td>549.065530</td>\n",
       "      <td>796.514455</td>\n",
       "      <td>710.220705</td>\n",
       "      <td>0.021877</td>\n",
       "      <td>-556.024780</td>\n",
       "      <td>42.361320</td>\n",
       "      <td>-99.755829</td>\n",
       "      <td>-3.247742</td>\n",
       "      <td>...</td>\n",
       "      <td>-32.414146</td>\n",
       "      <td>-14.018186</td>\n",
       "      <td>-20.763159</td>\n",
       "      <td>-16.360909</td>\n",
       "      <td>-12.323302</td>\n",
       "      <td>-19.637094</td>\n",
       "      <td>-12.697938</td>\n",
       "      <td>-18.963448</td>\n",
       "      <td>-13.177314</td>\n",
       "      <td>-22.937521</td>\n",
       "    </tr>\n",
       "    <tr>\n",
       "      <th>25%</th>\n",
       "      <td>0.321059</td>\n",
       "      <td>0.082679</td>\n",
       "      <td>1461.113254</td>\n",
       "      <td>1643.098517</td>\n",
       "      <td>3034.883732</td>\n",
       "      <td>0.071043</td>\n",
       "      <td>-213.648769</td>\n",
       "      <td>104.958897</td>\n",
       "      <td>-42.612360</td>\n",
       "      <td>45.396466</td>\n",
       "      <td>...</td>\n",
       "      <td>-11.082822</td>\n",
       "      <td>0.603397</td>\n",
       "      <td>-5.172873</td>\n",
       "      <td>-4.874094</td>\n",
       "      <td>-0.737182</td>\n",
       "      <td>-7.606263</td>\n",
       "      <td>0.300295</td>\n",
       "      <td>-9.524103</td>\n",
       "      <td>2.242899</td>\n",
       "      <td>-10.705755</td>\n",
       "    </tr>\n",
       "    <tr>\n",
       "      <th>50%</th>\n",
       "      <td>0.385390</td>\n",
       "      <td>0.116670</td>\n",
       "      <td>1926.222388</td>\n",
       "      <td>1943.105990</td>\n",
       "      <td>4064.821254</td>\n",
       "      <td>0.097405</td>\n",
       "      <td>-138.674522</td>\n",
       "      <td>118.840340</td>\n",
       "      <td>-30.713336</td>\n",
       "      <td>54.597818</td>\n",
       "      <td>...</td>\n",
       "      <td>-7.538498</td>\n",
       "      <td>4.457320</td>\n",
       "      <td>-2.305679</td>\n",
       "      <td>-2.279468</td>\n",
       "      <td>1.757869</td>\n",
       "      <td>-5.469918</td>\n",
       "      <td>3.286095</td>\n",
       "      <td>-6.899161</td>\n",
       "      <td>5.105744</td>\n",
       "      <td>-8.184787</td>\n",
       "    </tr>\n",
       "    <tr>\n",
       "      <th>75%</th>\n",
       "      <td>0.439446</td>\n",
       "      <td>0.167502</td>\n",
       "      <td>2277.180673</td>\n",
       "      <td>2110.350537</td>\n",
       "      <td>4748.075456</td>\n",
       "      <td>0.128231</td>\n",
       "      <td>-95.242519</td>\n",
       "      <td>135.433762</td>\n",
       "      <td>-17.951447</td>\n",
       "      <td>64.680765</td>\n",
       "      <td>...</td>\n",
       "      <td>-3.929274</td>\n",
       "      <td>7.729157</td>\n",
       "      <td>0.444397</td>\n",
       "      <td>0.385467</td>\n",
       "      <td>4.065663</td>\n",
       "      <td>-2.710800</td>\n",
       "      <td>5.842021</td>\n",
       "      <td>-4.012571</td>\n",
       "      <td>8.109790</td>\n",
       "      <td>-5.197460</td>\n",
       "    </tr>\n",
       "    <tr>\n",
       "      <th>max</th>\n",
       "      <td>0.667248</td>\n",
       "      <td>0.378549</td>\n",
       "      <td>3369.517356</td>\n",
       "      <td>2611.325445</td>\n",
       "      <td>6268.003765</td>\n",
       "      <td>0.257681</td>\n",
       "      <td>15.127309</td>\n",
       "      <td>197.522858</td>\n",
       "      <td>55.721581</td>\n",
       "      <td>98.046173</td>\n",
       "      <td>...</td>\n",
       "      <td>11.871216</td>\n",
       "      <td>17.391365</td>\n",
       "      <td>13.880814</td>\n",
       "      <td>10.114944</td>\n",
       "      <td>17.297344</td>\n",
       "      <td>9.187266</td>\n",
       "      <td>22.280184</td>\n",
       "      <td>11.137421</td>\n",
       "      <td>22.338120</td>\n",
       "      <td>10.675509</td>\n",
       "    </tr>\n",
       "  </tbody>\n",
       "</table>\n",
       "<p>8 rows × 26 columns</p>\n",
       "</div>"
      ],
      "text/plain": [
       "       chroma_stft         rmse  spectral_centroid  spectral_bandwidth  \\\n",
       "count  1000.000000  1000.000000        1000.000000         1000.000000   \n",
       "mean      0.380795     0.124698        1883.001208         1865.303842   \n",
       "std       0.082699     0.062342         522.242739          339.144108   \n",
       "min       0.171805     0.005014         549.065530          796.514455   \n",
       "25%       0.321059     0.082679        1461.113254         1643.098517   \n",
       "50%       0.385390     0.116670        1926.222388         1943.105990   \n",
       "75%       0.439446     0.167502        2277.180673         2110.350537   \n",
       "max       0.667248     0.378549        3369.517356         2611.325445   \n",
       "\n",
       "           rolloff  zero_crossing_rate        mfcc1        mfcc2        mfcc3  \\\n",
       "count  1000.000000         1000.000000  1000.000000  1000.000000  1000.000000   \n",
       "mean   3878.803772            0.101184  -162.754063   121.255273   -29.199931   \n",
       "std    1096.400581            0.039370    95.151859    23.111192    20.168244   \n",
       "min     710.220705            0.021877  -556.024780    42.361320   -99.755829   \n",
       "25%    3034.883732            0.071043  -213.648769   104.958897   -42.612360   \n",
       "50%    4064.821254            0.097405  -138.674522   118.840340   -30.713336   \n",
       "75%    4748.075456            0.128231   -95.242519   135.433762   -17.951447   \n",
       "max    6268.003765            0.257681    15.127309   197.522858    55.721581   \n",
       "\n",
       "             mfcc4  ...       mfcc11       mfcc12       mfcc13       mfcc14  \\\n",
       "count  1000.000000  ...  1000.000000  1000.000000  1000.000000  1000.000000   \n",
       "mean     54.109434  ...    -7.320438     3.900521    -2.205811    -2.243190   \n",
       "std      16.110998  ...     5.512331     5.395750     4.365042     3.977097   \n",
       "min      -3.247742  ...   -32.414146   -14.018186   -20.763159   -16.360909   \n",
       "25%      45.396466  ...   -11.082822     0.603397    -5.172873    -4.874094   \n",
       "50%      54.597818  ...    -7.538498     4.457320    -2.305679    -2.279468   \n",
       "75%      64.680765  ...    -3.929274     7.729157     0.444397     0.385467   \n",
       "max      98.046173  ...    11.871216    17.391365    13.880814    10.114944   \n",
       "\n",
       "            mfcc15       mfcc16       mfcc17       mfcc18       mfcc19  \\\n",
       "count  1000.000000  1000.000000  1000.000000  1000.000000  1000.000000   \n",
       "mean      1.619559    -5.134632     3.043665    -6.634297     5.002622   \n",
       "std       3.694564     3.984223     4.333503     4.096735     4.316616   \n",
       "min     -12.323302   -19.637094   -12.697938   -18.963448   -13.177314   \n",
       "25%      -0.737182    -7.606263     0.300295    -9.524103     2.242899   \n",
       "50%       1.757869    -5.469918     3.286095    -6.899161     5.105744   \n",
       "75%       4.065663    -2.710800     5.842021    -4.012571     8.109790   \n",
       "max      17.297344     9.187266    22.280184    11.137421    22.338120   \n",
       "\n",
       "            mfcc20  \n",
       "count  1000.000000  \n",
       "mean     -7.852236  \n",
       "std       4.287511  \n",
       "min     -22.937521  \n",
       "25%     -10.705755  \n",
       "50%      -8.184787  \n",
       "75%      -5.197460  \n",
       "max      10.675509  \n",
       "\n",
       "[8 rows x 26 columns]"
      ]
     },
     "execution_count": 3,
     "metadata": {},
     "output_type": "execute_result"
    }
   ],
   "source": [
    "df.describe()"
   ]
  },
  {
   "cell_type": "markdown",
   "metadata": {},
   "source": [
    "We have continuous numerical features only and very different scales.\n",
    "\n",
    "We therefore need to scale the data if we use algorithms such as KNN that uses distances."
   ]
  },
  {
   "cell_type": "code",
   "execution_count": 4,
   "metadata": {},
   "outputs": [
    {
     "data": {
      "text/html": [
       "<div>\n",
       "<style scoped>\n",
       "    .dataframe tbody tr th:only-of-type {\n",
       "        vertical-align: middle;\n",
       "    }\n",
       "\n",
       "    .dataframe tbody tr th {\n",
       "        vertical-align: top;\n",
       "    }\n",
       "\n",
       "    .dataframe thead tr th {\n",
       "        text-align: left;\n",
       "    }\n",
       "\n",
       "    .dataframe thead tr:last-of-type th {\n",
       "        text-align: right;\n",
       "    }\n",
       "</style>\n",
       "<table border=\"1\" class=\"dataframe\">\n",
       "  <thead>\n",
       "    <tr>\n",
       "      <th></th>\n",
       "      <th colspan=\"8\" halign=\"left\">chroma_stft</th>\n",
       "      <th colspan=\"2\" halign=\"left\">rmse</th>\n",
       "      <th>...</th>\n",
       "      <th colspan=\"2\" halign=\"left\">mfcc19</th>\n",
       "      <th colspan=\"8\" halign=\"left\">mfcc20</th>\n",
       "    </tr>\n",
       "    <tr>\n",
       "      <th></th>\n",
       "      <th>count</th>\n",
       "      <th>mean</th>\n",
       "      <th>std</th>\n",
       "      <th>min</th>\n",
       "      <th>25%</th>\n",
       "      <th>50%</th>\n",
       "      <th>75%</th>\n",
       "      <th>max</th>\n",
       "      <th>count</th>\n",
       "      <th>mean</th>\n",
       "      <th>...</th>\n",
       "      <th>75%</th>\n",
       "      <th>max</th>\n",
       "      <th>count</th>\n",
       "      <th>mean</th>\n",
       "      <th>std</th>\n",
       "      <th>min</th>\n",
       "      <th>25%</th>\n",
       "      <th>50%</th>\n",
       "      <th>75%</th>\n",
       "      <th>max</th>\n",
       "    </tr>\n",
       "    <tr>\n",
       "      <th>label</th>\n",
       "      <th></th>\n",
       "      <th></th>\n",
       "      <th></th>\n",
       "      <th></th>\n",
       "      <th></th>\n",
       "      <th></th>\n",
       "      <th></th>\n",
       "      <th></th>\n",
       "      <th></th>\n",
       "      <th></th>\n",
       "      <th></th>\n",
       "      <th></th>\n",
       "      <th></th>\n",
       "      <th></th>\n",
       "      <th></th>\n",
       "      <th></th>\n",
       "      <th></th>\n",
       "      <th></th>\n",
       "      <th></th>\n",
       "      <th></th>\n",
       "      <th></th>\n",
       "    </tr>\n",
       "  </thead>\n",
       "  <tbody>\n",
       "    <tr>\n",
       "      <th>blues</th>\n",
       "      <td>100.0</td>\n",
       "      <td>0.343227</td>\n",
       "      <td>0.058931</td>\n",
       "      <td>0.233692</td>\n",
       "      <td>0.292326</td>\n",
       "      <td>0.341920</td>\n",
       "      <td>0.390246</td>\n",
       "      <td>0.466403</td>\n",
       "      <td>100.0</td>\n",
       "      <td>0.129791</td>\n",
       "      <td>...</td>\n",
       "      <td>6.492363</td>\n",
       "      <td>11.237574</td>\n",
       "      <td>100.0</td>\n",
       "      <td>-8.222616</td>\n",
       "      <td>5.139506</td>\n",
       "      <td>-22.937521</td>\n",
       "      <td>-10.792815</td>\n",
       "      <td>-7.633846</td>\n",
       "      <td>-4.517999</td>\n",
       "      <td>3.000812</td>\n",
       "    </tr>\n",
       "    <tr>\n",
       "      <th>classical</th>\n",
       "      <td>100.0</td>\n",
       "      <td>0.264589</td>\n",
       "      <td>0.044916</td>\n",
       "      <td>0.176353</td>\n",
       "      <td>0.235109</td>\n",
       "      <td>0.261854</td>\n",
       "      <td>0.284500</td>\n",
       "      <td>0.437762</td>\n",
       "      <td>100.0</td>\n",
       "      <td>0.040913</td>\n",
       "      <td>...</td>\n",
       "      <td>3.092124</td>\n",
       "      <td>15.061405</td>\n",
       "      <td>100.0</td>\n",
       "      <td>-2.797445</td>\n",
       "      <td>4.304100</td>\n",
       "      <td>-12.353147</td>\n",
       "      <td>-5.922751</td>\n",
       "      <td>-3.435926</td>\n",
       "      <td>-0.290962</td>\n",
       "      <td>10.675509</td>\n",
       "    </tr>\n",
       "    <tr>\n",
       "      <th>country</th>\n",
       "      <td>100.0</td>\n",
       "      <td>0.345596</td>\n",
       "      <td>0.041632</td>\n",
       "      <td>0.221800</td>\n",
       "      <td>0.318387</td>\n",
       "      <td>0.349099</td>\n",
       "      <td>0.376250</td>\n",
       "      <td>0.441659</td>\n",
       "      <td>100.0</td>\n",
       "      <td>0.120016</td>\n",
       "      <td>...</td>\n",
       "      <td>6.853879</td>\n",
       "      <td>12.676275</td>\n",
       "      <td>100.0</td>\n",
       "      <td>-9.289553</td>\n",
       "      <td>3.555105</td>\n",
       "      <td>-17.309389</td>\n",
       "      <td>-11.876318</td>\n",
       "      <td>-9.747382</td>\n",
       "      <td>-6.808592</td>\n",
       "      <td>-0.632099</td>\n",
       "    </tr>\n",
       "    <tr>\n",
       "      <th>disco</th>\n",
       "      <td>100.0</td>\n",
       "      <td>0.418476</td>\n",
       "      <td>0.047192</td>\n",
       "      <td>0.222056</td>\n",
       "      <td>0.391103</td>\n",
       "      <td>0.420694</td>\n",
       "      <td>0.443128</td>\n",
       "      <td>0.569531</td>\n",
       "      <td>100.0</td>\n",
       "      <td>0.130006</td>\n",
       "      <td>...</td>\n",
       "      <td>8.594055</td>\n",
       "      <td>14.059900</td>\n",
       "      <td>100.0</td>\n",
       "      <td>-8.660215</td>\n",
       "      <td>3.184145</td>\n",
       "      <td>-15.856296</td>\n",
       "      <td>-10.905391</td>\n",
       "      <td>-9.185828</td>\n",
       "      <td>-6.527245</td>\n",
       "      <td>2.116452</td>\n",
       "    </tr>\n",
       "    <tr>\n",
       "      <th>hiphop</th>\n",
       "      <td>100.0</td>\n",
       "      <td>0.456589</td>\n",
       "      <td>0.047641</td>\n",
       "      <td>0.343888</td>\n",
       "      <td>0.426723</td>\n",
       "      <td>0.456683</td>\n",
       "      <td>0.484775</td>\n",
       "      <td>0.587268</td>\n",
       "      <td>100.0</td>\n",
       "      <td>0.169843</td>\n",
       "      <td>...</td>\n",
       "      <td>8.625050</td>\n",
       "      <td>22.338120</td>\n",
       "      <td>100.0</td>\n",
       "      <td>-8.204685</td>\n",
       "      <td>3.695935</td>\n",
       "      <td>-15.875212</td>\n",
       "      <td>-10.761899</td>\n",
       "      <td>-8.679704</td>\n",
       "      <td>-5.420062</td>\n",
       "      <td>7.931248</td>\n",
       "    </tr>\n",
       "    <tr>\n",
       "      <th>jazz</th>\n",
       "      <td>100.0</td>\n",
       "      <td>0.297616</td>\n",
       "      <td>0.054880</td>\n",
       "      <td>0.171805</td>\n",
       "      <td>0.264486</td>\n",
       "      <td>0.286398</td>\n",
       "      <td>0.330663</td>\n",
       "      <td>0.442270</td>\n",
       "      <td>100.0</td>\n",
       "      <td>0.082410</td>\n",
       "      <td>...</td>\n",
       "      <td>6.951112</td>\n",
       "      <td>16.488413</td>\n",
       "      <td>100.0</td>\n",
       "      <td>-6.441251</td>\n",
       "      <td>4.257621</td>\n",
       "      <td>-16.408215</td>\n",
       "      <td>-9.224790</td>\n",
       "      <td>-6.445479</td>\n",
       "      <td>-3.437631</td>\n",
       "      <td>7.706425</td>\n",
       "    </tr>\n",
       "    <tr>\n",
       "      <th>metal</th>\n",
       "      <td>100.0</td>\n",
       "      <td>0.485472</td>\n",
       "      <td>0.052178</td>\n",
       "      <td>0.344913</td>\n",
       "      <td>0.448991</td>\n",
       "      <td>0.485387</td>\n",
       "      <td>0.518324</td>\n",
       "      <td>0.642209</td>\n",
       "      <td>100.0</td>\n",
       "      <td>0.147867</td>\n",
       "      <td>...</td>\n",
       "      <td>10.034965</td>\n",
       "      <td>13.598536</td>\n",
       "      <td>100.0</td>\n",
       "      <td>-10.563572</td>\n",
       "      <td>3.521345</td>\n",
       "      <td>-17.667761</td>\n",
       "      <td>-12.787441</td>\n",
       "      <td>-10.739081</td>\n",
       "      <td>-8.269789</td>\n",
       "      <td>-0.704288</td>\n",
       "    </tr>\n",
       "    <tr>\n",
       "      <th>pop</th>\n",
       "      <td>100.0</td>\n",
       "      <td>0.397489</td>\n",
       "      <td>0.056778</td>\n",
       "      <td>0.226208</td>\n",
       "      <td>0.356170</td>\n",
       "      <td>0.402205</td>\n",
       "      <td>0.437702</td>\n",
       "      <td>0.521142</td>\n",
       "      <td>100.0</td>\n",
       "      <td>0.188373</td>\n",
       "      <td>...</td>\n",
       "      <td>10.544102</td>\n",
       "      <td>15.758379</td>\n",
       "      <td>100.0</td>\n",
       "      <td>-7.233187</td>\n",
       "      <td>2.922915</td>\n",
       "      <td>-13.816062</td>\n",
       "      <td>-8.826675</td>\n",
       "      <td>-7.465171</td>\n",
       "      <td>-6.028513</td>\n",
       "      <td>1.402305</td>\n",
       "    </tr>\n",
       "    <tr>\n",
       "      <th>reggae</th>\n",
       "      <td>100.0</td>\n",
       "      <td>0.409579</td>\n",
       "      <td>0.059100</td>\n",
       "      <td>0.273363</td>\n",
       "      <td>0.372328</td>\n",
       "      <td>0.397364</td>\n",
       "      <td>0.448954</td>\n",
       "      <td>0.667248</td>\n",
       "      <td>100.0</td>\n",
       "      <td>0.116101</td>\n",
       "      <td>...</td>\n",
       "      <td>5.452219</td>\n",
       "      <td>13.288021</td>\n",
       "      <td>100.0</td>\n",
       "      <td>-7.343275</td>\n",
       "      <td>3.563766</td>\n",
       "      <td>-18.587709</td>\n",
       "      <td>-8.859087</td>\n",
       "      <td>-7.258358</td>\n",
       "      <td>-5.320831</td>\n",
       "      <td>3.891456</td>\n",
       "    </tr>\n",
       "    <tr>\n",
       "      <th>rock</th>\n",
       "      <td>100.0</td>\n",
       "      <td>0.389316</td>\n",
       "      <td>0.045168</td>\n",
       "      <td>0.259164</td>\n",
       "      <td>0.360462</td>\n",
       "      <td>0.394556</td>\n",
       "      <td>0.420699</td>\n",
       "      <td>0.492719</td>\n",
       "      <td>100.0</td>\n",
       "      <td>0.121665</td>\n",
       "      <td>...</td>\n",
       "      <td>7.940282</td>\n",
       "      <td>12.904313</td>\n",
       "      <td>100.0</td>\n",
       "      <td>-9.766561</td>\n",
       "      <td>3.121559</td>\n",
       "      <td>-15.749303</td>\n",
       "      <td>-11.652519</td>\n",
       "      <td>-10.329604</td>\n",
       "      <td>-8.332700</td>\n",
       "      <td>0.552947</td>\n",
       "    </tr>\n",
       "  </tbody>\n",
       "</table>\n",
       "<p>10 rows × 208 columns</p>\n",
       "</div>"
      ],
      "text/plain": [
       "          chroma_stft                                                    \\\n",
       "                count      mean       std       min       25%       50%   \n",
       "label                                                                     \n",
       "blues           100.0  0.343227  0.058931  0.233692  0.292326  0.341920   \n",
       "classical       100.0  0.264589  0.044916  0.176353  0.235109  0.261854   \n",
       "country         100.0  0.345596  0.041632  0.221800  0.318387  0.349099   \n",
       "disco           100.0  0.418476  0.047192  0.222056  0.391103  0.420694   \n",
       "hiphop          100.0  0.456589  0.047641  0.343888  0.426723  0.456683   \n",
       "jazz            100.0  0.297616  0.054880  0.171805  0.264486  0.286398   \n",
       "metal           100.0  0.485472  0.052178  0.344913  0.448991  0.485387   \n",
       "pop             100.0  0.397489  0.056778  0.226208  0.356170  0.402205   \n",
       "reggae          100.0  0.409579  0.059100  0.273363  0.372328  0.397364   \n",
       "rock            100.0  0.389316  0.045168  0.259164  0.360462  0.394556   \n",
       "\n",
       "                                rmse            ...     mfcc19             \\\n",
       "                75%       max  count      mean  ...        75%        max   \n",
       "label                                           ...                         \n",
       "blues      0.390246  0.466403  100.0  0.129791  ...   6.492363  11.237574   \n",
       "classical  0.284500  0.437762  100.0  0.040913  ...   3.092124  15.061405   \n",
       "country    0.376250  0.441659  100.0  0.120016  ...   6.853879  12.676275   \n",
       "disco      0.443128  0.569531  100.0  0.130006  ...   8.594055  14.059900   \n",
       "hiphop     0.484775  0.587268  100.0  0.169843  ...   8.625050  22.338120   \n",
       "jazz       0.330663  0.442270  100.0  0.082410  ...   6.951112  16.488413   \n",
       "metal      0.518324  0.642209  100.0  0.147867  ...  10.034965  13.598536   \n",
       "pop        0.437702  0.521142  100.0  0.188373  ...  10.544102  15.758379   \n",
       "reggae     0.448954  0.667248  100.0  0.116101  ...   5.452219  13.288021   \n",
       "rock       0.420699  0.492719  100.0  0.121665  ...   7.940282  12.904313   \n",
       "\n",
       "          mfcc20                                                        \\\n",
       "           count       mean       std        min        25%        50%   \n",
       "label                                                                    \n",
       "blues      100.0  -8.222616  5.139506 -22.937521 -10.792815  -7.633846   \n",
       "classical  100.0  -2.797445  4.304100 -12.353147  -5.922751  -3.435926   \n",
       "country    100.0  -9.289553  3.555105 -17.309389 -11.876318  -9.747382   \n",
       "disco      100.0  -8.660215  3.184145 -15.856296 -10.905391  -9.185828   \n",
       "hiphop     100.0  -8.204685  3.695935 -15.875212 -10.761899  -8.679704   \n",
       "jazz       100.0  -6.441251  4.257621 -16.408215  -9.224790  -6.445479   \n",
       "metal      100.0 -10.563572  3.521345 -17.667761 -12.787441 -10.739081   \n",
       "pop        100.0  -7.233187  2.922915 -13.816062  -8.826675  -7.465171   \n",
       "reggae     100.0  -7.343275  3.563766 -18.587709  -8.859087  -7.258358   \n",
       "rock       100.0  -9.766561  3.121559 -15.749303 -11.652519 -10.329604   \n",
       "\n",
       "                                \n",
       "                75%        max  \n",
       "label                           \n",
       "blues     -4.517999   3.000812  \n",
       "classical -0.290962  10.675509  \n",
       "country   -6.808592  -0.632099  \n",
       "disco     -6.527245   2.116452  \n",
       "hiphop    -5.420062   7.931248  \n",
       "jazz      -3.437631   7.706425  \n",
       "metal     -8.269789  -0.704288  \n",
       "pop       -6.028513   1.402305  \n",
       "reggae    -5.320831   3.891456  \n",
       "rock      -8.332700   0.552947  \n",
       "\n",
       "[10 rows x 208 columns]"
      ]
     },
     "execution_count": 4,
     "metadata": {},
     "output_type": "execute_result"
    }
   ],
   "source": [
    "df.groupby(\"label\").describe()"
   ]
  },
  {
   "cell_type": "markdown",
   "metadata": {},
   "source": [
    "The dataset has 26 columns and 10 music genres (groups).\n",
    "\n",
    "In terms of the chroma_stft feature we find that metal has the highest mean, interquartiles and median of the groups, and that classical has the lowest ones. Compared to classical and jazz music, the  metal and hiphop genres are a lot more spreadout in terms of chroma_stft (standard deviation), which may have an influence on how well we detect the metal and hiphop genres.\n",
    "\n",
    "\n",
    "In terms of the mffc20 feature we find that metal has the lowest mean (was the highest mean for chroma_stft) and median of the groups whereas that classical has the highest ones. Blues has the larget standard deviation and pop has the lowest for the mfcc20.\n",
    "\n",
    "\n",
    "Overall, some genres seem to stick out but it's hard to find a pattern between genres by looking at 26 different features.\n"
   ]
  },
  {
   "cell_type": "code",
   "execution_count": 5,
   "metadata": {},
   "outputs": [
    {
     "name": "stderr",
     "output_type": "stream",
     "text": [
      "D:\\Anaconda\\lib\\site-packages\\pandas\\plotting\\_matplotlib\\hist.py:342: UserWarning: To output multiple subplots, the figure containing the passed axes is being cleared\n",
      "  **kwds\n"
     ]
    },
    {
     "data": {
      "image/png": "[encoded data removed]",
      "text/plain": [
       "<Figure size 2160x1440 with 12 Axes>"
      ]
     },
     "metadata": {
      "needs_background": "light"
     },
     "output_type": "display_data"
    },
    {
     "data": {
      "image/png": "[encoded data removed]",
      "text/plain": [
       "<Figure size 1080x720 with 1 Axes>"
      ]
     },
     "metadata": {
      "needs_background": "light"
     },
     "output_type": "display_data"
    }
   ],
   "source": [
    "from ml_toolbox import plot_histograms, plot_boxes\n",
    "\n",
    "plot_histograms(df, \"spectral_centroid\")\n",
    "plot_boxes(df, \"spectral_centroid\")"
   ]
  },
  {
   "cell_type": "markdown",
   "metadata": {},
   "source": [
    "The range of the Spectral Centraoid within a genre is large (a difference of 1000-2000 at least between min and max values of a genre), but 50% of songs within a \"genre\" are grouped together on a much smaller ranges.\n",
    "\n",
    "The median for every genre is centered over except for reggae and metal. \n",
    "\n",
    "In terms of histogram, some genres like hiphop are, jazz or metal follow a positively or negatively skewed distribution wheras the others don't follow a normal distribution. \n",
    "\n",
    "However classical, reggae and metal have a lot of outliers. \n",
    "\n",
    "Classical in terms of the spectral centroid has 50% of its invididuals with a lower value than every other genre except (Jazz). Which may have an influence on how well classical music is detected..\n"
   ]
  },
  {
   "cell_type": "markdown",
   "metadata": {},
   "source": [
    "We find a strong correlation between features, which is quite logicial since each feature are spectral properties obtained by some signal processing methods that perhaps.\n",
    "\n",
    "It would be unwise to use a model such as Naive Bayes that requires features to be independant."
   ]
  },
  {
   "cell_type": "markdown",
   "metadata": {},
   "source": [
    "# k-NN setup "
   ]
  },
  {
   "cell_type": "markdown",
   "metadata": {},
   "source": [
    "As we saw earlier, the dataset features are numerical and continuous.\n",
    "\n",
    "Our dataset doesn't contain any null values because we've extracted our own features from the audio files.\n",
    "\n",
    "The scale of the features vary, so we need to scale our dataset before applying our KNN to the dataset."
   ]
  },
  {
   "cell_type": "code",
   "execution_count": 6,
   "metadata": {},
   "outputs": [],
   "source": [
    "from sklearn.preprocessing import StandardScaler\n",
    "\n",
    "X = df.drop([\"label\", \"filename\"], axis=1).values\n",
    "\n",
    "std_scale = StandardScaler().fit(X) # applying feature scaling because KNN uses euclidean distance to ocompute clusters\n",
    "\n",
    "X = std_scale.transform(X)\n",
    "\n",
    "y = df[\"label\"].values"
   ]
  },
  {
   "cell_type": "markdown",
   "metadata": {},
   "source": [
    "We've detected some outliers earlier on in our boxplots. However we choose not to remove them at the moment. We could try and remove them and see how well our model performs."
   ]
  },
  {
   "cell_type": "markdown",
   "metadata": {},
   "source": [
    "# K-NN Implementation"
   ]
  },
  {
   "cell_type": "markdown",
   "metadata": {},
   "source": [
    "Our goal here is to detect the music genres."
   ]
  },
  {
   "cell_type": "markdown",
   "metadata": {},
   "source": [
    "### First K-NN - 11 features"
   ]
  },
  {
   "cell_type": "code",
   "execution_count": 7,
   "metadata": {},
   "outputs": [],
   "source": [
    "#X and Y creation\n",
    "X = df[['chroma_stft','rmse','spectral_centroid','spectral_bandwidth','rolloff', 'zero_crossing_rate', 'mfcc1', 'mfcc2',\n",
    "                'mfcc3','mfcc4','mfcc5']].values\n",
    "\n",
    "y = df[['label']].values\n",
    "\n",
    "#data splitting\n",
    "from sklearn import preprocessing\n",
    "from sklearn.model_selection import train_test_split\n",
    "\n",
    "X_train, X_test, y_train, y_test = train_test_split(X, y, test_size=0.20, shuffle = True)\n",
    "\n",
    "# Data normalization\n",
    "scaler = StandardScaler()\n",
    "scaler.fit(X)\n",
    "\n",
    "X_train = scaler.transform(X_train)\n",
    "X_test = scaler.transform(X_test)"
   ]
  },
  {
   "cell_type": "code",
   "execution_count": 8,
   "metadata": {},
   "outputs": [],
   "source": [
    "scores = {} # accuracy of scores bewteen model versions"
   ]
  },
  {
   "cell_type": "code",
   "execution_count": 9,
   "metadata": {},
   "outputs": [
    {
     "name": "stdout",
     "output_type": "stream",
     "text": [
      "Train set Accuracy: 0.71\n",
      "Test set Accuracy: 0.49\n",
      "--- Classification Report ---\n",
      "              precision    recall  f1-score   support\n",
      "\n",
      "       blues       0.53      0.64      0.58        28\n",
      "   classical       0.75      0.90      0.82        20\n",
      "     country       0.33      0.48      0.39        21\n",
      "       disco       0.35      0.55      0.43        20\n",
      "      hiphop       0.62      0.38      0.47        21\n",
      "        jazz       0.50      0.55      0.52        20\n",
      "       metal       0.80      0.63      0.71        19\n",
      "         pop       0.38      0.33      0.36        15\n",
      "      reggae       0.43      0.19      0.26        16\n",
      "        rock       0.27      0.15      0.19        20\n",
      "\n",
      "    accuracy                           0.49       200\n",
      "   macro avg       0.50      0.48      0.47       200\n",
      "weighted avg       0.50      0.49      0.48       200\n",
      "\n"
     ]
    },
    {
     "name": "stderr",
     "output_type": "stream",
     "text": [
      "D:\\Anaconda\\lib\\site-packages\\sklearn\\preprocessing\\label.py:219: DataConversionWarning: A column-vector y was passed when a 1d array was expected. Please change the shape of y to (n_samples, ), for example using ravel().\n",
      "  y = column_or_1d(y, warn=True)\n"
     ]
    },
    {
     "name": "stdout",
     "output_type": "stream",
     "text": [
      "Class 0: blues\n",
      "Class 1: classical\n",
      "Class 2: country\n",
      "Class 3: disco\n",
      "Class 4: hiphop\n",
      "Class 5: jazz\n",
      "Class 6: metal\n",
      "Class 7: pop\n",
      "Class 8: reggae\n",
      "Class 9: rock\n"
     ]
    },
    {
     "data": {
      "image/png": "[encoded data removed]",
      "text/plain": [
       "<Figure size 720x720 with 2 Axes>"
      ]
     },
     "metadata": {
      "needs_background": "light"
     },
     "output_type": "display_data"
    }
   ],
   "source": [
    "from sklearn.neighbors import KNeighborsClassifier\n",
    "from sklearn.metrics import accuracy_score, classification_report\n",
    "\n",
    "from ml_toolbox import show_confusion_matrix\n",
    "\n",
    "n_neighbors = 3\n",
    "knn_v0 = KNeighborsClassifier(n_neighbors=n_neighbors)\n",
    "knn_v0.fit(X_train, y_train.ravel())\n",
    "\n",
    "train_score = knn_v0.score(X_train, y_train.ravel()) # accuracy\n",
    "\n",
    "print(\"Train set Accuracy: %.2f\" % train_score)\n",
    "\n",
    "test_score = knn_v0.score(X_test, y_test.ravel()) # accuracy\n",
    "\n",
    "print(\"Test set Accuracy: %.2f\" % test_score)\n",
    "\n",
    "ypred = knn_v0.predict(X_test)\n",
    "\n",
    "cr = classification_report(y_test, ypred)\n",
    "\n",
    "print(\"--- Classification Report ---\")\n",
    "print(cr) \n",
    "\n",
    "encoder = preprocessing.LabelEncoder()\n",
    "encoder.fit(y)\n",
    "\n",
    "show_confusion_matrix(y_test, ypred, encoder)"
   ]
  },
  {
   "cell_type": "markdown",
   "metadata": {},
   "source": [
    "The accuracy here for 3 neighbors is very low even on the train set. Let's add some features and see what happens"
   ]
  },
  {
   "cell_type": "markdown",
   "metadata": {},
   "source": [
    "### Second K-NN - 24 features"
   ]
  },
  {
   "cell_type": "code",
   "execution_count": 10,
   "metadata": {},
   "outputs": [],
   "source": [
    "#X and Y creation\n",
    "X = df[['chroma_stft','rmse','spectral_centroid','spectral_bandwidth','rolloff', 'zero_crossing_rate', 'mfcc1', 'mfcc2',\n",
    "                'mfcc3','mfcc4','mfcc5','mfcc6','mfcc7','mfcc8','mfcc9','mfcc10','mfcc11','mfcc12','mfcc13','mfcc14','mfcc15','mfcc16',\n",
    "                'mfcc17','mfcc18','mfcc19','mfcc20']].values \n",
    "y = df[['label']].values\n",
    "\n",
    "\n",
    "#data splitting\n",
    "X_train, X_test, y_train, y_test = train_test_split(X, y, test_size=0.20, shuffle = True)\n",
    "\n",
    "# Data normalization\n",
    "scaler = StandardScaler()\n",
    "scaler.fit(X)\n",
    "\n",
    "X_train = scaler.transform(X_train)\n",
    "X_test = scaler.transform(X_test)"
   ]
  },
  {
   "cell_type": "code",
   "execution_count": 11,
   "metadata": {
    "scrolled": false
   },
   "outputs": [
    {
     "name": "stdout",
     "output_type": "stream",
     "text": [
      "Train set Accuracy: 0.77\n",
      "Test set Accuracy: 0.55\n",
      "--- Classification Report ---\n",
      "              precision    recall  f1-score   support\n",
      "\n",
      "       blues       0.55      0.80      0.65        15\n",
      "   classical       0.80      0.91      0.85        22\n",
      "     country       0.29      0.53      0.37        15\n",
      "       disco       0.29      0.50      0.36        20\n",
      "      hiphop       0.47      0.35      0.40        20\n",
      "        jazz       0.79      0.48      0.59        23\n",
      "       metal       0.83      0.62      0.71        24\n",
      "         pop       0.57      0.57      0.57        21\n",
      "      reggae       0.77      0.56      0.65        18\n",
      "        rock       0.56      0.23      0.32        22\n",
      "\n",
      "    accuracy                           0.55       200\n",
      "   macro avg       0.59      0.55      0.55       200\n",
      "weighted avg       0.61      0.55      0.55       200\n",
      "\n"
     ]
    },
    {
     "name": "stderr",
     "output_type": "stream",
     "text": [
      "D:\\Anaconda\\lib\\site-packages\\sklearn\\preprocessing\\label.py:219: DataConversionWarning: A column-vector y was passed when a 1d array was expected. Please change the shape of y to (n_samples, ), for example using ravel().\n",
      "  y = column_or_1d(y, warn=True)\n"
     ]
    },
    {
     "name": "stdout",
     "output_type": "stream",
     "text": [
      "Class 0: blues\n",
      "Class 1: classical\n",
      "Class 2: country\n",
      "Class 3: disco\n",
      "Class 4: hiphop\n",
      "Class 5: jazz\n",
      "Class 6: metal\n",
      "Class 7: pop\n",
      "Class 8: reggae\n",
      "Class 9: rock\n"
     ]
    },
    {
     "data": {
      "image/png": "[encoded data removed]",
      "text/plain": [
       "<Figure size 720x720 with 2 Axes>"
      ]
     },
     "metadata": {
      "needs_background": "light"
     },
     "output_type": "display_data"
    }
   ],
   "source": [
    "from sklearn.neighbors import KNeighborsClassifier\n",
    "from sklearn.metrics import accuracy_score, classification_report\n",
    "\n",
    "from ml_toolbox import show_confusion_matrix\n",
    "\n",
    "n_neighbors = 3\n",
    "knn_v1 = KNeighborsClassifier(n_neighbors=n_neighbors)\n",
    "knn_v1.fit(X_train, y_train.ravel())\n",
    "\n",
    "train_score = knn_v1.score(X_train, y_train.ravel()) # accuracy\n",
    "\n",
    "print(\"Train set Accuracy: %.2f\" % train_score)\n",
    "\n",
    "test_score = knn_v1.score(X_test, y_test.ravel()) # accuracy\n",
    "\n",
    "print(\"Test set Accuracy: %.2f\" % test_score)\n",
    "\n",
    "\n",
    "ypred = knn_v1.predict(X_test)\n",
    "\n",
    "cr = classification_report(y_test, ypred)\n",
    "\n",
    "print(\"--- Classification Report ---\")\n",
    "print(cr) \n",
    "\n",
    "encoder = preprocessing.LabelEncoder()\n",
    "encoder.fit(y)\n",
    "\n",
    "show_confusion_matrix(y_test, ypred, encoder)"
   ]
  },
  {
   "cell_type": "markdown",
   "metadata": {},
   "source": [
    "By adding 15 features, without changing the number of neighbors, we've increased the accuracy on the test set by 10%. Let's now optimize our model by applying grid search to find the best number of neighbors."
   ]
  },
  {
   "cell_type": "markdown",
   "metadata": {},
   "source": [
    "### Third K-NN - Finding best hyperparameters using GridSearch Cross Validation"
   ]
  },
  {
   "cell_type": "code",
   "execution_count": 12,
   "metadata": {},
   "outputs": [
    {
     "name": "stderr",
     "output_type": "stream",
     "text": [
      "D:\\Anaconda\\lib\\site-packages\\sklearn\\model_selection\\_search.py:813: DeprecationWarning: The default of the `iid` parameter will change from True to False in version 0.22 and will be removed in 0.24. This will change numeric results when test-set sizes are unequal.\n",
      "  DeprecationWarning)\n"
     ]
    }
   ],
   "source": [
    "from sklearn.model_selection import GridSearchCV\n",
    "\n",
    "k_range = [i for i in range(1, 20)]\n",
    "grid_params = {\n",
    "    \"n_neighbors\": k_range,\n",
    "}\n",
    "\n",
    "knn_v2_gs = GridSearchCV(KNeighborsClassifier(),grid_params, cv=3,)\n",
    "knn_v2_gs_results = knn_v2_gs.fit(X_train, y_train.ravel())"
   ]
  },
  {
   "cell_type": "code",
   "execution_count": 13,
   "metadata": {},
   "outputs": [
    {
     "data": {
      "text/plain": [
       "{'n_neighbors': 7}"
      ]
     },
     "execution_count": 13,
     "metadata": {},
     "output_type": "execute_result"
    }
   ],
   "source": [
    "knn_v2_gs_results.best_params_"
   ]
  },
  {
   "cell_type": "markdown",
   "metadata": {},
   "source": [
    "Interestingly 9 is the best number of neighbors."
   ]
  },
  {
   "cell_type": "code",
   "execution_count": 14,
   "metadata": {},
   "outputs": [
    {
     "name": "stdout",
     "output_type": "stream",
     "text": [
      "Train set Accuracy: 0.71\n",
      "Test set Accuracy: 0.60\n",
      "--- Classification Report ---\n",
      "              precision    recall  f1-score   support\n",
      "\n",
      "       blues       0.67      0.67      0.67        15\n",
      "   classical       0.78      0.95      0.86        22\n",
      "     country       0.38      0.67      0.49        15\n",
      "       disco       0.32      0.50      0.39        20\n",
      "      hiphop       0.62      0.40      0.48        20\n",
      "        jazz       0.92      0.48      0.63        23\n",
      "       metal       0.77      0.71      0.74        24\n",
      "         pop       0.68      0.62      0.65        21\n",
      "      reggae       0.71      0.67      0.69        18\n",
      "        rock       0.44      0.36      0.40        22\n",
      "\n",
      "    accuracy                           0.60       200\n",
      "   macro avg       0.63      0.60      0.60       200\n",
      "weighted avg       0.64      0.60      0.60       200\n",
      "\n"
     ]
    },
    {
     "name": "stderr",
     "output_type": "stream",
     "text": [
      "D:\\Anaconda\\lib\\site-packages\\sklearn\\preprocessing\\label.py:219: DataConversionWarning: A column-vector y was passed when a 1d array was expected. Please change the shape of y to (n_samples, ), for example using ravel().\n",
      "  y = column_or_1d(y, warn=True)\n"
     ]
    },
    {
     "name": "stdout",
     "output_type": "stream",
     "text": [
      "Class 0: blues\n",
      "Class 1: classical\n",
      "Class 2: country\n",
      "Class 3: disco\n",
      "Class 4: hiphop\n",
      "Class 5: jazz\n",
      "Class 6: metal\n",
      "Class 7: pop\n",
      "Class 8: reggae\n",
      "Class 9: rock\n"
     ]
    },
    {
     "data": {
      "image/png": "[encoded data removed]",
      "text/plain": [
       "<Figure size 720x720 with 2 Axes>"
      ]
     },
     "metadata": {
      "needs_background": "light"
     },
     "output_type": "display_data"
    }
   ],
   "source": [
    "knn_v2 = knn_v2_gs_results.best_estimator_\n",
    "\n",
    "train_score = knn_v2.score(X_train, y_train.ravel()) # accuracy\n",
    "\n",
    "print(\"Train set Accuracy: %.2f\" % train_score)\n",
    "\n",
    "test_score = knn_v2.score(X_test, y_test.ravel()) # accuracy\n",
    "\n",
    "print(\"Test set Accuracy: %.2f\" % test_score)\n",
    "\n",
    "\n",
    "ypred = knn_v2.predict(X_test)\n",
    "\n",
    "cr = classification_report(y_test, ypred)\n",
    "\n",
    "print(\"--- Classification Report ---\")\n",
    "print(cr) \n",
    "\n",
    "encoder = preprocessing.LabelEncoder()\n",
    "encoder.fit(y)\n",
    "\n",
    "show_confusion_matrix(y_test, ypred, encoder)"
   ]
  },
  {
   "cell_type": "markdown",
   "metadata": {},
   "source": [
    "The grid search however did not seem to improve the overall accuracy however it is interesting that find that the manhattan distance works slightly better than the euclidean distance.\n",
    "\n",
    "However compared the second model and this one the \"blues\" predictions accuracy decreased and some other classes predictions such as metal increased."
   ]
  },
  {
   "cell_type": "markdown",
   "metadata": {},
   "source": [
    "### Fourth K-NN - Finding the best features"
   ]
  },
  {
   "cell_type": "code",
   "execution_count": 15,
   "metadata": {},
   "outputs": [
    {
     "name": "stderr",
     "output_type": "stream",
     "text": [
      "D:\\Anaconda\\lib\\site-packages\\sklearn\\preprocessing\\label.py:252: DataConversionWarning: A column-vector y was passed when a 1d array was expected. Please change the shape of y to (n_samples, ), for example using ravel().\n",
      "  y = column_or_1d(y, warn=True)\n"
     ]
    }
   ],
   "source": [
    "#X and Y creation\n",
    "X = df[['chroma_stft','rmse','spectral_centroid','spectral_bandwidth','rolloff', 'zero_crossing_rate', 'mfcc1', 'mfcc2',\n",
    "                'mfcc3','mfcc4','mfcc5','mfcc6','mfcc7','mfcc8','mfcc9','mfcc10','mfcc11','mfcc12','mfcc13','mfcc14','mfcc15','mfcc16',\n",
    "                'mfcc17','mfcc18','mfcc19','mfcc20']].values \n",
    "y = df[['label']].values\n",
    "\n",
    "encoder = preprocessing.LabelEncoder()\n",
    "encoder.fit(y)\n",
    "\n",
    "y_encoded = encoder.transform(y)\n",
    "\n",
    "#data splitting\n",
    "X_train, X_test, y_train, y_test = train_test_split(X, y_encoded, test_size=0.20, shuffle = True)\n",
    "\n",
    "# Data normalization\n",
    "scaler = StandardScaler()\n",
    "scaler.fit(X)\n",
    "\n",
    "X_train = scaler.transform(X_train)\n",
    "X_test = scaler.transform(X_test)\n",
    "\n"
   ]
  },
  {
   "cell_type": "code",
   "execution_count": 16,
   "metadata": {},
   "outputs": [
    {
     "name": "stdout",
     "output_type": "stream",
     "text": [
      "[0.13369124 0.02992952 0.03057037 0.04802064 0.0748617  0.02542158\n",
      " 0.02224466 0.03019159 0.04696846 0.042658   0.04187449 0.02217694\n",
      " 0.02586028 0.03460627 0.04604648 0.0210394  0.03180051 0.04550023\n",
      " 0.03142874 0.04548251 0.02518138 0.02351391 0.03129479 0.03041298\n",
      " 0.03376397 0.02545935]\n",
      "[15 11  6 21 20  5 25 12  1  7 23  2 22 18 16 24 13 10  9 19 17 14  8  3\n",
      "  4  0]\n"
     ]
    },
    {
     "data": {
      "image/png": "[encoded data removed]",
      "text/plain": [
       "<Figure size 2160x1728 with 1 Axes>"
      ]
     },
     "metadata": {
      "needs_background": "light"
     },
     "output_type": "display_data"
    }
   ],
   "source": [
    "from sklearn.ensemble import RandomForestRegressor\n",
    "import seaborn as sns\n",
    "\n",
    "rf = RandomForestRegressor(n_estimators=100)\n",
    "\n",
    "rf.fit(X_train, y_train.ravel())\n",
    "rf.feature_importances_\n",
    "print(rf.feature_importances_)\n",
    "sorted_idx = rf.feature_importances_.argsort()\n",
    "\n",
    "print(sorted_idx)\n",
    "\n",
    "# view the feature scores\n",
    "feature_scores = pd.Series(rf.feature_importances_, index=['chroma_stft','rmse','spectral_centroid','spectral_bandwidth','rolloff', 'zero_crossing_rate', 'mfcc1', 'mfcc2',\n",
    "                'mfcc3','mfcc4','mfcc5','mfcc6','mfcc7','mfcc8','mfcc9','mfcc10','mfcc11','mfcc12','mfcc13','mfcc14','mfcc15','mfcc16',\n",
    "                'mfcc17','mfcc18','mfcc19','mfcc20']).sort_values(ascending=False)\n",
    "\n",
    "f, ax = plt.subplots(figsize=(30, 24))\n",
    "ax = sns.barplot(x=feature_scores, y=feature_scores.index, data=df.T)\n",
    "ax.set_title(\"Visualize feature scores of the features\")\n",
    "ax.set_yticklabels(feature_scores.index)\n",
    "ax.set_xlabel(\"Feature importance score\")\n",
    "ax.set_ylabel(\"Features\")\n",
    "plt.show()"
   ]
  },
  {
   "cell_type": "markdown",
   "metadata": {},
   "source": [
    "The `rolloff` and `chroma_stft` seem to be the most important importance to build the random forest trees. \n",
    "\n",
    "We'll train several model using the n most important features and cross validation to determine the best number of top features."
   ]
  },
  {
   "cell_type": "code",
   "execution_count": 17,
   "metadata": {},
   "outputs": [],
   "source": [
    "def gridsearchcv_train_knn(X, y):\n",
    "    encoder = preprocessing.LabelEncoder()\n",
    "    encoder.fit(y)\n",
    "\n",
    "    y_encoded = encoder.transform(y)\n",
    "\n",
    "    #data splitting\n",
    "    X_train, X_test, y_train, y_test = train_test_split(X, y_encoded, test_size=0.20, shuffle = True)\n",
    "\n",
    "    # Data normalization\n",
    "    scaler = StandardScaler()\n",
    "    scaler.fit(X)\n",
    "\n",
    "    X_train = scaler.transform(X_train)\n",
    "    X_test = scaler.transform(X_test)\n",
    "\n",
    "    k_range = [i for i in range(1, 20)]\n",
    "    grid_params = {\n",
    "        \"n_neighbors\": k_range,\n",
    "        \"weights\": [\"uniform\", \"distance\"],\n",
    "        \"metric\": [\"euclidean\", \"manhattan\"]\n",
    "    }\n",
    "\n",
    "    knn_v3 = KNeighborsClassifier(n_neighbors=9)\n",
    "    \n",
    "    knn_v3.fit(X_train, y_train.ravel())\n",
    "    \n",
    "    train_score = knn_v3.score(X_train, y_train.ravel()) # accuracy\n",
    "    test_score = knn_v3.score(X_test, y_test.ravel()) # accuracy\n",
    "    \n",
    "    return {\"train_accuracy\": train_score, \"test_accuracy\": test_score, \"number_features\": X.shape[1]} \n",
    "\n",
    "\n",
    "y = df[['label']].values\n",
    "\n",
    "results = []\n",
    "features_range = range(2, len(feature_scores.index))\n",
    "for i in features_range:\n",
    "    X = df[list(feature_scores.index)[:i]]\n",
    "    scores = gridsearchcv_train_knn(X, y.ravel())\n",
    "    results.append(scores)\n",
    "    "
   ]
  },
  {
   "cell_type": "code",
   "execution_count": 19,
   "metadata": {},
   "outputs": [
    {
     "name": "stdout",
     "output_type": "stream",
     "text": [
      "Best score: 0.63, with 20 features\n"
     ]
    },
    {
     "data": {
      "image/png": "[encoded data removed]",
      "text/plain": [
       "<Figure size 432x288 with 1 Axes>"
      ]
     },
     "metadata": {
      "needs_background": "light"
     },
     "output_type": "display_data"
    }
   ],
   "source": [
    "%matplotlib inline\n",
    "\n",
    "train_score_results = [r[\"train_accuracy\"] for r in results]\n",
    "test_score_results = [r[\"test_accuracy\"] for r in results]\n",
    "nb_feature_results = [r[\"number_features\"] for r in results]\n",
    "\n",
    "plt.plot(features_range, train_score_results, label=\"train score\")\n",
    "plt.plot(features_range, test_score_results, label=\"test score\")\n",
    "\n",
    "\n",
    "\n",
    "max_result = max(test_score_results)\n",
    "\n",
    "for i in range(len(test_score_results)):\n",
    "    if test_score_results[i] == max_result:\n",
    "        best_nb_features = nb_feature_results[i]\n",
    "\n",
    "print(f\"Best score: {max_result}, with {best_nb_features} features\")\n",
    "\n",
    "        \n",
    "plt.xlabel('Number of top features')\n",
    "plt.ylabel('Accuracy')\n",
    "plt.legend()\n",
    "plt.show()"
   ]
  },
  {
   "cell_type": "markdown",
   "metadata": {},
   "source": [
    "Finally we found that the best model is 9-NN trained on 24 features (vs 26 total)."
   ]
  },
  {
   "cell_type": "code",
   "execution_count": null,
   "metadata": {},
   "outputs": [],
   "source": []
  }
 ],
 "metadata": {
  "kernelspec": {
   "display_name": "Python 3",
   "language": "python",
   "name": "python3"
  },
  "language_info": {
   "codemirror_mode": {
    "name": "ipython",
    "version": 3
   },
   "file_extension": ".py",
   "mimetype": "text/x-python",
   "name": "python",
   "nbconvert_exporter": "python",
   "pygments_lexer": "ipython3",
   "version": "3.7.3"
  }
 },
 "nbformat": 4,
 "nbformat_minor": 2
}
